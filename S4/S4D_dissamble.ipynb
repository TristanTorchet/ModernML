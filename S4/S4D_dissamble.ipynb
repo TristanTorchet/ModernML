{
 "cells": [
  {
   "cell_type": "markdown",
   "source": [
    "# Random SSM\n",
    "This notebook trains a Random SSM on sin(x) or sin(ax+b) sequences. \n",
    "The hyperparameters are defined in the `config.yaml` file. \n",
    "- N (hidden state dimension): 64\n",
    "- H (d_model in yaml, number of heads): 10"
   ],
   "metadata": {
    "collapsed": false
   },
   "id": "2d01c9ada2dec1cd"
  },
  {
   "cell_type": "code",
   "outputs": [],
   "source": [
    "import jax\n",
    "import jax.numpy as jnp\n",
    "import numpy as np\n",
    "\n",
    "from data import create_sin_ax_b_dataset\n",
    "from model import BatchStackedModel, MultiHeadSSMLayer\n",
    "import torch\n",
    "from utils import cross_entropy_loss, compute_accuracy\n",
    "from tqdm import tqdm"
   ],
   "metadata": {
    "ExecuteTime": {
     "end_time": "2024-09-06T16:57:48.212875Z",
     "start_time": "2024-09-06T16:57:45.972741Z"
    }
   },
   "id": "initial_id",
   "execution_count": 1
  },
  {
   "cell_type": "code",
   "execution_count": 2,
   "id": "cf7bef88df235ffd",
   "metadata": {
    "collapsed": false,
    "ExecuteTime": {
     "end_time": "2024-09-06T16:57:48.436204Z",
     "start_time": "2024-09-06T16:57:48.217843Z"
    }
   },
   "outputs": [],
   "source": [
    "rng = jax.random.PRNGKey(1)"
   ]
  },
  {
   "cell_type": "code",
   "outputs": [],
   "source": [
    "from omegaconf import OmegaConf\n",
    "\n",
    "# load the configuration file\n",
    "cfg = OmegaConf.load(\"config.yaml\")"
   ],
   "metadata": {
    "collapsed": false,
    "ExecuteTime": {
     "end_time": "2024-09-06T16:57:48.467321Z",
     "start_time": "2024-09-06T16:57:48.437173Z"
    }
   },
   "id": "60a3f98c7fd47fc4",
   "execution_count": 3
  },
  {
   "cell_type": "code",
   "outputs": [],
   "source": [
    "dataset = cfg.dataset  # str, sin_ax, sin_ax_b\n",
    "layer = cfg.layer  # str, s4\n",
    "seed  = cfg.seed  # int, 0\n",
    "model = cfg.model  # DictConfig, {d_model: 10 (nb heads), n_layers: 4, dropout: 0.0, prenorm: true, embedding: false, layer: {N:64}}\n",
    "train = cfg.train  # DictConfig, {epochs: 100, bsz: 128, lr: 0.001, lr_schedule: false, weight_decay: 0.01, checkpoint: false, suffix: null, sample: null}"
   ],
   "metadata": {
    "collapsed": false,
    "ExecuteTime": {
     "end_time": "2024-09-06T16:57:48.469907Z",
     "start_time": "2024-09-06T16:57:48.468067Z"
    }
   },
   "id": "3d1f0f03b96fa100",
   "execution_count": 4
  },
  {
   "cell_type": "code",
   "outputs": [
    {
     "name": "stdout",
     "output_type": "stream",
     "text": [
      "[*] Setting Randomness...\n"
     ]
    }
   ],
   "source": [
    "# Set randomness...\n",
    "print(\"[*] Setting Randomness...\")\n",
    "torch.random.manual_seed(seed)  # For dataloader order\n",
    "key = jax.random.PRNGKey(seed)\n",
    "key, rng, train_rng = jax.random.split(key, num=3) # TODO: This is bad \n"
   ],
   "metadata": {
    "collapsed": false,
    "ExecuteTime": {
     "end_time": "2024-09-06T16:57:48.562466Z",
     "start_time": "2024-09-06T16:57:48.471723Z"
    }
   },
   "id": "479fa53268f89306",
   "execution_count": 5
  },
  {
   "cell_type": "code",
   "outputs": [
    {
     "name": "stdout",
     "output_type": "stream",
     "text": [
      "classification=False\n",
      "[*] Generating sin(ax + b) Dataset...\n",
      "\t=>> Generating 1024 Training Examples...\n"
     ]
    },
    {
     "name": "stderr",
     "output_type": "stream",
     "text": [
      "100%|██████████| 1024/1024 [00:00<00:00, 5901.57it/s]\n"
     ]
    },
    {
     "name": "stdout",
     "output_type": "stream",
     "text": [
      "\t=>> Generating 128 Test Examples...\n"
     ]
    },
    {
     "name": "stderr",
     "output_type": "stream",
     "text": [
      "100%|██████████| 128/128 [00:00<00:00, 8740.12it/s]\n"
     ]
    },
    {
     "name": "stdout",
     "output_type": "stream",
     "text": [
      "n_classes=8, l_max=16, d_input=1\n",
      "next(iter(trainloader))[0].shape=torch.Size([128, 16, 1])\n",
      "next(iter(testloader))[0].shape=torch.Size([128, 16, 1])\n"
     ]
    }
   ],
   "source": [
    "# Check if classification dataset\n",
    "# because for each dataset there are two versions, eg: mnist and mnist-classification\n",
    "# TODO: in our case, sin x dataset is not a classification dataset\n",
    "# classification = \"classification\" in dataset\n",
    "classification = False\n",
    "print(f'{classification=}')\n",
    "\n",
    "create_dataset_fn = create_sin_ax_b_dataset\n",
    "trainloader, testloader, n_classes, l_max, d_input, data = create_dataset_fn(n_examples=1024, bsz=train.bsz)\n",
    "print(f'{n_classes=}, {l_max=}, {d_input=}')\n",
    "\n",
    "print(f'{next(iter(trainloader))[0].shape=}')\n",
    "print(f'{next(iter(testloader))[0].shape=}')"
   ],
   "metadata": {
    "collapsed": false,
    "ExecuteTime": {
     "end_time": "2024-09-06T16:57:48.804095Z",
     "start_time": "2024-09-06T16:57:48.563755Z"
    }
   },
   "id": "7ae6c4b64e3e5539",
   "execution_count": 6
  },
  {
   "cell_type": "code",
   "outputs": [],
   "source": [
    "layer_cls = MultiHeadSSMLayer"
   ],
   "metadata": {
    "collapsed": false,
    "ExecuteTime": {
     "end_time": "2024-09-06T16:57:48.807801Z",
     "start_time": "2024-09-06T16:57:48.805173Z"
    }
   },
   "id": "9bc6af8731fbbc61",
   "execution_count": 7
  },
  {
   "cell_type": "code",
   "outputs": [],
   "source": [
    "model.layer.l_max = l_max # l_max comes from the dataset fn"
   ],
   "metadata": {
    "collapsed": false,
    "ExecuteTime": {
     "end_time": "2024-09-06T16:57:48.811500Z",
     "start_time": "2024-09-06T16:57:48.809041Z"
    }
   },
   "id": "47c2a8c51fbfed2d",
   "execution_count": 8
  },
  {
   "cell_type": "code",
   "outputs": [
    {
     "name": "stdout",
     "output_type": "stream",
     "text": [
      "lr_layer=None (if None, means that the attribute is not found)\n"
     ]
    }
   ],
   "source": [
    "# getattr returns the value of the named attribute of an object. \n",
    "# If not found, it returns the default value provided to the function.\n",
    "lr_layer = getattr(layer_cls, \"lr\", None)  # lr_layer should be a dictionary\n",
    "print(f'{lr_layer=} (if None, means that the attribute is not found)')"
   ],
   "metadata": {
    "collapsed": false,
    "ExecuteTime": {
     "end_time": "2024-09-06T16:57:48.814825Z",
     "start_time": "2024-09-06T16:57:48.812220Z"
    }
   },
   "id": "7c6e271694743c4c",
   "execution_count": 9
  },
  {
   "cell_type": "code",
   "outputs": [
    {
     "name": "stdout",
     "output_type": "stream",
     "text": [
      "[*] Starting `s4` Training on `sin_ax_b` =>> Initializing...\n"
     ]
    }
   ],
   "source": [
    "from functools import partial\n",
    "\n",
    "print(f\"[*] Starting `{layer}` Training on `{dataset}` =>> Initializing...\")\n",
    "\n",
    "# partial: Return a new partial object which when called will behave like func called with the positional arguments args and keyword arguments keywords.\n",
    "# a partial object is a wrapper for a callable object. The partial object can be called as though it is the wrapped callable object.\n",
    "model_cls = partial(\n",
    "        BatchStackedModel,\n",
    "        layer_cls=layer_cls,\n",
    "        d_output=n_classes,\n",
    "        classification=classification,\n",
    "        **model,\n",
    "    )"
   ],
   "metadata": {
    "collapsed": false,
    "ExecuteTime": {
     "end_time": "2024-09-06T16:57:48.819506Z",
     "start_time": "2024-09-06T16:57:48.815498Z"
    }
   },
   "id": "f032eaa7a63ffbdd",
   "execution_count": 10
  },
  {
   "cell_type": "code",
   "outputs": [],
   "source": [
    "import optax\n",
    "from flax.training import train_state\n",
    "\n",
    "\n",
    "# TODO: go to create_train_state function (and skip this mapping) it's just a helper function\n",
    "# As we're using Flax, we also write a utility function to return a default TrainState object.\n",
    "# This function initializes model parameters, as well as our optimizer. Note that for S4 models,\n",
    "# we use a custom learning rate for parameters of the S4 kernel (lr = 0.001, no weight decay).\n",
    "def map_nested_fn(fn):\n",
    "    \"\"\"Recursively apply `fn to the key-value pairs of a nested dict / pytree.\"\"\"\n",
    "\n",
    "    def map_fn(nested_dict):\n",
    "        return {\n",
    "            k: (map_fn(v) if hasattr(v, \"keys\") else fn(k, v))\n",
    "            for k, v in nested_dict.items()\n",
    "        }\n",
    "\n",
    "    return map_fn\n",
    "def create_train_state(\n",
    "    rng,\n",
    "    model_cls,\n",
    "    trainloader,\n",
    "    lr=1e-3,\n",
    "    lr_layer=None,\n",
    "    lr_schedule=False,\n",
    "    weight_decay=0.0,\n",
    "    total_steps=-1,\n",
    "):\n",
    "    print(f'[*] Creating Train State...')\n",
    "    model = model_cls(training=True)\n",
    "    init_rng, dropout_rng = jax.random.split(rng, num=2)\n",
    "    print(f'Init')\n",
    "    params = model.init(\n",
    "        {\"params\": init_rng, \"dropout\": dropout_rng},\n",
    "        jnp.array(next(iter(trainloader))[0].numpy()),\n",
    "    )\n",
    "    print(f'LRschedule')\n",
    "    if lr_schedule:\n",
    "        schedule_fn = lambda lr: optax.cosine_onecycle_schedule(\n",
    "            peak_value=lr,\n",
    "            transition_steps=total_steps,\n",
    "            pct_start=0.1,\n",
    "        )\n",
    "    else:\n",
    "        schedule_fn = lambda lr: lr\n",
    "    # lr_layer is a dictionary from parameter name to LR multiplier\n",
    "    if lr_layer is None:\n",
    "        lr_layer = {}\n",
    "\n",
    "    tx = optax.adamw(learning_rate=lr, weight_decay=0.01)\n",
    "\n",
    "    # Print parameter count\n",
    "    _is_complex = lambda x: x.dtype in [jnp.complex64, jnp.complex128]\n",
    "    param_sizes = map_nested_fn(\n",
    "        lambda k, param: param.size * (2 if _is_complex(param) else 1)\n",
    "        if lr_layer.get(k, lr) > 0.0\n",
    "        else 0\n",
    "    )(params)\n",
    "    print(f\"[*] Trainable Parameters: {sum(jax.tree_leaves(param_sizes))}\")\n",
    "    print(f\"[*] Total training steps: {total_steps}\")\n",
    "\n",
    "    return train_state.TrainState.create(\n",
    "        apply_fn=model.apply, params=params, tx=tx\n",
    "    )\n"
   ],
   "metadata": {
    "collapsed": false,
    "ExecuteTime": {
     "end_time": "2024-09-06T16:57:48.906720Z",
     "start_time": "2024-09-06T16:57:48.827197Z"
    }
   },
   "id": "8a16be9a02f7b9f1",
   "execution_count": 11
  },
  {
   "cell_type": "code",
   "outputs": [
    {
     "name": "stdout",
     "output_type": "stream",
     "text": [
      "[*] Creating Train State...\n",
      "Init\n",
      "LRschedule\n",
      "[*] Trainable Parameters: 997168\n",
      "[*] Total training steps: 80\n"
     ]
    },
    {
     "name": "stderr",
     "output_type": "stream",
     "text": [
      "/var/folders/th/_3y3_jmx0mj98ffdxdh9fjt80000gn/T/ipykernel_38628/3608746436.py:59: DeprecationWarning: jax.tree_leaves is deprecated: use jax.tree_util.tree_leaves.\n",
      "  print(f\"[*] Trainable Parameters: {sum(jax.tree_leaves(param_sizes))}\")\n"
     ]
    }
   ],
   "source": [
    "state = create_train_state(\n",
    "    rng=rng,\n",
    "    model_cls=model_cls,\n",
    "    trainloader=trainloader,\n",
    "    lr=train.lr,\n",
    "    lr_layer=lr_layer,\n",
    "    lr_schedule=train.lr_schedule,\n",
    "    weight_decay=train.weight_decay,\n",
    "    total_steps=len(trainloader) * train.epochs,\n",
    ")"
   ],
   "metadata": {
    "collapsed": false,
    "ExecuteTime": {
     "end_time": "2024-09-06T16:57:51.201055Z",
     "start_time": "2024-09-06T16:57:48.909076Z"
    }
   },
   "id": "4dcb22750d581e45",
   "execution_count": 12
  },
  {
   "cell_type": "code",
   "outputs": [],
   "source": [
    "@partial(jax.jit, static_argnums=(4, 5))\n",
    "def train_step(\n",
    "    state, rng, batch_inputs, batch_labels, model, classification=False\n",
    "):\n",
    "    print(f'{batch_inputs.shape=}')\n",
    "    print(f'{batch_labels.shape=}')\n",
    "    def loss_fn(params):\n",
    "        logits, mod_vars = model.apply(\n",
    "            params,\n",
    "            batch_inputs,\n",
    "            rngs={\"dropout\": rng},\n",
    "            mutable=[\"intermediates\"],\n",
    "        )\n",
    "        loss = jnp.mean(cross_entropy_loss(logits, batch_labels))\n",
    "        acc = jnp.mean(compute_accuracy(logits, batch_labels))\n",
    "        return loss, (logits, acc)\n",
    "\n",
    "    if not classification:\n",
    "        # For regression tasks, we use the input as the target\n",
    "        batch_labels = batch_inputs[:, :, 0]\n",
    "        print(f'{batch_labels.shape=}')\n",
    "\n",
    "    grad_fn = jax.value_and_grad(loss_fn, has_aux=True)\n",
    "    (loss, (logits, acc)), grads = grad_fn(state.params)\n",
    "    state = state.apply_gradients(grads=grads)\n",
    "    return state, loss, acc\n",
    "\n",
    "\n",
    "@partial(jax.jit, static_argnums=(3, 4))\n",
    "def eval_step(batch_inputs, batch_labels, params, model, classification=False):\n",
    "    print(f'{batch_inputs.shape=}')\n",
    "    print(f'{batch_labels.shape=}')\n",
    "    if not classification:\n",
    "        batch_labels = batch_inputs[:, :, 0]\n",
    "    logits = model.apply(params, batch_inputs)\n",
    "    loss = jnp.mean(cross_entropy_loss(logits, batch_labels))\n",
    "    acc = jnp.mean(compute_accuracy(logits, batch_labels))\n",
    "    return loss, acc"
   ],
   "metadata": {
    "collapsed": false,
    "ExecuteTime": {
     "end_time": "2024-09-06T16:57:54.777206Z",
     "start_time": "2024-09-06T16:57:54.771376Z"
    }
   },
   "id": "4e1c87ba94e9be92",
   "execution_count": 13
  },
  {
   "cell_type": "code",
   "outputs": [],
   "source": [
    "def train_epoch(state, rng, model, trainloader, classification=False):\n",
    "    # Store Metrics\n",
    "    model = model(training=True)\n",
    "    batch_losses, batch_accuracies = [], []\n",
    "    for batch_idx, (inputs, labels) in enumerate(trainloader):\n",
    "        inputs = jnp.array(inputs.numpy())\n",
    "        labels = jnp.array(labels.numpy())  # Not the most efficient...\n",
    "        rng, drop_rng = jax.random.split(rng)\n",
    "        state, loss, acc = train_step(\n",
    "            state,\n",
    "            drop_rng,\n",
    "            inputs,\n",
    "            labels,\n",
    "            model,\n",
    "            classification=classification,\n",
    "        )\n",
    "        batch_losses.append(loss)\n",
    "        batch_accuracies.append(acc)\n",
    "\n",
    "    # Return average loss over batches\n",
    "    return (\n",
    "        state,\n",
    "        jnp.mean(jnp.array(batch_losses)),\n",
    "        jnp.mean(jnp.array(batch_accuracies)),\n",
    "    )"
   ],
   "metadata": {
    "collapsed": false,
    "ExecuteTime": {
     "end_time": "2024-09-06T16:57:55.291098Z",
     "start_time": "2024-09-06T16:57:55.287928Z"
    }
   },
   "id": "feca9fe95957040c",
   "execution_count": 14
  },
  {
   "cell_type": "code",
   "outputs": [],
   "source": [
    "def validate(params, model, testloader, classification=False):\n",
    "    # Compute average loss & accuracy\n",
    "    model = model(training=False)\n",
    "    losses, accuracies = [], []\n",
    "    for batch_idx, (inputs, labels) in enumerate(testloader):\n",
    "        inputs = jnp.array(inputs.numpy())\n",
    "        labels = jnp.array(labels.numpy())  # Not the most efficient...\n",
    "        loss, acc = eval_step(\n",
    "            inputs, labels, params, model, classification=classification\n",
    "        )\n",
    "        losses.append(loss)\n",
    "        accuracies.append(acc)\n",
    "\n",
    "    return jnp.mean(jnp.array(losses)), jnp.mean(jnp.array(accuracies))\n"
   ],
   "metadata": {
    "collapsed": false,
    "ExecuteTime": {
     "end_time": "2024-09-06T16:57:55.592532Z",
     "start_time": "2024-09-06T16:57:55.589332Z"
    }
   },
   "id": "8eac72d3913cb6f9",
   "execution_count": 15
  },
  {
   "cell_type": "code",
   "outputs": [
    {
     "name": "stdout",
     "output_type": "stream",
     "text": [
      "Epoch | Train Loss | Train Acc | Test Loss | Test Acc\n",
      "-------------------------------------------------------\n",
      "    1 | 0.80115    | 0.6699    | 0.85988   | 0.6377   \n",
      "    2 | 0.80182    | 0.6650    | 0.87755   | 0.6396   \n",
      "    3 | 0.80083    | 0.6677    | 0.85692   | 0.6396   \n",
      "    4 | 0.79930    | 0.6703    | 0.87522   | 0.6348   \n",
      "    5 | 0.82026    | 0.6575    | 0.87911   | 0.6426   \n",
      "    6 | 0.81517    | 0.6614    | 0.89764   | 0.6348   \n",
      "    7 | 0.81646    | 0.6633    | 0.88847   | 0.6377   \n",
      "    8 | 0.80732    | 0.6675    | 0.88609   | 0.6362   \n",
      "    9 | 0.80058    | 0.6661    | 0.86066   | 0.6367   \n",
      "   10 | 0.79573    | 0.6700    | 0.86717   | 0.6431   \n",
      "   11 | 0.80191    | 0.6658    | 0.86171   | 0.6357   \n",
      "   12 | 0.79826    | 0.6685    | 0.85563   | 0.6416   \n",
      "   13 | 0.79703    | 0.6725    | 0.85356   | 0.6426   \n",
      "   14 | 0.79953    | 0.6664    | 0.86483   | 0.6348   \n",
      "   15 | 0.80260    | 0.6676    | 0.85632   | 0.6455   \n",
      "   16 | 0.79686    | 0.6700    | 0.87332   | 0.6387   \n",
      "   17 | 0.79618    | 0.6694    | 0.86381   | 0.6431   \n",
      "   18 | 0.79720    | 0.6686    | 0.88888   | 0.6343   \n",
      "   19 | 0.80528    | 0.6669    | 0.87876   | 0.6367   \n",
      "   20 | 0.79468    | 0.6727    | 0.85589   | 0.6494   \n",
      "   21 | 0.79910    | 0.6669    | 0.87351   | 0.6426   \n",
      "   22 | 0.80650    | 0.6655    | 0.85002   | 0.6460   \n",
      "   23 | 0.80078    | 0.6652    | 0.86485   | 0.6392   \n",
      "   24 | 0.79742    | 0.6688    | 0.85782   | 0.6411   \n",
      "   25 | 0.79655    | 0.6703    | 0.87848   | 0.6328   \n",
      "   26 | 0.79278    | 0.6747    | 0.85212   | 0.6411   \n",
      "   27 | 0.78998    | 0.6714    | 0.85547   | 0.6392   \n",
      "   28 | 0.78995    | 0.6710    | 0.84534   | 0.6440   \n",
      "   29 | 0.79132    | 0.6705    | 0.86194   | 0.6426   \n",
      "   30 | 0.78805    | 0.6729    | 0.85501   | 0.6392   \n",
      "   31 | 0.79018    | 0.6717    | 0.86528   | 0.6387   \n",
      "   32 | 0.79376    | 0.6695    | 0.85568   | 0.6401   \n",
      "   33 | 0.78683    | 0.6738    | 0.85372   | 0.6377   \n",
      "   34 | 0.78792    | 0.6726    | 0.84833   | 0.6445   \n",
      "   35 | 0.79303    | 0.6693    | 0.85158   | 0.6436   \n",
      "   36 | 0.78974    | 0.6714    | 0.86580   | 0.6455   \n",
      "   37 | 0.78818    | 0.6719    | 0.85516   | 0.6406   \n",
      "   38 | 0.78634    | 0.6747    | 0.86684   | 0.6411   \n",
      "   39 | 0.79462    | 0.6683    | 0.86148   | 0.6470   \n",
      "   40 | 0.80355    | 0.6669    | 0.86413   | 0.6416   \n",
      "   41 | 0.80318    | 0.6671    | 0.87321   | 0.6333   \n",
      "   42 | 0.80404    | 0.6631    | 0.86665   | 0.6270   \n",
      "   43 | 0.80447    | 0.6678    | 0.92585   | 0.6143   \n",
      "   44 | 0.80279    | 0.6671    | 0.85717   | 0.6436   \n",
      "   45 | 0.79430    | 0.6709    | 0.87202   | 0.6338   \n",
      "   46 | 0.79408    | 0.6707    | 0.84700   | 0.6514   \n",
      "   47 | 0.79219    | 0.6713    | 0.86638   | 0.6392   \n",
      "   48 | 0.79025    | 0.6749    | 0.84519   | 0.6479   \n",
      "   49 | 0.79033    | 0.6722    | 0.86544   | 0.6367   \n",
      "   50 | 0.78821    | 0.6719    | 0.84532   | 0.6489   \n",
      "   51 | 0.78166    | 0.6771    | 0.85071   | 0.6465   \n",
      "   52 | 0.78190    | 0.6772    | 0.85086   | 0.6421   \n",
      "   53 | 0.77920    | 0.6750    | 0.85167   | 0.6475   \n",
      "   54 | 0.78572    | 0.6718    | 0.83996   | 0.6465   \n",
      "   55 | 0.78273    | 0.6750    | 0.85578   | 0.6475   \n",
      "   56 | 0.78076    | 0.6750    | 0.85479   | 0.6450   \n",
      "   57 | 0.77927    | 0.6754    | 0.84884   | 0.6519   \n",
      "   58 | 0.78040    | 0.6766    | 0.85034   | 0.6484   \n",
      "   59 | 0.78370    | 0.6750    | 0.85681   | 0.6401   \n",
      "   60 | 0.78233    | 0.6744    | 0.85971   | 0.6445   \n",
      "   61 | 0.77964    | 0.6771    | 0.85887   | 0.6401   \n",
      "   62 | 0.77935    | 0.6756    | 0.84932   | 0.6475   \n",
      "   63 | 0.78462    | 0.6760    | 0.86628   | 0.6436   \n",
      "   64 | 0.79548    | 0.6685    | 0.88197   | 0.6392   \n",
      "   65 | 0.79228    | 0.6718    | 0.85539   | 0.6416   \n",
      "   66 | 0.79576    | 0.6725    | 0.86008   | 0.6455   \n",
      "   67 | 0.79004    | 0.6725    | 0.84908   | 0.6460   \n",
      "   68 | 0.78910    | 0.6713    | 0.85893   | 0.6455   \n",
      "   69 | 0.78029    | 0.6787    | 0.84885   | 0.6514   \n",
      "   70 | 0.77859    | 0.6763    | 0.85468   | 0.6470   \n",
      "   71 | 0.77725    | 0.6767    | 0.84656   | 0.6523   \n",
      "   72 | 0.77685    | 0.6774    | 0.84129   | 0.6577   \n",
      "   73 | 0.77603    | 0.6774    | 0.84080   | 0.6538   \n",
      "   74 | 0.77101    | 0.6802    | 0.84332   | 0.6562   \n",
      "   75 | 0.77209    | 0.6787    | 0.84131   | 0.6504   \n",
      "   76 | 0.77303    | 0.6782    | 0.84888   | 0.6470   \n",
      "   77 | 0.77283    | 0.6779    | 0.83856   | 0.6504   \n",
      "   78 | 0.77442    | 0.6791    | 0.84435   | 0.6562   \n",
      "   79 | 0.77515    | 0.6799    | 0.84167   | 0.6504   \n",
      "   80 | 0.77833    | 0.6757    | 0.84919   | 0.6460   \n",
      "   81 | 0.77952    | 0.6769    | 0.84763   | 0.6553   \n",
      "   82 | 0.77790    | 0.6750    | 0.83969   | 0.6519   \n",
      "   83 | 0.77180    | 0.6810    | 0.84247   | 0.6504   \n",
      "   84 | 0.78313    | 0.6792    | 0.85171   | 0.6509   \n",
      "   85 | 0.77729    | 0.6766    | 0.84943   | 0.6479   \n",
      "   86 | 0.77831    | 0.6778    | 0.84345   | 0.6489   \n",
      "   87 | 0.78733    | 0.6747    | 0.86360   | 0.6421   \n",
      "   88 | 0.78613    | 0.6744    | 0.86230   | 0.6411   \n",
      "   89 | 0.78535    | 0.6743    | 0.83707   | 0.6455   \n",
      "   90 | 0.77423    | 0.6794    | 0.83958   | 0.6494   \n",
      "   91 | 0.76950    | 0.6810    | 0.85685   | 0.6426   \n",
      "   92 | 0.77435    | 0.6775    | 0.84942   | 0.6387   \n",
      "   93 | 0.77865    | 0.6788    | 0.83442   | 0.6509   \n",
      "   94 | 0.76744    | 0.6816    | 0.85142   | 0.6426   \n",
      "   95 | 0.76882    | 0.6789    | 0.84167   | 0.6440   \n",
      "   96 | 0.77043    | 0.6803    | 0.84138   | 0.6509   \n",
      "   97 | 0.77148    | 0.6779    | 0.85081   | 0.6519   \n",
      "   98 | 0.77481    | 0.6763    | 0.85878   | 0.6465   \n",
      "   99 | 0.77652    | 0.6767    | 0.84385   | 0.6562   \n",
      "  100 | 0.77553    | 0.6779    | 0.84223   | 0.6558   \n",
      "  101 | 0.77205    | 0.6785    | 0.83704   | 0.6616   \n",
      "  102 | 0.77341    | 0.6817    | 0.83435   | 0.6514   \n",
      "  103 | 0.77993    | 0.6776    | 0.85722   | 0.6392   \n",
      "  104 | 0.79414    | 0.6709    | 0.83823   | 0.6567   \n",
      "  105 | 0.79966    | 0.6691    | 0.85376   | 0.6572   \n",
      "  106 | 0.79969    | 0.6693    | 0.85078   | 0.6514   \n",
      "  107 | 0.78253    | 0.6734    | 0.83129   | 0.6514   \n",
      "  108 | 0.77550    | 0.6783    | 0.84543   | 0.6572   \n",
      "  109 | 0.77546    | 0.6797    | 0.84605   | 0.6499   \n",
      "  110 | 0.77101    | 0.6802    | 0.85441   | 0.6523   \n",
      "  111 | 0.77078    | 0.6819    | 0.86009   | 0.6445   \n",
      "  112 | 0.76836    | 0.6829    | 0.84191   | 0.6484   \n",
      "  113 | 0.76465    | 0.6833    | 0.84001   | 0.6523   \n",
      "  114 | 0.76826    | 0.6824    | 0.83330   | 0.6479   \n",
      "  115 | 0.76640    | 0.6832    | 0.83199   | 0.6519   \n",
      "  116 | 0.76550    | 0.6813    | 0.84651   | 0.6465   \n",
      "  117 | 0.77001    | 0.6823    | 0.83831   | 0.6582   \n",
      "  118 | 0.77346    | 0.6801    | 0.85233   | 0.6567   \n",
      "  119 | 0.77178    | 0.6803    | 0.85138   | 0.6519   \n",
      "  120 | 0.78181    | 0.6727    | 0.85705   | 0.6411   \n",
      "  121 | 0.78387    | 0.6746    | 0.84226   | 0.6553   \n",
      "  122 | 0.78970    | 0.6711    | 0.84042   | 0.6523   \n",
      "  123 | 0.78100    | 0.6742    | 0.83598   | 0.6553   \n",
      "  124 | 0.77727    | 0.6780    | 0.83584   | 0.6533   \n",
      "  125 | 0.77473    | 0.6793    | 0.83581   | 0.6660   \n",
      "  126 | 0.76936    | 0.6809    | 0.84083   | 0.6602   \n",
      "  127 | 0.77276    | 0.6796    | 0.85401   | 0.6514   \n",
      "  128 | 0.77403    | 0.6782    | 0.86741   | 0.6475   \n",
      "  129 | 0.78543    | 0.6741    | 0.85146   | 0.6543   \n",
      "  130 | 0.77665    | 0.6779    | 0.83558   | 0.6499   \n",
      "  131 | 0.76388    | 0.6830    | 0.84397   | 0.6499   \n",
      "  132 | 0.76389    | 0.6839    | 0.83241   | 0.6489   \n",
      "  133 | 0.76424    | 0.6837    | 0.84019   | 0.6479   \n",
      "  134 | 0.76379    | 0.6811    | 0.84641   | 0.6470   \n",
      "  135 | 0.76950    | 0.6826    | 0.83544   | 0.6504   \n",
      "  136 | 0.76969    | 0.6796    | 0.84417   | 0.6440   \n",
      "  137 | 0.76467    | 0.6816    | 0.83695   | 0.6514   \n",
      "  138 | 0.76221    | 0.6833    | 0.85049   | 0.6479   \n",
      "  139 | 0.76476    | 0.6825    | 0.82797   | 0.6562   \n",
      "  140 | 0.76974    | 0.6807    | 0.84410   | 0.6528   \n",
      "  141 | 0.76640    | 0.6838    | 0.82750   | 0.6543   \n",
      "  142 | 0.75783    | 0.6852    | 0.84162   | 0.6646   \n",
      "  143 | 0.76018    | 0.6835    | 0.84869   | 0.6484   \n",
      "  144 | 0.76109    | 0.6816    | 0.83809   | 0.6543   \n",
      "  145 | 0.75929    | 0.6846    | 0.83025   | 0.6611   \n",
      "  146 | 0.75776    | 0.6866    | 0.82647   | 0.6602   \n",
      "  147 | 0.75825    | 0.6848    | 0.83370   | 0.6572   \n",
      "  148 | 0.76338    | 0.6833    | 0.83173   | 0.6592   \n",
      "  149 | 0.75938    | 0.6844    | 0.83980   | 0.6558   \n",
      "  150 | 0.76057    | 0.6854    | 0.83521   | 0.6611   \n",
      "  151 | 0.76941    | 0.6813    | 0.83427   | 0.6611   \n",
      "  152 | 0.76716    | 0.6814    | 0.83444   | 0.6587   \n",
      "  153 | 0.76867    | 0.6806    | 0.82991   | 0.6616   \n",
      "  154 | 0.76008    | 0.6832    | 0.82402   | 0.6597   \n",
      "  155 | 0.75788    | 0.6843    | 0.82814   | 0.6592   \n",
      "  156 | 0.75357    | 0.6879    | 0.83269   | 0.6577   \n",
      "  157 | 0.75535    | 0.6862    | 0.82503   | 0.6665   \n",
      "  158 | 0.75578    | 0.6887    | 0.83456   | 0.6572   \n",
      "  159 | 0.75281    | 0.6856    | 0.82010   | 0.6602   \n",
      "  160 | 0.75501    | 0.6873    | 0.82514   | 0.6689   \n",
      "  161 | 0.75836    | 0.6830    | 0.83539   | 0.6562   \n",
      "  162 | 0.76267    | 0.6838    | 0.83467   | 0.6519   \n",
      "  163 | 0.76108    | 0.6850    | 0.84640   | 0.6548   \n",
      "  164 | 0.76769    | 0.6803    | 0.83329   | 0.6592   \n",
      "  165 | 0.76596    | 0.6806    | 0.84027   | 0.6582   \n",
      "  166 | 0.76452    | 0.6838    | 0.82548   | 0.6528   \n",
      "  167 | 0.75806    | 0.6863    | 0.82995   | 0.6523   \n",
      "  168 | 0.76216    | 0.6855    | 0.82818   | 0.6548   \n",
      "  169 | 0.75797    | 0.6832    | 0.82114   | 0.6636   \n",
      "  170 | 0.75156    | 0.6899    | 0.81943   | 0.6611   \n",
      "  171 | 0.75112    | 0.6882    | 0.82945   | 0.6602   \n",
      "  172 | 0.75451    | 0.6876    | 0.84831   | 0.6538   \n",
      "  173 | 0.75568    | 0.6861    | 0.83780   | 0.6562   \n",
      "  174 | 0.76063    | 0.6838    | 0.85180   | 0.6519   \n",
      "  175 | 0.76259    | 0.6857    | 0.83744   | 0.6514   \n",
      "  176 | 0.75520    | 0.6852    | 0.83408   | 0.6528   \n",
      "  177 | 0.75507    | 0.6869    | 0.82394   | 0.6582   \n",
      "  178 | 0.75893    | 0.6837    | 0.83252   | 0.6509   \n",
      "  179 | 0.75634    | 0.6862    | 0.81953   | 0.6597   \n",
      "  180 | 0.75575    | 0.6860    | 0.83371   | 0.6606   \n",
      "  181 | 0.75346    | 0.6872    | 0.84004   | 0.6577   \n",
      "  182 | 0.75252    | 0.6885    | 0.82130   | 0.6562   \n",
      "  183 | 0.75110    | 0.6884    | 0.83829   | 0.6533   \n",
      "  184 | 0.74783    | 0.6896    | 0.83363   | 0.6528   \n",
      "  185 | 0.75566    | 0.6856    | 0.83566   | 0.6572   \n",
      "  186 | 0.76115    | 0.6838    | 0.85959   | 0.6479   \n",
      "  187 | 0.76407    | 0.6827    | 0.83343   | 0.6606   \n",
      "  188 | 0.76054    | 0.6857    | 0.83620   | 0.6567   \n",
      "  189 | 0.76303    | 0.6801    | 0.82232   | 0.6631   \n",
      "  190 | 0.75504    | 0.6863    | 0.82664   | 0.6504   \n",
      "  191 | 0.76336    | 0.6827    | 0.84604   | 0.6426   \n",
      "  192 | 0.75736    | 0.6865    | 0.82210   | 0.6611   \n",
      "  193 | 0.74959    | 0.6899    | 0.82773   | 0.6548   \n",
      "  194 | 0.75093    | 0.6886    | 0.82717   | 0.6577   \n",
      "  195 | 0.74925    | 0.6914    | 0.85067   | 0.6577   \n",
      "  196 | 0.76343    | 0.6830    | 0.85674   | 0.6597   \n",
      "  197 | 0.75763    | 0.6847    | 0.82875   | 0.6602   \n",
      "  198 | 0.74985    | 0.6919    | 0.81857   | 0.6660   \n",
      "  199 | 0.74963    | 0.6910    | 0.82026   | 0.6650   \n",
      "  200 | 0.74991    | 0.6871    | 0.82866   | 0.6592   \n",
      "  201 | 0.75417    | 0.6890    | 0.83444   | 0.6572   \n",
      "  202 | 0.75536    | 0.6868    | 0.82208   | 0.6650   \n",
      "  203 | 0.75298    | 0.6915    | 0.82191   | 0.6616   \n",
      "  204 | 0.76568    | 0.6842    | 0.84880   | 0.6426   \n",
      "  205 | 0.76346    | 0.6823    | 0.83383   | 0.6484   \n",
      "  206 | 0.74954    | 0.6903    | 0.81623   | 0.6646   \n",
      "  207 | 0.74786    | 0.6911    | 0.82261   | 0.6680   \n",
      "  208 | 0.75162    | 0.6866    | 0.82508   | 0.6621   \n",
      "  209 | 0.74880    | 0.6888    | 0.84057   | 0.6587   \n",
      "  210 | 0.75061    | 0.6882    | 0.82520   | 0.6548   \n",
      "  211 | 0.74821    | 0.6898    | 0.83346   | 0.6567   \n",
      "  212 | 0.75334    | 0.6887    | 0.82096   | 0.6646   \n",
      "  213 | 0.74960    | 0.6918    | 0.82307   | 0.6567   \n",
      "  214 | 0.74756    | 0.6891    | 0.82912   | 0.6562   \n",
      "  215 | 0.74760    | 0.6897    | 0.81482   | 0.6577   \n",
      "  216 | 0.74990    | 0.6895    | 0.82243   | 0.6606   \n",
      "  217 | 0.75086    | 0.6858    | 0.82057   | 0.6626   \n",
      "  218 | 0.75050    | 0.6883    | 0.83188   | 0.6514   \n",
      "  219 | 0.75887    | 0.6890    | 0.83146   | 0.6577   \n",
      "  220 | 0.74611    | 0.6924    | 0.81878   | 0.6582   \n",
      "  221 | 0.74814    | 0.6890    | 0.81352   | 0.6665   \n",
      "  222 | 0.74676    | 0.6924    | 0.81952   | 0.6572   \n",
      "  223 | 0.74222    | 0.6922    | 0.82263   | 0.6582   \n",
      "  224 | 0.74720    | 0.6907    | 0.82089   | 0.6543   \n",
      "  225 | 0.74971    | 0.6882    | 0.81525   | 0.6694   \n",
      "  226 | 0.75248    | 0.6868    | 0.81982   | 0.6655   \n",
      "  227 | 0.74457    | 0.6937    | 0.82774   | 0.6611   \n",
      "  228 | 0.74249    | 0.6924    | 0.81657   | 0.6616   \n",
      "  229 | 0.73988    | 0.6923    | 0.82155   | 0.6606   \n",
      "  230 | 0.74144    | 0.6915    | 0.83676   | 0.6606   \n",
      "  231 | 0.74303    | 0.6932    | 0.83330   | 0.6592   \n",
      "  232 | 0.74493    | 0.6917    | 0.82716   | 0.6675   \n",
      "  233 | 0.74693    | 0.6895    | 0.82802   | 0.6528   \n",
      "  234 | 0.74916    | 0.6895    | 0.82062   | 0.6606   \n",
      "  235 | 0.75126    | 0.6860    | 0.82767   | 0.6533   \n",
      "  236 | 0.75569    | 0.6854    | 0.81628   | 0.6562   \n",
      "  237 | 0.75064    | 0.6885    | 0.82165   | 0.6626   \n",
      "  238 | 0.74618    | 0.6891    | 0.82358   | 0.6655   \n",
      "  239 | 0.74237    | 0.6893    | 0.82807   | 0.6641   \n",
      "  240 | 0.74827    | 0.6895    | 0.85131   | 0.6533   \n",
      "  241 | 0.74731    | 0.6896    | 0.82401   | 0.6577   \n",
      "  242 | 0.74589    | 0.6913    | 0.84056   | 0.6553   \n",
      "  243 | 0.74575    | 0.6905    | 0.83590   | 0.6548   \n",
      "  244 | 0.73944    | 0.6932    | 0.82289   | 0.6660   \n",
      "  245 | 0.74315    | 0.6922    | 0.83095   | 0.6650   \n",
      "  246 | 0.74526    | 0.6926    | 0.81243   | 0.6665   \n",
      "  247 | 0.74347    | 0.6918    | 0.83835   | 0.6514   \n",
      "  248 | 0.74487    | 0.6960    | 0.81127   | 0.6582   \n",
      "  249 | 0.74087    | 0.6939    | 0.81779   | 0.6562   \n",
      "  250 | 0.74077    | 0.6930    | 0.81931   | 0.6631   \n",
      "  251 | 0.74167    | 0.6938    | 0.83136   | 0.6587   \n",
      "  252 | 0.74729    | 0.6898    | 0.83119   | 0.6689   \n",
      "  253 | 0.74955    | 0.6888    | 0.83976   | 0.6577   \n",
      "  254 | 0.75455    | 0.6866    | 0.82159   | 0.6646   \n",
      "  255 | 0.75346    | 0.6882    | 0.84959   | 0.6602   \n",
      "  256 | 0.74451    | 0.6911    | 0.82023   | 0.6646   \n",
      "  257 | 0.74368    | 0.6915    | 0.81798   | 0.6636   \n",
      "  258 | 0.74549    | 0.6901    | 0.83528   | 0.6553   \n",
      "  259 | 0.74179    | 0.6918    | 0.84864   | 0.6548   \n",
      "  260 | 0.74092    | 0.6920    | 0.81957   | 0.6665   \n",
      "  261 | 0.73533    | 0.6987    | 0.81412   | 0.6689   \n",
      "  262 | 0.73752    | 0.6954    | 0.82562   | 0.6592   \n",
      "  263 | 0.73611    | 0.6937    | 0.83111   | 0.6572   \n",
      "  264 | 0.73886    | 0.6938    | 0.81865   | 0.6641   \n",
      "  265 | 0.73980    | 0.6948    | 0.81816   | 0.6572   \n",
      "  266 | 0.74023    | 0.6937    | 0.80972   | 0.6641   \n",
      "  267 | 0.73642    | 0.6945    | 0.81663   | 0.6582   \n",
      "  268 | 0.73447    | 0.6970    | 0.83429   | 0.6445   \n",
      "  269 | 0.74695    | 0.6906    | 0.84381   | 0.6470   \n",
      "  270 | 0.74642    | 0.6909    | 0.81956   | 0.6641   \n",
      "  271 | 0.73788    | 0.6936    | 0.81711   | 0.6621   \n",
      "  272 | 0.73288    | 0.6960    | 0.81444   | 0.6602   \n",
      "  273 | 0.73551    | 0.6935    | 0.82379   | 0.6553   \n",
      "  274 | 0.73593    | 0.6968    | 0.82238   | 0.6587   \n",
      "  275 | 0.74308    | 0.6929    | 0.81838   | 0.6577   \n",
      "  276 | 0.75230    | 0.6913    | 0.83945   | 0.6440   \n",
      "  277 | 0.75119    | 0.6867    | 0.82132   | 0.6572   \n",
      "  278 | 0.75164    | 0.6877    | 0.82326   | 0.6538   \n",
      "  279 | 0.74405    | 0.6937    | 0.81011   | 0.6650   \n",
      "  280 | 0.73564    | 0.6964    | 0.82203   | 0.6538   \n",
      "  281 | 0.73661    | 0.6966    | 0.81298   | 0.6670   \n",
      "  282 | 0.73733    | 0.6941    | 0.82487   | 0.6582   \n",
      "  283 | 0.74642    | 0.6904    | 0.83795   | 0.6504   \n",
      "  284 | 0.73981    | 0.6926    | 0.80594   | 0.6641   \n",
      "  285 | 0.73670    | 0.6937    | 0.80853   | 0.6650   \n",
      "  286 | 0.73762    | 0.6956    | 0.83184   | 0.6548   \n",
      "  287 | 0.73588    | 0.6944    | 0.81454   | 0.6606   \n",
      "  288 | 0.73470    | 0.6977    | 0.81985   | 0.6670   \n",
      "  289 | 0.73048    | 0.6960    | 0.81243   | 0.6719   \n",
      "  290 | 0.73735    | 0.6951    | 0.81806   | 0.6665   \n",
      "  291 | 0.74064    | 0.6966    | 0.82641   | 0.6636   \n",
      "  292 | 0.73773    | 0.6946    | 0.81398   | 0.6665   \n",
      "  293 | 0.73359    | 0.6987    | 0.82570   | 0.6602   \n",
      "  294 | 0.73322    | 0.6970    | 0.81896   | 0.6655   \n",
      "  295 | 0.73317    | 0.6989    | 0.82527   | 0.6714   \n",
      "  296 | 0.74060    | 0.6901    | 0.85467   | 0.6465   \n",
      "  297 | 0.75159    | 0.6917    | 0.85820   | 0.6558   \n",
      "  298 | 0.76568    | 0.6830    | 0.87178   | 0.6450   \n",
      "  299 | 0.75850    | 0.6852    | 0.85176   | 0.6597   \n",
      "  300 | 0.75436    | 0.6880    | 0.86511   | 0.6489   \n",
      "  301 | 0.74792    | 0.6890    | 0.82465   | 0.6562   \n",
      "  302 | 0.74876    | 0.6905    | 0.83798   | 0.6606   \n",
      "  303 | 0.74740    | 0.6918    | 0.81452   | 0.6641   \n",
      "  304 | 0.74337    | 0.6896    | 0.83736   | 0.6572   \n",
      "  305 | 0.73575    | 0.6973    | 0.80668   | 0.6719   \n",
      "  306 | 0.73403    | 0.6981    | 0.81255   | 0.6646   \n",
      "  307 | 0.73583    | 0.6956    | 0.81053   | 0.6753   \n",
      "  308 | 0.73650    | 0.6951    | 0.80860   | 0.6689   \n",
      "  309 | 0.73455    | 0.6949    | 0.81111   | 0.6587   \n",
      "  310 | 0.73531    | 0.6971    | 0.80928   | 0.6733   \n",
      "  311 | 0.72981    | 0.6970    | 0.81500   | 0.6631   \n",
      "  312 | 0.72829    | 0.6984    | 0.80671   | 0.6699   \n",
      "  313 | 0.73046    | 0.6974    | 0.80485   | 0.6621   \n",
      "  314 | 0.73064    | 0.6964    | 0.80718   | 0.6655   \n",
      "  315 | 0.72767    | 0.7003    | 0.81128   | 0.6685   \n",
      "  316 | 0.72878    | 0.6967    | 0.80190   | 0.6680   \n",
      "  317 | 0.72995    | 0.7004    | 0.81967   | 0.6621   \n",
      "  318 | 0.72709    | 0.6977    | 0.81564   | 0.6606   \n",
      "  319 | 0.72929    | 0.6987    | 0.80219   | 0.6641   \n",
      "  320 | 0.73112    | 0.6973    | 0.81394   | 0.6602   \n",
      "  321 | 0.72636    | 0.6976    | 0.81382   | 0.6606   \n",
      "  322 | 0.72422    | 0.6996    | 0.81683   | 0.6626   \n",
      "  323 | 0.72789    | 0.6978    | 0.80553   | 0.6665   \n",
      "  324 | 0.72848    | 0.6992    | 0.80841   | 0.6646   \n",
      "  325 | 0.72958    | 0.6999    | 0.81153   | 0.6689   \n",
      "  326 | 0.73076    | 0.6983    | 0.80877   | 0.6597   \n",
      "  327 | 0.72851    | 0.6973    | 0.81775   | 0.6611   \n",
      "  328 | 0.72793    | 0.6962    | 0.81252   | 0.6631   \n",
      "  329 | 0.72914    | 0.6979    | 0.82895   | 0.6533   \n",
      "  330 | 0.73404    | 0.6937    | 0.81153   | 0.6704   \n",
      "  331 | 0.73676    | 0.6956    | 0.83501   | 0.6567   \n",
      "  332 | 0.73428    | 0.6981    | 0.81080   | 0.6650   \n",
      "  333 | 0.72977    | 0.6972    | 0.80510   | 0.6665   \n",
      "  334 | 0.72738    | 0.6982    | 0.81848   | 0.6592   \n",
      "  335 | 0.73235    | 0.6964    | 0.81933   | 0.6685   \n",
      "  336 | 0.74083    | 0.6927    | 0.81592   | 0.6582   \n",
      "  337 | 0.73849    | 0.6934    | 0.80631   | 0.6704   \n",
      "  338 | 0.74379    | 0.6887    | 0.81815   | 0.6553   \n",
      "  339 | 0.72973    | 0.6984    | 0.82027   | 0.6543   \n",
      "  340 | 0.72956    | 0.6953    | 0.80178   | 0.6680   \n",
      "  341 | 0.72436    | 0.7007    | 0.83238   | 0.6650   \n",
      "  342 | 0.72828    | 0.6976    | 0.80592   | 0.6660   \n",
      "  343 | 0.72882    | 0.6989    | 0.82219   | 0.6602   \n",
      "  344 | 0.72462    | 0.7004    | 0.79903   | 0.6685   \n",
      "  345 | 0.72005    | 0.7019    | 0.82093   | 0.6592   \n",
      "  346 | 0.72449    | 0.7026    | 0.81658   | 0.6602   \n",
      "  347 | 0.72383    | 0.7001    | 0.82953   | 0.6562   \n",
      "  348 | 0.72687    | 0.7008    | 0.80846   | 0.6660   \n",
      "  349 | 0.72833    | 0.6995    | 0.81720   | 0.6626   \n",
      "  350 | 0.72367    | 0.7025    | 0.81387   | 0.6655   \n",
      "  351 | 0.72316    | 0.7006    | 0.81508   | 0.6616   \n",
      "  352 | 0.72585    | 0.6982    | 0.81584   | 0.6616   \n",
      "  353 | 0.72238    | 0.7016    | 0.81406   | 0.6626   \n",
      "  354 | 0.72159    | 0.7038    | 0.82679   | 0.6636   \n",
      "  355 | 0.72736    | 0.6961    | 0.83566   | 0.6504   \n",
      "  356 | 0.72608    | 0.6995    | 0.80586   | 0.6685   \n",
      "  357 | 0.72951    | 0.6989    | 0.81063   | 0.6650   \n",
      "  358 | 0.72627    | 0.7002    | 0.81814   | 0.6631   \n",
      "  359 | 0.72572    | 0.6984    | 0.81710   | 0.6685   \n",
      "  360 | 0.72510    | 0.6993    | 0.80383   | 0.6641   \n",
      "  361 | 0.72284    | 0.7022    | 0.83684   | 0.6616   \n",
      "  362 | 0.74573    | 0.6915    | 0.84622   | 0.6553   \n",
      "  363 | 0.73513    | 0.6930    | 0.80444   | 0.6665   \n",
      "  364 | 0.72625    | 0.7006    | 0.81172   | 0.6641   \n",
      "  365 | 0.72144    | 0.7026    | 0.80950   | 0.6646   \n",
      "  366 | 0.72416    | 0.6986    | 0.82556   | 0.6558   \n",
      "  367 | 0.72704    | 0.7005    | 0.81189   | 0.6592   \n",
      "  368 | 0.72926    | 0.6985    | 0.82204   | 0.6494   \n",
      "  369 | 0.72293    | 0.7007    | 0.83429   | 0.6475   \n",
      "  370 | 0.72997    | 0.6990    | 0.82748   | 0.6450   \n",
      "  371 | 0.73601    | 0.6950    | 0.83583   | 0.6465   \n",
      "  372 | 0.73796    | 0.6924    | 0.81447   | 0.6538   \n",
      "  373 | 0.72513    | 0.6993    | 0.79872   | 0.6655   \n",
      "  374 | 0.72957    | 0.6944    | 0.80278   | 0.6699   \n",
      "  375 | 0.72426    | 0.6985    | 0.80362   | 0.6724   \n",
      "  376 | 0.72589    | 0.6982    | 0.80831   | 0.6729   \n",
      "  377 | 0.72713    | 0.6971    | 0.81829   | 0.6631   \n",
      "  378 | 0.72533    | 0.7004    | 0.81790   | 0.6553   \n",
      "  379 | 0.72326    | 0.7017    | 0.82365   | 0.6602   \n",
      "  380 | 0.72112    | 0.7018    | 0.80257   | 0.6704   \n",
      "  381 | 0.72570    | 0.7007    | 0.81241   | 0.6636   \n",
      "  382 | 0.72641    | 0.6988    | 0.81015   | 0.6680   \n",
      "  383 | 0.72661    | 0.6983    | 0.80843   | 0.6689   \n",
      "  384 | 0.73142    | 0.6966    | 0.80494   | 0.6636   \n",
      "  385 | 0.72517    | 0.7002    | 0.80293   | 0.6655   \n",
      "  386 | 0.72155    | 0.6987    | 0.80509   | 0.6636   \n",
      "  387 | 0.72705    | 0.6998    | 0.82763   | 0.6611   \n",
      "  388 | 0.72250    | 0.7025    | 0.80931   | 0.6685   \n",
      "  389 | 0.71997    | 0.7003    | 0.80626   | 0.6587   \n",
      "  390 | 0.71857    | 0.7026    | 0.80860   | 0.6636   \n",
      "  391 | 0.71622    | 0.7015    | 0.82131   | 0.6670   \n",
      "  392 | 0.71765    | 0.7029    | 0.80637   | 0.6655   \n",
      "  393 | 0.71869    | 0.7007    | 0.81440   | 0.6689   \n",
      "  394 | 0.72297    | 0.7021    | 0.80260   | 0.6636   \n",
      "  395 | 0.72274    | 0.7010    | 0.80423   | 0.6626   \n",
      "  396 | 0.72239    | 0.7012    | 0.80919   | 0.6660   \n",
      "  397 | 0.72278    | 0.6986    | 0.80323   | 0.6738   \n",
      "  398 | 0.72404    | 0.6979    | 0.79944   | 0.6714   \n",
      "  399 | 0.72092    | 0.7009    | 0.84163   | 0.6406   \n",
      "  400 | 0.72764    | 0.6996    | 0.83100   | 0.6553   \n",
      "  401 | 0.72485    | 0.6992    | 0.81155   | 0.6675   \n",
      "  402 | 0.72058    | 0.7023    | 0.81248   | 0.6636   \n",
      "  403 | 0.71944    | 0.7020    | 0.79921   | 0.6733   \n",
      "  404 | 0.72817    | 0.6994    | 0.79369   | 0.6670   \n",
      "  405 | 0.72346    | 0.7015    | 0.80170   | 0.6641   \n",
      "  406 | 0.72357    | 0.7010    | 0.81386   | 0.6528   \n",
      "  407 | 0.72392    | 0.7006    | 0.81591   | 0.6616   \n",
      "  408 | 0.72016    | 0.7034    | 0.81243   | 0.6616   \n",
      "  409 | 0.72002    | 0.7034    | 0.81315   | 0.6597   \n",
      "  410 | 0.72083    | 0.6985    | 0.80516   | 0.6626   \n",
      "  411 | 0.72035    | 0.7009    | 0.82451   | 0.6621   \n",
      "  412 | 0.72106    | 0.7017    | 0.82280   | 0.6597   \n",
      "  413 | 0.72597    | 0.6978    | 0.81583   | 0.6587   \n",
      "  414 | 0.72056    | 0.7017    | 0.80493   | 0.6694   \n",
      "  415 | 0.72525    | 0.6999    | 0.80412   | 0.6753   \n",
      "  416 | 0.72696    | 0.6974    | 0.80226   | 0.6714   \n",
      "  417 | 0.71593    | 0.7019    | 0.79361   | 0.6758   \n",
      "  418 | 0.72034    | 0.7001    | 0.80488   | 0.6641   \n",
      "  419 | 0.71880    | 0.7009    | 0.81494   | 0.6646   \n",
      "  420 | 0.71785    | 0.7054    | 0.81594   | 0.6553   \n",
      "  421 | 0.71861    | 0.7010    | 0.80220   | 0.6660   \n",
      "  422 | 0.71647    | 0.7025    | 0.81700   | 0.6611   \n",
      "  423 | 0.71842    | 0.7026    | 0.81347   | 0.6592   \n",
      "  424 | 0.71591    | 0.7062    | 0.80147   | 0.6670   \n",
      "  425 | 0.71471    | 0.7023    | 0.80460   | 0.6714   \n",
      "  426 | 0.71778    | 0.7045    | 0.81071   | 0.6602   \n",
      "  427 | 0.71821    | 0.7020    | 0.80610   | 0.6665   \n",
      "  428 | 0.71483    | 0.7020    | 0.80590   | 0.6636   \n",
      "  429 | 0.71405    | 0.7029    | 0.80746   | 0.6631   \n",
      "  430 | 0.71625    | 0.7049    | 0.81341   | 0.6562   \n",
      "  431 | 0.72489    | 0.6994    | 0.80484   | 0.6660   \n",
      "  432 | 0.71494    | 0.7049    | 0.81619   | 0.6611   \n",
      "  433 | 0.71918    | 0.7022    | 0.79716   | 0.6685   \n",
      "  434 | 0.71662    | 0.7031    | 0.81740   | 0.6699   \n",
      "  435 | 0.72207    | 0.6988    | 0.80506   | 0.6733   \n",
      "  436 | 0.71797    | 0.7035    | 0.80126   | 0.6719   \n",
      "  437 | 0.71472    | 0.7039    | 0.78824   | 0.6787   \n",
      "  438 | 0.71911    | 0.7051    | 0.80307   | 0.6699   \n",
      "  439 | 0.71848    | 0.7012    | 0.79996   | 0.6675   \n",
      "  440 | 0.71559    | 0.7037    | 0.80076   | 0.6670   \n",
      "  441 | 0.72713    | 0.7008    | 0.80891   | 0.6650   \n",
      "  442 | 0.72362    | 0.6993    | 0.81742   | 0.6631   \n",
      "  443 | 0.72037    | 0.7039    | 0.81022   | 0.6650   \n",
      "  444 | 0.72541    | 0.7008    | 0.82106   | 0.6699   \n",
      "  445 | 0.71954    | 0.7004    | 0.79797   | 0.6650   \n",
      "  446 | 0.72119    | 0.7015    | 0.80148   | 0.6689   \n",
      "  447 | 0.71878    | 0.7040    | 0.82792   | 0.6562   \n",
      "  448 | 0.71766    | 0.7045    | 0.79764   | 0.6694   \n",
      "  449 | 0.71467    | 0.7035    | 0.79750   | 0.6646   \n",
      "  450 | 0.71111    | 0.7039    | 0.82064   | 0.6567   \n",
      "  451 | 0.72395    | 0.7007    | 0.80014   | 0.6650   \n",
      "  452 | 0.72383    | 0.7015    | 0.82573   | 0.6616   \n",
      "  453 | 0.72949    | 0.6964    | 0.80768   | 0.6670   \n",
      "  454 | 0.72309    | 0.7008    | 0.81797   | 0.6592   \n",
      "  455 | 0.71924    | 0.7004    | 0.80037   | 0.6665   \n",
      "  456 | 0.71376    | 0.7042    | 0.80963   | 0.6675   \n",
      "  457 | 0.71232    | 0.7062    | 0.79673   | 0.6694   \n",
      "  458 | 0.71567    | 0.7034    | 0.80429   | 0.6729   \n",
      "  459 | 0.71832    | 0.7025    | 0.79651   | 0.6709   \n",
      "  460 | 0.71991    | 0.7034    | 0.80989   | 0.6636   \n",
      "  461 | 0.71476    | 0.7058    | 0.82777   | 0.6616   \n",
      "  462 | 0.72731    | 0.6983    | 0.80640   | 0.6655   \n",
      "  463 | 0.71853    | 0.7011    | 0.80887   | 0.6587   \n",
      "  464 | 0.71972    | 0.7017    | 0.79750   | 0.6636   \n",
      "  465 | 0.71831    | 0.7004    | 0.81927   | 0.6665   \n",
      "  466 | 0.72711    | 0.6982    | 0.81638   | 0.6699   \n",
      "  467 | 0.72796    | 0.6981    | 0.84211   | 0.6514   \n",
      "  468 | 0.73017    | 0.6943    | 0.79852   | 0.6685   \n",
      "  469 | 0.71274    | 0.7047    | 0.79145   | 0.6699   \n",
      "  470 | 0.71397    | 0.7028    | 0.82150   | 0.6602   \n",
      "  471 | 0.71390    | 0.7032    | 0.79769   | 0.6699   \n",
      "  472 | 0.71527    | 0.7054    | 0.81475   | 0.6626   \n",
      "  473 | 0.71659    | 0.7034    | 0.80733   | 0.6709   \n",
      "  474 | 0.71783    | 0.7015    | 0.80733   | 0.6670   \n",
      "  475 | 0.72159    | 0.7006    | 0.80254   | 0.6631   \n",
      "  476 | 0.71675    | 0.7032    | 0.81527   | 0.6641   \n",
      "  477 | 0.71592    | 0.7045    | 0.80625   | 0.6631   \n",
      "  478 | 0.71893    | 0.7017    | 0.81102   | 0.6685   \n",
      "  479 | 0.72360    | 0.7001    | 0.79415   | 0.6787   \n",
      "  480 | 0.72018    | 0.7015    | 0.79444   | 0.6685   \n",
      "  481 | 0.71776    | 0.7017    | 0.82362   | 0.6602   \n",
      "  482 | 0.71599    | 0.7034    | 0.79573   | 0.6616   \n",
      "  483 | 0.71033    | 0.7059    | 0.80897   | 0.6626   \n",
      "  484 | 0.70930    | 0.7059    | 0.79936   | 0.6685   \n",
      "  485 | 0.71395    | 0.7043    | 0.80933   | 0.6646   \n",
      "  486 | 0.71054    | 0.7069    | 0.79698   | 0.6650   \n",
      "  487 | 0.70984    | 0.7049    | 0.80126   | 0.6621   \n",
      "  488 | 0.70808    | 0.7059    | 0.80471   | 0.6646   \n",
      "  489 | 0.70829    | 0.7070    | 0.81630   | 0.6685   \n",
      "  490 | 0.71085    | 0.7038    | 0.82189   | 0.6572   \n",
      "  491 | 0.71151    | 0.7050    | 0.80396   | 0.6704   \n",
      "  492 | 0.71313    | 0.7039    | 0.80711   | 0.6670   \n",
      "  493 | 0.71624    | 0.7039    | 0.82049   | 0.6675   \n",
      "  494 | 0.71989    | 0.7023    | 0.81252   | 0.6655   \n",
      "  495 | 0.72254    | 0.6977    | 0.81117   | 0.6606   \n",
      "  496 | 0.71433    | 0.7032    | 0.79986   | 0.6675   \n",
      "  497 | 0.70900    | 0.7061    | 0.79660   | 0.6665   \n",
      "  498 | 0.71814    | 0.7050    | 0.80970   | 0.6592   \n",
      "  499 | 0.72101    | 0.7021    | 0.81319   | 0.6538   \n",
      "  500 | 0.71974    | 0.7004    | 0.79949   | 0.6641   \n",
      "  501 | 0.71394    | 0.7020    | 0.79778   | 0.6670   \n",
      "  502 | 0.70989    | 0.7050    | 0.80461   | 0.6694   \n",
      "  503 | 0.71197    | 0.7029    | 0.79914   | 0.6646   \n",
      "  504 | 0.71268    | 0.7029    | 0.79953   | 0.6719   \n",
      "  505 | 0.71230    | 0.7033    | 0.80929   | 0.6641   \n",
      "  506 | 0.71170    | 0.7054    | 0.79545   | 0.6689   \n",
      "  507 | 0.71100    | 0.7069    | 0.79674   | 0.6689   \n",
      "  508 | 0.70950    | 0.7058    | 0.81710   | 0.6597   \n",
      "  509 | 0.71164    | 0.7043    | 0.79081   | 0.6650   \n",
      "  510 | 0.70901    | 0.7064    | 0.80785   | 0.6675   \n",
      "  511 | 0.71710    | 0.7017    | 0.81265   | 0.6685   \n",
      "  512 | 0.71729    | 0.7039    | 0.82879   | 0.6597   \n",
      "  513 | 0.72450    | 0.6983    | 0.81750   | 0.6616   \n",
      "  514 | 0.71562    | 0.7039    | 0.79786   | 0.6655   \n",
      "  515 | 0.71311    | 0.7049    | 0.83404   | 0.6528   \n",
      "  516 | 0.72589    | 0.6985    | 0.81246   | 0.6558   \n",
      "  517 | 0.72102    | 0.6987    | 0.79816   | 0.6733   \n",
      "  518 | 0.71394    | 0.7022    | 0.81423   | 0.6660   \n",
      "  519 | 0.71277    | 0.7059    | 0.79700   | 0.6729   \n",
      "  520 | 0.70694    | 0.7048    | 0.80277   | 0.6631   \n",
      "  521 | 0.70665    | 0.7085    | 0.78993   | 0.6724   \n",
      "  522 | 0.70459    | 0.7065    | 0.80754   | 0.6514   \n",
      "  523 | 0.70720    | 0.7049    | 0.79997   | 0.6611   \n",
      "  524 | 0.71403    | 0.7021    | 0.79100   | 0.6685   \n",
      "  525 | 0.71419    | 0.7039    | 0.81963   | 0.6631   \n",
      "  526 | 0.71551    | 0.6990    | 0.79130   | 0.6655   \n",
      "  527 | 0.71099    | 0.7056    | 0.80671   | 0.6670   \n",
      "  528 | 0.71437    | 0.7040    | 0.80338   | 0.6689   \n",
      "  529 | 0.72145    | 0.7001    | 0.82298   | 0.6616   \n",
      "  530 | 0.72926    | 0.6974    | 0.80571   | 0.6626   \n",
      "  531 | 0.72685    | 0.7003    | 0.82055   | 0.6660   \n",
      "  532 | 0.72383    | 0.7008    | 0.79394   | 0.6704   \n",
      "  533 | 0.70876    | 0.7061    | 0.80819   | 0.6577   \n",
      "  534 | 0.70653    | 0.7085    | 0.79620   | 0.6680   \n",
      "  535 | 0.70816    | 0.7061    | 0.80639   | 0.6680   \n",
      "  536 | 0.70942    | 0.7061    | 0.80129   | 0.6631   \n",
      "  537 | 0.71673    | 0.7026    | 0.84285   | 0.6470   \n",
      "  538 | 0.72715    | 0.6976    | 0.81570   | 0.6567   \n",
      "  539 | 0.71416    | 0.7054    | 0.80707   | 0.6577   \n",
      "  540 | 0.70998    | 0.7031    | 0.80960   | 0.6631   \n",
      "  541 | 0.71357    | 0.7020    | 0.82059   | 0.6558   \n",
      "  542 | 0.72642    | 0.6971    | 0.85583   | 0.6455   \n",
      "  543 | 0.72523    | 0.6994    | 0.81959   | 0.6548   \n",
      "  544 | 0.71907    | 0.7015    | 0.80844   | 0.6636   \n",
      "  545 | 0.70895    | 0.7074    | 0.79539   | 0.6714   \n",
      "  546 | 0.71096    | 0.7063    | 0.81223   | 0.6621   \n",
      "  547 | 0.70658    | 0.7096    | 0.79403   | 0.6680   \n",
      "  548 | 0.70997    | 0.7050    | 0.84493   | 0.6572   \n",
      "  549 | 0.71626    | 0.7034    | 0.79534   | 0.6689   \n",
      "  550 | 0.71150    | 0.7048    | 0.82677   | 0.6499   \n",
      "  551 | 0.71112    | 0.7053    | 0.79210   | 0.6675   \n",
      "  552 | 0.70267    | 0.7071    | 0.79497   | 0.6704   \n",
      "  553 | 0.70683    | 0.7062    | 0.79014   | 0.6699   \n",
      "  554 | 0.70919    | 0.7067    | 0.80690   | 0.6704   \n",
      "  555 | 0.70987    | 0.7059    | 0.79237   | 0.6670   \n",
      "  556 | 0.70071    | 0.7085    | 0.79642   | 0.6685   \n",
      "  557 | 0.70806    | 0.7051    | 0.78893   | 0.6729   \n",
      "  558 | 0.71041    | 0.7056    | 0.81514   | 0.6577   \n",
      "  559 | 0.71499    | 0.7031    | 0.80844   | 0.6602   \n",
      "  560 | 0.70606    | 0.7087    | 0.80188   | 0.6665   \n",
      "  561 | 0.70269    | 0.7083    | 0.79038   | 0.6743   \n",
      "  562 | 0.70137    | 0.7090    | 0.79466   | 0.6665   \n",
      "  563 | 0.70127    | 0.7114    | 0.80438   | 0.6611   \n",
      "  564 | 0.70351    | 0.7099    | 0.79813   | 0.6709   \n",
      "  565 | 0.70568    | 0.7056    | 0.79736   | 0.6665   \n",
      "  566 | 0.70585    | 0.7078    | 0.78855   | 0.6733   \n",
      "  567 | 0.70306    | 0.7084    | 0.79666   | 0.6685   \n",
      "  568 | 0.70469    | 0.7075    | 0.80627   | 0.6641   \n",
      "  569 | 0.70724    | 0.7073    | 0.79544   | 0.6650   \n",
      "  570 | 0.70485    | 0.7092    | 0.80301   | 0.6646   \n",
      "  571 | 0.70843    | 0.7050    | 0.79923   | 0.6558   \n",
      "  572 | 0.70625    | 0.7078    | 0.80061   | 0.6631   \n",
      "  573 | 0.70137    | 0.7109    | 0.80666   | 0.6694   \n",
      "  574 | 0.70504    | 0.7090    | 0.81864   | 0.6631   \n",
      "  575 | 0.70529    | 0.7071    | 0.79714   | 0.6689   \n",
      "  576 | 0.70202    | 0.7090    | 0.80681   | 0.6597   \n",
      "  577 | 0.70692    | 0.7042    | 0.79678   | 0.6719   \n",
      "  578 | 0.70866    | 0.7062    | 0.80780   | 0.6675   \n",
      "  579 | 0.71284    | 0.7051    | 0.81409   | 0.6685   \n",
      "  580 | 0.71653    | 0.7028    | 0.80317   | 0.6733   \n",
      "  581 | 0.72140    | 0.7017    | 0.79710   | 0.6650   \n",
      "  582 | 0.70625    | 0.7072    | 0.79560   | 0.6699   \n",
      "  583 | 0.70398    | 0.7084    | 0.80617   | 0.6675   \n",
      "  584 | 0.70475    | 0.7091    | 0.81194   | 0.6626   \n",
      "  585 | 0.70874    | 0.7081    | 0.79801   | 0.6714   \n",
      "  586 | 0.70701    | 0.7062    | 0.82314   | 0.6611   \n",
      "  587 | 0.70426    | 0.7073    | 0.78774   | 0.6748   \n",
      "  588 | 0.70204    | 0.7095    | 0.79783   | 0.6660   \n",
      "  589 | 0.70290    | 0.7100    | 0.80510   | 0.6665   \n",
      "  590 | 0.70045    | 0.7123    | 0.79517   | 0.6685   \n",
      "  591 | 0.70120    | 0.7087    | 0.80759   | 0.6631   \n",
      "  592 | 0.70374    | 0.7077    | 0.81952   | 0.6602   \n",
      "  593 | 0.70908    | 0.7064    | 0.80485   | 0.6709   \n",
      "  594 | 0.70332    | 0.7090    | 0.79773   | 0.6646   \n",
      "  595 | 0.70110    | 0.7110    | 0.79044   | 0.6694   \n",
      "  596 | 0.70789    | 0.7070    | 0.81236   | 0.6616   \n",
      "  597 | 0.70978    | 0.7056    | 0.79748   | 0.6650   \n",
      "  598 | 0.70569    | 0.7111    | 0.82219   | 0.6543   \n",
      "  599 | 0.70696    | 0.7061    | 0.79737   | 0.6694   \n",
      "  600 | 0.70301    | 0.7073    | 0.79862   | 0.6694   \n",
      "  601 | 0.70822    | 0.7051    | 0.81198   | 0.6719   \n",
      "  602 | 0.70541    | 0.7090    | 0.79929   | 0.6650   \n",
      "  603 | 0.70947    | 0.7054    | 0.80211   | 0.6694   \n",
      "  604 | 0.70899    | 0.7041    | 0.80110   | 0.6636   \n",
      "  605 | 0.70789    | 0.7071    | 0.80228   | 0.6685   \n",
      "  606 | 0.71291    | 0.7039    | 0.80534   | 0.6646   \n",
      "  607 | 0.70977    | 0.7055    | 0.80213   | 0.6665   \n",
      "  608 | 0.71572    | 0.7018    | 0.79452   | 0.6650   \n",
      "  609 | 0.70054    | 0.7112    | 0.79378   | 0.6689   \n",
      "  610 | 0.70153    | 0.7073    | 0.79255   | 0.6685   \n",
      "  611 | 0.70448    | 0.7073    | 0.80398   | 0.6670   \n",
      "  612 | 0.70350    | 0.7076    | 0.78972   | 0.6670   \n",
      "  613 | 0.70324    | 0.7081    | 0.79958   | 0.6616   \n",
      "  614 | 0.70137    | 0.7079    | 0.79624   | 0.6602   \n",
      "  615 | 0.70061    | 0.7090    | 0.79188   | 0.6660   \n",
      "  616 | 0.70165    | 0.7085    | 0.79339   | 0.6694   \n",
      "  617 | 0.70452    | 0.7057    | 0.81432   | 0.6646   \n",
      "  618 | 0.71187    | 0.7043    | 0.82060   | 0.6675   \n",
      "  619 | 0.71455    | 0.7051    | 0.81347   | 0.6636   \n",
      "  620 | 0.71166    | 0.7076    | 0.79936   | 0.6709   \n",
      "  621 | 0.72067    | 0.7000    | 0.80399   | 0.6694   \n",
      "  622 | 0.71887    | 0.7023    | 0.80493   | 0.6646   \n",
      "  623 | 0.72052    | 0.6990    | 0.81547   | 0.6631   \n",
      "  624 | 0.71946    | 0.6977    | 0.81969   | 0.6646   \n",
      "  625 | 0.71218    | 0.7069    | 0.81441   | 0.6577   \n",
      "  626 | 0.70407    | 0.7094    | 0.81720   | 0.6616   \n",
      "  627 | 0.70333    | 0.7084    | 0.79892   | 0.6660   \n",
      "  628 | 0.70455    | 0.7087    | 0.78926   | 0.6719   \n",
      "  629 | 0.70174    | 0.7095    | 0.79461   | 0.6587   \n",
      "  630 | 0.70134    | 0.7068    | 0.79184   | 0.6719   \n",
      "  631 | 0.70075    | 0.7089    | 0.79470   | 0.6729   \n",
      "  632 | 0.70176    | 0.7091    | 0.79956   | 0.6772   \n",
      "  633 | 0.70226    | 0.7082    | 0.79511   | 0.6689   \n",
      "  634 | 0.69739    | 0.7117    | 0.79006   | 0.6724   \n",
      "  635 | 0.69820    | 0.7115    | 0.79001   | 0.6719   \n",
      "  636 | 0.69812    | 0.7119    | 0.79238   | 0.6646   \n",
      "  637 | 0.70178    | 0.7087    | 0.79914   | 0.6611   \n",
      "  638 | 0.70683    | 0.7047    | 0.80365   | 0.6709   \n",
      "  639 | 0.70209    | 0.7090    | 0.79227   | 0.6694   \n",
      "  640 | 0.69909    | 0.7101    | 0.78955   | 0.6694   \n",
      "  641 | 0.69895    | 0.7111    | 0.80446   | 0.6646   \n",
      "  642 | 0.70069    | 0.7088    | 0.79976   | 0.6714   \n",
      "  643 | 0.70142    | 0.7090    | 0.79182   | 0.6758   \n",
      "  644 | 0.69739    | 0.7114    | 0.79175   | 0.6680   \n",
      "  645 | 0.69884    | 0.7105    | 0.79472   | 0.6772   \n",
      "  646 | 0.70535    | 0.7071    | 0.80231   | 0.6660   \n",
      "  647 | 0.70685    | 0.7054    | 0.81398   | 0.6621   \n",
      "  648 | 0.70806    | 0.7081    | 0.81376   | 0.6655   \n",
      "  649 | 0.70402    | 0.7089    | 0.79653   | 0.6650   \n",
      "  650 | 0.70219    | 0.7094    | 0.82733   | 0.6562   \n",
      "  651 | 0.70730    | 0.7070    | 0.80253   | 0.6646   \n",
      "  652 | 0.70078    | 0.7086    | 0.80699   | 0.6650   \n",
      "  653 | 0.69629    | 0.7112    | 0.78901   | 0.6719   \n",
      "  654 | 0.69808    | 0.7089    | 0.79979   | 0.6680   \n",
      "  655 | 0.70300    | 0.7086    | 0.81293   | 0.6606   \n",
      "  656 | 0.70310    | 0.7086    | 0.79125   | 0.6797   \n",
      "  657 | 0.70365    | 0.7090    | 0.79827   | 0.6719   \n",
      "  658 | 0.70107    | 0.7100    | 0.80736   | 0.6699   \n",
      "  659 | 0.70753    | 0.7052    | 0.79699   | 0.6675   \n",
      "  660 | 0.70374    | 0.7086    | 0.80553   | 0.6694   \n",
      "  661 | 0.69820    | 0.7108    | 0.80609   | 0.6650   \n",
      "  662 | 0.70064    | 0.7089    | 0.78397   | 0.6724   \n",
      "  663 | 0.70570    | 0.7092    | 0.81945   | 0.6729   \n",
      "  664 | 0.71427    | 0.7050    | 0.80246   | 0.6738   \n",
      "  665 | 0.70455    | 0.7082    | 0.80716   | 0.6621   \n",
      "  666 | 0.69842    | 0.7106    | 0.80393   | 0.6743   \n",
      "  667 | 0.69516    | 0.7122    | 0.80770   | 0.6670   \n",
      "  668 | 0.70397    | 0.7078    | 0.79155   | 0.6704   \n",
      "  669 | 0.71005    | 0.7067    | 0.79159   | 0.6665   \n",
      "  670 | 0.71320    | 0.7053    | 0.80859   | 0.6592   \n",
      "  671 | 0.71199    | 0.7041    | 0.79847   | 0.6704   \n",
      "  672 | 0.70835    | 0.7048    | 0.80826   | 0.6660   \n",
      "  673 | 0.69742    | 0.7117    | 0.79288   | 0.6689   \n",
      "  674 | 0.69361    | 0.7126    | 0.80228   | 0.6670   \n",
      "  675 | 0.69339    | 0.7130    | 0.78646   | 0.6753   \n",
      "  676 | 0.69659    | 0.7102    | 0.79657   | 0.6753   \n",
      "  677 | 0.69657    | 0.7115    | 0.79820   | 0.6704   \n",
      "  678 | 0.70258    | 0.7070    | 0.80725   | 0.6611   \n",
      "  679 | 0.70156    | 0.7104    | 0.80364   | 0.6631   \n",
      "  680 | 0.69749    | 0.7106    | 0.80815   | 0.6689   \n",
      "  681 | 0.69987    | 0.7115    | 0.80421   | 0.6670   \n",
      "  682 | 0.69756    | 0.7102    | 0.80466   | 0.6738   \n",
      "  683 | 0.70367    | 0.7045    | 0.79460   | 0.6812   \n",
      "  684 | 0.69656    | 0.7125    | 0.79089   | 0.6729   \n",
      "  685 | 0.69665    | 0.7113    | 0.80271   | 0.6660   \n",
      "  686 | 0.69432    | 0.7127    | 0.78663   | 0.6802   \n",
      "  687 | 0.69169    | 0.7159    | 0.79450   | 0.6680   \n",
      "  688 | 0.69475    | 0.7136    | 0.79143   | 0.6729   \n",
      "  689 | 0.69444    | 0.7146    | 0.80525   | 0.6699   \n",
      "  690 | 0.69965    | 0.7108    | 0.79941   | 0.6660   \n",
      "  691 | 0.69689    | 0.7102    | 0.79722   | 0.6792   \n",
      "  692 | 0.70144    | 0.7097    | 0.79003   | 0.6729   \n",
      "  693 | 0.70296    | 0.7084    | 0.78580   | 0.6753   \n",
      "  694 | 0.69590    | 0.7109    | 0.79393   | 0.6729   \n",
      "  695 | 0.69942    | 0.7110    | 0.79188   | 0.6694   \n",
      "  696 | 0.69453    | 0.7111    | 0.80549   | 0.6689   \n",
      "  697 | 0.69774    | 0.7103    | 0.79643   | 0.6660   \n",
      "  698 | 0.70247    | 0.7078    | 0.78973   | 0.6719   \n",
      "  699 | 0.70321    | 0.7092    | 0.79931   | 0.6738   \n",
      "  700 | 0.70108    | 0.7087    | 0.79642   | 0.6709   \n",
      "  701 | 0.69732    | 0.7111    | 0.79908   | 0.6655   \n",
      "  702 | 0.69169    | 0.7126    | 0.79539   | 0.6670   \n",
      "  703 | 0.69077    | 0.7119    | 0.79062   | 0.6738   \n",
      "  704 | 0.69424    | 0.7114    | 0.80258   | 0.6655   \n",
      "  705 | 0.69709    | 0.7103    | 0.79228   | 0.6621   \n",
      "  706 | 0.69610    | 0.7104    | 0.79175   | 0.6753   \n",
      "  707 | 0.69752    | 0.7123    | 0.80303   | 0.6709   \n",
      "  708 | 0.69647    | 0.7146    | 0.81014   | 0.6685   \n",
      "  709 | 0.69927    | 0.7071    | 0.81143   | 0.6641   \n",
      "  710 | 0.70120    | 0.7096    | 0.85665   | 0.6528   \n",
      "  711 | 0.70902    | 0.7068    | 0.80259   | 0.6646   \n",
      "  712 | 0.69969    | 0.7108    | 0.80611   | 0.6685   \n",
      "  713 | 0.69687    | 0.7109    | 0.79193   | 0.6655   \n",
      "  714 | 0.70019    | 0.7107    | 0.80015   | 0.6719   \n",
      "  715 | 0.70126    | 0.7103    | 0.79269   | 0.6714   \n",
      "  716 | 0.69947    | 0.7093    | 0.81170   | 0.6641   \n",
      "  717 | 0.70305    | 0.7089    | 0.82227   | 0.6631   \n",
      "  718 | 0.70679    | 0.7072    | 0.81000   | 0.6597   \n",
      "  719 | 0.71633    | 0.7027    | 0.82604   | 0.6499   \n",
      "  720 | 0.71926    | 0.7031    | 0.79637   | 0.6704   \n",
      "  721 | 0.70348    | 0.7099    | 0.81018   | 0.6621   \n",
      "  722 | 0.70266    | 0.7084    | 0.79403   | 0.6665   \n",
      "  723 | 0.69708    | 0.7101    | 0.79832   | 0.6650   \n",
      "  724 | 0.69539    | 0.7130    | 0.79708   | 0.6733   \n",
      "  725 | 0.69882    | 0.7103    | 0.79388   | 0.6724   \n",
      "  726 | 0.70189    | 0.7096    | 0.79550   | 0.6772   \n",
      "  727 | 0.70028    | 0.7098    | 0.81141   | 0.6538   \n",
      "  728 | 0.70777    | 0.7076    | 0.80078   | 0.6655   \n",
      "  729 | 0.70315    | 0.7081    | 0.80402   | 0.6704   \n",
      "  730 | 0.70672    | 0.7070    | 0.79473   | 0.6680   \n",
      "  731 | 0.71037    | 0.7013    | 0.81045   | 0.6665   \n",
      "  732 | 0.70015    | 0.7101    | 0.79585   | 0.6719   \n",
      "  733 | 0.70184    | 0.7089    | 0.80483   | 0.6689   \n",
      "  734 | 0.69956    | 0.7093    | 0.79805   | 0.6646   \n",
      "  735 | 0.69806    | 0.7133    | 0.80263   | 0.6655   \n",
      "  736 | 0.69809    | 0.7090    | 0.80413   | 0.6709   \n",
      "  737 | 0.69635    | 0.7122    | 0.79661   | 0.6685   \n",
      "  738 | 0.69322    | 0.7126    | 0.78931   | 0.6704   \n",
      "  739 | 0.69273    | 0.7147    | 0.80300   | 0.6650   \n",
      "  740 | 0.69816    | 0.7126    | 0.80276   | 0.6709   \n",
      "  741 | 0.69985    | 0.7108    | 0.79062   | 0.6714   \n",
      "  742 | 0.69397    | 0.7122    | 0.78533   | 0.6777   \n",
      "  743 | 0.69528    | 0.7119    | 0.80032   | 0.6689   \n",
      "  744 | 0.69256    | 0.7120    | 0.79605   | 0.6650   \n",
      "  745 | 0.69280    | 0.7139    | 0.80348   | 0.6626   \n",
      "  746 | 0.69173    | 0.7138    | 0.80786   | 0.6738   \n",
      "  747 | 0.69307    | 0.7135    | 0.80639   | 0.6709   \n",
      "  748 | 0.69088    | 0.7133    | 0.80027   | 0.6655   \n",
      "  749 | 0.69562    | 0.7111    | 0.80985   | 0.6636   \n",
      "  750 | 0.70106    | 0.7067    | 0.79407   | 0.6714   \n",
      "  751 | 0.69847    | 0.7098    | 0.80978   | 0.6621   \n",
      "  752 | 0.69765    | 0.7114    | 0.79118   | 0.6665   \n",
      "  753 | 0.69790    | 0.7089    | 0.78941   | 0.6748   \n",
      "  754 | 0.69529    | 0.7104    | 0.81531   | 0.6699   \n",
      "  755 | 0.70654    | 0.7089    | 0.79840   | 0.6694   \n",
      "  756 | 0.70727    | 0.7053    | 0.82837   | 0.6660   \n",
      "  757 | 0.70280    | 0.7090    | 0.79302   | 0.6802   \n",
      "  758 | 0.69902    | 0.7112    | 0.81122   | 0.6680   \n",
      "  759 | 0.71293    | 0.7036    | 0.81919   | 0.6572   \n",
      "  760 | 0.70500    | 0.7100    | 0.80149   | 0.6636   \n",
      "  761 | 0.69256    | 0.7134    | 0.82331   | 0.6592   \n",
      "  762 | 0.69989    | 0.7090    | 0.81443   | 0.6675   \n",
      "  763 | 0.70010    | 0.7078    | 0.81308   | 0.6655   \n",
      "  764 | 0.69788    | 0.7092    | 0.80562   | 0.6729   \n",
      "  765 | 0.69749    | 0.7124    | 0.81371   | 0.6675   \n",
      "  766 | 0.70158    | 0.7088    | 0.80923   | 0.6665   \n",
      "  767 | 0.70231    | 0.7103    | 0.79314   | 0.6689   \n",
      "  768 | 0.70454    | 0.7061    | 0.79343   | 0.6733   \n",
      "  769 | 0.70455    | 0.7090    | 0.79953   | 0.6753   \n",
      "  770 | 0.69997    | 0.7104    | 0.78977   | 0.6743   \n",
      "  771 | 0.69454    | 0.7125    | 0.79962   | 0.6724   \n",
      "  772 | 0.69621    | 0.7126    | 0.80285   | 0.6738   \n",
      "  773 | 0.69838    | 0.7120    | 0.83181   | 0.6577   \n",
      "  774 | 0.69257    | 0.7117    | 0.80215   | 0.6631   \n",
      "  775 | 0.68939    | 0.7167    | 0.80161   | 0.6675   \n",
      "  776 | 0.68904    | 0.7156    | 0.78798   | 0.6719   \n",
      "  777 | 0.68842    | 0.7131    | 0.79919   | 0.6611   \n",
      "  778 | 0.68839    | 0.7136    | 0.78528   | 0.6733   \n",
      "  779 | 0.69195    | 0.7148    | 0.79257   | 0.6738   \n",
      "  780 | 0.68932    | 0.7151    | 0.79866   | 0.6704   \n",
      "  781 | 0.69208    | 0.7151    | 0.80366   | 0.6743   \n",
      "  782 | 0.69054    | 0.7141    | 0.79449   | 0.6641   \n",
      "  783 | 0.69017    | 0.7133    | 0.79264   | 0.6753   \n",
      "  784 | 0.69350    | 0.7130    | 0.80289   | 0.6675   \n",
      "  785 | 0.69186    | 0.7144    | 0.80012   | 0.6626   \n",
      "  786 | 0.69448    | 0.7109    | 0.78994   | 0.6709   \n",
      "  787 | 0.68890    | 0.7146    | 0.79128   | 0.6729   \n",
      "  788 | 0.69369    | 0.7138    | 0.79308   | 0.6704   \n",
      "  789 | 0.69189    | 0.7140    | 0.80646   | 0.6660   \n",
      "  790 | 0.69584    | 0.7098    | 0.79228   | 0.6812   \n",
      "  791 | 0.69762    | 0.7095    | 0.81857   | 0.6641   \n",
      "  792 | 0.69033    | 0.7141    | 0.79493   | 0.6675   \n",
      "  793 | 0.69106    | 0.7128    | 0.78964   | 0.6704   \n",
      "  794 | 0.69314    | 0.7126    | 0.79375   | 0.6699   \n",
      "  795 | 0.68935    | 0.7158    | 0.79505   | 0.6733   \n",
      "  796 | 0.70056    | 0.7084    | 0.79577   | 0.6733   \n",
      "  797 | 0.70015    | 0.7113    | 0.82190   | 0.6582   \n",
      "  798 | 0.69747    | 0.7112    | 0.80852   | 0.6641   \n",
      "  799 | 0.69565    | 0.7133    | 0.79105   | 0.6704   \n",
      "  800 | 0.69006    | 0.7135    | 0.79901   | 0.6665   \n",
      "  801 | 0.69749    | 0.7109    | 0.80558   | 0.6709   \n",
      "  802 | 0.69018    | 0.7147    | 0.82074   | 0.6694   \n",
      "  803 | 0.70061    | 0.7104    | 0.81022   | 0.6660   \n",
      "  804 | 0.69262    | 0.7143    | 0.79014   | 0.6724   \n",
      "  805 | 0.69028    | 0.7124    | 0.78999   | 0.6675   \n",
      "  806 | 0.69434    | 0.7098    | 0.81582   | 0.6655   \n",
      "  807 | 0.69219    | 0.7122    | 0.78852   | 0.6777   \n",
      "  808 | 0.69029    | 0.7139    | 0.79335   | 0.6743   \n",
      "  809 | 0.69276    | 0.7141    | 0.79265   | 0.6670   \n",
      "  810 | 0.69267    | 0.7150    | 0.81252   | 0.6699   \n",
      "  811 | 0.70849    | 0.7069    | 0.83372   | 0.6621   \n",
      "  812 | 0.71656    | 0.7043    | 0.82680   | 0.6616   \n",
      "  813 | 0.70502    | 0.7067    | 0.82594   | 0.6597   \n",
      "  814 | 0.69477    | 0.7139    | 0.79982   | 0.6636   \n",
      "  815 | 0.68978    | 0.7133    | 0.79495   | 0.6738   \n",
      "  816 | 0.68910    | 0.7138    | 0.79116   | 0.6802   \n",
      "  817 | 0.68905    | 0.7145    | 0.79094   | 0.6777   \n",
      "  818 | 0.69734    | 0.7139    | 0.78998   | 0.6670   \n",
      "  819 | 0.69981    | 0.7106    | 0.80860   | 0.6592   \n",
      "  820 | 0.69312    | 0.7130    | 0.78601   | 0.6748   \n",
      "  821 | 0.69027    | 0.7135    | 0.79192   | 0.6719   \n",
      "  822 | 0.68614    | 0.7177    | 0.78865   | 0.6753   \n",
      "  823 | 0.68881    | 0.7137    | 0.79967   | 0.6763   \n",
      "  824 | 0.69287    | 0.7110    | 0.80108   | 0.6660   \n",
      "  825 | 0.68679    | 0.7158    | 0.78627   | 0.6709   \n",
      "  826 | 0.68808    | 0.7119    | 0.79057   | 0.6729   \n",
      "  827 | 0.68733    | 0.7155    | 0.78566   | 0.6772   \n",
      "  828 | 0.68434    | 0.7164    | 0.78795   | 0.6733   \n",
      "  829 | 0.68817    | 0.7145    | 0.79852   | 0.6777   \n",
      "  830 | 0.68797    | 0.7170    | 0.80011   | 0.6689   \n",
      "  831 | 0.68570    | 0.7167    | 0.79551   | 0.6729   \n",
      "  832 | 0.69078    | 0.7137    | 0.78468   | 0.6729   \n",
      "  833 | 0.68966    | 0.7131    | 0.79216   | 0.6743   \n",
      "  834 | 0.68735    | 0.7174    | 0.79631   | 0.6753   \n",
      "  835 | 0.68902    | 0.7145    | 0.80382   | 0.6733   \n",
      "  836 | 0.68866    | 0.7161    | 0.79169   | 0.6763   \n",
      "  837 | 0.68598    | 0.7155    | 0.79620   | 0.6763   \n",
      "  838 | 0.68804    | 0.7117    | 0.79642   | 0.6763   \n",
      "  839 | 0.68740    | 0.7148    | 0.79916   | 0.6694   \n",
      "  840 | 0.68408    | 0.7159    | 0.80137   | 0.6714   \n",
      "  841 | 0.68842    | 0.7147    | 0.79751   | 0.6753   \n",
      "  842 | 0.68902    | 0.7163    | 0.80025   | 0.6699   \n",
      "  843 | 0.69354    | 0.7130    | 0.79682   | 0.6787   \n",
      "  844 | 0.69254    | 0.7117    | 0.80418   | 0.6660   \n",
      "  845 | 0.69809    | 0.7114    | 0.80548   | 0.6655   \n",
      "  846 | 0.69918    | 0.7100    | 0.80361   | 0.6685   \n",
      "  847 | 0.69954    | 0.7128    | 0.80902   | 0.6660   \n",
      "  848 | 0.68862    | 0.7145    | 0.79770   | 0.6719   \n",
      "  849 | 0.69127    | 0.7120    | 0.78818   | 0.6782   \n",
      "  850 | 0.69416    | 0.7120    | 0.81971   | 0.6592   \n",
      "  851 | 0.69999    | 0.7103    | 0.79574   | 0.6704   \n",
      "  852 | 0.69562    | 0.7120    | 0.81592   | 0.6655   \n",
      "  853 | 0.68898    | 0.7153    | 0.79544   | 0.6685   \n",
      "  854 | 0.69051    | 0.7136    | 0.79298   | 0.6694   \n",
      "  855 | 0.68677    | 0.7178    | 0.80001   | 0.6724   \n",
      "  856 | 0.69033    | 0.7134    | 0.80070   | 0.6704   \n",
      "  857 | 0.69197    | 0.7102    | 0.80839   | 0.6670   \n",
      "  858 | 0.70284    | 0.7094    | 0.80894   | 0.6660   \n",
      "  859 | 0.69812    | 0.7117    | 0.80102   | 0.6670   \n",
      "  860 | 0.69970    | 0.7126    | 0.80072   | 0.6641   \n",
      "  861 | 0.69848    | 0.7112    | 0.82137   | 0.6558   \n",
      "  862 | 0.69875    | 0.7104    | 0.84645   | 0.6523   \n",
      "  863 | 0.70796    | 0.7065    | 0.81139   | 0.6650   \n",
      "  864 | 0.69577    | 0.7122    | 0.79845   | 0.6719   \n",
      "  865 | 0.68714    | 0.7141    | 0.78541   | 0.6758   \n",
      "  866 | 0.68475    | 0.7158    | 0.78767   | 0.6719   \n",
      "  867 | 0.68516    | 0.7171    | 0.80001   | 0.6748   \n",
      "  868 | 0.69013    | 0.7153    | 0.79124   | 0.6694   \n",
      "  869 | 0.68609    | 0.7146    | 0.81614   | 0.6636   \n",
      "  870 | 0.69094    | 0.7139    | 0.80176   | 0.6699   \n",
      "  871 | 0.68858    | 0.7151    | 0.80028   | 0.6743   \n",
      "  872 | 0.69087    | 0.7136    | 0.80116   | 0.6738   \n",
      "  873 | 0.68489    | 0.7183    | 0.80717   | 0.6626   \n",
      "  874 | 0.68733    | 0.7126    | 0.79221   | 0.6743   \n",
      "  875 | 0.69204    | 0.7117    | 0.80179   | 0.6787   \n",
      "  876 | 0.68922    | 0.7131    | 0.79008   | 0.6782   \n",
      "  877 | 0.68937    | 0.7151    | 0.78779   | 0.6694   \n",
      "  878 | 0.68837    | 0.7151    | 0.79557   | 0.6748   \n",
      "  879 | 0.68552    | 0.7178    | 0.79482   | 0.6675   \n",
      "  880 | 0.68626    | 0.7144    | 0.79140   | 0.6743   \n",
      "  881 | 0.68362    | 0.7157    | 0.79353   | 0.6763   \n",
      "  882 | 0.68472    | 0.7158    | 0.80754   | 0.6689   \n",
      "  883 | 0.68824    | 0.7156    | 0.79628   | 0.6748   \n",
      "  884 | 0.68741    | 0.7151    | 0.82153   | 0.6631   \n",
      "  885 | 0.69878    | 0.7101    | 0.80632   | 0.6738   \n",
      "  886 | 0.69831    | 0.7094    | 0.81510   | 0.6680   \n",
      "  887 | 0.69412    | 0.7127    | 0.81529   | 0.6670   \n",
      "  888 | 0.69402    | 0.7124    | 0.81471   | 0.6699   \n",
      "  889 | 0.68849    | 0.7151    | 0.80137   | 0.6709   \n",
      "  890 | 0.68737    | 0.7164    | 0.79905   | 0.6699   \n",
      "  891 | 0.69628    | 0.7134    | 0.79753   | 0.6685   \n",
      "  892 | 0.69647    | 0.7111    | 0.80598   | 0.6719   \n",
      "  893 | 0.68799    | 0.7175    | 0.79317   | 0.6777   \n",
      "  894 | 0.68743    | 0.7143    | 0.79950   | 0.6729   \n",
      "  895 | 0.69090    | 0.7106    | 0.78347   | 0.6704   \n",
      "  896 | 0.68684    | 0.7162    | 0.81523   | 0.6636   \n",
      "  897 | 0.69381    | 0.7092    | 0.80609   | 0.6650   \n",
      "  898 | 0.69264    | 0.7117    | 0.80037   | 0.6797   \n",
      "  899 | 0.69172    | 0.7142    | 0.79608   | 0.6709   \n",
      "  900 | 0.68993    | 0.7155    | 0.80458   | 0.6685   \n",
      "  901 | 0.68342    | 0.7147    | 0.78818   | 0.6787   \n",
      "  902 | 0.68529    | 0.7173    | 0.79015   | 0.6802   \n",
      "  903 | 0.68553    | 0.7152    | 0.80716   | 0.6699   \n",
      "  904 | 0.68998    | 0.7141    | 0.81459   | 0.6743   \n",
      "  905 | 0.68415    | 0.7188    | 0.79039   | 0.6816   \n",
      "  906 | 0.68342    | 0.7172    | 0.78963   | 0.6738   \n",
      "  907 | 0.67976    | 0.7182    | 0.80250   | 0.6714   \n",
      "  908 | 0.68285    | 0.7184    | 0.80012   | 0.6660   \n",
      "  909 | 0.68572    | 0.7184    | 0.80234   | 0.6689   \n",
      "  910 | 0.68794    | 0.7165    | 0.80745   | 0.6689   \n",
      "  911 | 0.68868    | 0.7153    | 0.80304   | 0.6733   \n",
      "  912 | 0.68286    | 0.7173    | 0.79977   | 0.6660   \n",
      "  913 | 0.68535    | 0.7171    | 0.79830   | 0.6753   \n",
      "  914 | 0.68504    | 0.7160    | 0.80132   | 0.6641   \n",
      "  915 | 0.68440    | 0.7150    | 0.80725   | 0.6675   \n",
      "  916 | 0.68144    | 0.7196    | 0.79457   | 0.6699   \n",
      "  917 | 0.68333    | 0.7157    | 0.79866   | 0.6729   \n",
      "  918 | 0.68107    | 0.7188    | 0.79860   | 0.6680   \n",
      "  919 | 0.68368    | 0.7180    | 0.80965   | 0.6660   \n",
      "  920 | 0.68940    | 0.7142    | 0.80064   | 0.6709   \n",
      "  921 | 0.69469    | 0.7095    | 0.78727   | 0.6836   \n",
      "  922 | 0.69295    | 0.7138    | 0.78948   | 0.6763   \n",
      "  923 | 0.68745    | 0.7160    | 0.79071   | 0.6787   \n",
      "  924 | 0.68409    | 0.7158    | 0.78772   | 0.6846   \n",
      "  925 | 0.68222    | 0.7165    | 0.79739   | 0.6772   \n",
      "  926 | 0.68582    | 0.7156    | 0.78716   | 0.6743   \n",
      "  927 | 0.68615    | 0.7151    | 0.80252   | 0.6777   \n",
      "  928 | 0.69139    | 0.7152    | 0.80545   | 0.6699   \n",
      "  929 | 0.69026    | 0.7138    | 0.81350   | 0.6689   \n",
      "  930 | 0.68638    | 0.7157    | 0.78997   | 0.6802   \n",
      "  931 | 0.68960    | 0.7133    | 0.79483   | 0.6719   \n",
      "  932 | 0.69060    | 0.7123    | 0.80395   | 0.6694   \n",
      "  933 | 0.68881    | 0.7134    | 0.79103   | 0.6689   \n",
      "  934 | 0.68634    | 0.7155    | 0.79505   | 0.6704   \n",
      "  935 | 0.68927    | 0.7138    | 0.79551   | 0.6738   \n",
      "  936 | 0.68683    | 0.7160    | 0.79459   | 0.6836   \n",
      "  937 | 0.69381    | 0.7122    | 0.82160   | 0.6675   \n",
      "  938 | 0.69154    | 0.7119    | 0.81258   | 0.6597   \n",
      "  939 | 0.69283    | 0.7123    | 0.80245   | 0.6694   \n",
      "  940 | 0.68739    | 0.7145    | 0.79731   | 0.6758   \n",
      "  941 | 0.68926    | 0.7145    | 0.79988   | 0.6724   \n",
      "  942 | 0.68780    | 0.7139    | 0.80068   | 0.6738   \n",
      "  943 | 0.68376    | 0.7150    | 0.79298   | 0.6719   \n",
      "  944 | 0.68630    | 0.7161    | 0.79790   | 0.6729   \n",
      "  945 | 0.68689    | 0.7147    | 0.80804   | 0.6743   \n",
      "  946 | 0.68622    | 0.7154    | 0.79951   | 0.6787   \n",
      "  947 | 0.68955    | 0.7123    | 0.80476   | 0.6694   \n",
      "  948 | 0.69037    | 0.7148    | 0.79159   | 0.6787   \n",
      "  949 | 0.68607    | 0.7166    | 0.80397   | 0.6689   \n",
      "  950 | 0.68124    | 0.7184    | 0.81181   | 0.6675   \n",
      "  951 | 0.68190    | 0.7175    | 0.80188   | 0.6665   \n",
      "  952 | 0.68366    | 0.7150    | 0.79875   | 0.6748   \n",
      "  953 | 0.68142    | 0.7166    | 0.79366   | 0.6738   \n",
      "  954 | 0.69158    | 0.7113    | 0.80365   | 0.6689   \n",
      "  955 | 0.69916    | 0.7100    | 0.78775   | 0.6777   \n",
      "  956 | 0.68876    | 0.7145    | 0.79621   | 0.6753   \n",
      "  957 | 0.68995    | 0.7137    | 0.81396   | 0.6660   \n",
      "  958 | 0.69048    | 0.7141    | 0.79706   | 0.6763   \n",
      "  959 | 0.68383    | 0.7192    | 0.79797   | 0.6694   \n",
      "  960 | 0.68682    | 0.7147    | 0.78770   | 0.6792   \n",
      "  961 | 0.68428    | 0.7149    | 0.79453   | 0.6792   \n",
      "  962 | 0.68502    | 0.7186    | 0.81571   | 0.6704   \n",
      "  963 | 0.68741    | 0.7150    | 0.80231   | 0.6733   \n",
      "  964 | 0.68885    | 0.7117    | 0.80127   | 0.6680   \n",
      "  965 | 0.68732    | 0.7140    | 0.79562   | 0.6753   \n",
      "  966 | 0.68605    | 0.7167    | 0.79841   | 0.6763   \n",
      "  967 | 0.68407    | 0.7163    | 0.80255   | 0.6738   \n",
      "  968 | 0.68101    | 0.7178    | 0.78737   | 0.6826   \n",
      "  969 | 0.68000    | 0.7191    | 0.80534   | 0.6748   \n",
      "  970 | 0.68281    | 0.7175    | 0.80700   | 0.6714   \n",
      "  971 | 0.69801    | 0.7097    | 0.79813   | 0.6758   \n",
      "  972 | 0.68795    | 0.7141    | 0.80837   | 0.6641   \n",
      "  973 | 0.68458    | 0.7159    | 0.79097   | 0.6782   \n",
      "  974 | 0.68236    | 0.7181    | 0.80480   | 0.6753   \n",
      "  975 | 0.68994    | 0.7151    | 0.79186   | 0.6719   \n",
      "  976 | 0.68676    | 0.7177    | 0.80607   | 0.6685   \n",
      "  977 | 0.69641    | 0.7124    | 0.81574   | 0.6602   \n",
      "  978 | 0.69130    | 0.7139    | 0.79674   | 0.6729   \n",
      "  979 | 0.68324    | 0.7164    | 0.80506   | 0.6675   \n",
      "  980 | 0.68109    | 0.7177    | 0.80370   | 0.6768   \n",
      "  981 | 0.68274    | 0.7168    | 0.79588   | 0.6772   \n",
      "  982 | 0.68835    | 0.7157    | 0.79193   | 0.6670   \n",
      "  983 | 0.69130    | 0.7129    | 0.81625   | 0.6606   \n",
      "  984 | 0.69329    | 0.7103    | 0.80889   | 0.6641   \n",
      "  985 | 0.68983    | 0.7133    | 0.81611   | 0.6611   \n",
      "  986 | 0.69332    | 0.7121    | 0.80891   | 0.6714   \n",
      "  987 | 0.69552    | 0.7107    | 0.83298   | 0.6582   \n",
      "  988 | 0.69056    | 0.7134    | 0.79492   | 0.6792   \n",
      "  989 | 0.68452    | 0.7153    | 0.79857   | 0.6724   \n",
      "  990 | 0.68168    | 0.7183    | 0.78896   | 0.6768   \n",
      "  991 | 0.68068    | 0.7166    | 0.80520   | 0.6689   \n",
      "  992 | 0.68009    | 0.7194    | 0.80746   | 0.6685   \n",
      "  993 | 0.68530    | 0.7181    | 0.79346   | 0.6763   \n",
      "  994 | 0.68444    | 0.7161    | 0.79143   | 0.6768   \n",
      "  995 | 0.68819    | 0.7139    | 0.79469   | 0.6738   \n",
      "  996 | 0.68650    | 0.7156    | 0.80711   | 0.6587   \n",
      "  997 | 0.68436    | 0.7188    | 0.80376   | 0.6738   \n",
      "  998 | 0.68506    | 0.7167    | 0.79429   | 0.6719   \n",
      "  999 | 0.68311    | 0.7156    | 0.79146   | 0.6758   \n",
      " 1000 | 0.67721    | 0.7195    | 0.79892   | 0.6719   \n",
      " 1001 | 0.67875    | 0.7176    | 0.80453   | 0.6665   \n",
      " 1002 | 0.68734    | 0.7142    | 0.81524   | 0.6704   \n",
      " 1003 | 0.68794    | 0.7145    | 0.78336   | 0.6797   \n",
      " 1004 | 0.67858    | 0.7191    | 0.80054   | 0.6738   \n",
      " 1005 | 0.68082    | 0.7152    | 0.81108   | 0.6733   \n",
      " 1006 | 0.68302    | 0.7143    | 0.80841   | 0.6704   \n",
      " 1007 | 0.68432    | 0.7144    | 0.80896   | 0.6729   \n",
      " 1008 | 0.68488    | 0.7168    | 0.80800   | 0.6797   \n",
      " 1009 | 0.68732    | 0.7163    | 0.79400   | 0.6787   \n",
      " 1010 | 0.68664    | 0.7145    | 0.80846   | 0.6680   \n"
     ]
    }
   ],
   "source": [
    "# Loop over epochs\n",
    "best_loss, best_acc, best_epoch = 10000, 0, 0\n",
    "print(f\"Epoch | Train Loss | Train Acc | Test Loss | Test Acc\")\n",
    "print(f\"-------------------------------------------------------\")\n",
    "for epoch in range(train.epochs+1000):\n",
    "    state, train_loss, train_acc = train_epoch(\n",
    "        state,\n",
    "        train_rng,\n",
    "        model_cls,\n",
    "        trainloader,\n",
    "        classification=classification,\n",
    "    )\n",
    "\n",
    "    test_loss, test_acc = validate(\n",
    "        state.params, model_cls, testloader, classification=classification\n",
    "    )\n",
    "    print(f'{epoch+1:>5} | {train_loss:.5f}{\"\":<3} | {train_acc:.4f}{\"\":<3} | {test_loss:.5f}{\"\":<2} | {test_acc:.4f}{\"\":<3}')\n"
   ],
   "metadata": {
    "collapsed": false,
    "ExecuteTime": {
     "end_time": "2024-09-06T17:38:37.486727Z",
     "start_time": "2024-09-06T17:20:28.832498Z"
    }
   },
   "id": "a628a171db70a3ad",
   "execution_count": 28
  },
  {
   "cell_type": "code",
   "outputs": [],
   "source": [
    "inference_model = model_cls(training=False)\n",
    "batch_inputs, batch_labels = next(iter(trainloader))\n",
    "logits, model_variables = inference_model.apply(\n",
    "    state.params,\n",
    "    jnp.array(batch_inputs),\n",
    "    rngs={\"dropout\": rng},\n",
    "    mutable=[\"intermediates\"],\n",
    ")"
   ],
   "metadata": {
    "collapsed": false,
    "ExecuteTime": {
     "end_time": "2024-09-06T16:53:24.159570Z",
     "start_time": "2024-09-06T16:53:23.765767Z"
    }
   },
   "id": "c3695b965d94944c",
   "execution_count": 21
  },
  {
   "cell_type": "code",
   "outputs": [
    {
     "data": {
      "text/plain": "(128, 16, 8)"
     },
     "execution_count": 73,
     "metadata": {},
     "output_type": "execute_result"
    }
   ],
   "source": [
    "logits.shape"
   ],
   "metadata": {
    "collapsed": false,
    "ExecuteTime": {
     "end_time": "2024-09-06T16:47:20.094177Z",
     "start_time": "2024-09-06T16:47:20.091201Z"
    }
   },
   "id": "b0d65c2b45af56b8",
   "execution_count": 73
  },
  {
   "cell_type": "code",
   "outputs": [
    {
     "name": "stdout",
     "output_type": "stream",
     "text": [
      "(128, 16)\n"
     ]
    }
   ],
   "source": [
    "print(f'{jnp.argmax(logits, axis=-1).shape}')"
   ],
   "metadata": {
    "collapsed": false,
    "ExecuteTime": {
     "end_time": "2024-09-06T16:47:32.870645Z",
     "start_time": "2024-09-06T16:47:32.853556Z"
    }
   },
   "id": "1b8ad3a0425d4ba5",
   "execution_count": 74
  },
  {
   "cell_type": "code",
   "outputs": [
    {
     "data": {
      "text/plain": "<Figure size 1500x600 with 10 Axes>",
      "image/png": "[encoded data removed]"
     },
     "metadata": {},
     "output_type": "display_data"
    }
   ],
   "source": [
    "# plot the 10 first examples\n",
    "import matplotlib.pyplot as plt\n",
    "fig, axs = plt.subplots(2, 5, figsize=(15, 6))\n",
    "for i in range(10):\n",
    "    axs[i // 5, i % 5].plot(jnp.argmax(logits, axis=-1)[i], label='prediction')\n",
    "    # plot the input\n",
    "    axs[i // 5, i % 5].plot(batch_inputs[i,:,0], label='input')\n",
    "    axs[i // 5, i % 5].legend()\n",
    "plt.tight_layout()\n",
    "plt.show()\n"
   ],
   "metadata": {
    "collapsed": false,
    "ExecuteTime": {
     "end_time": "2024-09-06T16:47:36.357693Z",
     "start_time": "2024-09-06T16:47:34.905656Z"
    }
   },
   "id": "df51efbdab5830cf",
   "execution_count": 75
  },
  {
   "cell_type": "code",
   "outputs": [],
   "source": [
    "# print state"
   ],
   "metadata": {
    "collapsed": false,
    "ExecuteTime": {
     "end_time": "2024-06-20T13:06:41.972324Z",
     "start_time": "2024-06-20T13:06:41.965312Z"
    }
   },
   "id": "5c00cff14ec108de",
   "execution_count": 27
  },
  {
   "cell_type": "code",
   "outputs": [
    {
     "data": {
      "text/plain": "dict_keys(['cache', 'params'])"
     },
     "execution_count": 28,
     "metadata": {},
     "output_type": "execute_result"
    }
   ],
   "source": [
    "state.params.keys()"
   ],
   "metadata": {
    "collapsed": false,
    "ExecuteTime": {
     "end_time": "2024-06-20T13:06:42.344311Z",
     "start_time": "2024-06-20T13:06:42.341206Z"
    }
   },
   "id": "9987078a5151b3b9",
   "execution_count": 28
  },
  {
   "cell_type": "code",
   "outputs": [
    {
     "data": {
      "text/plain": "dict_keys(['decoder', 'encoder', 'layers_0', 'layers_1', 'layers_2', 'layers_3'])"
     },
     "execution_count": 29,
     "metadata": {},
     "output_type": "execute_result"
    }
   ],
   "source": [
    "state.params['params'].keys()"
   ],
   "metadata": {
    "collapsed": false,
    "ExecuteTime": {
     "end_time": "2024-06-20T13:06:42.908537Z",
     "start_time": "2024-06-20T13:06:42.904346Z"
    }
   },
   "id": "be3935b92fb8e1b7",
   "execution_count": 29
  },
  {
   "cell_type": "code",
   "outputs": [
    {
     "data": {
      "text/plain": "torch.Size([128, 16, 1])"
     },
     "execution_count": 30,
     "metadata": {},
     "output_type": "execute_result"
    }
   ],
   "source": [
    "next(iter(trainloader))[0].shape"
   ],
   "metadata": {
    "collapsed": false,
    "ExecuteTime": {
     "end_time": "2024-06-20T13:06:43.425252Z",
     "start_time": "2024-06-20T13:06:43.421486Z"
    }
   },
   "id": "9a544800baf9090",
   "execution_count": 30
  },
  {
   "cell_type": "code",
   "outputs": [
    {
     "name": "stdout",
     "output_type": "stream",
     "text": [
      "(10,)\n",
      "(1, 10)\n"
     ]
    }
   ],
   "source": [
    "print(state.params['params']['encoder']['bias'].shape)\n",
    "print(state.params['params']['encoder']['kernel'].shape)\n"
   ],
   "metadata": {
    "collapsed": false,
    "ExecuteTime": {
     "end_time": "2024-06-20T13:06:44.598288Z",
     "start_time": "2024-06-20T13:06:44.592666Z"
    }
   },
   "id": "bfc5845c53db9a22",
   "execution_count": 31
  },
  {
   "cell_type": "code",
   "outputs": [
    {
     "name": "stdout",
     "output_type": "stream",
     "text": [
      "dict_keys(['norm', 'out', 'out2', 'seq'])\n"
     ]
    }
   ],
   "source": [
    "print(state.params['params']['layers_0'].keys())"
   ],
   "metadata": {
    "collapsed": false,
    "ExecuteTime": {
     "end_time": "2024-06-20T13:06:46.216265Z",
     "start_time": "2024-06-20T13:06:46.210635Z"
    }
   },
   "id": "44da05b03d7688de",
   "execution_count": 32
  },
  {
   "cell_type": "code",
   "outputs": [
    {
     "name": "stdout",
     "output_type": "stream",
     "text": [
      "dict_keys(['bias', 'scale'])\n"
     ]
    }
   ],
   "source": [
    "print(state.params['params']['layers_0']['norm'].keys())"
   ],
   "metadata": {
    "collapsed": false,
    "ExecuteTime": {
     "end_time": "2024-06-20T13:18:30.672986Z",
     "start_time": "2024-06-20T13:18:30.643478Z"
    }
   },
   "id": "f12dec0b82c28ce0",
   "execution_count": 44
  },
  {
   "cell_type": "code",
   "outputs": [
    {
     "name": "stdout",
     "output_type": "stream",
     "text": [
      "(10,)\n",
      "(10,)\n"
     ]
    }
   ],
   "source": [
    "print(state.params['params']['layers_0']['norm']['bias'].shape)\n",
    "print(state.params['params']['layers_0']['norm']['scale'].shape)"
   ],
   "metadata": {
    "collapsed": false,
    "ExecuteTime": {
     "end_time": "2024-06-20T13:18:39.291256Z",
     "start_time": "2024-06-20T13:18:39.262397Z"
    }
   },
   "id": "5c45b2f93a74ff27",
   "execution_count": 45
  },
  {
   "cell_type": "code",
   "outputs": [
    {
     "name": "stdout",
     "output_type": "stream",
     "text": [
      "dict_keys(['bias', 'kernel'])\n",
      "dict_keys(['bias', 'kernel'])\n"
     ]
    }
   ],
   "source": [
    "print(state.params['params']['layers_0']['out'].keys())\n",
    "print(state.params['params']['layers_0']['out2'].keys())"
   ],
   "metadata": {
    "collapsed": false,
    "ExecuteTime": {
     "end_time": "2024-06-20T13:18:06.494538Z",
     "start_time": "2024-06-20T13:18:06.459452Z"
    }
   },
   "id": "a5f01a338c02278c",
   "execution_count": 42
  },
  {
   "cell_type": "code",
   "outputs": [
    {
     "name": "stdout",
     "output_type": "stream",
     "text": [
      "(10,)\n",
      "(10, 10)\n",
      "(10,)\n",
      "(10, 10)\n"
     ]
    }
   ],
   "source": [
    "print(state.params['params']['layers_0']['out']['bias'].shape)\n",
    "print(state.params['params']['layers_0']['out']['kernel'].shape)\n",
    "print(state.params['params']['layers_0']['out2']['bias'].shape)\n",
    "print(state.params['params']['layers_0']['out2']['kernel'].shape)"
   ],
   "metadata": {
    "collapsed": false,
    "ExecuteTime": {
     "end_time": "2024-06-20T13:18:13.071617Z",
     "start_time": "2024-06-20T13:18:13.042525Z"
    }
   },
   "id": "d1725379f6c6b473",
   "execution_count": 43
  },
  {
   "cell_type": "code",
   "outputs": [
    {
     "name": "stdout",
     "output_type": "stream",
     "text": [
      "dict_keys(['A', 'B', 'C', 'D', 'log_step'])\n"
     ]
    }
   ],
   "source": [
    "print(state.params['params']['layers_0']['seq'].keys())"
   ],
   "metadata": {
    "collapsed": false,
    "ExecuteTime": {
     "end_time": "2024-06-20T13:06:47.222558Z",
     "start_time": "2024-06-20T13:06:47.215665Z"
    }
   },
   "id": "473c288a761d24d3",
   "execution_count": 33
  },
  {
   "cell_type": "code",
   "outputs": [
    {
     "name": "stdout",
     "output_type": "stream",
     "text": [
      "(64, 10, 64)\n",
      "(64, 10, 1)\n",
      "(1, 10, 64)\n",
      "(1, 10)\n",
      "(1, 10)\n"
     ]
    }
   ],
   "source": [
    "print(state.params['params']['layers_0']['seq']['A'].shape)\n",
    "print(state.params['params']['layers_0']['seq']['B'].shape)\n",
    "print(state.params['params']['layers_0']['seq']['C'].shape)\n",
    "print(state.params['params']['layers_0']['seq']['D'].shape)\n",
    "print(state.params['params']['layers_0']['seq']['log_step'].shape)\n"
   ],
   "metadata": {
    "collapsed": false,
    "ExecuteTime": {
     "end_time": "2024-06-20T13:06:49.393579Z",
     "start_time": "2024-06-20T13:06:49.385635Z"
    }
   },
   "id": "a2b5d450a0d11e78",
   "execution_count": 34
  },
  {
   "cell_type": "code",
   "outputs": [
    {
     "name": "stdout",
     "output_type": "stream",
     "text": [
      "0.002715726\n",
      "-0.053828467\n",
      "1.1623794\n",
      "0.8955986\n"
     ]
    }
   ],
   "source": [
    "print(state.params['params']['layers_0']['seq']['A'][0,0,0])\n",
    "print(state.params['params']['layers_0']['seq']['A'][0,1,0])\n",
    "print(state.params['params']['layers_0']['seq']['D'][0,0])\n",
    "print(state.params['params']['layers_0']['seq']['D'][0,1])"
   ],
   "metadata": {
    "collapsed": false,
    "ExecuteTime": {
     "end_time": "2024-06-20T12:59:20.181842Z",
     "start_time": "2024-06-20T12:59:20.146315Z"
    }
   },
   "id": "d35a52a3cbfb5280",
   "execution_count": 34
  },
  {
   "cell_type": "code",
   "outputs": [
    {
     "name": "stdout",
     "output_type": "stream",
     "text": [
      "(8,)\n",
      "(3, 8)\n"
     ]
    }
   ],
   "source": [
    "print(state.params['params']['decoder']['bias'].shape)\n",
    "print(state.params['params']['decoder']['kernel'].shape)"
   ],
   "metadata": {
    "collapsed": false,
    "ExecuteTime": {
     "end_time": "2024-06-20T12:59:25.083285Z",
     "start_time": "2024-06-20T12:59:25.072671Z"
    }
   },
   "id": "f5a7290a099b17c7",
   "execution_count": 35
  },
  {
   "cell_type": "code",
   "outputs": [
    {
     "name": "stdout",
     "output_type": "stream",
     "text": [
      "n_p=497750 (should be 497788 -> diff -38)\n"
     ]
    }
   ],
   "source": [
    "A = 64**2\n",
    "B = 64\n",
    "C = 64\n",
    "D = 1\n",
    "H = 10 # number of heads = d_model in yaml\n",
    "o = 10*10 + 10 \n",
    "o2 = 10*10 + 10\n",
    "norm = 10 + 10\n",
    "seq_p = H*(A+B+C+D) + o + o2 + norm\n",
    "n_lay = 4\n",
    "enc = 10+10\n",
    "dec = 10*8+10\n",
    "cache_x = 128*64*10 * 4 # = batch_size * N (state dimension) * H (nb heads) * n_lay\n",
    "n_p = n_lay * seq_p + enc + dec + cache_x\n",
    "print(f'{n_p=} (should be 497788 -> diff {n_p-497788})')"
   ],
   "metadata": {
    "collapsed": false,
    "ExecuteTime": {
     "end_time": "2024-09-06T15:56:27.404124Z",
     "start_time": "2024-09-06T15:56:27.401157Z"
    }
   },
   "id": "7d2297dbe058b762",
   "execution_count": 24
  },
  {
   "cell_type": "code",
   "outputs": [],
   "source": [],
   "metadata": {
    "collapsed": false
   },
   "id": "469b1bb914b6332d"
  },
  {
   "cell_type": "code",
   "outputs": [],
   "source": [],
   "metadata": {
    "collapsed": false
   },
   "id": "30c111a4472e5f94"
  },
  {
   "cell_type": "code",
   "outputs": [],
   "source": [],
   "metadata": {
    "collapsed": false
   },
   "id": "12389eb94bfac0bf"
  },
  {
   "cell_type": "code",
   "outputs": [],
   "source": [
    "n_examples = 1024\n",
    "SEQ_LENGTH, N_CLASSES, IN_DIM = 16, 8, 1\n",
    "x = np.linspace(0, 2 * np.pi, num=SEQ_LENGTH)\n",
    "# jnp.digitize: Return the indices of the bins to which each value in input array belongs.\n",
    "y = np.digitize(np.sin(x), np.linspace(-1, 1, num=N_CLASSES))\n",
    "\n",
    "# Tile this `n_examples` times...\n",
    "# data will be a tensor of shape (n_examples, SEQ_LENGTH, IN_DIM)\n",
    "data = torch.Tensor(\n",
    "    np.tile(\n",
    "        np.expand_dims(np.expand_dims(y, -1), 0), reps=[n_examples, 1, 1]\n",
    "    )\n",
    ")\n",
    "key = jax.random.PRNGKey(0)\n",
    "key, rng = jax.random.split(key)\n",
    "amplitudes = jax.random.uniform(rng, shape=(n_examples, 1, 1), minval=0.5, maxval=1.5)\n",
    "amplitudes = np.array(amplitudes)\n",
    "data = data * amplitudes\n"
   ],
   "metadata": {
    "collapsed": false,
    "ExecuteTime": {
     "end_time": "2024-06-20T11:50:02.252540Z",
     "start_time": "2024-06-20T11:50:02.239482Z"
    }
   },
   "id": "a9dd753af9efaa49",
   "execution_count": 65
  },
  {
   "cell_type": "code",
   "outputs": [
    {
     "data": {
      "text/plain": "<Figure size 1500x600 with 10 Axes>",
      "image/png": "[encoded data removed]"
     },
     "metadata": {},
     "output_type": "display_data"
    }
   ],
   "source": [
    "# plot 10 examples\n",
    "fig, axs = plt.subplots(2, 5, figsize=(15, 6))\n",
    "for i in range(10):\n",
    "    axs[i // 5, i % 5].plot(data[i,:,0])\n",
    "plt.show()\n"
   ],
   "metadata": {
    "collapsed": false,
    "ExecuteTime": {
     "end_time": "2024-06-20T11:50:21.218137Z",
     "start_time": "2024-06-20T11:50:20.764907Z"
    }
   },
   "id": "b1c65f6ce80ba68",
   "execution_count": 66
  },
  {
   "cell_type": "code",
   "outputs": [
    {
     "name": "stdout",
     "output_type": "stream",
     "text": [
      "cache layers_0 seq \n",
      " ('cache_x_k', (128, 64, 10))\n",
      "layers_1 seq \n",
      " ('cache_x_k', (128, 64, 10))\n",
      "layers_2 seq \n",
      " ('cache_x_k', (128, 64, 10))\n",
      "layers_3 seq \n",
      " ('cache_x_k', (128, 64, 10))\n",
      "params decoder \n",
      " ('bias', (8,))\n",
      "\n",
      " ('kernel', (10, 8))\n",
      "encoder \n",
      " ('bias', (10,))\n",
      "\n",
      " ('kernel', (1, 10))\n",
      "layers_0 norm \n",
      " ('bias', (10,))\n",
      "\n",
      " ('scale', (10,))\n",
      "out \n",
      " ('bias', (10,))\n",
      "\n",
      " ('kernel', (10, 10))\n",
      "out2 \n",
      " ('bias', (10,))\n",
      "\n",
      " ('kernel', (10, 10))\n",
      "seq \n",
      " ('A', (64, 10, 64))\n",
      "\n",
      " ('B', (64, 10, 1))\n",
      "\n",
      " ('C', (1, 10, 64))\n",
      "\n",
      " ('D', (1, 10))\n",
      "\n",
      " ('log_step', (1, 10))\n",
      "layers_1 norm \n",
      " ('bias', (10,))\n",
      "\n",
      " ('scale', (10,))\n",
      "out \n",
      " ('bias', (10,))\n",
      "\n",
      " ('kernel', (10, 10))\n",
      "out2 \n",
      " ('bias', (10,))\n",
      "\n",
      " ('kernel', (10, 10))\n",
      "seq \n",
      " ('A', (64, 10, 64))\n",
      "\n",
      " ('B', (64, 10, 1))\n",
      "\n",
      " ('C', (1, 10, 64))\n",
      "\n",
      " ('D', (1, 10))\n",
      "\n",
      " ('log_step', (1, 10))\n",
      "layers_2 norm \n",
      " ('bias', (10,))\n",
      "\n",
      " ('scale', (10,))\n",
      "out \n",
      " ('bias', (10,))\n",
      "\n",
      " ('kernel', (10, 10))\n",
      "out2 \n",
      " ('bias', (10,))\n",
      "\n",
      " ('kernel', (10, 10))\n",
      "seq \n",
      " ('A', (64, 10, 64))\n",
      "\n",
      " ('B', (64, 10, 1))\n",
      "\n",
      " ('C', (1, 10, 64))\n",
      "\n",
      " ('D', (1, 10))\n",
      "\n",
      " ('log_step', (1, 10))\n",
      "layers_3 norm \n",
      " ('bias', (10,))\n",
      "\n",
      " ('scale', (10,))\n",
      "out \n",
      " ('bias', (10,))\n",
      "\n",
      " ('kernel', (10, 10))\n",
      "out2 \n",
      " ('bias', (10,))\n",
      "\n",
      " ('kernel', (10, 10))\n",
      "seq \n",
      " ('A', (64, 10, 64))\n",
      "\n",
      " ('B', (64, 10, 1))\n",
      "\n",
      " ('C', (1, 10, 64))\n",
      "\n",
      " ('D', (1, 10))\n",
      "\n",
      " ('log_step', (1, 10))\n"
     ]
    }
   ],
   "source": [
    "def map_nested_fn(fn):\n",
    "    \"\"\"Recursively apply `fn to the key-value pairs of a nested dict / pytree.\"\"\"\n",
    "\n",
    "    def map_fn(k_in, nested_dict):\n",
    "        if k_in != None: print(f'{k_in}', end=' ')\n",
    "        return {\n",
    "            k: (map_fn(k, v) if hasattr(v, \"keys\") else fn(k, v))\n",
    "            for k, v in nested_dict.items()\n",
    "        }\n",
    "    \n",
    "    return map_fn\n",
    "    \n",
    "a = map_nested_fn(lambda k, v: print(f'\\n {k, v.shape}'))(None, state.params)"
   ],
   "metadata": {
    "collapsed": false,
    "ExecuteTime": {
     "end_time": "2024-09-06T16:48:23.502483Z",
     "start_time": "2024-09-06T16:48:23.498186Z"
    }
   },
   "id": "30ced4720c9368fd",
   "execution_count": 76
  },
  {
   "cell_type": "code",
   "outputs": [
    {
     "data": {
      "text/plain": "{'cache': {'layers_0': {'seq': {'cache_x_k': None}},\n  'layers_1': {'seq': {'cache_x_k': None}},\n  'layers_2': {'seq': {'cache_x_k': None}},\n  'layers_3': {'seq': {'cache_x_k': None}}},\n 'params': {'decoder': {'bias': None, 'kernel': None},\n  'encoder': {'bias': None, 'kernel': None},\n  'layers_0': {'norm': {'bias': None, 'scale': None},\n   'out': {'bias': None, 'kernel': None},\n   'out2': {'bias': None, 'kernel': None},\n   'seq': {'A': None, 'B': None, 'C': None, 'D': None, 'log_step': None}},\n  'layers_1': {'norm': {'bias': None, 'scale': None},\n   'out': {'bias': None, 'kernel': None},\n   'out2': {'bias': None, 'kernel': None},\n   'seq': {'A': None, 'B': None, 'C': None, 'D': None, 'log_step': None}},\n  'layers_2': {'norm': {'bias': None, 'scale': None},\n   'out': {'bias': None, 'kernel': None},\n   'out2': {'bias': None, 'kernel': None},\n   'seq': {'A': None, 'B': None, 'C': None, 'D': None, 'log_step': None}},\n  'layers_3': {'norm': {'bias': None, 'scale': None},\n   'out': {'bias': None, 'kernel': None},\n   'out2': {'bias': None, 'kernel': None},\n   'seq': {'A': None, 'B': None, 'C': None, 'D': None, 'log_step': None}}}}"
     },
     "execution_count": 77,
     "metadata": {},
     "output_type": "execute_result"
    }
   ],
   "source": [
    "a"
   ],
   "metadata": {
    "collapsed": false,
    "ExecuteTime": {
     "end_time": "2024-09-06T16:48:35.253299Z",
     "start_time": "2024-09-06T16:48:35.249273Z"
    }
   },
   "id": "9f83fc3bc85027fc",
   "execution_count": 77
  },
  {
   "cell_type": "code",
   "outputs": [],
   "source": [
    "import jax \n",
    "import jax.numpy as jnp\n",
    "import flax.linen as nn"
   ],
   "metadata": {
    "collapsed": false,
    "ExecuteTime": {
     "end_time": "2024-09-06T15:26:34.750609Z",
     "start_time": "2024-09-06T15:26:30.621494Z"
    }
   },
   "id": "945553f3155f2d29",
   "execution_count": 1
  },
  {
   "cell_type": "code",
   "outputs": [],
   "source": [
    "shared_params = False\n",
    "if shared_params:\n",
    "    BatchDense = nn.vmap(nn.Dense, in_axes=0, out_axes=0, variable_axes={'params': None}, split_rngs={'params': False})\n",
    "else:\n",
    "    BatchDense = nn.vmap(nn.Dense, in_axes=0, out_axes=0, variable_axes={'params': 0}, split_rngs={'params': True})"
   ],
   "metadata": {
    "collapsed": false,
    "ExecuteTime": {
     "end_time": "2024-09-06T16:04:20.060217Z",
     "start_time": "2024-09-06T16:04:20.056668Z"
    }
   },
   "id": "120e374d7083ea04",
   "execution_count": 35
  },
  {
   "cell_type": "code",
   "outputs": [],
   "source": [
    "batch_size = 10\n",
    "embedding_dim = 5\n",
    "x = jnp.ones((batch_size, embedding_dim))\n",
    "dense = BatchDense(features=3)\n",
    "params = dense.init(jax.random.PRNGKey(0), x)"
   ],
   "metadata": {
    "collapsed": false,
    "ExecuteTime": {
     "end_time": "2024-09-06T16:04:20.282881Z",
     "start_time": "2024-09-06T16:04:20.274163Z"
    }
   },
   "id": "81460f3fbbc8d51d",
   "execution_count": 36
  },
  {
   "cell_type": "code",
   "outputs": [
    {
     "name": "stdout",
     "output_type": "stream",
     "text": [
      "params \n",
      " ('bias', (10, 3))\n",
      "\n",
      " ('kernel', (10, 5, 3))\n"
     ]
    },
    {
     "data": {
      "text/plain": "{'params': {'bias': None, 'kernel': None}}"
     },
     "execution_count": 37,
     "metadata": {},
     "output_type": "execute_result"
    }
   ],
   "source": [
    "# write a function that prints recursively the keys and shapes of a nested dictionary\n",
    "def map_nested_fn(fn):\n",
    "    \"\"\"Recursively apply `fn to the key-value pairs of a nested dict / pytree.\"\"\"\n",
    "\n",
    "    def map_fn(k_in, nested_dict):\n",
    "        if k_in != None: print(f'{k_in}', end=' ')\n",
    "        return {\n",
    "            k: (map_fn(k, v) if hasattr(v, \"keys\") else fn(k, v))\n",
    "            for k, v in nested_dict.items()\n",
    "        }\n",
    "    \n",
    "    return map_fn\n",
    "\n",
    "map_nested_fn(lambda k, v: print(f'\\n {k, v.shape}'))(None, params)"
   ],
   "metadata": {
    "collapsed": false,
    "ExecuteTime": {
     "end_time": "2024-09-06T16:04:20.541229Z",
     "start_time": "2024-09-06T16:04:20.535875Z"
    }
   },
   "id": "617f66285d6f08e4",
   "execution_count": 37
  },
  {
   "cell_type": "code",
   "outputs": [],
   "source": [
    "y = dense.apply(params, x)"
   ],
   "metadata": {
    "collapsed": false,
    "ExecuteTime": {
     "end_time": "2024-09-06T16:04:20.684522Z",
     "start_time": "2024-09-06T16:04:20.675422Z"
    }
   },
   "id": "301a158775af3711",
   "execution_count": 38
  },
  {
   "cell_type": "code",
   "outputs": [
    {
     "data": {
      "text/plain": "Array([[ 1.9910165 ,  0.28383535, -1.047992  ],\n       [ 1.3863918 ,  0.5475614 ,  1.2088555 ],\n       [-1.3427639 , -0.58169377, -0.02100402],\n       [-1.6752058 , -0.68735284, -1.4142416 ],\n       [ 0.7120553 ,  0.13763508, -0.47188094],\n       [ 0.59918714, -0.13747637,  0.40842372],\n       [-0.18032235, -0.48730588, -1.0494046 ],\n       [-0.04323477, -0.4011463 ,  0.63187987],\n       [ 0.50989723,  0.20760426,  0.13128324],\n       [ 0.53805596, -1.6646125 ,  1.1062521 ]], dtype=float32)"
     },
     "execution_count": 39,
     "metadata": {},
     "output_type": "execute_result"
    }
   ],
   "source": [
    "y"
   ],
   "metadata": {
    "collapsed": false,
    "ExecuteTime": {
     "end_time": "2024-09-06T16:04:20.903793Z",
     "start_time": "2024-09-06T16:04:20.899561Z"
    }
   },
   "id": "8c54fca9698c51c3",
   "execution_count": 39
  },
  {
   "cell_type": "code",
   "outputs": [],
   "source": [
    "def step(x_k_1, u_k):\n",
    "    x_k = x_k_1 + u_k\n",
    "    y_k = jnp.tanh(x_k)\n",
    "    return x_k, y_k\n",
    "x_last, y_entire = jax.lax.scan(step, 0, jnp.ones((5,)))"
   ],
   "metadata": {
    "collapsed": false,
    "ExecuteTime": {
     "end_time": "2024-09-06T16:13:29.916050Z",
     "start_time": "2024-09-06T16:13:29.896113Z"
    }
   },
   "id": "f96ee0ad2ad604ac",
   "execution_count": 44
  },
  {
   "cell_type": "code",
   "outputs": [
    {
     "data": {
      "text/plain": "Array(5., dtype=float32)"
     },
     "execution_count": 46,
     "metadata": {},
     "output_type": "execute_result"
    }
   ],
   "source": [
    "x_last"
   ],
   "metadata": {
    "collapsed": false,
    "ExecuteTime": {
     "end_time": "2024-09-06T16:13:35.889827Z",
     "start_time": "2024-09-06T16:13:35.885092Z"
    }
   },
   "id": "207703f68fba0fd9",
   "execution_count": 46
  },
  {
   "cell_type": "code",
   "outputs": [
    {
     "data": {
      "text/plain": "Array([0.7615942 , 0.9640276 , 0.9950547 , 0.9993292 , 0.99990916],      dtype=float32)"
     },
     "execution_count": 47,
     "metadata": {},
     "output_type": "execute_result"
    }
   ],
   "source": [
    "y_entire"
   ],
   "metadata": {
    "collapsed": false,
    "ExecuteTime": {
     "end_time": "2024-09-06T16:13:40.380266Z",
     "start_time": "2024-09-06T16:13:40.377078Z"
    }
   },
   "id": "2b41fa8e5196c164",
   "execution_count": 47
  },
  {
   "cell_type": "code",
   "outputs": [
    {
     "name": "stdout",
     "output_type": "stream",
     "text": [
      "[0.0, 0.7615941762924194, 0.9640275835990906, 0.9950547218322754, 0.9993292093276978]\n"
     ]
    }
   ],
   "source": [
    "print([float(jnp.tanh(i)) for i in range(5)])"
   ],
   "metadata": {
    "collapsed": false,
    "ExecuteTime": {
     "end_time": "2024-09-06T16:16:43.353331Z",
     "start_time": "2024-09-06T16:16:43.350097Z"
    }
   },
   "id": "406da4c36a7b3309",
   "execution_count": 53
  },
  {
   "cell_type": "code",
   "outputs": [],
   "source": [
    "# q: what does u[:, jnp.newaxis] do?\n",
    "# a: it adds a new axis at the end of the array"
   ],
   "metadata": {
    "collapsed": false
   },
   "id": "b99dc2c232aa130e"
  },
  {
   "cell_type": "code",
   "outputs": [
    {
     "name": "stdout",
     "output_type": "stream",
     "text": [
      "Requirement already satisfied: einops in /Users/tristantorchet/Desktop/ModernML/venv/lib/python3.10/site-packages (0.8.0)\r\n",
      "\r\n",
      "\u001B[1m[\u001B[0m\u001B[34;49mnotice\u001B[0m\u001B[1;39;49m]\u001B[0m\u001B[39;49m A new release of pip is available: \u001B[0m\u001B[31;49m23.2.1\u001B[0m\u001B[39;49m -> \u001B[0m\u001B[32;49m24.2\u001B[0m\r\n",
      "\u001B[1m[\u001B[0m\u001B[34;49mnotice\u001B[0m\u001B[1;39;49m]\u001B[0m\u001B[39;49m To update, run: \u001B[0m\u001B[32;49mpip install --upgrade pip\u001B[0m\r\n"
     ]
    }
   ],
   "source": [
    "!pip install einops"
   ],
   "metadata": {
    "collapsed": false,
    "ExecuteTime": {
     "end_time": "2024-09-06T18:32:36.769562Z",
     "start_time": "2024-09-06T18:32:35.736105Z"
    }
   },
   "id": "d81556aa91fce93a",
   "execution_count": 2
  },
  {
   "cell_type": "code",
   "outputs": [],
   "source": [
    "import torch\n",
    "from einops import repeat\n",
    "import math\n",
    "H=3\n",
    "N=4\n",
    "log_A_real = torch.log(0.5 * torch.ones(H, N))\n",
    "A_imag = math.pi * repeat(torch.arange(N), 'n -> h n', h=H)\n"
   ],
   "metadata": {
    "collapsed": false,
    "ExecuteTime": {
     "end_time": "2024-09-06T19:23:40.080004Z",
     "start_time": "2024-09-06T19:23:40.076784Z"
    }
   },
   "id": "3fbf64789e457466",
   "execution_count": 19
  },
  {
   "cell_type": "code",
   "outputs": [
    {
     "data": {
      "text/plain": "tensor([[0.0000, 3.1416, 6.2832, 9.4248],\n        [0.0000, 3.1416, 6.2832, 9.4248],\n        [0.0000, 3.1416, 6.2832, 9.4248]])"
     },
     "execution_count": 20,
     "metadata": {},
     "output_type": "execute_result"
    }
   ],
   "source": [
    "A_imag"
   ],
   "metadata": {
    "collapsed": false,
    "ExecuteTime": {
     "end_time": "2024-09-06T19:23:40.285320Z",
     "start_time": "2024-09-06T19:23:40.281917Z"
    }
   },
   "id": "2c0f8b9215cddee6",
   "execution_count": 20
  },
  {
   "cell_type": "code",
   "outputs": [
    {
     "data": {
      "text/plain": "tensor([[-0.6931, -0.6931, -0.6931, -0.6931],\n        [-0.6931, -0.6931, -0.6931, -0.6931],\n        [-0.6931, -0.6931, -0.6931, -0.6931]])"
     },
     "execution_count": 21,
     "metadata": {},
     "output_type": "execute_result"
    }
   ],
   "source": [
    "log_A_real"
   ],
   "metadata": {
    "collapsed": false,
    "ExecuteTime": {
     "end_time": "2024-09-06T19:23:40.487857Z",
     "start_time": "2024-09-06T19:23:40.483574Z"
    }
   },
   "id": "94a01450cb1cf5fc",
   "execution_count": 21
  },
  {
   "cell_type": "code",
   "outputs": [],
   "source": [
    "A = log_A_real + 1j * A_imag"
   ],
   "metadata": {
    "collapsed": false,
    "ExecuteTime": {
     "end_time": "2024-09-06T19:23:40.700847Z",
     "start_time": "2024-09-06T19:23:40.698206Z"
    }
   },
   "id": "1d221bd386f586f7",
   "execution_count": 22
  },
  {
   "cell_type": "code",
   "outputs": [
    {
     "data": {
      "text/plain": "tensor([[-0.6931+0.0000j, -0.6931+3.1416j, -0.6931+6.2832j, -0.6931+9.4248j],\n        [-0.6931+0.0000j, -0.6931+3.1416j, -0.6931+6.2832j, -0.6931+9.4248j],\n        [-0.6931+0.0000j, -0.6931+3.1416j, -0.6931+6.2832j, -0.6931+9.4248j]])"
     },
     "execution_count": 23,
     "metadata": {},
     "output_type": "execute_result"
    }
   ],
   "source": [
    "A"
   ],
   "metadata": {
    "collapsed": false,
    "ExecuteTime": {
     "end_time": "2024-09-06T19:23:40.901570Z",
     "start_time": "2024-09-06T19:23:40.898260Z"
    }
   },
   "id": "c429b1a6c3423f0d",
   "execution_count": 23
  },
  {
   "cell_type": "code",
   "outputs": [
    {
     "name": "stdout",
     "output_type": "stream",
     "text": [
      "torch.Size([3, 4, 2])\n"
     ]
    }
   ],
   "source": [
    "C = torch.randn(H, N // 2, dtype=torch.cfloat)\n",
    "Cb = torch.view_as_real(C)\n",
    "print(Cb.shape)"
   ],
   "metadata": {
    "collapsed": false,
    "ExecuteTime": {
     "end_time": "2024-09-06T19:23:41.227038Z",
     "start_time": "2024-09-06T19:23:41.224641Z"
    }
   },
   "id": "5efc92fc86f3244f",
   "execution_count": 24
  },
  {
   "cell_type": "code",
   "outputs": [
    {
     "name": "stdout",
     "output_type": "stream",
     "text": [
      "torch.Size([3, 4])\n"
     ]
    }
   ],
   "source": [
    "Cbb = torch.view_as_complex(Cb)\n",
    "print(Cbb.shape)"
   ],
   "metadata": {
    "collapsed": false,
    "ExecuteTime": {
     "end_time": "2024-09-06T19:23:44.769039Z",
     "start_time": "2024-09-06T19:23:44.766572Z"
    }
   },
   "id": "33b613c7f1b9fec0",
   "execution_count": 25
  },
  {
   "cell_type": "code",
   "outputs": [],
   "source": [
    "dt_min = 1e-3\n",
    "dt_max = 1e-1\n",
    "log_dt = torch.rand(H) * (\n",
    "            math.log(dt_max) - math.log(dt_min)\n",
    "        ) + math.log(dt_min)\n"
   ],
   "metadata": {
    "collapsed": false,
    "ExecuteTime": {
     "end_time": "2024-09-06T19:23:46.008312Z",
     "start_time": "2024-09-06T19:23:46.004793Z"
    }
   },
   "id": "5a95021a581c88b4",
   "execution_count": 26
  },
  {
   "cell_type": "code",
   "outputs": [
    {
     "data": {
      "text/plain": "tensor([0.0347, 0.0453, 0.0606])"
     },
     "execution_count": 27,
     "metadata": {},
     "output_type": "execute_result"
    }
   ],
   "source": [
    "dt = torch.exp(log_dt)\n",
    "dt"
   ],
   "metadata": {
    "collapsed": false,
    "ExecuteTime": {
     "end_time": "2024-09-06T19:23:48.535181Z",
     "start_time": "2024-09-06T19:23:48.532022Z"
    }
   },
   "id": "42809c125516830b",
   "execution_count": 27
  },
  {
   "cell_type": "code",
   "outputs": [
    {
     "data": {
      "text/plain": "tensor([[0.0347],\n        [0.0453],\n        [0.0606]])"
     },
     "execution_count": 30,
     "metadata": {},
     "output_type": "execute_result"
    }
   ],
   "source": [
    "dt.unsqueeze(-1)"
   ],
   "metadata": {
    "collapsed": false,
    "ExecuteTime": {
     "end_time": "2024-09-06T19:25:40.837538Z",
     "start_time": "2024-09-06T19:25:40.833965Z"
    }
   },
   "id": "63d0d8124c4eee3a",
   "execution_count": 30
  },
  {
   "cell_type": "code",
   "outputs": [
    {
     "data": {
      "text/plain": "tensor([[-0.0241+0.0000j, -0.0241+0.1091j, -0.0241+0.2183j, -0.0241+0.3274j],\n        [-0.0314+0.0000j, -0.0314+0.1424j, -0.0314+0.2848j, -0.0314+0.4272j],\n        [-0.0420+0.0000j, -0.0420+0.1905j, -0.0420+0.3809j, -0.0420+0.5714j]])"
     },
     "execution_count": 28,
     "metadata": {},
     "output_type": "execute_result"
    }
   ],
   "source": [
    "dtA = A * dt.unsqueeze(-1)\n",
    "dtA"
   ],
   "metadata": {
    "collapsed": false,
    "ExecuteTime": {
     "end_time": "2024-09-06T19:23:51.877537Z",
     "start_time": "2024-09-06T19:23:51.873804Z"
    }
   },
   "id": "1a9dee8545ca6be1",
   "execution_count": 28
  },
  {
   "cell_type": "code",
   "outputs": [
    {
     "data": {
      "text/plain": "0.10901352"
     },
     "execution_count": 29,
     "metadata": {},
     "output_type": "execute_result"
    }
   ],
   "source": [
    "3.1416 * 0.0347"
   ],
   "metadata": {
    "collapsed": false,
    "ExecuteTime": {
     "end_time": "2024-09-06T19:25:19.857199Z",
     "start_time": "2024-09-06T19:25:19.854467Z"
    }
   },
   "id": "a0ed5fe24e63769c",
   "execution_count": 29
  },
  {
   "cell_type": "code",
   "outputs": [
    {
     "data": {
      "text/plain": "tensor([[[-0.0000+0.0000j, -0.0241+0.0000j, -0.0482+0.0000j, -0.0722+0.0000j],\n         [-0.0000+0.0000j, -0.0241+0.1091j, -0.0482+0.2183j, -0.0722+0.3274j],\n         [-0.0000+0.0000j, -0.0241+0.2183j, -0.0482+0.4366j, -0.0722+0.6549j],\n         [-0.0000+0.0000j, -0.0241+0.3274j, -0.0482+0.6549j, -0.0722+0.9823j]],\n\n        [[-0.0000+0.0000j, -0.0314+0.0000j, -0.0628+0.0000j, -0.0942+0.0000j],\n         [-0.0000+0.0000j, -0.0314+0.1424j, -0.0628+0.2848j, -0.0942+0.4272j],\n         [-0.0000+0.0000j, -0.0314+0.2848j, -0.0628+0.5696j, -0.0942+0.8543j],\n         [-0.0000+0.0000j, -0.0314+0.4272j, -0.0628+0.8543j, -0.0942+1.2815j]],\n\n        [[-0.0000+0.0000j, -0.0420+0.0000j, -0.0840+0.0000j, -0.1261+0.0000j],\n         [-0.0000+0.0000j, -0.0420+0.1905j, -0.0840+0.3809j, -0.1261+0.5714j],\n         [-0.0000+0.0000j, -0.0420+0.3809j, -0.0840+0.7618j, -0.1261+1.1428j],\n         [-0.0000+0.0000j, -0.0420+0.5714j, -0.0840+1.1428j, -0.1261+1.7141j]]])"
     },
     "execution_count": 40,
     "metadata": {},
     "output_type": "execute_result"
    }
   ],
   "source": [
    "L = 4\n",
    "dtA.unsqueeze(-1) * torch.arange(L, device=A.device)"
   ],
   "metadata": {
    "collapsed": false,
    "ExecuteTime": {
     "end_time": "2024-09-06T19:31:59.114295Z",
     "start_time": "2024-09-06T19:31:59.109895Z"
    }
   },
   "id": "70b540f651215436",
   "execution_count": 40
  },
  {
   "cell_type": "code",
   "outputs": [
    {
     "data": {
      "text/plain": "tensor([[[0., 1., 2.],\n         [0., 1., 2.]],\n\n        [[0., 1., 2.],\n         [0., 1., 2.]]])"
     },
     "execution_count": 32,
     "metadata": {},
     "output_type": "execute_result"
    }
   ],
   "source": [
    "a = torch.ones(2,2)\n",
    "a.unsqueeze(-1) * torch.arange(3)"
   ],
   "metadata": {
    "collapsed": false,
    "ExecuteTime": {
     "end_time": "2024-09-06T19:28:04.493561Z",
     "start_time": "2024-09-06T19:28:04.489738Z"
    }
   },
   "id": "8f17e6912708db42",
   "execution_count": 32
  },
  {
   "cell_type": "code",
   "outputs": [
    {
     "data": {
      "text/plain": "tensor([[[1],\n         [2]],\n\n        [[3],\n         [4]]])"
     },
     "execution_count": 38,
     "metadata": {},
     "output_type": "execute_result"
    }
   ],
   "source": [
    "b = torch.tensor([[1,2],[3,4]])\n",
    "b.unsqueeze(-1)"
   ],
   "metadata": {
    "collapsed": false,
    "ExecuteTime": {
     "end_time": "2024-09-06T19:30:46.357272Z",
     "start_time": "2024-09-06T19:30:46.353956Z"
    }
   },
   "id": "2103005c49383c63",
   "execution_count": 38
  },
  {
   "cell_type": "code",
   "outputs": [
    {
     "data": {
      "text/plain": "tensor([[[0, 1, 2],\n         [0, 2, 4]],\n\n        [[0, 3, 6],\n         [0, 4, 8]]])"
     },
     "execution_count": 39,
     "metadata": {},
     "output_type": "execute_result"
    }
   ],
   "source": [
    "b.unsqueeze(-1) * torch.arange(3)"
   ],
   "metadata": {
    "collapsed": false,
    "ExecuteTime": {
     "end_time": "2024-09-06T19:31:22.969158Z",
     "start_time": "2024-09-06T19:31:22.963545Z"
    }
   },
   "id": "437c55880331af76",
   "execution_count": 39
  },
  {
   "cell_type": "code",
   "outputs": [
    {
     "name": "stdout",
     "output_type": "stream",
     "text": [
      "log_A_real=tensor([-0.6931, -0.6931, -0.6931, -0.6931])\n",
      "A_imag=tensor([0.0000, 3.1416, 6.2832, 9.4248])\n"
     ]
    }
   ],
   "source": [
    "import torch\n",
    "from einops import repeat\n",
    "import math\n",
    "H=5\n",
    "N=4\n",
    "L=3\n",
    "dt=0.1\n",
    "log_A_real = torch.log(0.5 * torch.ones(N,))\n",
    "A_imag = math.pi * torch.arange(N)\n",
    "print(f'{log_A_real=}')\n",
    "print(f'{A_imag=}')\n"
   ],
   "metadata": {
    "collapsed": false,
    "ExecuteTime": {
     "end_time": "2024-09-06T23:26:23.498719Z",
     "start_time": "2024-09-06T23:26:23.494579Z"
    }
   },
   "id": "b8b3840edeae9c5a",
   "execution_count": 58
  },
  {
   "cell_type": "code",
   "outputs": [
    {
     "data": {
      "text/plain": "tensor([-0.5000+0.0000j, -0.5000+3.1416j, -0.5000+6.2832j, -0.5000+9.4248j])"
     },
     "execution_count": 59,
     "metadata": {},
     "output_type": "execute_result"
    }
   ],
   "source": [
    "A = -torch.exp(log_A_real) + 1j * A_imag\n",
    "A"
   ],
   "metadata": {
    "collapsed": false,
    "ExecuteTime": {
     "end_time": "2024-09-06T23:26:24.115193Z",
     "start_time": "2024-09-06T23:26:24.110389Z"
    }
   },
   "id": "5e5cca7729ef3030",
   "execution_count": 59
  },
  {
   "cell_type": "code",
   "outputs": [
    {
     "data": {
      "text/plain": "tensor([-0.0500+0.0000j, -0.0500+0.3142j, -0.0500+0.6283j, -0.0500+0.9425j])"
     },
     "execution_count": 60,
     "metadata": {},
     "output_type": "execute_result"
    }
   ],
   "source": [
    "dtA = A * dt\n",
    "dtA"
   ],
   "metadata": {
    "collapsed": false,
    "ExecuteTime": {
     "end_time": "2024-09-06T23:26:24.792518Z",
     "start_time": "2024-09-06T23:26:24.787048Z"
    }
   },
   "id": "69fd3146148242b7",
   "execution_count": 60
  },
  {
   "cell_type": "code",
   "outputs": [
    {
     "data": {
      "text/plain": "tensor([[-0.0500+0.0000j],\n        [-0.0500+0.3142j],\n        [-0.0500+0.6283j],\n        [-0.0500+0.9425j]])"
     },
     "execution_count": 61,
     "metadata": {},
     "output_type": "execute_result"
    }
   ],
   "source": [
    "dtA_unsqueeze = dtA.unsqueeze(-1)\n",
    "dtA_unsqueeze"
   ],
   "metadata": {
    "collapsed": false,
    "ExecuteTime": {
     "end_time": "2024-09-06T23:26:25.516911Z",
     "start_time": "2024-09-06T23:26:25.511826Z"
    }
   },
   "id": "aaac767b07e976e",
   "execution_count": 61
  },
  {
   "cell_type": "code",
   "outputs": [
    {
     "data": {
      "text/plain": "tensor([[-0.0000+0.0000j, -0.0500+0.0000j, -0.1000+0.0000j],\n        [-0.0000+0.0000j, -0.0500+0.3142j, -0.1000+0.6283j],\n        [-0.0000+0.0000j, -0.0500+0.6283j, -0.1000+1.2566j],\n        [-0.0000+0.0000j, -0.0500+0.9425j, -0.1000+1.8850j]])"
     },
     "execution_count": 63,
     "metadata": {},
     "output_type": "execute_result"
    }
   ],
   "source": [
    "K = dtA_unsqueeze * torch.arange(L)\n",
    "K"
   ],
   "metadata": {
    "collapsed": false,
    "ExecuteTime": {
     "end_time": "2024-09-06T23:26:34.641949Z",
     "start_time": "2024-09-06T23:26:34.636886Z"
    }
   },
   "id": "2f79a55cdee8a967",
   "execution_count": 63
  },
  {
   "cell_type": "code",
   "outputs": [
    {
     "data": {
      "text/plain": "tensor([[ 1.0000+0.0000j,  0.9512+0.0000j,  0.9048+0.0000j],\n        [ 1.0000+0.0000j,  0.9047+0.2939j,  0.7320+0.5319j],\n        [ 1.0000+0.0000j,  0.7696+0.5591j,  0.2796+0.8606j],\n        [ 1.0000+0.0000j,  0.5591+0.7696j, -0.2796+0.8606j]])"
     },
     "execution_count": 65,
     "metadata": {},
     "output_type": "execute_result"
    }
   ],
   "source": [
    "exp_K = torch.exp(K)\n",
    "exp_K"
   ],
   "metadata": {
    "collapsed": false,
    "ExecuteTime": {
     "end_time": "2024-09-06T23:27:29.108418Z",
     "start_time": "2024-09-06T23:27:29.104350Z"
    }
   },
   "id": "37c28c644916ec9a",
   "execution_count": 65
  },
  {
   "cell_type": "code",
   "outputs": [
    {
     "data": {
      "text/plain": "tensor([-0.5039+0.6777j, -1.7526-0.1343j, -0.7315+0.6349j,  1.1549-0.3224j])"
     },
     "execution_count": 70,
     "metadata": {},
     "output_type": "execute_result"
    }
   ],
   "source": [
    "C = torch.randn(N, dtype=torch.cfloat)\n",
    "C"
   ],
   "metadata": {
    "collapsed": false,
    "ExecuteTime": {
     "end_time": "2024-09-06T23:30:15.500710Z",
     "start_time": "2024-09-06T23:30:15.496565Z"
    }
   },
   "id": "9d2e40720c7728d3",
   "execution_count": 70
  },
  {
   "cell_type": "code",
   "outputs": [
    {
     "data": {
      "text/plain": "tensor([-1.8330+0.8559j, -2.0494+0.7961j, -2.4639+0.2148j])"
     },
     "execution_count": 74,
     "metadata": {},
     "output_type": "execute_result"
    }
   ],
   "source": [
    "K_end = C @ exp_K\n",
    "K_end"
   ],
   "metadata": {
    "collapsed": false,
    "ExecuteTime": {
     "end_time": "2024-09-06T23:31:15.065972Z",
     "start_time": "2024-09-06T23:31:15.059256Z"
    }
   },
   "id": "31c43e7d97f35a5b",
   "execution_count": 74
  },
  {
   "cell_type": "code",
   "outputs": [
    {
     "data": {
      "text/plain": "(tensor([-0.6931, -0.6931, -0.6931, -0.6931]),\n tensor([0.0000, 3.1416, 6.2832, 9.4248]),\n tensor([ 1.0896-0.2075j, -1.5406+0.4019j, -0.7669-0.9890j,  0.2852+0.5926j]))"
     },
     "execution_count": 84,
     "metadata": {},
     "output_type": "execute_result"
    }
   ],
   "source": [
    "import jax\n",
    "import jax.numpy as jnp\n",
    "# set display to .4f in jax \n",
    "def initialization(N: int) -> torch.Tensor:\n",
    "    log_A_real = torch.log(0.5 * torch.ones(N,))\n",
    "    A_imag = math.pi * torch.arange(N)\n",
    "    C = torch.randn(N, dtype=torch.cfloat)\n",
    "    return log_A_real, A_imag, C\n",
    "\n",
    "def init_jax(key, N: int) -> jnp.ndarray:\n",
    "    log_A_real = jnp.log(0.5 * jnp.ones(N,))\n",
    "    A_imag = math.pi * jnp.arange(N)\n",
    "    C = jax.random.normal(key, (N,), dtype=jnp.complex64)\n",
    "    return log_A_real, A_imag, C\n",
    "\n",
    "# fix the seed\n",
    "torch.manual_seed(0)\n",
    "log_A_real, A_imag, C = initialization(N=4)\n",
    "log_A_real, A_imag, C"
   ],
   "metadata": {
    "collapsed": false,
    "ExecuteTime": {
     "end_time": "2024-09-06T23:37:36.041675Z",
     "start_time": "2024-09-06T23:37:36.035458Z"
    }
   },
   "id": "b18ba828d0d4d6a5",
   "execution_count": 84
  },
  {
   "cell_type": "code",
   "outputs": [
    {
     "data": {
      "text/plain": "(Array([-0.6931472, -0.6931472, -0.6931472, -0.6931472], dtype=float32),\n Array([0.       , 3.1415927, 6.2831855, 9.424778 ],      dtype=float32, weak_type=True),\n Array([ 0.09823954+0.8046016j ,  0.9692087 -0.10133854j,\n        -0.3755876 -0.41827938j,  0.01438101+0.5619111j ], dtype=complex64))"
     },
     "execution_count": 85,
     "metadata": {},
     "output_type": "execute_result"
    }
   ],
   "source": [
    "log_A_real_jax, A_imag_jax, C_jax = init_jax(jax.random.PRNGKey(0), N=4)\n",
    "log_A_real_jax, A_imag_jax, C_jax"
   ],
   "metadata": {
    "collapsed": false,
    "ExecuteTime": {
     "end_time": "2024-09-06T23:37:36.860070Z",
     "start_time": "2024-09-06T23:37:36.854973Z"
    }
   },
   "id": "b8162e9ec4eeccb0",
   "execution_count": 85
  },
  {
   "cell_type": "code",
   "outputs": [],
   "source": [
    "def kernel(log_A_real, A_imag, C, dt, L):\n",
    "    A = -torch.exp(log_A_real) + 1j * A_imag\n",
    "    dtA = A * dt\n",
    "    K = dtA.unsqueeze(-1) * torch.arange(L)\n",
    "    exp_K = torch.exp(K)\n",
    "    K_end = C @ exp_K\n",
    "    return K_end\n",
    "\n",
    "def kernel_jax(log_A_real, A_imag, C, dt, L):\n",
    "    A = -jnp.exp(log_A_real) + 1j * A_imag\n",
    "    dtA = A * dt\n",
    "    K = dtA[:, jnp.newaxis] * jnp.arange(L)\n",
    "    exp_K = jnp.exp(K)\n",
    "    K_end = C @ exp_K\n",
    "    return K_end"
   ],
   "metadata": {
    "collapsed": false,
    "ExecuteTime": {
     "end_time": "2024-09-06T23:38:34.682869Z",
     "start_time": "2024-09-06T23:38:34.679507Z"
    }
   },
   "id": "df95adb04878d93a",
   "execution_count": 86
  },
  {
   "cell_type": "code",
   "outputs": [],
   "source": [
    "import time"
   ],
   "metadata": {
    "collapsed": false,
    "ExecuteTime": {
     "end_time": "2024-09-06T23:38:49.317871Z",
     "start_time": "2024-09-06T23:38:49.315365Z"
    }
   },
   "id": "deadbeca0d82c560",
   "execution_count": 87
  },
  {
   "cell_type": "code",
   "outputs": [
    {
     "name": "stdout",
     "output_type": "stream",
     "text": [
      "18.9 µs ± 144 ns per loop (mean ± std. dev. of 7 runs, 100,000 loops each)\n"
     ]
    }
   ],
   "source": [
    "%timeit kernel(log_A_real, A_imag, C, 0.1, L=3)"
   ],
   "metadata": {
    "collapsed": false,
    "ExecuteTime": {
     "end_time": "2024-09-06T23:41:18.767404Z",
     "start_time": "2024-09-06T23:41:03.057084Z"
    }
   },
   "id": "3fbcd25ac5c48de9",
   "execution_count": 95
  },
  {
   "cell_type": "code",
   "outputs": [
    {
     "name": "stdout",
     "output_type": "stream",
     "text": [
      "160 µs ± 19.9 µs per loop (mean ± std. dev. of 7 runs, 10,000 loops each)\n"
     ]
    }
   ],
   "source": [
    "%timeit kernel_jax(log_A_real_jax, A_imag_jax, C_jax, 0.1, 3)"
   ],
   "metadata": {
    "collapsed": false,
    "ExecuteTime": {
     "end_time": "2024-09-06T23:39:32.869154Z",
     "start_time": "2024-09-06T23:39:19.609099Z"
    }
   },
   "id": "ad5957455752bf3c",
   "execution_count": 89
  },
  {
   "cell_type": "code",
   "outputs": [
    {
     "data": {
      "text/plain": "Array([0.70624167+0.84689474j, 0.5204996 +0.75193024j,\n       0.6196348 +0.5844165j ], dtype=complex64)"
     },
     "execution_count": 92,
     "metadata": {},
     "output_type": "execute_result"
    }
   ],
   "source": [
    "jit_kernel_jax = jax.jit(kernel_jax, static_argnums=(3, 4))\n",
    "# warmup \n",
    "jit_kernel_jax(log_A_real_jax, A_imag_jax, C_jax, 0.1, 3)"
   ],
   "metadata": {
    "collapsed": false,
    "ExecuteTime": {
     "end_time": "2024-09-06T23:40:30.547419Z",
     "start_time": "2024-09-06T23:40:30.523849Z"
    }
   },
   "id": "aa60968838ed23ee",
   "execution_count": 92
  },
  {
   "cell_type": "code",
   "outputs": [
    {
     "name": "stdout",
     "output_type": "stream",
     "text": [
      "4.11 µs ± 935 ns per loop (mean ± std. dev. of 7 runs, 100,000 loops each)\n"
     ]
    }
   ],
   "source": [
    "%timeit jit_kernel_jax(log_A_real_jax, A_imag_jax, C_jax, 0.1, L=3)"
   ],
   "metadata": {
    "collapsed": false,
    "ExecuteTime": {
     "end_time": "2024-09-06T23:40:58.930208Z",
     "start_time": "2024-09-06T23:40:55.603283Z"
    }
   },
   "id": "48c0ed18a42d0d26",
   "execution_count": 94
  },
  {
   "cell_type": "code",
   "outputs": [
    {
     "name": "stdout",
     "output_type": "stream",
     "text": [
      "log_A_real_batch.shape=(10, 64)\n",
      "A_imag_batch.shape=(10, 64)\n",
      "C_batch.shape=(10, 64)\n",
      "[[-0.6931472  +0.j        -0.6931472  +3.1415927j -0.6931472  +6.2831855j\n",
      "  -0.6931472  +9.424778j  -0.6931472 +12.566371j  -0.6931472 +15.707964j\n",
      "  -0.6931472 +18.849556j  -0.6931472 +21.99115j   -0.6931472 +25.132742j\n",
      "  -0.6931472 +28.274334j  -0.6931472 +31.415928j  -0.6931472 +34.55752j\n",
      "  -0.6931472 +37.699112j  -0.6931472 +40.840706j  -0.6931472 +43.9823j\n",
      "  -0.6931472 +47.12389j   -0.6931472 +50.265484j  -0.6931472 +53.407078j\n",
      "  -0.6931472 +56.548668j  -0.6931472 +59.69026j   -0.6931472 +62.831856j\n",
      "  -0.6931472 +65.97345j   -0.6931472 +69.11504j   -0.6931472 +72.25663j\n",
      "  -0.6931472 +75.398224j  -0.6931472 +78.53982j   -0.6931472 +81.68141j\n",
      "  -0.6931472 +84.823006j  -0.6931472 +87.9646j    -0.6931472 +91.106186j\n",
      "  -0.6931472 +94.24778j   -0.6931472 +97.38937j   -0.6931472+100.53097j\n",
      "  -0.6931472+103.67256j   -0.6931472+106.814156j  -0.6931472+109.95575j\n",
      "  -0.6931472+113.097336j  -0.6931472+116.23893j   -0.6931472+119.38052j\n",
      "  -0.6931472+122.52212j   -0.6931472+125.66371j   -0.6931472+128.8053j\n",
      "  -0.6931472+131.9469j    -0.6931472+135.08849j   -0.6931472+138.23009j\n",
      "  -0.6931472+141.37167j   -0.6931472+144.51326j   -0.6931472+147.65486j\n",
      "  -0.6931472+150.79645j   -0.6931472+153.93805j   -0.6931472+157.07964j\n",
      "  -0.6931472+160.22124j   -0.6931472+163.36282j   -0.6931472+166.50441j\n",
      "  -0.6931472+169.64601j   -0.6931472+172.7876j    -0.6931472+175.9292j\n",
      "  -0.6931472+179.07079j   -0.6931472+182.21237j   -0.6931472+185.35397j\n",
      "  -0.6931472+188.49556j   -0.6931472+191.63716j   -0.6931472+194.77875j\n",
      "  -0.6931472+197.92035j  ]\n",
      " [-0.6931472  +0.j        -0.6931472  +3.1415927j -0.6931472  +6.2831855j\n",
      "  -0.6931472  +9.424778j  -0.6931472 +12.566371j  -0.6931472 +15.707964j\n",
      "  -0.6931472 +18.849556j  -0.6931472 +21.99115j   -0.6931472 +25.132742j\n",
      "  -0.6931472 +28.274334j  -0.6931472 +31.415928j  -0.6931472 +34.55752j\n",
      "  -0.6931472 +37.699112j  -0.6931472 +40.840706j  -0.6931472 +43.9823j\n",
      "  -0.6931472 +47.12389j   -0.6931472 +50.265484j  -0.6931472 +53.407078j\n",
      "  -0.6931472 +56.548668j  -0.6931472 +59.69026j   -0.6931472 +62.831856j\n",
      "  -0.6931472 +65.97345j   -0.6931472 +69.11504j   -0.6931472 +72.25663j\n",
      "  -0.6931472 +75.398224j  -0.6931472 +78.53982j   -0.6931472 +81.68141j\n",
      "  -0.6931472 +84.823006j  -0.6931472 +87.9646j    -0.6931472 +91.106186j\n",
      "  -0.6931472 +94.24778j   -0.6931472 +97.38937j   -0.6931472+100.53097j\n",
      "  -0.6931472+103.67256j   -0.6931472+106.814156j  -0.6931472+109.95575j\n",
      "  -0.6931472+113.097336j  -0.6931472+116.23893j   -0.6931472+119.38052j\n",
      "  -0.6931472+122.52212j   -0.6931472+125.66371j   -0.6931472+128.8053j\n",
      "  -0.6931472+131.9469j    -0.6931472+135.08849j   -0.6931472+138.23009j\n",
      "  -0.6931472+141.37167j   -0.6931472+144.51326j   -0.6931472+147.65486j\n",
      "  -0.6931472+150.79645j   -0.6931472+153.93805j   -0.6931472+157.07964j\n",
      "  -0.6931472+160.22124j   -0.6931472+163.36282j   -0.6931472+166.50441j\n",
      "  -0.6931472+169.64601j   -0.6931472+172.7876j    -0.6931472+175.9292j\n",
      "  -0.6931472+179.07079j   -0.6931472+182.21237j   -0.6931472+185.35397j\n",
      "  -0.6931472+188.49556j   -0.6931472+191.63716j   -0.6931472+194.77875j\n",
      "  -0.6931472+197.92035j  ]\n",
      " [-0.6931472  +0.j        -0.6931472  +3.1415927j -0.6931472  +6.2831855j\n",
      "  -0.6931472  +9.424778j  -0.6931472 +12.566371j  -0.6931472 +15.707964j\n",
      "  -0.6931472 +18.849556j  -0.6931472 +21.99115j   -0.6931472 +25.132742j\n",
      "  -0.6931472 +28.274334j  -0.6931472 +31.415928j  -0.6931472 +34.55752j\n",
      "  -0.6931472 +37.699112j  -0.6931472 +40.840706j  -0.6931472 +43.9823j\n",
      "  -0.6931472 +47.12389j   -0.6931472 +50.265484j  -0.6931472 +53.407078j\n",
      "  -0.6931472 +56.548668j  -0.6931472 +59.69026j   -0.6931472 +62.831856j\n",
      "  -0.6931472 +65.97345j   -0.6931472 +69.11504j   -0.6931472 +72.25663j\n",
      "  -0.6931472 +75.398224j  -0.6931472 +78.53982j   -0.6931472 +81.68141j\n",
      "  -0.6931472 +84.823006j  -0.6931472 +87.9646j    -0.6931472 +91.106186j\n",
      "  -0.6931472 +94.24778j   -0.6931472 +97.38937j   -0.6931472+100.53097j\n",
      "  -0.6931472+103.67256j   -0.6931472+106.814156j  -0.6931472+109.95575j\n",
      "  -0.6931472+113.097336j  -0.6931472+116.23893j   -0.6931472+119.38052j\n",
      "  -0.6931472+122.52212j   -0.6931472+125.66371j   -0.6931472+128.8053j\n",
      "  -0.6931472+131.9469j    -0.6931472+135.08849j   -0.6931472+138.23009j\n",
      "  -0.6931472+141.37167j   -0.6931472+144.51326j   -0.6931472+147.65486j\n",
      "  -0.6931472+150.79645j   -0.6931472+153.93805j   -0.6931472+157.07964j\n",
      "  -0.6931472+160.22124j   -0.6931472+163.36282j   -0.6931472+166.50441j\n",
      "  -0.6931472+169.64601j   -0.6931472+172.7876j    -0.6931472+175.9292j\n",
      "  -0.6931472+179.07079j   -0.6931472+182.21237j   -0.6931472+185.35397j\n",
      "  -0.6931472+188.49556j   -0.6931472+191.63716j   -0.6931472+194.77875j\n",
      "  -0.6931472+197.92035j  ]\n",
      " [-0.6931472  +0.j        -0.6931472  +3.1415927j -0.6931472  +6.2831855j\n",
      "  -0.6931472  +9.424778j  -0.6931472 +12.566371j  -0.6931472 +15.707964j\n",
      "  -0.6931472 +18.849556j  -0.6931472 +21.99115j   -0.6931472 +25.132742j\n",
      "  -0.6931472 +28.274334j  -0.6931472 +31.415928j  -0.6931472 +34.55752j\n",
      "  -0.6931472 +37.699112j  -0.6931472 +40.840706j  -0.6931472 +43.9823j\n",
      "  -0.6931472 +47.12389j   -0.6931472 +50.265484j  -0.6931472 +53.407078j\n",
      "  -0.6931472 +56.548668j  -0.6931472 +59.69026j   -0.6931472 +62.831856j\n",
      "  -0.6931472 +65.97345j   -0.6931472 +69.11504j   -0.6931472 +72.25663j\n",
      "  -0.6931472 +75.398224j  -0.6931472 +78.53982j   -0.6931472 +81.68141j\n",
      "  -0.6931472 +84.823006j  -0.6931472 +87.9646j    -0.6931472 +91.106186j\n",
      "  -0.6931472 +94.24778j   -0.6931472 +97.38937j   -0.6931472+100.53097j\n",
      "  -0.6931472+103.67256j   -0.6931472+106.814156j  -0.6931472+109.95575j\n",
      "  -0.6931472+113.097336j  -0.6931472+116.23893j   -0.6931472+119.38052j\n",
      "  -0.6931472+122.52212j   -0.6931472+125.66371j   -0.6931472+128.8053j\n",
      "  -0.6931472+131.9469j    -0.6931472+135.08849j   -0.6931472+138.23009j\n",
      "  -0.6931472+141.37167j   -0.6931472+144.51326j   -0.6931472+147.65486j\n",
      "  -0.6931472+150.79645j   -0.6931472+153.93805j   -0.6931472+157.07964j\n",
      "  -0.6931472+160.22124j   -0.6931472+163.36282j   -0.6931472+166.50441j\n",
      "  -0.6931472+169.64601j   -0.6931472+172.7876j    -0.6931472+175.9292j\n",
      "  -0.6931472+179.07079j   -0.6931472+182.21237j   -0.6931472+185.35397j\n",
      "  -0.6931472+188.49556j   -0.6931472+191.63716j   -0.6931472+194.77875j\n",
      "  -0.6931472+197.92035j  ]\n",
      " [-0.6931472  +0.j        -0.6931472  +3.1415927j -0.6931472  +6.2831855j\n",
      "  -0.6931472  +9.424778j  -0.6931472 +12.566371j  -0.6931472 +15.707964j\n",
      "  -0.6931472 +18.849556j  -0.6931472 +21.99115j   -0.6931472 +25.132742j\n",
      "  -0.6931472 +28.274334j  -0.6931472 +31.415928j  -0.6931472 +34.55752j\n",
      "  -0.6931472 +37.699112j  -0.6931472 +40.840706j  -0.6931472 +43.9823j\n",
      "  -0.6931472 +47.12389j   -0.6931472 +50.265484j  -0.6931472 +53.407078j\n",
      "  -0.6931472 +56.548668j  -0.6931472 +59.69026j   -0.6931472 +62.831856j\n",
      "  -0.6931472 +65.97345j   -0.6931472 +69.11504j   -0.6931472 +72.25663j\n",
      "  -0.6931472 +75.398224j  -0.6931472 +78.53982j   -0.6931472 +81.68141j\n",
      "  -0.6931472 +84.823006j  -0.6931472 +87.9646j    -0.6931472 +91.106186j\n",
      "  -0.6931472 +94.24778j   -0.6931472 +97.38937j   -0.6931472+100.53097j\n",
      "  -0.6931472+103.67256j   -0.6931472+106.814156j  -0.6931472+109.95575j\n",
      "  -0.6931472+113.097336j  -0.6931472+116.23893j   -0.6931472+119.38052j\n",
      "  -0.6931472+122.52212j   -0.6931472+125.66371j   -0.6931472+128.8053j\n",
      "  -0.6931472+131.9469j    -0.6931472+135.08849j   -0.6931472+138.23009j\n",
      "  -0.6931472+141.37167j   -0.6931472+144.51326j   -0.6931472+147.65486j\n",
      "  -0.6931472+150.79645j   -0.6931472+153.93805j   -0.6931472+157.07964j\n",
      "  -0.6931472+160.22124j   -0.6931472+163.36282j   -0.6931472+166.50441j\n",
      "  -0.6931472+169.64601j   -0.6931472+172.7876j    -0.6931472+175.9292j\n",
      "  -0.6931472+179.07079j   -0.6931472+182.21237j   -0.6931472+185.35397j\n",
      "  -0.6931472+188.49556j   -0.6931472+191.63716j   -0.6931472+194.77875j\n",
      "  -0.6931472+197.92035j  ]\n",
      " [-0.6931472  +0.j        -0.6931472  +3.1415927j -0.6931472  +6.2831855j\n",
      "  -0.6931472  +9.424778j  -0.6931472 +12.566371j  -0.6931472 +15.707964j\n",
      "  -0.6931472 +18.849556j  -0.6931472 +21.99115j   -0.6931472 +25.132742j\n",
      "  -0.6931472 +28.274334j  -0.6931472 +31.415928j  -0.6931472 +34.55752j\n",
      "  -0.6931472 +37.699112j  -0.6931472 +40.840706j  -0.6931472 +43.9823j\n",
      "  -0.6931472 +47.12389j   -0.6931472 +50.265484j  -0.6931472 +53.407078j\n",
      "  -0.6931472 +56.548668j  -0.6931472 +59.69026j   -0.6931472 +62.831856j\n",
      "  -0.6931472 +65.97345j   -0.6931472 +69.11504j   -0.6931472 +72.25663j\n",
      "  -0.6931472 +75.398224j  -0.6931472 +78.53982j   -0.6931472 +81.68141j\n",
      "  -0.6931472 +84.823006j  -0.6931472 +87.9646j    -0.6931472 +91.106186j\n",
      "  -0.6931472 +94.24778j   -0.6931472 +97.38937j   -0.6931472+100.53097j\n",
      "  -0.6931472+103.67256j   -0.6931472+106.814156j  -0.6931472+109.95575j\n",
      "  -0.6931472+113.097336j  -0.6931472+116.23893j   -0.6931472+119.38052j\n",
      "  -0.6931472+122.52212j   -0.6931472+125.66371j   -0.6931472+128.8053j\n",
      "  -0.6931472+131.9469j    -0.6931472+135.08849j   -0.6931472+138.23009j\n",
      "  -0.6931472+141.37167j   -0.6931472+144.51326j   -0.6931472+147.65486j\n",
      "  -0.6931472+150.79645j   -0.6931472+153.93805j   -0.6931472+157.07964j\n",
      "  -0.6931472+160.22124j   -0.6931472+163.36282j   -0.6931472+166.50441j\n",
      "  -0.6931472+169.64601j   -0.6931472+172.7876j    -0.6931472+175.9292j\n",
      "  -0.6931472+179.07079j   -0.6931472+182.21237j   -0.6931472+185.35397j\n",
      "  -0.6931472+188.49556j   -0.6931472+191.63716j   -0.6931472+194.77875j\n",
      "  -0.6931472+197.92035j  ]\n",
      " [-0.6931472  +0.j        -0.6931472  +3.1415927j -0.6931472  +6.2831855j\n",
      "  -0.6931472  +9.424778j  -0.6931472 +12.566371j  -0.6931472 +15.707964j\n",
      "  -0.6931472 +18.849556j  -0.6931472 +21.99115j   -0.6931472 +25.132742j\n",
      "  -0.6931472 +28.274334j  -0.6931472 +31.415928j  -0.6931472 +34.55752j\n",
      "  -0.6931472 +37.699112j  -0.6931472 +40.840706j  -0.6931472 +43.9823j\n",
      "  -0.6931472 +47.12389j   -0.6931472 +50.265484j  -0.6931472 +53.407078j\n",
      "  -0.6931472 +56.548668j  -0.6931472 +59.69026j   -0.6931472 +62.831856j\n",
      "  -0.6931472 +65.97345j   -0.6931472 +69.11504j   -0.6931472 +72.25663j\n",
      "  -0.6931472 +75.398224j  -0.6931472 +78.53982j   -0.6931472 +81.68141j\n",
      "  -0.6931472 +84.823006j  -0.6931472 +87.9646j    -0.6931472 +91.106186j\n",
      "  -0.6931472 +94.24778j   -0.6931472 +97.38937j   -0.6931472+100.53097j\n",
      "  -0.6931472+103.67256j   -0.6931472+106.814156j  -0.6931472+109.95575j\n",
      "  -0.6931472+113.097336j  -0.6931472+116.23893j   -0.6931472+119.38052j\n",
      "  -0.6931472+122.52212j   -0.6931472+125.66371j   -0.6931472+128.8053j\n",
      "  -0.6931472+131.9469j    -0.6931472+135.08849j   -0.6931472+138.23009j\n",
      "  -0.6931472+141.37167j   -0.6931472+144.51326j   -0.6931472+147.65486j\n",
      "  -0.6931472+150.79645j   -0.6931472+153.93805j   -0.6931472+157.07964j\n",
      "  -0.6931472+160.22124j   -0.6931472+163.36282j   -0.6931472+166.50441j\n",
      "  -0.6931472+169.64601j   -0.6931472+172.7876j    -0.6931472+175.9292j\n",
      "  -0.6931472+179.07079j   -0.6931472+182.21237j   -0.6931472+185.35397j\n",
      "  -0.6931472+188.49556j   -0.6931472+191.63716j   -0.6931472+194.77875j\n",
      "  -0.6931472+197.92035j  ]\n",
      " [-0.6931472  +0.j        -0.6931472  +3.1415927j -0.6931472  +6.2831855j\n",
      "  -0.6931472  +9.424778j  -0.6931472 +12.566371j  -0.6931472 +15.707964j\n",
      "  -0.6931472 +18.849556j  -0.6931472 +21.99115j   -0.6931472 +25.132742j\n",
      "  -0.6931472 +28.274334j  -0.6931472 +31.415928j  -0.6931472 +34.55752j\n",
      "  -0.6931472 +37.699112j  -0.6931472 +40.840706j  -0.6931472 +43.9823j\n",
      "  -0.6931472 +47.12389j   -0.6931472 +50.265484j  -0.6931472 +53.407078j\n",
      "  -0.6931472 +56.548668j  -0.6931472 +59.69026j   -0.6931472 +62.831856j\n",
      "  -0.6931472 +65.97345j   -0.6931472 +69.11504j   -0.6931472 +72.25663j\n",
      "  -0.6931472 +75.398224j  -0.6931472 +78.53982j   -0.6931472 +81.68141j\n",
      "  -0.6931472 +84.823006j  -0.6931472 +87.9646j    -0.6931472 +91.106186j\n",
      "  -0.6931472 +94.24778j   -0.6931472 +97.38937j   -0.6931472+100.53097j\n",
      "  -0.6931472+103.67256j   -0.6931472+106.814156j  -0.6931472+109.95575j\n",
      "  -0.6931472+113.097336j  -0.6931472+116.23893j   -0.6931472+119.38052j\n",
      "  -0.6931472+122.52212j   -0.6931472+125.66371j   -0.6931472+128.8053j\n",
      "  -0.6931472+131.9469j    -0.6931472+135.08849j   -0.6931472+138.23009j\n",
      "  -0.6931472+141.37167j   -0.6931472+144.51326j   -0.6931472+147.65486j\n",
      "  -0.6931472+150.79645j   -0.6931472+153.93805j   -0.6931472+157.07964j\n",
      "  -0.6931472+160.22124j   -0.6931472+163.36282j   -0.6931472+166.50441j\n",
      "  -0.6931472+169.64601j   -0.6931472+172.7876j    -0.6931472+175.9292j\n",
      "  -0.6931472+179.07079j   -0.6931472+182.21237j   -0.6931472+185.35397j\n",
      "  -0.6931472+188.49556j   -0.6931472+191.63716j   -0.6931472+194.77875j\n",
      "  -0.6931472+197.92035j  ]\n",
      " [-0.6931472  +0.j        -0.6931472  +3.1415927j -0.6931472  +6.2831855j\n",
      "  -0.6931472  +9.424778j  -0.6931472 +12.566371j  -0.6931472 +15.707964j\n",
      "  -0.6931472 +18.849556j  -0.6931472 +21.99115j   -0.6931472 +25.132742j\n",
      "  -0.6931472 +28.274334j  -0.6931472 +31.415928j  -0.6931472 +34.55752j\n",
      "  -0.6931472 +37.699112j  -0.6931472 +40.840706j  -0.6931472 +43.9823j\n",
      "  -0.6931472 +47.12389j   -0.6931472 +50.265484j  -0.6931472 +53.407078j\n",
      "  -0.6931472 +56.548668j  -0.6931472 +59.69026j   -0.6931472 +62.831856j\n",
      "  -0.6931472 +65.97345j   -0.6931472 +69.11504j   -0.6931472 +72.25663j\n",
      "  -0.6931472 +75.398224j  -0.6931472 +78.53982j   -0.6931472 +81.68141j\n",
      "  -0.6931472 +84.823006j  -0.6931472 +87.9646j    -0.6931472 +91.106186j\n",
      "  -0.6931472 +94.24778j   -0.6931472 +97.38937j   -0.6931472+100.53097j\n",
      "  -0.6931472+103.67256j   -0.6931472+106.814156j  -0.6931472+109.95575j\n",
      "  -0.6931472+113.097336j  -0.6931472+116.23893j   -0.6931472+119.38052j\n",
      "  -0.6931472+122.52212j   -0.6931472+125.66371j   -0.6931472+128.8053j\n",
      "  -0.6931472+131.9469j    -0.6931472+135.08849j   -0.6931472+138.23009j\n",
      "  -0.6931472+141.37167j   -0.6931472+144.51326j   -0.6931472+147.65486j\n",
      "  -0.6931472+150.79645j   -0.6931472+153.93805j   -0.6931472+157.07964j\n",
      "  -0.6931472+160.22124j   -0.6931472+163.36282j   -0.6931472+166.50441j\n",
      "  -0.6931472+169.64601j   -0.6931472+172.7876j    -0.6931472+175.9292j\n",
      "  -0.6931472+179.07079j   -0.6931472+182.21237j   -0.6931472+185.35397j\n",
      "  -0.6931472+188.49556j   -0.6931472+191.63716j   -0.6931472+194.77875j\n",
      "  -0.6931472+197.92035j  ]\n",
      " [-0.6931472  +0.j        -0.6931472  +3.1415927j -0.6931472  +6.2831855j\n",
      "  -0.6931472  +9.424778j  -0.6931472 +12.566371j  -0.6931472 +15.707964j\n",
      "  -0.6931472 +18.849556j  -0.6931472 +21.99115j   -0.6931472 +25.132742j\n",
      "  -0.6931472 +28.274334j  -0.6931472 +31.415928j  -0.6931472 +34.55752j\n",
      "  -0.6931472 +37.699112j  -0.6931472 +40.840706j  -0.6931472 +43.9823j\n",
      "  -0.6931472 +47.12389j   -0.6931472 +50.265484j  -0.6931472 +53.407078j\n",
      "  -0.6931472 +56.548668j  -0.6931472 +59.69026j   -0.6931472 +62.831856j\n",
      "  -0.6931472 +65.97345j   -0.6931472 +69.11504j   -0.6931472 +72.25663j\n",
      "  -0.6931472 +75.398224j  -0.6931472 +78.53982j   -0.6931472 +81.68141j\n",
      "  -0.6931472 +84.823006j  -0.6931472 +87.9646j    -0.6931472 +91.106186j\n",
      "  -0.6931472 +94.24778j   -0.6931472 +97.38937j   -0.6931472+100.53097j\n",
      "  -0.6931472+103.67256j   -0.6931472+106.814156j  -0.6931472+109.95575j\n",
      "  -0.6931472+113.097336j  -0.6931472+116.23893j   -0.6931472+119.38052j\n",
      "  -0.6931472+122.52212j   -0.6931472+125.66371j   -0.6931472+128.8053j\n",
      "  -0.6931472+131.9469j    -0.6931472+135.08849j   -0.6931472+138.23009j\n",
      "  -0.6931472+141.37167j   -0.6931472+144.51326j   -0.6931472+147.65486j\n",
      "  -0.6931472+150.79645j   -0.6931472+153.93805j   -0.6931472+157.07964j\n",
      "  -0.6931472+160.22124j   -0.6931472+163.36282j   -0.6931472+166.50441j\n",
      "  -0.6931472+169.64601j   -0.6931472+172.7876j    -0.6931472+175.9292j\n",
      "  -0.6931472+179.07079j   -0.6931472+182.21237j   -0.6931472+185.35397j\n",
      "  -0.6931472+188.49556j   -0.6931472+191.63716j   -0.6931472+194.77875j\n",
      "  -0.6931472+197.92035j  ]]\n"
     ]
    }
   ],
   "source": [
    "log_A_real_list = []\n",
    "A_imag_list = []\n",
    "C_list = []\n",
    "H = 10\n",
    "N = 64\n",
    "key = jax.random.PRNGKey(0)\n",
    "for i in range(H):\n",
    "    key, subkey = jax.random.split(key)\n",
    "    log_A_real, A_imag, C = init_jax(subkey, N=N)\n",
    "    log_A_real_list.append(log_A_real)\n",
    "    A_imag_list.append(A_imag)\n",
    "    C_list.append(C)\n",
    "log_A_real_batch = jnp.stack(log_A_real_list)\n",
    "A_imag_batch = jnp.stack(A_imag_list)\n",
    "C_batch = jnp.stack(C_list)\n",
    "print(f'{log_A_real_batch.shape=}')\n",
    "print(f'{A_imag_batch.shape=}')\n",
    "print(f'{C_batch.shape=}')\n",
    "print(log_A_real_batch + 1j * A_imag_batch)"
   ],
   "metadata": {
    "collapsed": false,
    "ExecuteTime": {
     "end_time": "2024-09-07T00:01:27.629844Z",
     "start_time": "2024-09-07T00:01:27.270516Z"
    }
   },
   "id": "e4e1caa8ba0e0d76",
   "execution_count": 132
  },
  {
   "cell_type": "code",
   "outputs": [
    {
     "data": {
      "text/plain": "Array([[ 4.93954849e+00-7.8557873e-01j,  1.10475659e+00-1.1616502e+01j,\n        -1.03798866e-01+4.1941798e-01j, ...,\n        -7.51979509e-03-1.0882646e-02j,  6.20917045e-03-1.8583246e-02j,\n         1.21726161e-02-1.3888414e-02j],\n       [-4.04846907e-01+8.7479954e+00j,  5.16121721e+00-2.3994251e-01j,\n        -2.49888492e+00-2.6765285e+00j, ...,\n         1.91112496e-02-1.3435737e-03j,  1.23324292e-03+3.1608322e-03j,\n         4.53132531e-03-9.6221790e-03j],\n       [-6.86919308e+00+1.1445875e+01j, -3.01707697e+00-1.9842070e+01j,\n         3.69161034e+00+4.1499758e+00j, ...,\n         9.38161649e-03-8.1465840e-03j, -1.20261209e-02+9.6609816e-03j,\n        -1.32796876e-02-4.7527147e-03j],\n       ...,\n       [-2.59423447e+00+6.4350688e-01j, -2.92640305e+00-9.5094881e+00j,\n        -4.76090574e+00-1.9538455e+00j, ...,\n         1.01800896e-02-1.5535339e-02j, -2.54037790e-04-2.9856451e-03j,\n        -1.15122208e-02-4.4159214e-03j],\n       [-4.17223358e+00-4.4832230e-01j, -7.96455956e+00+7.3788130e-01j,\n         3.85916567e+00+2.7540059e+00j, ...,\n        -2.61623086e-03-4.9402560e-03j,  8.64552613e-03+1.4105905e-04j,\n         8.85813031e-04-9.5305895e-04j],\n       [-7.32192397e-01+6.0340470e-01j, -1.07190847e+00-7.7814436e+00j,\n        -2.32788295e-01-4.4705453e+00j, ...,\n         1.25240386e-02-1.4069797e-03j, -3.30767110e-02-5.9044035e-03j,\n         3.77813959e-03-6.7793815e-03j]], dtype=complex64)"
     },
     "execution_count": 136,
     "metadata": {},
     "output_type": "execute_result"
    }
   ],
   "source": [
    "vmap_kernel_jax = jax.vmap(jit_kernel_jax, in_axes=(0, 0, 0, None, None))\n",
    "# warmup\n",
    "vmap_kernel_jax(log_A_real_batch, A_imag_batch, C_batch, 0.1, 128)"
   ],
   "metadata": {
    "collapsed": false,
    "ExecuteTime": {
     "end_time": "2024-09-07T00:02:28.184379Z",
     "start_time": "2024-09-07T00:02:28.149556Z"
    }
   },
   "id": "45b4a33f28acf903",
   "execution_count": 136
  },
  {
   "cell_type": "code",
   "outputs": [
    {
     "name": "stdout",
     "output_type": "stream",
     "text": [
      "443 µs ± 2.32 µs per loop (mean ± std. dev. of 7 runs, 1,000 loops each)\n"
     ]
    }
   ],
   "source": [
    "%timeit vmap_kernel_jax(log_A_real_batch, A_imag_batch, C_batch, 0.1, 3)"
   ],
   "metadata": {
    "collapsed": false,
    "ExecuteTime": {
     "end_time": "2024-09-07T00:02:43.313471Z",
     "start_time": "2024-09-07T00:02:39.703147Z"
    }
   },
   "id": "16655da483e99107",
   "execution_count": 137
  },
  {
   "cell_type": "code",
   "outputs": [
    {
     "name": "stdout",
     "output_type": "stream",
     "text": [
      "batch_log_A_real_torch.shape=torch.Size([10, 4])\n",
      "batch_A_imag_torch.shape=torch.Size([10, 4])\n",
      "batch_C_torch.shape=torch.Size([10, 4])\n",
      "[[-0.6931472  +0.j        -0.6931472  +3.1415927j -0.6931472  +6.2831855j\n",
      "  -0.6931472  +9.424778j  -0.6931472 +12.566371j  -0.6931472 +15.707964j\n",
      "  -0.6931472 +18.849556j  -0.6931472 +21.99115j   -0.6931472 +25.132742j\n",
      "  -0.6931472 +28.274334j  -0.6931472 +31.415928j  -0.6931472 +34.55752j\n",
      "  -0.6931472 +37.699112j  -0.6931472 +40.840706j  -0.6931472 +43.9823j\n",
      "  -0.6931472 +47.12389j   -0.6931472 +50.265484j  -0.6931472 +53.407078j\n",
      "  -0.6931472 +56.548668j  -0.6931472 +59.69026j   -0.6931472 +62.831856j\n",
      "  -0.6931472 +65.97345j   -0.6931472 +69.11504j   -0.6931472 +72.25663j\n",
      "  -0.6931472 +75.398224j  -0.6931472 +78.53982j   -0.6931472 +81.68141j\n",
      "  -0.6931472 +84.823006j  -0.6931472 +87.9646j    -0.6931472 +91.106186j\n",
      "  -0.6931472 +94.24778j   -0.6931472 +97.38937j   -0.6931472+100.53097j\n",
      "  -0.6931472+103.67256j   -0.6931472+106.814156j  -0.6931472+109.95575j\n",
      "  -0.6931472+113.097336j  -0.6931472+116.23893j   -0.6931472+119.38052j\n",
      "  -0.6931472+122.52212j   -0.6931472+125.66371j   -0.6931472+128.8053j\n",
      "  -0.6931472+131.9469j    -0.6931472+135.08849j   -0.6931472+138.23009j\n",
      "  -0.6931472+141.37167j   -0.6931472+144.51326j   -0.6931472+147.65486j\n",
      "  -0.6931472+150.79645j   -0.6931472+153.93805j   -0.6931472+157.07964j\n",
      "  -0.6931472+160.22124j   -0.6931472+163.36282j   -0.6931472+166.50441j\n",
      "  -0.6931472+169.64601j   -0.6931472+172.7876j    -0.6931472+175.9292j\n",
      "  -0.6931472+179.07079j   -0.6931472+182.21237j   -0.6931472+185.35397j\n",
      "  -0.6931472+188.49556j   -0.6931472+191.63716j   -0.6931472+194.77875j\n",
      "  -0.6931472+197.92035j  ]\n",
      " [-0.6931472  +0.j        -0.6931472  +3.1415927j -0.6931472  +6.2831855j\n",
      "  -0.6931472  +9.424778j  -0.6931472 +12.566371j  -0.6931472 +15.707964j\n",
      "  -0.6931472 +18.849556j  -0.6931472 +21.99115j   -0.6931472 +25.132742j\n",
      "  -0.6931472 +28.274334j  -0.6931472 +31.415928j  -0.6931472 +34.55752j\n",
      "  -0.6931472 +37.699112j  -0.6931472 +40.840706j  -0.6931472 +43.9823j\n",
      "  -0.6931472 +47.12389j   -0.6931472 +50.265484j  -0.6931472 +53.407078j\n",
      "  -0.6931472 +56.548668j  -0.6931472 +59.69026j   -0.6931472 +62.831856j\n",
      "  -0.6931472 +65.97345j   -0.6931472 +69.11504j   -0.6931472 +72.25663j\n",
      "  -0.6931472 +75.398224j  -0.6931472 +78.53982j   -0.6931472 +81.68141j\n",
      "  -0.6931472 +84.823006j  -0.6931472 +87.9646j    -0.6931472 +91.106186j\n",
      "  -0.6931472 +94.24778j   -0.6931472 +97.38937j   -0.6931472+100.53097j\n",
      "  -0.6931472+103.67256j   -0.6931472+106.814156j  -0.6931472+109.95575j\n",
      "  -0.6931472+113.097336j  -0.6931472+116.23893j   -0.6931472+119.38052j\n",
      "  -0.6931472+122.52212j   -0.6931472+125.66371j   -0.6931472+128.8053j\n",
      "  -0.6931472+131.9469j    -0.6931472+135.08849j   -0.6931472+138.23009j\n",
      "  -0.6931472+141.37167j   -0.6931472+144.51326j   -0.6931472+147.65486j\n",
      "  -0.6931472+150.79645j   -0.6931472+153.93805j   -0.6931472+157.07964j\n",
      "  -0.6931472+160.22124j   -0.6931472+163.36282j   -0.6931472+166.50441j\n",
      "  -0.6931472+169.64601j   -0.6931472+172.7876j    -0.6931472+175.9292j\n",
      "  -0.6931472+179.07079j   -0.6931472+182.21237j   -0.6931472+185.35397j\n",
      "  -0.6931472+188.49556j   -0.6931472+191.63716j   -0.6931472+194.77875j\n",
      "  -0.6931472+197.92035j  ]\n",
      " [-0.6931472  +0.j        -0.6931472  +3.1415927j -0.6931472  +6.2831855j\n",
      "  -0.6931472  +9.424778j  -0.6931472 +12.566371j  -0.6931472 +15.707964j\n",
      "  -0.6931472 +18.849556j  -0.6931472 +21.99115j   -0.6931472 +25.132742j\n",
      "  -0.6931472 +28.274334j  -0.6931472 +31.415928j  -0.6931472 +34.55752j\n",
      "  -0.6931472 +37.699112j  -0.6931472 +40.840706j  -0.6931472 +43.9823j\n",
      "  -0.6931472 +47.12389j   -0.6931472 +50.265484j  -0.6931472 +53.407078j\n",
      "  -0.6931472 +56.548668j  -0.6931472 +59.69026j   -0.6931472 +62.831856j\n",
      "  -0.6931472 +65.97345j   -0.6931472 +69.11504j   -0.6931472 +72.25663j\n",
      "  -0.6931472 +75.398224j  -0.6931472 +78.53982j   -0.6931472 +81.68141j\n",
      "  -0.6931472 +84.823006j  -0.6931472 +87.9646j    -0.6931472 +91.106186j\n",
      "  -0.6931472 +94.24778j   -0.6931472 +97.38937j   -0.6931472+100.53097j\n",
      "  -0.6931472+103.67256j   -0.6931472+106.814156j  -0.6931472+109.95575j\n",
      "  -0.6931472+113.097336j  -0.6931472+116.23893j   -0.6931472+119.38052j\n",
      "  -0.6931472+122.52212j   -0.6931472+125.66371j   -0.6931472+128.8053j\n",
      "  -0.6931472+131.9469j    -0.6931472+135.08849j   -0.6931472+138.23009j\n",
      "  -0.6931472+141.37167j   -0.6931472+144.51326j   -0.6931472+147.65486j\n",
      "  -0.6931472+150.79645j   -0.6931472+153.93805j   -0.6931472+157.07964j\n",
      "  -0.6931472+160.22124j   -0.6931472+163.36282j   -0.6931472+166.50441j\n",
      "  -0.6931472+169.64601j   -0.6931472+172.7876j    -0.6931472+175.9292j\n",
      "  -0.6931472+179.07079j   -0.6931472+182.21237j   -0.6931472+185.35397j\n",
      "  -0.6931472+188.49556j   -0.6931472+191.63716j   -0.6931472+194.77875j\n",
      "  -0.6931472+197.92035j  ]\n",
      " [-0.6931472  +0.j        -0.6931472  +3.1415927j -0.6931472  +6.2831855j\n",
      "  -0.6931472  +9.424778j  -0.6931472 +12.566371j  -0.6931472 +15.707964j\n",
      "  -0.6931472 +18.849556j  -0.6931472 +21.99115j   -0.6931472 +25.132742j\n",
      "  -0.6931472 +28.274334j  -0.6931472 +31.415928j  -0.6931472 +34.55752j\n",
      "  -0.6931472 +37.699112j  -0.6931472 +40.840706j  -0.6931472 +43.9823j\n",
      "  -0.6931472 +47.12389j   -0.6931472 +50.265484j  -0.6931472 +53.407078j\n",
      "  -0.6931472 +56.548668j  -0.6931472 +59.69026j   -0.6931472 +62.831856j\n",
      "  -0.6931472 +65.97345j   -0.6931472 +69.11504j   -0.6931472 +72.25663j\n",
      "  -0.6931472 +75.398224j  -0.6931472 +78.53982j   -0.6931472 +81.68141j\n",
      "  -0.6931472 +84.823006j  -0.6931472 +87.9646j    -0.6931472 +91.106186j\n",
      "  -0.6931472 +94.24778j   -0.6931472 +97.38937j   -0.6931472+100.53097j\n",
      "  -0.6931472+103.67256j   -0.6931472+106.814156j  -0.6931472+109.95575j\n",
      "  -0.6931472+113.097336j  -0.6931472+116.23893j   -0.6931472+119.38052j\n",
      "  -0.6931472+122.52212j   -0.6931472+125.66371j   -0.6931472+128.8053j\n",
      "  -0.6931472+131.9469j    -0.6931472+135.08849j   -0.6931472+138.23009j\n",
      "  -0.6931472+141.37167j   -0.6931472+144.51326j   -0.6931472+147.65486j\n",
      "  -0.6931472+150.79645j   -0.6931472+153.93805j   -0.6931472+157.07964j\n",
      "  -0.6931472+160.22124j   -0.6931472+163.36282j   -0.6931472+166.50441j\n",
      "  -0.6931472+169.64601j   -0.6931472+172.7876j    -0.6931472+175.9292j\n",
      "  -0.6931472+179.07079j   -0.6931472+182.21237j   -0.6931472+185.35397j\n",
      "  -0.6931472+188.49556j   -0.6931472+191.63716j   -0.6931472+194.77875j\n",
      "  -0.6931472+197.92035j  ]\n",
      " [-0.6931472  +0.j        -0.6931472  +3.1415927j -0.6931472  +6.2831855j\n",
      "  -0.6931472  +9.424778j  -0.6931472 +12.566371j  -0.6931472 +15.707964j\n",
      "  -0.6931472 +18.849556j  -0.6931472 +21.99115j   -0.6931472 +25.132742j\n",
      "  -0.6931472 +28.274334j  -0.6931472 +31.415928j  -0.6931472 +34.55752j\n",
      "  -0.6931472 +37.699112j  -0.6931472 +40.840706j  -0.6931472 +43.9823j\n",
      "  -0.6931472 +47.12389j   -0.6931472 +50.265484j  -0.6931472 +53.407078j\n",
      "  -0.6931472 +56.548668j  -0.6931472 +59.69026j   -0.6931472 +62.831856j\n",
      "  -0.6931472 +65.97345j   -0.6931472 +69.11504j   -0.6931472 +72.25663j\n",
      "  -0.6931472 +75.398224j  -0.6931472 +78.53982j   -0.6931472 +81.68141j\n",
      "  -0.6931472 +84.823006j  -0.6931472 +87.9646j    -0.6931472 +91.106186j\n",
      "  -0.6931472 +94.24778j   -0.6931472 +97.38937j   -0.6931472+100.53097j\n",
      "  -0.6931472+103.67256j   -0.6931472+106.814156j  -0.6931472+109.95575j\n",
      "  -0.6931472+113.097336j  -0.6931472+116.23893j   -0.6931472+119.38052j\n",
      "  -0.6931472+122.52212j   -0.6931472+125.66371j   -0.6931472+128.8053j\n",
      "  -0.6931472+131.9469j    -0.6931472+135.08849j   -0.6931472+138.23009j\n",
      "  -0.6931472+141.37167j   -0.6931472+144.51326j   -0.6931472+147.65486j\n",
      "  -0.6931472+150.79645j   -0.6931472+153.93805j   -0.6931472+157.07964j\n",
      "  -0.6931472+160.22124j   -0.6931472+163.36282j   -0.6931472+166.50441j\n",
      "  -0.6931472+169.64601j   -0.6931472+172.7876j    -0.6931472+175.9292j\n",
      "  -0.6931472+179.07079j   -0.6931472+182.21237j   -0.6931472+185.35397j\n",
      "  -0.6931472+188.49556j   -0.6931472+191.63716j   -0.6931472+194.77875j\n",
      "  -0.6931472+197.92035j  ]\n",
      " [-0.6931472  +0.j        -0.6931472  +3.1415927j -0.6931472  +6.2831855j\n",
      "  -0.6931472  +9.424778j  -0.6931472 +12.566371j  -0.6931472 +15.707964j\n",
      "  -0.6931472 +18.849556j  -0.6931472 +21.99115j   -0.6931472 +25.132742j\n",
      "  -0.6931472 +28.274334j  -0.6931472 +31.415928j  -0.6931472 +34.55752j\n",
      "  -0.6931472 +37.699112j  -0.6931472 +40.840706j  -0.6931472 +43.9823j\n",
      "  -0.6931472 +47.12389j   -0.6931472 +50.265484j  -0.6931472 +53.407078j\n",
      "  -0.6931472 +56.548668j  -0.6931472 +59.69026j   -0.6931472 +62.831856j\n",
      "  -0.6931472 +65.97345j   -0.6931472 +69.11504j   -0.6931472 +72.25663j\n",
      "  -0.6931472 +75.398224j  -0.6931472 +78.53982j   -0.6931472 +81.68141j\n",
      "  -0.6931472 +84.823006j  -0.6931472 +87.9646j    -0.6931472 +91.106186j\n",
      "  -0.6931472 +94.24778j   -0.6931472 +97.38937j   -0.6931472+100.53097j\n",
      "  -0.6931472+103.67256j   -0.6931472+106.814156j  -0.6931472+109.95575j\n",
      "  -0.6931472+113.097336j  -0.6931472+116.23893j   -0.6931472+119.38052j\n",
      "  -0.6931472+122.52212j   -0.6931472+125.66371j   -0.6931472+128.8053j\n",
      "  -0.6931472+131.9469j    -0.6931472+135.08849j   -0.6931472+138.23009j\n",
      "  -0.6931472+141.37167j   -0.6931472+144.51326j   -0.6931472+147.65486j\n",
      "  -0.6931472+150.79645j   -0.6931472+153.93805j   -0.6931472+157.07964j\n",
      "  -0.6931472+160.22124j   -0.6931472+163.36282j   -0.6931472+166.50441j\n",
      "  -0.6931472+169.64601j   -0.6931472+172.7876j    -0.6931472+175.9292j\n",
      "  -0.6931472+179.07079j   -0.6931472+182.21237j   -0.6931472+185.35397j\n",
      "  -0.6931472+188.49556j   -0.6931472+191.63716j   -0.6931472+194.77875j\n",
      "  -0.6931472+197.92035j  ]\n",
      " [-0.6931472  +0.j        -0.6931472  +3.1415927j -0.6931472  +6.2831855j\n",
      "  -0.6931472  +9.424778j  -0.6931472 +12.566371j  -0.6931472 +15.707964j\n",
      "  -0.6931472 +18.849556j  -0.6931472 +21.99115j   -0.6931472 +25.132742j\n",
      "  -0.6931472 +28.274334j  -0.6931472 +31.415928j  -0.6931472 +34.55752j\n",
      "  -0.6931472 +37.699112j  -0.6931472 +40.840706j  -0.6931472 +43.9823j\n",
      "  -0.6931472 +47.12389j   -0.6931472 +50.265484j  -0.6931472 +53.407078j\n",
      "  -0.6931472 +56.548668j  -0.6931472 +59.69026j   -0.6931472 +62.831856j\n",
      "  -0.6931472 +65.97345j   -0.6931472 +69.11504j   -0.6931472 +72.25663j\n",
      "  -0.6931472 +75.398224j  -0.6931472 +78.53982j   -0.6931472 +81.68141j\n",
      "  -0.6931472 +84.823006j  -0.6931472 +87.9646j    -0.6931472 +91.106186j\n",
      "  -0.6931472 +94.24778j   -0.6931472 +97.38937j   -0.6931472+100.53097j\n",
      "  -0.6931472+103.67256j   -0.6931472+106.814156j  -0.6931472+109.95575j\n",
      "  -0.6931472+113.097336j  -0.6931472+116.23893j   -0.6931472+119.38052j\n",
      "  -0.6931472+122.52212j   -0.6931472+125.66371j   -0.6931472+128.8053j\n",
      "  -0.6931472+131.9469j    -0.6931472+135.08849j   -0.6931472+138.23009j\n",
      "  -0.6931472+141.37167j   -0.6931472+144.51326j   -0.6931472+147.65486j\n",
      "  -0.6931472+150.79645j   -0.6931472+153.93805j   -0.6931472+157.07964j\n",
      "  -0.6931472+160.22124j   -0.6931472+163.36282j   -0.6931472+166.50441j\n",
      "  -0.6931472+169.64601j   -0.6931472+172.7876j    -0.6931472+175.9292j\n",
      "  -0.6931472+179.07079j   -0.6931472+182.21237j   -0.6931472+185.35397j\n",
      "  -0.6931472+188.49556j   -0.6931472+191.63716j   -0.6931472+194.77875j\n",
      "  -0.6931472+197.92035j  ]\n",
      " [-0.6931472  +0.j        -0.6931472  +3.1415927j -0.6931472  +6.2831855j\n",
      "  -0.6931472  +9.424778j  -0.6931472 +12.566371j  -0.6931472 +15.707964j\n",
      "  -0.6931472 +18.849556j  -0.6931472 +21.99115j   -0.6931472 +25.132742j\n",
      "  -0.6931472 +28.274334j  -0.6931472 +31.415928j  -0.6931472 +34.55752j\n",
      "  -0.6931472 +37.699112j  -0.6931472 +40.840706j  -0.6931472 +43.9823j\n",
      "  -0.6931472 +47.12389j   -0.6931472 +50.265484j  -0.6931472 +53.407078j\n",
      "  -0.6931472 +56.548668j  -0.6931472 +59.69026j   -0.6931472 +62.831856j\n",
      "  -0.6931472 +65.97345j   -0.6931472 +69.11504j   -0.6931472 +72.25663j\n",
      "  -0.6931472 +75.398224j  -0.6931472 +78.53982j   -0.6931472 +81.68141j\n",
      "  -0.6931472 +84.823006j  -0.6931472 +87.9646j    -0.6931472 +91.106186j\n",
      "  -0.6931472 +94.24778j   -0.6931472 +97.38937j   -0.6931472+100.53097j\n",
      "  -0.6931472+103.67256j   -0.6931472+106.814156j  -0.6931472+109.95575j\n",
      "  -0.6931472+113.097336j  -0.6931472+116.23893j   -0.6931472+119.38052j\n",
      "  -0.6931472+122.52212j   -0.6931472+125.66371j   -0.6931472+128.8053j\n",
      "  -0.6931472+131.9469j    -0.6931472+135.08849j   -0.6931472+138.23009j\n",
      "  -0.6931472+141.37167j   -0.6931472+144.51326j   -0.6931472+147.65486j\n",
      "  -0.6931472+150.79645j   -0.6931472+153.93805j   -0.6931472+157.07964j\n",
      "  -0.6931472+160.22124j   -0.6931472+163.36282j   -0.6931472+166.50441j\n",
      "  -0.6931472+169.64601j   -0.6931472+172.7876j    -0.6931472+175.9292j\n",
      "  -0.6931472+179.07079j   -0.6931472+182.21237j   -0.6931472+185.35397j\n",
      "  -0.6931472+188.49556j   -0.6931472+191.63716j   -0.6931472+194.77875j\n",
      "  -0.6931472+197.92035j  ]\n",
      " [-0.6931472  +0.j        -0.6931472  +3.1415927j -0.6931472  +6.2831855j\n",
      "  -0.6931472  +9.424778j  -0.6931472 +12.566371j  -0.6931472 +15.707964j\n",
      "  -0.6931472 +18.849556j  -0.6931472 +21.99115j   -0.6931472 +25.132742j\n",
      "  -0.6931472 +28.274334j  -0.6931472 +31.415928j  -0.6931472 +34.55752j\n",
      "  -0.6931472 +37.699112j  -0.6931472 +40.840706j  -0.6931472 +43.9823j\n",
      "  -0.6931472 +47.12389j   -0.6931472 +50.265484j  -0.6931472 +53.407078j\n",
      "  -0.6931472 +56.548668j  -0.6931472 +59.69026j   -0.6931472 +62.831856j\n",
      "  -0.6931472 +65.97345j   -0.6931472 +69.11504j   -0.6931472 +72.25663j\n",
      "  -0.6931472 +75.398224j  -0.6931472 +78.53982j   -0.6931472 +81.68141j\n",
      "  -0.6931472 +84.823006j  -0.6931472 +87.9646j    -0.6931472 +91.106186j\n",
      "  -0.6931472 +94.24778j   -0.6931472 +97.38937j   -0.6931472+100.53097j\n",
      "  -0.6931472+103.67256j   -0.6931472+106.814156j  -0.6931472+109.95575j\n",
      "  -0.6931472+113.097336j  -0.6931472+116.23893j   -0.6931472+119.38052j\n",
      "  -0.6931472+122.52212j   -0.6931472+125.66371j   -0.6931472+128.8053j\n",
      "  -0.6931472+131.9469j    -0.6931472+135.08849j   -0.6931472+138.23009j\n",
      "  -0.6931472+141.37167j   -0.6931472+144.51326j   -0.6931472+147.65486j\n",
      "  -0.6931472+150.79645j   -0.6931472+153.93805j   -0.6931472+157.07964j\n",
      "  -0.6931472+160.22124j   -0.6931472+163.36282j   -0.6931472+166.50441j\n",
      "  -0.6931472+169.64601j   -0.6931472+172.7876j    -0.6931472+175.9292j\n",
      "  -0.6931472+179.07079j   -0.6931472+182.21237j   -0.6931472+185.35397j\n",
      "  -0.6931472+188.49556j   -0.6931472+191.63716j   -0.6931472+194.77875j\n",
      "  -0.6931472+197.92035j  ]\n",
      " [-0.6931472  +0.j        -0.6931472  +3.1415927j -0.6931472  +6.2831855j\n",
      "  -0.6931472  +9.424778j  -0.6931472 +12.566371j  -0.6931472 +15.707964j\n",
      "  -0.6931472 +18.849556j  -0.6931472 +21.99115j   -0.6931472 +25.132742j\n",
      "  -0.6931472 +28.274334j  -0.6931472 +31.415928j  -0.6931472 +34.55752j\n",
      "  -0.6931472 +37.699112j  -0.6931472 +40.840706j  -0.6931472 +43.9823j\n",
      "  -0.6931472 +47.12389j   -0.6931472 +50.265484j  -0.6931472 +53.407078j\n",
      "  -0.6931472 +56.548668j  -0.6931472 +59.69026j   -0.6931472 +62.831856j\n",
      "  -0.6931472 +65.97345j   -0.6931472 +69.11504j   -0.6931472 +72.25663j\n",
      "  -0.6931472 +75.398224j  -0.6931472 +78.53982j   -0.6931472 +81.68141j\n",
      "  -0.6931472 +84.823006j  -0.6931472 +87.9646j    -0.6931472 +91.106186j\n",
      "  -0.6931472 +94.24778j   -0.6931472 +97.38937j   -0.6931472+100.53097j\n",
      "  -0.6931472+103.67256j   -0.6931472+106.814156j  -0.6931472+109.95575j\n",
      "  -0.6931472+113.097336j  -0.6931472+116.23893j   -0.6931472+119.38052j\n",
      "  -0.6931472+122.52212j   -0.6931472+125.66371j   -0.6931472+128.8053j\n",
      "  -0.6931472+131.9469j    -0.6931472+135.08849j   -0.6931472+138.23009j\n",
      "  -0.6931472+141.37167j   -0.6931472+144.51326j   -0.6931472+147.65486j\n",
      "  -0.6931472+150.79645j   -0.6931472+153.93805j   -0.6931472+157.07964j\n",
      "  -0.6931472+160.22124j   -0.6931472+163.36282j   -0.6931472+166.50441j\n",
      "  -0.6931472+169.64601j   -0.6931472+172.7876j    -0.6931472+175.9292j\n",
      "  -0.6931472+179.07079j   -0.6931472+182.21237j   -0.6931472+185.35397j\n",
      "  -0.6931472+188.49556j   -0.6931472+191.63716j   -0.6931472+194.77875j\n",
      "  -0.6931472+197.92035j  ]]\n"
     ]
    }
   ],
   "source": [
    "def batch_init_torch(H, N):\n",
    "    log_A_real = torch.log(0.5 * torch.ones(H, N))\n",
    "    A_imag = math.pi * repeat(torch.arange(N), 'n -> h n', h=H)\n",
    "    C = torch.randn(H, N, dtype=torch.cfloat)\n",
    "    return log_A_real, A_imag, C\n",
    "\n",
    "batch_log_A_real_torch, batch_A_imag_torch, batch_C_torch = batch_init_torch(H=10, N=4)\n",
    "print(f'{batch_log_A_real_torch.shape=}')\n",
    "print(f'{batch_A_imag_torch.shape=}')\n",
    "print(f'{batch_C_torch.shape=}')\n",
    "print(log_A_real_batch + 1j * A_imag_batch)"
   ],
   "metadata": {
    "collapsed": false,
    "ExecuteTime": {
     "end_time": "2024-09-07T00:02:47.310959Z",
     "start_time": "2024-09-07T00:02:47.302906Z"
    }
   },
   "id": "8584cef266ceccb3",
   "execution_count": 138
  },
  {
   "cell_type": "code",
   "outputs": [],
   "source": [
    "def batch_kernel(log_A_real, A_imag, C, dt, L):\n",
    "    A = -torch.exp(log_A_real) + 1j * A_imag\n",
    "    dtA = A * dt\n",
    "    K = dtA.unsqueeze(-1) * torch.arange(L)\n",
    "    #print(f'{K.shape=}')\n",
    "    exp_K = torch.exp(K)\n",
    "    K_end = torch.einsum('hn, hnl -> hl', C, exp_K)\n",
    "    return K_end"
   ],
   "metadata": {
    "collapsed": false,
    "ExecuteTime": {
     "end_time": "2024-09-07T00:02:48.139908Z",
     "start_time": "2024-09-07T00:02:48.137098Z"
    }
   },
   "id": "2fa2aaef3c52aa8b",
   "execution_count": 139
  },
  {
   "cell_type": "code",
   "outputs": [
    {
     "name": "stdout",
     "output_type": "stream",
     "text": [
      "115 µs ± 18.3 µs per loop (mean ± std. dev. of 7 runs, 10,000 loops each)\n"
     ]
    }
   ],
   "source": [
    "%timeit batch_kernel(batch_log_A_real_torch, batch_A_imag_torch, batch_C_torch, 0.1, 128)"
   ],
   "metadata": {
    "collapsed": false,
    "ExecuteTime": {
     "end_time": "2024-09-07T00:03:27.869645Z",
     "start_time": "2024-09-07T00:03:17.706582Z"
    }
   },
   "id": "4e9352d6a015905",
   "execution_count": 144
  },
  {
   "cell_type": "code",
   "outputs": [
    {
     "data": {
      "text/plain": "tensor([[-4.3008e-01+1.2949e+00j, -4.5447e-01+1.4629e+00j,\n         -8.6903e-01+1.5014e+00j,  ...,\n         -2.9321e-03-7.6225e-04j, -1.3982e-03-1.4989e-03j,\n         -1.0464e-04-1.1779e-03j],\n        [ 1.3262e+00+1.5765e-02j,  1.4889e+00+1.5837e+00j,\n          3.6505e-01+2.8774e+00j,  ...,\n         -7.5105e-03+7.7568e-04j, -5.6297e-03-2.1715e-03j,\n         -2.9498e-03-2.9153e-03j],\n        [ 1.8445e+00+1.3649e+00j,  1.5746e+00+1.4333e+00j,\n          1.2392e+00+1.4710e+00j,  ...,\n          3.6131e-04+1.1230e-03j,  7.9403e-04-4.7692e-04j,\n          2.1474e-03-1.4642e-03j],\n        ...,\n        [-5.7233e-01-2.4335e+00j,  1.1044e+00-6.3042e-01j,\n          6.8477e-01+1.4851e+00j,  ...,\n         -6.5966e-03-1.6509e-03j, -3.1269e-03-4.3812e-03j,\n          9.2000e-04-3.4647e-03j],\n        [ 4.8408e-01-1.6851e+00j,  7.5634e-01-4.6490e-01j,\n         -2.0635e-02+3.2449e-01j,  ...,\n         -8.6199e-04-4.8899e-03j,  2.6942e-03-4.5556e-03j,\n          5.0336e-03-1.5003e-03j],\n        [-1.2433e+00+1.5580e+00j, -1.6443e+00+2.7343e-01j,\n         -1.0548e+00-8.3316e-01j,  ...,\n          3.1409e-03+1.3922e-04j,  2.6107e-03+1.7781e-03j,\n          1.5521e-03+2.5333e-03j]])"
     },
     "execution_count": 145,
     "metadata": {},
     "output_type": "execute_result"
    }
   ],
   "source": [
    "batch_kernel(batch_log_A_real_torch, batch_A_imag_torch, batch_C_torch, 0.1, 128)"
   ],
   "metadata": {
    "collapsed": false,
    "ExecuteTime": {
     "end_time": "2024-09-07T00:03:38.265454Z",
     "start_time": "2024-09-07T00:03:38.255973Z"
    }
   },
   "id": "4cbbda876056e0ee",
   "execution_count": 145
  },
  {
   "cell_type": "code",
   "outputs": [],
   "source": [
    "def batch_kernel_jax(log_A_real, A_imag, C, dt, L):\n",
    "    A = -jnp.exp(log_A_real) + 1j * A_imag\n",
    "    dtA = A * dt\n",
    "    K = dtA[..., jnp.newaxis] * jnp.arange(L)\n",
    "    exp_K = jnp.exp(K)\n",
    "    K_end = jnp.einsum('hn, hnl -> hl', C, exp_K)\n",
    "    return K_end"
   ],
   "metadata": {
    "collapsed": false,
    "ExecuteTime": {
     "end_time": "2024-09-07T00:03:43.052501Z",
     "start_time": "2024-09-07T00:03:43.049602Z"
    }
   },
   "id": "31bb2b41ec851685",
   "execution_count": 146
  },
  {
   "cell_type": "code",
   "outputs": [
    {
     "data": {
      "text/plain": "Array([[ 4.93954849e+00-7.8557873e-01j,  1.10475659e+00-1.1616502e+01j,\n        -1.03798866e-01+4.1941798e-01j, ...,\n        -7.51979509e-03-1.0882646e-02j,  6.20917045e-03-1.8583246e-02j,\n         1.21726161e-02-1.3888414e-02j],\n       [-4.04846907e-01+8.7479954e+00j,  5.16121721e+00-2.3994251e-01j,\n        -2.49888492e+00-2.6765285e+00j, ...,\n         1.91112496e-02-1.3435737e-03j,  1.23324292e-03+3.1608322e-03j,\n         4.53132531e-03-9.6221790e-03j],\n       [-6.86919308e+00+1.1445875e+01j, -3.01707697e+00-1.9842070e+01j,\n         3.69161034e+00+4.1499758e+00j, ...,\n         9.38161649e-03-8.1465840e-03j, -1.20261209e-02+9.6609816e-03j,\n        -1.32796876e-02-4.7527147e-03j],\n       ...,\n       [-2.59423447e+00+6.4350688e-01j, -2.92640305e+00-9.5094881e+00j,\n        -4.76090574e+00-1.9538455e+00j, ...,\n         1.01800896e-02-1.5535339e-02j, -2.54037790e-04-2.9856451e-03j,\n        -1.15122208e-02-4.4159214e-03j],\n       [-4.17223358e+00-4.4832230e-01j, -7.96455956e+00+7.3788130e-01j,\n         3.85916567e+00+2.7540059e+00j, ...,\n        -2.61623086e-03-4.9402560e-03j,  8.64552613e-03+1.4105905e-04j,\n         8.85813031e-04-9.5305895e-04j],\n       [-7.32192397e-01+6.0340470e-01j, -1.07190847e+00-7.7814436e+00j,\n        -2.32788295e-01-4.4705453e+00j, ...,\n         1.25240386e-02-1.4069797e-03j, -3.30767110e-02-5.9044035e-03j,\n         3.77813959e-03-6.7793815e-03j]], dtype=complex64)"
     },
     "execution_count": 150,
     "metadata": {},
     "output_type": "execute_result"
    }
   ],
   "source": [
    "jit_batch_kernel_jax = jax.jit(batch_kernel_jax, static_argnums=(3, 4))\n",
    "# warmup\n",
    "jit_batch_kernel_jax(log_A_real_batch, A_imag_batch, C_batch, 0.1, 128)"
   ],
   "metadata": {
    "collapsed": false,
    "ExecuteTime": {
     "end_time": "2024-09-07T00:04:02.669476Z",
     "start_time": "2024-09-07T00:04:02.664697Z"
    }
   },
   "id": "305f8ae029d2bb2d",
   "execution_count": 150
  },
  {
   "cell_type": "code",
   "outputs": [
    {
     "name": "stdout",
     "output_type": "stream",
     "text": [
      "425 µs ± 211 µs per loop (mean ± std. dev. of 7 runs, 1,000 loops each)\n"
     ]
    }
   ],
   "source": [
    "%timeit jit_batch_kernel_jax(log_A_real_batch, A_imag_batch, C_batch, 0.1, 128)"
   ],
   "metadata": {
    "collapsed": false,
    "ExecuteTime": {
     "end_time": "2024-09-07T00:04:07.111552Z",
     "start_time": "2024-09-07T00:04:03.593330Z"
    }
   },
   "id": "d757272beefc8630",
   "execution_count": 151
  },
  {
   "cell_type": "code",
   "outputs": [
    {
     "name": "stdout",
     "output_type": "stream",
     "text": [
      "torch==2.1.2\r\n"
     ]
    }
   ],
   "source": [
    "!pip freeze | grep torch"
   ],
   "metadata": {
    "collapsed": false,
    "ExecuteTime": {
     "end_time": "2024-09-07T00:04:34.592438Z",
     "start_time": "2024-09-07T00:04:34.019670Z"
    }
   },
   "id": "19800b0eb6930604",
   "execution_count": 152
  },
  {
   "cell_type": "code",
   "outputs": [
    {
     "ename": "TypeError",
     "evalue": "'module' object is not iterable",
     "output_type": "error",
     "traceback": [
      "\u001B[0;31m---------------------------------------------------------------------------\u001B[0m",
      "\u001B[0;31mTypeError\u001B[0m                                 Traceback (most recent call last)",
      "Cell \u001B[0;32mIn[156], line 1\u001B[0m\n\u001B[0;32m----> 1\u001B[0m \u001B[38;5;28;43mlist\u001B[39;49m\u001B[43m(\u001B[49m\u001B[43mtorch\u001B[49m\u001B[38;5;241;43m.\u001B[39;49m\u001B[43mmps\u001B[49m\u001B[43m)\u001B[49m\n",
      "\u001B[0;31mTypeError\u001B[0m: 'module' object is not iterable"
     ]
    }
   ],
   "source": [
    "torch.mps."
   ],
   "metadata": {
    "collapsed": false,
    "ExecuteTime": {
     "end_time": "2024-09-07T00:08:46.929855Z",
     "start_time": "2024-09-07T00:08:46.917464Z"
    }
   },
   "id": "965a6f6880553365",
   "execution_count": 156
  },
  {
   "cell_type": "code",
   "outputs": [
    {
     "name": "stdout",
     "output_type": "stream",
     "text": [
      "GOOD NEWS! MPS is available on this machine.\n",
      "mps:0\n"
     ]
    }
   ],
   "source": [
    "# Check that MPS is available\n",
    "if not torch.backends.mps.is_available():\n",
    "    if not torch.backends.mps.is_built():\n",
    "        print(\"MPS not available because the current PyTorch install was not \"\n",
    "              \"built with MPS enabled.\")\n",
    "    else:\n",
    "        print(\"MPS not available because the current MacOS version is not 12.3+ \"\n",
    "              \"and/or you do not have an MPS-enabled device on this machine.\")\n",
    "\n",
    "else:\n",
    "    print(\"GOOD NEWS! MPS is available on this machine.\")\n",
    "    mps_device = torch.device(\"mps\")\n",
    "\n",
    "    # Create a Tensor directly on the mps device\n",
    "    x = torch.ones(5, device=mps_device)\n",
    "    # Or\n",
    "    x = torch.ones(5, device=\"mps\")\n",
    "\n",
    "    # Any operation happens on the GPU\n",
    "    y = x * 2\n",
    "    print(y.device)"
   ],
   "metadata": {
    "collapsed": false,
    "ExecuteTime": {
     "end_time": "2024-09-07T00:11:09.581185Z",
     "start_time": "2024-09-07T00:11:09.577415Z"
    }
   },
   "id": "17a0e3fbc7df3747",
   "execution_count": 158
  },
  {
   "cell_type": "code",
   "outputs": [],
   "source": [],
   "metadata": {
    "collapsed": false
   },
   "id": "ed4f3b599a0bc664"
  }
 ],
 "metadata": {
  "kernelspec": {
   "display_name": "Python 3 (ipykernel)",
   "language": "python",
   "name": "python3"
  },
  "language_info": {
   "codemirror_mode": {
    "name": "ipython",
    "version": 3
   },
   "file_extension": ".py",
   "mimetype": "text/x-python",
   "name": "python",
   "nbconvert_exporter": "python",
   "pygments_lexer": "ipython3",
   "version": "3.10.2"
  }
 },
 "nbformat": 4,
 "nbformat_minor": 5
}
