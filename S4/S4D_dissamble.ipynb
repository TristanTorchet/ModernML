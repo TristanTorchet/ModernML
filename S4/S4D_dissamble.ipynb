{
 "cells": [
  {
   "cell_type": "code",
   "outputs": [],
   "source": [
    "import jax \n",
    "import jax.numpy as jnp\n",
    "import flax.linen as nn"
   ],
   "metadata": {
    "collapsed": false,
    "ExecuteTime": {
     "end_time": "2024-09-06T15:26:34.750609Z",
     "start_time": "2024-09-06T15:26:30.621494Z"
    }
   },
   "id": "945553f3155f2d29",
   "execution_count": 1
  },
  {
   "cell_type": "code",
   "outputs": [],
   "source": [
    "shared_params = False\n",
    "if shared_params:\n",
    "    BatchDense = nn.vmap(nn.Dense, in_axes=0, out_axes=0, variable_axes={'params': None}, split_rngs={'params': False})\n",
    "else:\n",
    "    BatchDense = nn.vmap(nn.Dense, in_axes=0, out_axes=0, variable_axes={'params': 0}, split_rngs={'params': True})"
   ],
   "metadata": {
    "collapsed": false,
    "ExecuteTime": {
     "end_time": "2024-09-06T16:04:20.060217Z",
     "start_time": "2024-09-06T16:04:20.056668Z"
    }
   },
   "id": "120e374d7083ea04",
   "execution_count": 35
  },
  {
   "cell_type": "code",
   "outputs": [],
   "source": [
    "batch_size = 10\n",
    "embedding_dim = 5\n",
    "x = jnp.ones((batch_size, embedding_dim))\n",
    "dense = BatchDense(features=3)\n",
    "params = dense.init(jax.random.PRNGKey(0), x)"
   ],
   "metadata": {
    "collapsed": false,
    "ExecuteTime": {
     "end_time": "2024-09-06T16:04:20.282881Z",
     "start_time": "2024-09-06T16:04:20.274163Z"
    }
   },
   "id": "81460f3fbbc8d51d",
   "execution_count": 36
  },
  {
   "cell_type": "code",
   "outputs": [
    {
     "name": "stdout",
     "output_type": "stream",
     "text": [
      "params \n",
      " ('bias', (10, 3))\n",
      "\n",
      " ('kernel', (10, 5, 3))\n"
     ]
    },
    {
     "data": {
      "text/plain": "{'params': {'bias': None, 'kernel': None}}"
     },
     "execution_count": 37,
     "metadata": {},
     "output_type": "execute_result"
    }
   ],
   "source": [
    "# write a function that prints recursively the keys and shapes of a nested dictionary\n",
    "def map_nested_fn(fn):\n",
    "    \"\"\"Recursively apply `fn to the key-value pairs of a nested dict / pytree.\"\"\"\n",
    "\n",
    "    def map_fn(k_in, nested_dict):\n",
    "        if k_in != None: print(f'{k_in}', end=' ')\n",
    "        return {\n",
    "            k: (map_fn(k, v) if hasattr(v, \"keys\") else fn(k, v))\n",
    "            for k, v in nested_dict.items()\n",
    "        }\n",
    "    \n",
    "    return map_fn\n",
    "\n",
    "map_nested_fn(lambda k, v: print(f'\\n {k, v.shape}'))(None, params)"
   ],
   "metadata": {
    "collapsed": false,
    "ExecuteTime": {
     "end_time": "2024-09-06T16:04:20.541229Z",
     "start_time": "2024-09-06T16:04:20.535875Z"
    }
   },
   "id": "617f66285d6f08e4",
   "execution_count": 37
  },
  {
   "cell_type": "code",
   "outputs": [],
   "source": [
    "y = dense.apply(params, x)"
   ],
   "metadata": {
    "collapsed": false,
    "ExecuteTime": {
     "end_time": "2024-09-06T16:04:20.684522Z",
     "start_time": "2024-09-06T16:04:20.675422Z"
    }
   },
   "id": "301a158775af3711",
   "execution_count": 38
  },
  {
   "cell_type": "code",
   "outputs": [
    {
     "data": {
      "text/plain": "Array([[ 1.9910165 ,  0.28383535, -1.047992  ],\n       [ 1.3863918 ,  0.5475614 ,  1.2088555 ],\n       [-1.3427639 , -0.58169377, -0.02100402],\n       [-1.6752058 , -0.68735284, -1.4142416 ],\n       [ 0.7120553 ,  0.13763508, -0.47188094],\n       [ 0.59918714, -0.13747637,  0.40842372],\n       [-0.18032235, -0.48730588, -1.0494046 ],\n       [-0.04323477, -0.4011463 ,  0.63187987],\n       [ 0.50989723,  0.20760426,  0.13128324],\n       [ 0.53805596, -1.6646125 ,  1.1062521 ]], dtype=float32)"
     },
     "execution_count": 39,
     "metadata": {},
     "output_type": "execute_result"
    }
   ],
   "source": [
    "y"
   ],
   "metadata": {
    "collapsed": false,
    "ExecuteTime": {
     "end_time": "2024-09-06T16:04:20.903793Z",
     "start_time": "2024-09-06T16:04:20.899561Z"
    }
   },
   "id": "8c54fca9698c51c3",
   "execution_count": 39
  },
  {
   "cell_type": "code",
   "outputs": [],
   "source": [
    "def step(x_k_1, u_k):\n",
    "    x_k = x_k_1 + u_k\n",
    "    y_k = jnp.tanh(x_k)\n",
    "    return x_k, y_k\n",
    "x_last, y_entire = jax.lax.scan(step, 0, jnp.ones((5,)))"
   ],
   "metadata": {
    "collapsed": false,
    "ExecuteTime": {
     "end_time": "2024-09-06T16:13:29.916050Z",
     "start_time": "2024-09-06T16:13:29.896113Z"
    }
   },
   "id": "f96ee0ad2ad604ac",
   "execution_count": 44
  },
  {
   "cell_type": "code",
   "outputs": [
    {
     "data": {
      "text/plain": "Array(5., dtype=float32)"
     },
     "execution_count": 46,
     "metadata": {},
     "output_type": "execute_result"
    }
   ],
   "source": [
    "x_last"
   ],
   "metadata": {
    "collapsed": false,
    "ExecuteTime": {
     "end_time": "2024-09-06T16:13:35.889827Z",
     "start_time": "2024-09-06T16:13:35.885092Z"
    }
   },
   "id": "207703f68fba0fd9",
   "execution_count": 46
  },
  {
   "cell_type": "code",
   "outputs": [
    {
     "data": {
      "text/plain": "Array([0.7615942 , 0.9640276 , 0.9950547 , 0.9993292 , 0.99990916],      dtype=float32)"
     },
     "execution_count": 47,
     "metadata": {},
     "output_type": "execute_result"
    }
   ],
   "source": [
    "y_entire"
   ],
   "metadata": {
    "collapsed": false,
    "ExecuteTime": {
     "end_time": "2024-09-06T16:13:40.380266Z",
     "start_time": "2024-09-06T16:13:40.377078Z"
    }
   },
   "id": "2b41fa8e5196c164",
   "execution_count": 47
  },
  {
   "cell_type": "code",
   "outputs": [
    {
     "name": "stdout",
     "output_type": "stream",
     "text": [
      "[0.0, 0.7615941762924194, 0.9640275835990906, 0.9950547218322754, 0.9993292093276978]\n"
     ]
    }
   ],
   "source": [
    "print([float(jnp.tanh(i)) for i in range(5)])"
   ],
   "metadata": {
    "collapsed": false,
    "ExecuteTime": {
     "end_time": "2024-09-06T16:16:43.353331Z",
     "start_time": "2024-09-06T16:16:43.350097Z"
    }
   },
   "id": "406da4c36a7b3309",
   "execution_count": 53
  },
  {
   "cell_type": "code",
   "outputs": [],
   "source": [
    "# q: what does u[:, jnp.newaxis] do?\n",
    "# a: it adds a new axis at the end of the array"
   ],
   "metadata": {
    "collapsed": false
   },
   "id": "b99dc2c232aa130e"
  },
  {
   "cell_type": "code",
   "outputs": [
    {
     "name": "stdout",
     "output_type": "stream",
     "text": [
      "Requirement already satisfied: einops in /Users/tristantorchet/Desktop/ModernML/venv/lib/python3.10/site-packages (0.8.0)\r\n",
      "\r\n",
      "\u001B[1m[\u001B[0m\u001B[34;49mnotice\u001B[0m\u001B[1;39;49m]\u001B[0m\u001B[39;49m A new release of pip is available: \u001B[0m\u001B[31;49m23.2.1\u001B[0m\u001B[39;49m -> \u001B[0m\u001B[32;49m24.2\u001B[0m\r\n",
      "\u001B[1m[\u001B[0m\u001B[34;49mnotice\u001B[0m\u001B[1;39;49m]\u001B[0m\u001B[39;49m To update, run: \u001B[0m\u001B[32;49mpip install --upgrade pip\u001B[0m\r\n"
     ]
    }
   ],
   "source": [
    "!pip install einops"
   ],
   "metadata": {
    "collapsed": false,
    "ExecuteTime": {
     "end_time": "2024-09-06T18:32:36.769562Z",
     "start_time": "2024-09-06T18:32:35.736105Z"
    }
   },
   "id": "d81556aa91fce93a",
   "execution_count": 2
  },
  {
   "cell_type": "code",
   "outputs": [],
   "source": [
    "import torch\n",
    "from einops import repeat\n",
    "import math\n",
    "H=3\n",
    "N=4\n",
    "log_A_real = torch.log(0.5 * torch.ones(H, N))\n",
    "A_imag = math.pi * repeat(torch.arange(N), 'n -> h n', h=H)\n"
   ],
   "metadata": {
    "collapsed": false,
    "ExecuteTime": {
     "end_time": "2024-09-06T19:23:40.080004Z",
     "start_time": "2024-09-06T19:23:40.076784Z"
    }
   },
   "id": "3fbf64789e457466",
   "execution_count": 19
  },
  {
   "cell_type": "code",
   "outputs": [
    {
     "data": {
      "text/plain": "tensor([[0.0000, 3.1416, 6.2832, 9.4248],\n        [0.0000, 3.1416, 6.2832, 9.4248],\n        [0.0000, 3.1416, 6.2832, 9.4248]])"
     },
     "execution_count": 20,
     "metadata": {},
     "output_type": "execute_result"
    }
   ],
   "source": [
    "A_imag"
   ],
   "metadata": {
    "collapsed": false,
    "ExecuteTime": {
     "end_time": "2024-09-06T19:23:40.285320Z",
     "start_time": "2024-09-06T19:23:40.281917Z"
    }
   },
   "id": "2c0f8b9215cddee6",
   "execution_count": 20
  },
  {
   "cell_type": "code",
   "outputs": [
    {
     "data": {
      "text/plain": "tensor([[-0.6931, -0.6931, -0.6931, -0.6931],\n        [-0.6931, -0.6931, -0.6931, -0.6931],\n        [-0.6931, -0.6931, -0.6931, -0.6931]])"
     },
     "execution_count": 21,
     "metadata": {},
     "output_type": "execute_result"
    }
   ],
   "source": [
    "log_A_real"
   ],
   "metadata": {
    "collapsed": false,
    "ExecuteTime": {
     "end_time": "2024-09-06T19:23:40.487857Z",
     "start_time": "2024-09-06T19:23:40.483574Z"
    }
   },
   "id": "94a01450cb1cf5fc",
   "execution_count": 21
  },
  {
   "cell_type": "code",
   "outputs": [],
   "source": [
    "A = log_A_real + 1j * A_imag"
   ],
   "metadata": {
    "collapsed": false,
    "ExecuteTime": {
     "end_time": "2024-09-06T19:23:40.700847Z",
     "start_time": "2024-09-06T19:23:40.698206Z"
    }
   },
   "id": "1d221bd386f586f7",
   "execution_count": 22
  },
  {
   "cell_type": "code",
   "outputs": [
    {
     "data": {
      "text/plain": "tensor([[-0.6931+0.0000j, -0.6931+3.1416j, -0.6931+6.2832j, -0.6931+9.4248j],\n        [-0.6931+0.0000j, -0.6931+3.1416j, -0.6931+6.2832j, -0.6931+9.4248j],\n        [-0.6931+0.0000j, -0.6931+3.1416j, -0.6931+6.2832j, -0.6931+9.4248j]])"
     },
     "execution_count": 23,
     "metadata": {},
     "output_type": "execute_result"
    }
   ],
   "source": [
    "A"
   ],
   "metadata": {
    "collapsed": false,
    "ExecuteTime": {
     "end_time": "2024-09-06T19:23:40.901570Z",
     "start_time": "2024-09-06T19:23:40.898260Z"
    }
   },
   "id": "c429b1a6c3423f0d",
   "execution_count": 23
  },
  {
   "cell_type": "code",
   "outputs": [
    {
     "name": "stdout",
     "output_type": "stream",
     "text": [
      "torch.Size([3, 4, 2])\n"
     ]
    }
   ],
   "source": [
    "C = torch.randn(H, N // 2, dtype=torch.cfloat)\n",
    "Cb = torch.view_as_real(C)\n",
    "print(Cb.shape)"
   ],
   "metadata": {
    "collapsed": false,
    "ExecuteTime": {
     "end_time": "2024-09-06T19:23:41.227038Z",
     "start_time": "2024-09-06T19:23:41.224641Z"
    }
   },
   "id": "5efc92fc86f3244f",
   "execution_count": 24
  },
  {
   "cell_type": "code",
   "outputs": [
    {
     "name": "stdout",
     "output_type": "stream",
     "text": [
      "torch.Size([3, 4])\n"
     ]
    }
   ],
   "source": [
    "Cbb = torch.view_as_complex(Cb)\n",
    "print(Cbb.shape)"
   ],
   "metadata": {
    "collapsed": false,
    "ExecuteTime": {
     "end_time": "2024-09-06T19:23:44.769039Z",
     "start_time": "2024-09-06T19:23:44.766572Z"
    }
   },
   "id": "33b613c7f1b9fec0",
   "execution_count": 25
  },
  {
   "cell_type": "code",
   "outputs": [],
   "source": [
    "dt_min = 1e-3\n",
    "dt_max = 1e-1\n",
    "log_dt = torch.rand(H) * (\n",
    "            math.log(dt_max) - math.log(dt_min)\n",
    "        ) + math.log(dt_min)\n"
   ],
   "metadata": {
    "collapsed": false,
    "ExecuteTime": {
     "end_time": "2024-09-06T19:23:46.008312Z",
     "start_time": "2024-09-06T19:23:46.004793Z"
    }
   },
   "id": "5a95021a581c88b4",
   "execution_count": 26
  },
  {
   "cell_type": "code",
   "outputs": [
    {
     "data": {
      "text/plain": "tensor([0.0347, 0.0453, 0.0606])"
     },
     "execution_count": 27,
     "metadata": {},
     "output_type": "execute_result"
    }
   ],
   "source": [
    "dt = torch.exp(log_dt)\n",
    "dt"
   ],
   "metadata": {
    "collapsed": false,
    "ExecuteTime": {
     "end_time": "2024-09-06T19:23:48.535181Z",
     "start_time": "2024-09-06T19:23:48.532022Z"
    }
   },
   "id": "42809c125516830b",
   "execution_count": 27
  },
  {
   "cell_type": "code",
   "outputs": [
    {
     "data": {
      "text/plain": "tensor([[0.0347],\n        [0.0453],\n        [0.0606]])"
     },
     "execution_count": 30,
     "metadata": {},
     "output_type": "execute_result"
    }
   ],
   "source": [
    "dt.unsqueeze(-1)"
   ],
   "metadata": {
    "collapsed": false,
    "ExecuteTime": {
     "end_time": "2024-09-06T19:25:40.837538Z",
     "start_time": "2024-09-06T19:25:40.833965Z"
    }
   },
   "id": "63d0d8124c4eee3a",
   "execution_count": 30
  },
  {
   "cell_type": "code",
   "outputs": [
    {
     "data": {
      "text/plain": "tensor([[-0.0241+0.0000j, -0.0241+0.1091j, -0.0241+0.2183j, -0.0241+0.3274j],\n        [-0.0314+0.0000j, -0.0314+0.1424j, -0.0314+0.2848j, -0.0314+0.4272j],\n        [-0.0420+0.0000j, -0.0420+0.1905j, -0.0420+0.3809j, -0.0420+0.5714j]])"
     },
     "execution_count": 28,
     "metadata": {},
     "output_type": "execute_result"
    }
   ],
   "source": [
    "dtA = A * dt.unsqueeze(-1)\n",
    "dtA"
   ],
   "metadata": {
    "collapsed": false,
    "ExecuteTime": {
     "end_time": "2024-09-06T19:23:51.877537Z",
     "start_time": "2024-09-06T19:23:51.873804Z"
    }
   },
   "id": "1a9dee8545ca6be1",
   "execution_count": 28
  },
  {
   "cell_type": "code",
   "outputs": [
    {
     "data": {
      "text/plain": "0.10901352"
     },
     "execution_count": 29,
     "metadata": {},
     "output_type": "execute_result"
    }
   ],
   "source": [
    "3.1416 * 0.0347"
   ],
   "metadata": {
    "collapsed": false,
    "ExecuteTime": {
     "end_time": "2024-09-06T19:25:19.857199Z",
     "start_time": "2024-09-06T19:25:19.854467Z"
    }
   },
   "id": "a0ed5fe24e63769c",
   "execution_count": 29
  },
  {
   "cell_type": "code",
   "outputs": [
    {
     "data": {
      "text/plain": "tensor([[[-0.0000+0.0000j, -0.0241+0.0000j, -0.0482+0.0000j, -0.0722+0.0000j],\n         [-0.0000+0.0000j, -0.0241+0.1091j, -0.0482+0.2183j, -0.0722+0.3274j],\n         [-0.0000+0.0000j, -0.0241+0.2183j, -0.0482+0.4366j, -0.0722+0.6549j],\n         [-0.0000+0.0000j, -0.0241+0.3274j, -0.0482+0.6549j, -0.0722+0.9823j]],\n\n        [[-0.0000+0.0000j, -0.0314+0.0000j, -0.0628+0.0000j, -0.0942+0.0000j],\n         [-0.0000+0.0000j, -0.0314+0.1424j, -0.0628+0.2848j, -0.0942+0.4272j],\n         [-0.0000+0.0000j, -0.0314+0.2848j, -0.0628+0.5696j, -0.0942+0.8543j],\n         [-0.0000+0.0000j, -0.0314+0.4272j, -0.0628+0.8543j, -0.0942+1.2815j]],\n\n        [[-0.0000+0.0000j, -0.0420+0.0000j, -0.0840+0.0000j, -0.1261+0.0000j],\n         [-0.0000+0.0000j, -0.0420+0.1905j, -0.0840+0.3809j, -0.1261+0.5714j],\n         [-0.0000+0.0000j, -0.0420+0.3809j, -0.0840+0.7618j, -0.1261+1.1428j],\n         [-0.0000+0.0000j, -0.0420+0.5714j, -0.0840+1.1428j, -0.1261+1.7141j]]])"
     },
     "execution_count": 40,
     "metadata": {},
     "output_type": "execute_result"
    }
   ],
   "source": [
    "L = 4\n",
    "dtA.unsqueeze(-1) * torch.arange(L, device=A.device)"
   ],
   "metadata": {
    "collapsed": false,
    "ExecuteTime": {
     "end_time": "2024-09-06T19:31:59.114295Z",
     "start_time": "2024-09-06T19:31:59.109895Z"
    }
   },
   "id": "70b540f651215436",
   "execution_count": 40
  },
  {
   "cell_type": "code",
   "outputs": [
    {
     "data": {
      "text/plain": "tensor([[[0., 1., 2.],\n         [0., 1., 2.]],\n\n        [[0., 1., 2.],\n         [0., 1., 2.]]])"
     },
     "execution_count": 32,
     "metadata": {},
     "output_type": "execute_result"
    }
   ],
   "source": [
    "a = torch.ones(2,2)\n",
    "a.unsqueeze(-1) * torch.arange(3)"
   ],
   "metadata": {
    "collapsed": false,
    "ExecuteTime": {
     "end_time": "2024-09-06T19:28:04.493561Z",
     "start_time": "2024-09-06T19:28:04.489738Z"
    }
   },
   "id": "8f17e6912708db42",
   "execution_count": 32
  },
  {
   "cell_type": "code",
   "outputs": [
    {
     "data": {
      "text/plain": "tensor([[[1],\n         [2]],\n\n        [[3],\n         [4]]])"
     },
     "execution_count": 38,
     "metadata": {},
     "output_type": "execute_result"
    }
   ],
   "source": [
    "b = torch.tensor([[1,2],[3,4]])\n",
    "b.unsqueeze(-1)"
   ],
   "metadata": {
    "collapsed": false,
    "ExecuteTime": {
     "end_time": "2024-09-06T19:30:46.357272Z",
     "start_time": "2024-09-06T19:30:46.353956Z"
    }
   },
   "id": "2103005c49383c63",
   "execution_count": 38
  },
  {
   "cell_type": "code",
   "outputs": [
    {
     "data": {
      "text/plain": "tensor([[[0, 1, 2],\n         [0, 2, 4]],\n\n        [[0, 3, 6],\n         [0, 4, 8]]])"
     },
     "execution_count": 39,
     "metadata": {},
     "output_type": "execute_result"
    }
   ],
   "source": [
    "b.unsqueeze(-1) * torch.arange(3)"
   ],
   "metadata": {
    "collapsed": false,
    "ExecuteTime": {
     "end_time": "2024-09-06T19:31:22.969158Z",
     "start_time": "2024-09-06T19:31:22.963545Z"
    }
   },
   "id": "437c55880331af76",
   "execution_count": 39
  },
  {
   "cell_type": "code",
   "outputs": [
    {
     "name": "stdout",
     "output_type": "stream",
     "text": [
      "log_A_real=tensor([-0.6931, -0.6931, -0.6931, -0.6931])\n",
      "A_imag=tensor([0.0000, 3.1416, 6.2832, 9.4248])\n"
     ]
    }
   ],
   "source": [
    "import torch\n",
    "from einops import repeat\n",
    "import math\n",
    "H=5\n",
    "N=4\n",
    "L=3\n",
    "dt=0.1\n",
    "log_A_real = torch.log(0.5 * torch.ones(N,))\n",
    "A_imag = math.pi * torch.arange(N)\n",
    "print(f'{log_A_real=}')\n",
    "print(f'{A_imag=}')\n"
   ],
   "metadata": {
    "collapsed": false,
    "ExecuteTime": {
     "end_time": "2024-09-06T23:26:23.498719Z",
     "start_time": "2024-09-06T23:26:23.494579Z"
    }
   },
   "id": "b8b3840edeae9c5a",
   "execution_count": 58
  },
  {
   "cell_type": "code",
   "outputs": [
    {
     "data": {
      "text/plain": "tensor([-0.5000+0.0000j, -0.5000+3.1416j, -0.5000+6.2832j, -0.5000+9.4248j])"
     },
     "execution_count": 59,
     "metadata": {},
     "output_type": "execute_result"
    }
   ],
   "source": [
    "A = -torch.exp(log_A_real) + 1j * A_imag\n",
    "A"
   ],
   "metadata": {
    "collapsed": false,
    "ExecuteTime": {
     "end_time": "2024-09-06T23:26:24.115193Z",
     "start_time": "2024-09-06T23:26:24.110389Z"
    }
   },
   "id": "5e5cca7729ef3030",
   "execution_count": 59
  },
  {
   "cell_type": "code",
   "outputs": [
    {
     "data": {
      "text/plain": "tensor([-0.0500+0.0000j, -0.0500+0.3142j, -0.0500+0.6283j, -0.0500+0.9425j])"
     },
     "execution_count": 60,
     "metadata": {},
     "output_type": "execute_result"
    }
   ],
   "source": [
    "dtA = A * dt\n",
    "dtA"
   ],
   "metadata": {
    "collapsed": false,
    "ExecuteTime": {
     "end_time": "2024-09-06T23:26:24.792518Z",
     "start_time": "2024-09-06T23:26:24.787048Z"
    }
   },
   "id": "69fd3146148242b7",
   "execution_count": 60
  },
  {
   "cell_type": "code",
   "outputs": [
    {
     "data": {
      "text/plain": "tensor([[-0.0500+0.0000j],\n        [-0.0500+0.3142j],\n        [-0.0500+0.6283j],\n        [-0.0500+0.9425j]])"
     },
     "execution_count": 61,
     "metadata": {},
     "output_type": "execute_result"
    }
   ],
   "source": [
    "dtA_unsqueeze = dtA.unsqueeze(-1)\n",
    "dtA_unsqueeze"
   ],
   "metadata": {
    "collapsed": false,
    "ExecuteTime": {
     "end_time": "2024-09-06T23:26:25.516911Z",
     "start_time": "2024-09-06T23:26:25.511826Z"
    }
   },
   "id": "aaac767b07e976e",
   "execution_count": 61
  },
  {
   "cell_type": "code",
   "outputs": [
    {
     "data": {
      "text/plain": "tensor([[-0.0000+0.0000j, -0.0500+0.0000j, -0.1000+0.0000j],\n        [-0.0000+0.0000j, -0.0500+0.3142j, -0.1000+0.6283j],\n        [-0.0000+0.0000j, -0.0500+0.6283j, -0.1000+1.2566j],\n        [-0.0000+0.0000j, -0.0500+0.9425j, -0.1000+1.8850j]])"
     },
     "execution_count": 63,
     "metadata": {},
     "output_type": "execute_result"
    }
   ],
   "source": [
    "K = dtA_unsqueeze * torch.arange(L)\n",
    "K"
   ],
   "metadata": {
    "collapsed": false,
    "ExecuteTime": {
     "end_time": "2024-09-06T23:26:34.641949Z",
     "start_time": "2024-09-06T23:26:34.636886Z"
    }
   },
   "id": "2f79a55cdee8a967",
   "execution_count": 63
  },
  {
   "cell_type": "code",
   "outputs": [
    {
     "data": {
      "text/plain": "tensor([[ 1.0000+0.0000j,  0.9512+0.0000j,  0.9048+0.0000j],\n        [ 1.0000+0.0000j,  0.9047+0.2939j,  0.7320+0.5319j],\n        [ 1.0000+0.0000j,  0.7696+0.5591j,  0.2796+0.8606j],\n        [ 1.0000+0.0000j,  0.5591+0.7696j, -0.2796+0.8606j]])"
     },
     "execution_count": 65,
     "metadata": {},
     "output_type": "execute_result"
    }
   ],
   "source": [
    "exp_K = torch.exp(K)\n",
    "exp_K"
   ],
   "metadata": {
    "collapsed": false,
    "ExecuteTime": {
     "end_time": "2024-09-06T23:27:29.108418Z",
     "start_time": "2024-09-06T23:27:29.104350Z"
    }
   },
   "id": "37c28c644916ec9a",
   "execution_count": 65
  },
  {
   "cell_type": "code",
   "outputs": [
    {
     "data": {
      "text/plain": "tensor([-0.5039+0.6777j, -1.7526-0.1343j, -0.7315+0.6349j,  1.1549-0.3224j])"
     },
     "execution_count": 70,
     "metadata": {},
     "output_type": "execute_result"
    }
   ],
   "source": [
    "C = torch.randn(N, dtype=torch.cfloat)\n",
    "C"
   ],
   "metadata": {
    "collapsed": false,
    "ExecuteTime": {
     "end_time": "2024-09-06T23:30:15.500710Z",
     "start_time": "2024-09-06T23:30:15.496565Z"
    }
   },
   "id": "9d2e40720c7728d3",
   "execution_count": 70
  },
  {
   "cell_type": "code",
   "outputs": [
    {
     "data": {
      "text/plain": "tensor([-1.8330+0.8559j, -2.0494+0.7961j, -2.4639+0.2148j])"
     },
     "execution_count": 74,
     "metadata": {},
     "output_type": "execute_result"
    }
   ],
   "source": [
    "K_end = C @ exp_K\n",
    "K_end"
   ],
   "metadata": {
    "collapsed": false,
    "ExecuteTime": {
     "end_time": "2024-09-06T23:31:15.065972Z",
     "start_time": "2024-09-06T23:31:15.059256Z"
    }
   },
   "id": "31c43e7d97f35a5b",
   "execution_count": 74
  },
  {
   "cell_type": "code",
   "outputs": [
    {
     "data": {
      "text/plain": "(tensor([-0.6931, -0.6931, -0.6931, -0.6931]),\n tensor([0.0000, 3.1416, 6.2832, 9.4248]),\n tensor([ 1.0896-0.2075j, -1.5406+0.4019j, -0.7669-0.9890j,  0.2852+0.5926j]))"
     },
     "execution_count": 84,
     "metadata": {},
     "output_type": "execute_result"
    }
   ],
   "source": [
    "import jax\n",
    "import jax.numpy as jnp\n",
    "# set display to .4f in jax \n",
    "def initialization(N: int) -> torch.Tensor:\n",
    "    log_A_real = torch.log(0.5 * torch.ones(N,))\n",
    "    A_imag = math.pi * torch.arange(N)\n",
    "    C = torch.randn(N, dtype=torch.cfloat)\n",
    "    return log_A_real, A_imag, C\n",
    "\n",
    "def init_jax(key, N: int) -> jnp.ndarray:\n",
    "    log_A_real = jnp.log(0.5 * jnp.ones(N,))\n",
    "    A_imag = math.pi * jnp.arange(N)\n",
    "    C = jax.random.normal(key, (N,), dtype=jnp.complex64)\n",
    "    return log_A_real, A_imag, C\n",
    "\n",
    "# fix the seed\n",
    "torch.manual_seed(0)\n",
    "log_A_real, A_imag, C = initialization(N=4)\n",
    "log_A_real, A_imag, C"
   ],
   "metadata": {
    "collapsed": false,
    "ExecuteTime": {
     "end_time": "2024-09-06T23:37:36.041675Z",
     "start_time": "2024-09-06T23:37:36.035458Z"
    }
   },
   "id": "b18ba828d0d4d6a5",
   "execution_count": 84
  },
  {
   "cell_type": "code",
   "outputs": [
    {
     "data": {
      "text/plain": "(Array([-0.6931472, -0.6931472, -0.6931472, -0.6931472], dtype=float32),\n Array([0.       , 3.1415927, 6.2831855, 9.424778 ],      dtype=float32, weak_type=True),\n Array([ 0.09823954+0.8046016j ,  0.9692087 -0.10133854j,\n        -0.3755876 -0.41827938j,  0.01438101+0.5619111j ], dtype=complex64))"
     },
     "execution_count": 85,
     "metadata": {},
     "output_type": "execute_result"
    }
   ],
   "source": [
    "log_A_real_jax, A_imag_jax, C_jax = init_jax(jax.random.PRNGKey(0), N=4)\n",
    "log_A_real_jax, A_imag_jax, C_jax"
   ],
   "metadata": {
    "collapsed": false,
    "ExecuteTime": {
     "end_time": "2024-09-06T23:37:36.860070Z",
     "start_time": "2024-09-06T23:37:36.854973Z"
    }
   },
   "id": "b8162e9ec4eeccb0",
   "execution_count": 85
  },
  {
   "cell_type": "code",
   "outputs": [],
   "source": [
    "def kernel(log_A_real, A_imag, C, dt, L):\n",
    "    A = -torch.exp(log_A_real) + 1j * A_imag\n",
    "    dtA = A * dt\n",
    "    K = dtA.unsqueeze(-1) * torch.arange(L)\n",
    "    exp_K = torch.exp(K)\n",
    "    K_end = C @ exp_K\n",
    "    return K_end\n",
    "\n",
    "def kernel_jax(log_A_real, A_imag, C, dt, L):\n",
    "    A = -jnp.exp(log_A_real) + 1j * A_imag\n",
    "    dtA = A * dt\n",
    "    K = dtA[:, jnp.newaxis] * jnp.arange(L)\n",
    "    exp_K = jnp.exp(K)\n",
    "    K_end = C @ exp_K\n",
    "    return K_end"
   ],
   "metadata": {
    "collapsed": false,
    "ExecuteTime": {
     "end_time": "2024-09-06T23:38:34.682869Z",
     "start_time": "2024-09-06T23:38:34.679507Z"
    }
   },
   "id": "df95adb04878d93a",
   "execution_count": 86
  },
  {
   "cell_type": "code",
   "outputs": [],
   "source": [
    "import time"
   ],
   "metadata": {
    "collapsed": false,
    "ExecuteTime": {
     "end_time": "2024-09-06T23:38:49.317871Z",
     "start_time": "2024-09-06T23:38:49.315365Z"
    }
   },
   "id": "deadbeca0d82c560",
   "execution_count": 87
  },
  {
   "cell_type": "code",
   "outputs": [
    {
     "name": "stdout",
     "output_type": "stream",
     "text": [
      "18.9 µs ± 144 ns per loop (mean ± std. dev. of 7 runs, 100,000 loops each)\n"
     ]
    }
   ],
   "source": [
    "%timeit kernel(log_A_real, A_imag, C, 0.1, L=3)"
   ],
   "metadata": {
    "collapsed": false,
    "ExecuteTime": {
     "end_time": "2024-09-06T23:41:18.767404Z",
     "start_time": "2024-09-06T23:41:03.057084Z"
    }
   },
   "id": "3fbcd25ac5c48de9",
   "execution_count": 95
  },
  {
   "cell_type": "code",
   "outputs": [
    {
     "name": "stdout",
     "output_type": "stream",
     "text": [
      "160 µs ± 19.9 µs per loop (mean ± std. dev. of 7 runs, 10,000 loops each)\n"
     ]
    }
   ],
   "source": [
    "%timeit kernel_jax(log_A_real_jax, A_imag_jax, C_jax, 0.1, 3)"
   ],
   "metadata": {
    "collapsed": false,
    "ExecuteTime": {
     "end_time": "2024-09-06T23:39:32.869154Z",
     "start_time": "2024-09-06T23:39:19.609099Z"
    }
   },
   "id": "ad5957455752bf3c",
   "execution_count": 89
  },
  {
   "cell_type": "code",
   "outputs": [
    {
     "data": {
      "text/plain": "Array([0.70624167+0.84689474j, 0.5204996 +0.75193024j,\n       0.6196348 +0.5844165j ], dtype=complex64)"
     },
     "execution_count": 92,
     "metadata": {},
     "output_type": "execute_result"
    }
   ],
   "source": [
    "jit_kernel_jax = jax.jit(kernel_jax, static_argnums=(3, 4))\n",
    "# warmup \n",
    "jit_kernel_jax(log_A_real_jax, A_imag_jax, C_jax, 0.1, 3)"
   ],
   "metadata": {
    "collapsed": false,
    "ExecuteTime": {
     "end_time": "2024-09-06T23:40:30.547419Z",
     "start_time": "2024-09-06T23:40:30.523849Z"
    }
   },
   "id": "aa60968838ed23ee",
   "execution_count": 92
  },
  {
   "cell_type": "code",
   "outputs": [
    {
     "name": "stdout",
     "output_type": "stream",
     "text": [
      "4.11 µs ± 935 ns per loop (mean ± std. dev. of 7 runs, 100,000 loops each)\n"
     ]
    }
   ],
   "source": [
    "%timeit jit_kernel_jax(log_A_real_jax, A_imag_jax, C_jax, 0.1, L=3)"
   ],
   "metadata": {
    "collapsed": false,
    "ExecuteTime": {
     "end_time": "2024-09-06T23:40:58.930208Z",
     "start_time": "2024-09-06T23:40:55.603283Z"
    }
   },
   "id": "48c0ed18a42d0d26",
   "execution_count": 94
  },
  {
   "cell_type": "code",
   "outputs": [
    {
     "name": "stdout",
     "output_type": "stream",
     "text": [
      "log_A_real_batch.shape=(10, 64)\n",
      "A_imag_batch.shape=(10, 64)\n",
      "C_batch.shape=(10, 64)\n",
      "[[-0.6931472  +0.j        -0.6931472  +3.1415927j -0.6931472  +6.2831855j\n",
      "  -0.6931472  +9.424778j  -0.6931472 +12.566371j  -0.6931472 +15.707964j\n",
      "  -0.6931472 +18.849556j  -0.6931472 +21.99115j   -0.6931472 +25.132742j\n",
      "  -0.6931472 +28.274334j  -0.6931472 +31.415928j  -0.6931472 +34.55752j\n",
      "  -0.6931472 +37.699112j  -0.6931472 +40.840706j  -0.6931472 +43.9823j\n",
      "  -0.6931472 +47.12389j   -0.6931472 +50.265484j  -0.6931472 +53.407078j\n",
      "  -0.6931472 +56.548668j  -0.6931472 +59.69026j   -0.6931472 +62.831856j\n",
      "  -0.6931472 +65.97345j   -0.6931472 +69.11504j   -0.6931472 +72.25663j\n",
      "  -0.6931472 +75.398224j  -0.6931472 +78.53982j   -0.6931472 +81.68141j\n",
      "  -0.6931472 +84.823006j  -0.6931472 +87.9646j    -0.6931472 +91.106186j\n",
      "  -0.6931472 +94.24778j   -0.6931472 +97.38937j   -0.6931472+100.53097j\n",
      "  -0.6931472+103.67256j   -0.6931472+106.814156j  -0.6931472+109.95575j\n",
      "  -0.6931472+113.097336j  -0.6931472+116.23893j   -0.6931472+119.38052j\n",
      "  -0.6931472+122.52212j   -0.6931472+125.66371j   -0.6931472+128.8053j\n",
      "  -0.6931472+131.9469j    -0.6931472+135.08849j   -0.6931472+138.23009j\n",
      "  -0.6931472+141.37167j   -0.6931472+144.51326j   -0.6931472+147.65486j\n",
      "  -0.6931472+150.79645j   -0.6931472+153.93805j   -0.6931472+157.07964j\n",
      "  -0.6931472+160.22124j   -0.6931472+163.36282j   -0.6931472+166.50441j\n",
      "  -0.6931472+169.64601j   -0.6931472+172.7876j    -0.6931472+175.9292j\n",
      "  -0.6931472+179.07079j   -0.6931472+182.21237j   -0.6931472+185.35397j\n",
      "  -0.6931472+188.49556j   -0.6931472+191.63716j   -0.6931472+194.77875j\n",
      "  -0.6931472+197.92035j  ]\n",
      " [-0.6931472  +0.j        -0.6931472  +3.1415927j -0.6931472  +6.2831855j\n",
      "  -0.6931472  +9.424778j  -0.6931472 +12.566371j  -0.6931472 +15.707964j\n",
      "  -0.6931472 +18.849556j  -0.6931472 +21.99115j   -0.6931472 +25.132742j\n",
      "  -0.6931472 +28.274334j  -0.6931472 +31.415928j  -0.6931472 +34.55752j\n",
      "  -0.6931472 +37.699112j  -0.6931472 +40.840706j  -0.6931472 +43.9823j\n",
      "  -0.6931472 +47.12389j   -0.6931472 +50.265484j  -0.6931472 +53.407078j\n",
      "  -0.6931472 +56.548668j  -0.6931472 +59.69026j   -0.6931472 +62.831856j\n",
      "  -0.6931472 +65.97345j   -0.6931472 +69.11504j   -0.6931472 +72.25663j\n",
      "  -0.6931472 +75.398224j  -0.6931472 +78.53982j   -0.6931472 +81.68141j\n",
      "  -0.6931472 +84.823006j  -0.6931472 +87.9646j    -0.6931472 +91.106186j\n",
      "  -0.6931472 +94.24778j   -0.6931472 +97.38937j   -0.6931472+100.53097j\n",
      "  -0.6931472+103.67256j   -0.6931472+106.814156j  -0.6931472+109.95575j\n",
      "  -0.6931472+113.097336j  -0.6931472+116.23893j   -0.6931472+119.38052j\n",
      "  -0.6931472+122.52212j   -0.6931472+125.66371j   -0.6931472+128.8053j\n",
      "  -0.6931472+131.9469j    -0.6931472+135.08849j   -0.6931472+138.23009j\n",
      "  -0.6931472+141.37167j   -0.6931472+144.51326j   -0.6931472+147.65486j\n",
      "  -0.6931472+150.79645j   -0.6931472+153.93805j   -0.6931472+157.07964j\n",
      "  -0.6931472+160.22124j   -0.6931472+163.36282j   -0.6931472+166.50441j\n",
      "  -0.6931472+169.64601j   -0.6931472+172.7876j    -0.6931472+175.9292j\n",
      "  -0.6931472+179.07079j   -0.6931472+182.21237j   -0.6931472+185.35397j\n",
      "  -0.6931472+188.49556j   -0.6931472+191.63716j   -0.6931472+194.77875j\n",
      "  -0.6931472+197.92035j  ]\n",
      " [-0.6931472  +0.j        -0.6931472  +3.1415927j -0.6931472  +6.2831855j\n",
      "  -0.6931472  +9.424778j  -0.6931472 +12.566371j  -0.6931472 +15.707964j\n",
      "  -0.6931472 +18.849556j  -0.6931472 +21.99115j   -0.6931472 +25.132742j\n",
      "  -0.6931472 +28.274334j  -0.6931472 +31.415928j  -0.6931472 +34.55752j\n",
      "  -0.6931472 +37.699112j  -0.6931472 +40.840706j  -0.6931472 +43.9823j\n",
      "  -0.6931472 +47.12389j   -0.6931472 +50.265484j  -0.6931472 +53.407078j\n",
      "  -0.6931472 +56.548668j  -0.6931472 +59.69026j   -0.6931472 +62.831856j\n",
      "  -0.6931472 +65.97345j   -0.6931472 +69.11504j   -0.6931472 +72.25663j\n",
      "  -0.6931472 +75.398224j  -0.6931472 +78.53982j   -0.6931472 +81.68141j\n",
      "  -0.6931472 +84.823006j  -0.6931472 +87.9646j    -0.6931472 +91.106186j\n",
      "  -0.6931472 +94.24778j   -0.6931472 +97.38937j   -0.6931472+100.53097j\n",
      "  -0.6931472+103.67256j   -0.6931472+106.814156j  -0.6931472+109.95575j\n",
      "  -0.6931472+113.097336j  -0.6931472+116.23893j   -0.6931472+119.38052j\n",
      "  -0.6931472+122.52212j   -0.6931472+125.66371j   -0.6931472+128.8053j\n",
      "  -0.6931472+131.9469j    -0.6931472+135.08849j   -0.6931472+138.23009j\n",
      "  -0.6931472+141.37167j   -0.6931472+144.51326j   -0.6931472+147.65486j\n",
      "  -0.6931472+150.79645j   -0.6931472+153.93805j   -0.6931472+157.07964j\n",
      "  -0.6931472+160.22124j   -0.6931472+163.36282j   -0.6931472+166.50441j\n",
      "  -0.6931472+169.64601j   -0.6931472+172.7876j    -0.6931472+175.9292j\n",
      "  -0.6931472+179.07079j   -0.6931472+182.21237j   -0.6931472+185.35397j\n",
      "  -0.6931472+188.49556j   -0.6931472+191.63716j   -0.6931472+194.77875j\n",
      "  -0.6931472+197.92035j  ]\n",
      " [-0.6931472  +0.j        -0.6931472  +3.1415927j -0.6931472  +6.2831855j\n",
      "  -0.6931472  +9.424778j  -0.6931472 +12.566371j  -0.6931472 +15.707964j\n",
      "  -0.6931472 +18.849556j  -0.6931472 +21.99115j   -0.6931472 +25.132742j\n",
      "  -0.6931472 +28.274334j  -0.6931472 +31.415928j  -0.6931472 +34.55752j\n",
      "  -0.6931472 +37.699112j  -0.6931472 +40.840706j  -0.6931472 +43.9823j\n",
      "  -0.6931472 +47.12389j   -0.6931472 +50.265484j  -0.6931472 +53.407078j\n",
      "  -0.6931472 +56.548668j  -0.6931472 +59.69026j   -0.6931472 +62.831856j\n",
      "  -0.6931472 +65.97345j   -0.6931472 +69.11504j   -0.6931472 +72.25663j\n",
      "  -0.6931472 +75.398224j  -0.6931472 +78.53982j   -0.6931472 +81.68141j\n",
      "  -0.6931472 +84.823006j  -0.6931472 +87.9646j    -0.6931472 +91.106186j\n",
      "  -0.6931472 +94.24778j   -0.6931472 +97.38937j   -0.6931472+100.53097j\n",
      "  -0.6931472+103.67256j   -0.6931472+106.814156j  -0.6931472+109.95575j\n",
      "  -0.6931472+113.097336j  -0.6931472+116.23893j   -0.6931472+119.38052j\n",
      "  -0.6931472+122.52212j   -0.6931472+125.66371j   -0.6931472+128.8053j\n",
      "  -0.6931472+131.9469j    -0.6931472+135.08849j   -0.6931472+138.23009j\n",
      "  -0.6931472+141.37167j   -0.6931472+144.51326j   -0.6931472+147.65486j\n",
      "  -0.6931472+150.79645j   -0.6931472+153.93805j   -0.6931472+157.07964j\n",
      "  -0.6931472+160.22124j   -0.6931472+163.36282j   -0.6931472+166.50441j\n",
      "  -0.6931472+169.64601j   -0.6931472+172.7876j    -0.6931472+175.9292j\n",
      "  -0.6931472+179.07079j   -0.6931472+182.21237j   -0.6931472+185.35397j\n",
      "  -0.6931472+188.49556j   -0.6931472+191.63716j   -0.6931472+194.77875j\n",
      "  -0.6931472+197.92035j  ]\n",
      " [-0.6931472  +0.j        -0.6931472  +3.1415927j -0.6931472  +6.2831855j\n",
      "  -0.6931472  +9.424778j  -0.6931472 +12.566371j  -0.6931472 +15.707964j\n",
      "  -0.6931472 +18.849556j  -0.6931472 +21.99115j   -0.6931472 +25.132742j\n",
      "  -0.6931472 +28.274334j  -0.6931472 +31.415928j  -0.6931472 +34.55752j\n",
      "  -0.6931472 +37.699112j  -0.6931472 +40.840706j  -0.6931472 +43.9823j\n",
      "  -0.6931472 +47.12389j   -0.6931472 +50.265484j  -0.6931472 +53.407078j\n",
      "  -0.6931472 +56.548668j  -0.6931472 +59.69026j   -0.6931472 +62.831856j\n",
      "  -0.6931472 +65.97345j   -0.6931472 +69.11504j   -0.6931472 +72.25663j\n",
      "  -0.6931472 +75.398224j  -0.6931472 +78.53982j   -0.6931472 +81.68141j\n",
      "  -0.6931472 +84.823006j  -0.6931472 +87.9646j    -0.6931472 +91.106186j\n",
      "  -0.6931472 +94.24778j   -0.6931472 +97.38937j   -0.6931472+100.53097j\n",
      "  -0.6931472+103.67256j   -0.6931472+106.814156j  -0.6931472+109.95575j\n",
      "  -0.6931472+113.097336j  -0.6931472+116.23893j   -0.6931472+119.38052j\n",
      "  -0.6931472+122.52212j   -0.6931472+125.66371j   -0.6931472+128.8053j\n",
      "  -0.6931472+131.9469j    -0.6931472+135.08849j   -0.6931472+138.23009j\n",
      "  -0.6931472+141.37167j   -0.6931472+144.51326j   -0.6931472+147.65486j\n",
      "  -0.6931472+150.79645j   -0.6931472+153.93805j   -0.6931472+157.07964j\n",
      "  -0.6931472+160.22124j   -0.6931472+163.36282j   -0.6931472+166.50441j\n",
      "  -0.6931472+169.64601j   -0.6931472+172.7876j    -0.6931472+175.9292j\n",
      "  -0.6931472+179.07079j   -0.6931472+182.21237j   -0.6931472+185.35397j\n",
      "  -0.6931472+188.49556j   -0.6931472+191.63716j   -0.6931472+194.77875j\n",
      "  -0.6931472+197.92035j  ]\n",
      " [-0.6931472  +0.j        -0.6931472  +3.1415927j -0.6931472  +6.2831855j\n",
      "  -0.6931472  +9.424778j  -0.6931472 +12.566371j  -0.6931472 +15.707964j\n",
      "  -0.6931472 +18.849556j  -0.6931472 +21.99115j   -0.6931472 +25.132742j\n",
      "  -0.6931472 +28.274334j  -0.6931472 +31.415928j  -0.6931472 +34.55752j\n",
      "  -0.6931472 +37.699112j  -0.6931472 +40.840706j  -0.6931472 +43.9823j\n",
      "  -0.6931472 +47.12389j   -0.6931472 +50.265484j  -0.6931472 +53.407078j\n",
      "  -0.6931472 +56.548668j  -0.6931472 +59.69026j   -0.6931472 +62.831856j\n",
      "  -0.6931472 +65.97345j   -0.6931472 +69.11504j   -0.6931472 +72.25663j\n",
      "  -0.6931472 +75.398224j  -0.6931472 +78.53982j   -0.6931472 +81.68141j\n",
      "  -0.6931472 +84.823006j  -0.6931472 +87.9646j    -0.6931472 +91.106186j\n",
      "  -0.6931472 +94.24778j   -0.6931472 +97.38937j   -0.6931472+100.53097j\n",
      "  -0.6931472+103.67256j   -0.6931472+106.814156j  -0.6931472+109.95575j\n",
      "  -0.6931472+113.097336j  -0.6931472+116.23893j   -0.6931472+119.38052j\n",
      "  -0.6931472+122.52212j   -0.6931472+125.66371j   -0.6931472+128.8053j\n",
      "  -0.6931472+131.9469j    -0.6931472+135.08849j   -0.6931472+138.23009j\n",
      "  -0.6931472+141.37167j   -0.6931472+144.51326j   -0.6931472+147.65486j\n",
      "  -0.6931472+150.79645j   -0.6931472+153.93805j   -0.6931472+157.07964j\n",
      "  -0.6931472+160.22124j   -0.6931472+163.36282j   -0.6931472+166.50441j\n",
      "  -0.6931472+169.64601j   -0.6931472+172.7876j    -0.6931472+175.9292j\n",
      "  -0.6931472+179.07079j   -0.6931472+182.21237j   -0.6931472+185.35397j\n",
      "  -0.6931472+188.49556j   -0.6931472+191.63716j   -0.6931472+194.77875j\n",
      "  -0.6931472+197.92035j  ]\n",
      " [-0.6931472  +0.j        -0.6931472  +3.1415927j -0.6931472  +6.2831855j\n",
      "  -0.6931472  +9.424778j  -0.6931472 +12.566371j  -0.6931472 +15.707964j\n",
      "  -0.6931472 +18.849556j  -0.6931472 +21.99115j   -0.6931472 +25.132742j\n",
      "  -0.6931472 +28.274334j  -0.6931472 +31.415928j  -0.6931472 +34.55752j\n",
      "  -0.6931472 +37.699112j  -0.6931472 +40.840706j  -0.6931472 +43.9823j\n",
      "  -0.6931472 +47.12389j   -0.6931472 +50.265484j  -0.6931472 +53.407078j\n",
      "  -0.6931472 +56.548668j  -0.6931472 +59.69026j   -0.6931472 +62.831856j\n",
      "  -0.6931472 +65.97345j   -0.6931472 +69.11504j   -0.6931472 +72.25663j\n",
      "  -0.6931472 +75.398224j  -0.6931472 +78.53982j   -0.6931472 +81.68141j\n",
      "  -0.6931472 +84.823006j  -0.6931472 +87.9646j    -0.6931472 +91.106186j\n",
      "  -0.6931472 +94.24778j   -0.6931472 +97.38937j   -0.6931472+100.53097j\n",
      "  -0.6931472+103.67256j   -0.6931472+106.814156j  -0.6931472+109.95575j\n",
      "  -0.6931472+113.097336j  -0.6931472+116.23893j   -0.6931472+119.38052j\n",
      "  -0.6931472+122.52212j   -0.6931472+125.66371j   -0.6931472+128.8053j\n",
      "  -0.6931472+131.9469j    -0.6931472+135.08849j   -0.6931472+138.23009j\n",
      "  -0.6931472+141.37167j   -0.6931472+144.51326j   -0.6931472+147.65486j\n",
      "  -0.6931472+150.79645j   -0.6931472+153.93805j   -0.6931472+157.07964j\n",
      "  -0.6931472+160.22124j   -0.6931472+163.36282j   -0.6931472+166.50441j\n",
      "  -0.6931472+169.64601j   -0.6931472+172.7876j    -0.6931472+175.9292j\n",
      "  -0.6931472+179.07079j   -0.6931472+182.21237j   -0.6931472+185.35397j\n",
      "  -0.6931472+188.49556j   -0.6931472+191.63716j   -0.6931472+194.77875j\n",
      "  -0.6931472+197.92035j  ]\n",
      " [-0.6931472  +0.j        -0.6931472  +3.1415927j -0.6931472  +6.2831855j\n",
      "  -0.6931472  +9.424778j  -0.6931472 +12.566371j  -0.6931472 +15.707964j\n",
      "  -0.6931472 +18.849556j  -0.6931472 +21.99115j   -0.6931472 +25.132742j\n",
      "  -0.6931472 +28.274334j  -0.6931472 +31.415928j  -0.6931472 +34.55752j\n",
      "  -0.6931472 +37.699112j  -0.6931472 +40.840706j  -0.6931472 +43.9823j\n",
      "  -0.6931472 +47.12389j   -0.6931472 +50.265484j  -0.6931472 +53.407078j\n",
      "  -0.6931472 +56.548668j  -0.6931472 +59.69026j   -0.6931472 +62.831856j\n",
      "  -0.6931472 +65.97345j   -0.6931472 +69.11504j   -0.6931472 +72.25663j\n",
      "  -0.6931472 +75.398224j  -0.6931472 +78.53982j   -0.6931472 +81.68141j\n",
      "  -0.6931472 +84.823006j  -0.6931472 +87.9646j    -0.6931472 +91.106186j\n",
      "  -0.6931472 +94.24778j   -0.6931472 +97.38937j   -0.6931472+100.53097j\n",
      "  -0.6931472+103.67256j   -0.6931472+106.814156j  -0.6931472+109.95575j\n",
      "  -0.6931472+113.097336j  -0.6931472+116.23893j   -0.6931472+119.38052j\n",
      "  -0.6931472+122.52212j   -0.6931472+125.66371j   -0.6931472+128.8053j\n",
      "  -0.6931472+131.9469j    -0.6931472+135.08849j   -0.6931472+138.23009j\n",
      "  -0.6931472+141.37167j   -0.6931472+144.51326j   -0.6931472+147.65486j\n",
      "  -0.6931472+150.79645j   -0.6931472+153.93805j   -0.6931472+157.07964j\n",
      "  -0.6931472+160.22124j   -0.6931472+163.36282j   -0.6931472+166.50441j\n",
      "  -0.6931472+169.64601j   -0.6931472+172.7876j    -0.6931472+175.9292j\n",
      "  -0.6931472+179.07079j   -0.6931472+182.21237j   -0.6931472+185.35397j\n",
      "  -0.6931472+188.49556j   -0.6931472+191.63716j   -0.6931472+194.77875j\n",
      "  -0.6931472+197.92035j  ]\n",
      " [-0.6931472  +0.j        -0.6931472  +3.1415927j -0.6931472  +6.2831855j\n",
      "  -0.6931472  +9.424778j  -0.6931472 +12.566371j  -0.6931472 +15.707964j\n",
      "  -0.6931472 +18.849556j  -0.6931472 +21.99115j   -0.6931472 +25.132742j\n",
      "  -0.6931472 +28.274334j  -0.6931472 +31.415928j  -0.6931472 +34.55752j\n",
      "  -0.6931472 +37.699112j  -0.6931472 +40.840706j  -0.6931472 +43.9823j\n",
      "  -0.6931472 +47.12389j   -0.6931472 +50.265484j  -0.6931472 +53.407078j\n",
      "  -0.6931472 +56.548668j  -0.6931472 +59.69026j   -0.6931472 +62.831856j\n",
      "  -0.6931472 +65.97345j   -0.6931472 +69.11504j   -0.6931472 +72.25663j\n",
      "  -0.6931472 +75.398224j  -0.6931472 +78.53982j   -0.6931472 +81.68141j\n",
      "  -0.6931472 +84.823006j  -0.6931472 +87.9646j    -0.6931472 +91.106186j\n",
      "  -0.6931472 +94.24778j   -0.6931472 +97.38937j   -0.6931472+100.53097j\n",
      "  -0.6931472+103.67256j   -0.6931472+106.814156j  -0.6931472+109.95575j\n",
      "  -0.6931472+113.097336j  -0.6931472+116.23893j   -0.6931472+119.38052j\n",
      "  -0.6931472+122.52212j   -0.6931472+125.66371j   -0.6931472+128.8053j\n",
      "  -0.6931472+131.9469j    -0.6931472+135.08849j   -0.6931472+138.23009j\n",
      "  -0.6931472+141.37167j   -0.6931472+144.51326j   -0.6931472+147.65486j\n",
      "  -0.6931472+150.79645j   -0.6931472+153.93805j   -0.6931472+157.07964j\n",
      "  -0.6931472+160.22124j   -0.6931472+163.36282j   -0.6931472+166.50441j\n",
      "  -0.6931472+169.64601j   -0.6931472+172.7876j    -0.6931472+175.9292j\n",
      "  -0.6931472+179.07079j   -0.6931472+182.21237j   -0.6931472+185.35397j\n",
      "  -0.6931472+188.49556j   -0.6931472+191.63716j   -0.6931472+194.77875j\n",
      "  -0.6931472+197.92035j  ]\n",
      " [-0.6931472  +0.j        -0.6931472  +3.1415927j -0.6931472  +6.2831855j\n",
      "  -0.6931472  +9.424778j  -0.6931472 +12.566371j  -0.6931472 +15.707964j\n",
      "  -0.6931472 +18.849556j  -0.6931472 +21.99115j   -0.6931472 +25.132742j\n",
      "  -0.6931472 +28.274334j  -0.6931472 +31.415928j  -0.6931472 +34.55752j\n",
      "  -0.6931472 +37.699112j  -0.6931472 +40.840706j  -0.6931472 +43.9823j\n",
      "  -0.6931472 +47.12389j   -0.6931472 +50.265484j  -0.6931472 +53.407078j\n",
      "  -0.6931472 +56.548668j  -0.6931472 +59.69026j   -0.6931472 +62.831856j\n",
      "  -0.6931472 +65.97345j   -0.6931472 +69.11504j   -0.6931472 +72.25663j\n",
      "  -0.6931472 +75.398224j  -0.6931472 +78.53982j   -0.6931472 +81.68141j\n",
      "  -0.6931472 +84.823006j  -0.6931472 +87.9646j    -0.6931472 +91.106186j\n",
      "  -0.6931472 +94.24778j   -0.6931472 +97.38937j   -0.6931472+100.53097j\n",
      "  -0.6931472+103.67256j   -0.6931472+106.814156j  -0.6931472+109.95575j\n",
      "  -0.6931472+113.097336j  -0.6931472+116.23893j   -0.6931472+119.38052j\n",
      "  -0.6931472+122.52212j   -0.6931472+125.66371j   -0.6931472+128.8053j\n",
      "  -0.6931472+131.9469j    -0.6931472+135.08849j   -0.6931472+138.23009j\n",
      "  -0.6931472+141.37167j   -0.6931472+144.51326j   -0.6931472+147.65486j\n",
      "  -0.6931472+150.79645j   -0.6931472+153.93805j   -0.6931472+157.07964j\n",
      "  -0.6931472+160.22124j   -0.6931472+163.36282j   -0.6931472+166.50441j\n",
      "  -0.6931472+169.64601j   -0.6931472+172.7876j    -0.6931472+175.9292j\n",
      "  -0.6931472+179.07079j   -0.6931472+182.21237j   -0.6931472+185.35397j\n",
      "  -0.6931472+188.49556j   -0.6931472+191.63716j   -0.6931472+194.77875j\n",
      "  -0.6931472+197.92035j  ]]\n"
     ]
    }
   ],
   "source": [
    "log_A_real_list = []\n",
    "A_imag_list = []\n",
    "C_list = []\n",
    "H = 10\n",
    "N = 64\n",
    "key = jax.random.PRNGKey(0)\n",
    "for i in range(H):\n",
    "    key, subkey = jax.random.split(key)\n",
    "    log_A_real, A_imag, C = init_jax(subkey, N=N)\n",
    "    log_A_real_list.append(log_A_real)\n",
    "    A_imag_list.append(A_imag)\n",
    "    C_list.append(C)\n",
    "log_A_real_batch = jnp.stack(log_A_real_list)\n",
    "A_imag_batch = jnp.stack(A_imag_list)\n",
    "C_batch = jnp.stack(C_list)\n",
    "print(f'{log_A_real_batch.shape=}')\n",
    "print(f'{A_imag_batch.shape=}')\n",
    "print(f'{C_batch.shape=}')\n",
    "print(log_A_real_batch + 1j * A_imag_batch)"
   ],
   "metadata": {
    "collapsed": false,
    "ExecuteTime": {
     "end_time": "2024-09-07T00:01:27.629844Z",
     "start_time": "2024-09-07T00:01:27.270516Z"
    }
   },
   "id": "e4e1caa8ba0e0d76",
   "execution_count": 132
  },
  {
   "cell_type": "code",
   "outputs": [
    {
     "data": {
      "text/plain": "Array([[ 4.93954849e+00-7.8557873e-01j,  1.10475659e+00-1.1616502e+01j,\n        -1.03798866e-01+4.1941798e-01j, ...,\n        -7.51979509e-03-1.0882646e-02j,  6.20917045e-03-1.8583246e-02j,\n         1.21726161e-02-1.3888414e-02j],\n       [-4.04846907e-01+8.7479954e+00j,  5.16121721e+00-2.3994251e-01j,\n        -2.49888492e+00-2.6765285e+00j, ...,\n         1.91112496e-02-1.3435737e-03j,  1.23324292e-03+3.1608322e-03j,\n         4.53132531e-03-9.6221790e-03j],\n       [-6.86919308e+00+1.1445875e+01j, -3.01707697e+00-1.9842070e+01j,\n         3.69161034e+00+4.1499758e+00j, ...,\n         9.38161649e-03-8.1465840e-03j, -1.20261209e-02+9.6609816e-03j,\n        -1.32796876e-02-4.7527147e-03j],\n       ...,\n       [-2.59423447e+00+6.4350688e-01j, -2.92640305e+00-9.5094881e+00j,\n        -4.76090574e+00-1.9538455e+00j, ...,\n         1.01800896e-02-1.5535339e-02j, -2.54037790e-04-2.9856451e-03j,\n        -1.15122208e-02-4.4159214e-03j],\n       [-4.17223358e+00-4.4832230e-01j, -7.96455956e+00+7.3788130e-01j,\n         3.85916567e+00+2.7540059e+00j, ...,\n        -2.61623086e-03-4.9402560e-03j,  8.64552613e-03+1.4105905e-04j,\n         8.85813031e-04-9.5305895e-04j],\n       [-7.32192397e-01+6.0340470e-01j, -1.07190847e+00-7.7814436e+00j,\n        -2.32788295e-01-4.4705453e+00j, ...,\n         1.25240386e-02-1.4069797e-03j, -3.30767110e-02-5.9044035e-03j,\n         3.77813959e-03-6.7793815e-03j]], dtype=complex64)"
     },
     "execution_count": 136,
     "metadata": {},
     "output_type": "execute_result"
    }
   ],
   "source": [
    "vmap_kernel_jax = jax.vmap(jit_kernel_jax, in_axes=(0, 0, 0, None, None))\n",
    "# warmup\n",
    "vmap_kernel_jax(log_A_real_batch, A_imag_batch, C_batch, 0.1, 128)"
   ],
   "metadata": {
    "collapsed": false,
    "ExecuteTime": {
     "end_time": "2024-09-07T00:02:28.184379Z",
     "start_time": "2024-09-07T00:02:28.149556Z"
    }
   },
   "id": "45b4a33f28acf903",
   "execution_count": 136
  },
  {
   "cell_type": "code",
   "outputs": [
    {
     "name": "stdout",
     "output_type": "stream",
     "text": [
      "443 µs ± 2.32 µs per loop (mean ± std. dev. of 7 runs, 1,000 loops each)\n"
     ]
    }
   ],
   "source": [
    "%timeit vmap_kernel_jax(log_A_real_batch, A_imag_batch, C_batch, 0.1, 3)"
   ],
   "metadata": {
    "collapsed": false,
    "ExecuteTime": {
     "end_time": "2024-09-07T00:02:43.313471Z",
     "start_time": "2024-09-07T00:02:39.703147Z"
    }
   },
   "id": "16655da483e99107",
   "execution_count": 137
  },
  {
   "cell_type": "code",
   "outputs": [
    {
     "name": "stdout",
     "output_type": "stream",
     "text": [
      "batch_log_A_real_torch.shape=torch.Size([10, 4])\n",
      "batch_A_imag_torch.shape=torch.Size([10, 4])\n",
      "batch_C_torch.shape=torch.Size([10, 4])\n",
      "[[-0.6931472  +0.j        -0.6931472  +3.1415927j -0.6931472  +6.2831855j\n",
      "  -0.6931472  +9.424778j  -0.6931472 +12.566371j  -0.6931472 +15.707964j\n",
      "  -0.6931472 +18.849556j  -0.6931472 +21.99115j   -0.6931472 +25.132742j\n",
      "  -0.6931472 +28.274334j  -0.6931472 +31.415928j  -0.6931472 +34.55752j\n",
      "  -0.6931472 +37.699112j  -0.6931472 +40.840706j  -0.6931472 +43.9823j\n",
      "  -0.6931472 +47.12389j   -0.6931472 +50.265484j  -0.6931472 +53.407078j\n",
      "  -0.6931472 +56.548668j  -0.6931472 +59.69026j   -0.6931472 +62.831856j\n",
      "  -0.6931472 +65.97345j   -0.6931472 +69.11504j   -0.6931472 +72.25663j\n",
      "  -0.6931472 +75.398224j  -0.6931472 +78.53982j   -0.6931472 +81.68141j\n",
      "  -0.6931472 +84.823006j  -0.6931472 +87.9646j    -0.6931472 +91.106186j\n",
      "  -0.6931472 +94.24778j   -0.6931472 +97.38937j   -0.6931472+100.53097j\n",
      "  -0.6931472+103.67256j   -0.6931472+106.814156j  -0.6931472+109.95575j\n",
      "  -0.6931472+113.097336j  -0.6931472+116.23893j   -0.6931472+119.38052j\n",
      "  -0.6931472+122.52212j   -0.6931472+125.66371j   -0.6931472+128.8053j\n",
      "  -0.6931472+131.9469j    -0.6931472+135.08849j   -0.6931472+138.23009j\n",
      "  -0.6931472+141.37167j   -0.6931472+144.51326j   -0.6931472+147.65486j\n",
      "  -0.6931472+150.79645j   -0.6931472+153.93805j   -0.6931472+157.07964j\n",
      "  -0.6931472+160.22124j   -0.6931472+163.36282j   -0.6931472+166.50441j\n",
      "  -0.6931472+169.64601j   -0.6931472+172.7876j    -0.6931472+175.9292j\n",
      "  -0.6931472+179.07079j   -0.6931472+182.21237j   -0.6931472+185.35397j\n",
      "  -0.6931472+188.49556j   -0.6931472+191.63716j   -0.6931472+194.77875j\n",
      "  -0.6931472+197.92035j  ]\n",
      " [-0.6931472  +0.j        -0.6931472  +3.1415927j -0.6931472  +6.2831855j\n",
      "  -0.6931472  +9.424778j  -0.6931472 +12.566371j  -0.6931472 +15.707964j\n",
      "  -0.6931472 +18.849556j  -0.6931472 +21.99115j   -0.6931472 +25.132742j\n",
      "  -0.6931472 +28.274334j  -0.6931472 +31.415928j  -0.6931472 +34.55752j\n",
      "  -0.6931472 +37.699112j  -0.6931472 +40.840706j  -0.6931472 +43.9823j\n",
      "  -0.6931472 +47.12389j   -0.6931472 +50.265484j  -0.6931472 +53.407078j\n",
      "  -0.6931472 +56.548668j  -0.6931472 +59.69026j   -0.6931472 +62.831856j\n",
      "  -0.6931472 +65.97345j   -0.6931472 +69.11504j   -0.6931472 +72.25663j\n",
      "  -0.6931472 +75.398224j  -0.6931472 +78.53982j   -0.6931472 +81.68141j\n",
      "  -0.6931472 +84.823006j  -0.6931472 +87.9646j    -0.6931472 +91.106186j\n",
      "  -0.6931472 +94.24778j   -0.6931472 +97.38937j   -0.6931472+100.53097j\n",
      "  -0.6931472+103.67256j   -0.6931472+106.814156j  -0.6931472+109.95575j\n",
      "  -0.6931472+113.097336j  -0.6931472+116.23893j   -0.6931472+119.38052j\n",
      "  -0.6931472+122.52212j   -0.6931472+125.66371j   -0.6931472+128.8053j\n",
      "  -0.6931472+131.9469j    -0.6931472+135.08849j   -0.6931472+138.23009j\n",
      "  -0.6931472+141.37167j   -0.6931472+144.51326j   -0.6931472+147.65486j\n",
      "  -0.6931472+150.79645j   -0.6931472+153.93805j   -0.6931472+157.07964j\n",
      "  -0.6931472+160.22124j   -0.6931472+163.36282j   -0.6931472+166.50441j\n",
      "  -0.6931472+169.64601j   -0.6931472+172.7876j    -0.6931472+175.9292j\n",
      "  -0.6931472+179.07079j   -0.6931472+182.21237j   -0.6931472+185.35397j\n",
      "  -0.6931472+188.49556j   -0.6931472+191.63716j   -0.6931472+194.77875j\n",
      "  -0.6931472+197.92035j  ]\n",
      " [-0.6931472  +0.j        -0.6931472  +3.1415927j -0.6931472  +6.2831855j\n",
      "  -0.6931472  +9.424778j  -0.6931472 +12.566371j  -0.6931472 +15.707964j\n",
      "  -0.6931472 +18.849556j  -0.6931472 +21.99115j   -0.6931472 +25.132742j\n",
      "  -0.6931472 +28.274334j  -0.6931472 +31.415928j  -0.6931472 +34.55752j\n",
      "  -0.6931472 +37.699112j  -0.6931472 +40.840706j  -0.6931472 +43.9823j\n",
      "  -0.6931472 +47.12389j   -0.6931472 +50.265484j  -0.6931472 +53.407078j\n",
      "  -0.6931472 +56.548668j  -0.6931472 +59.69026j   -0.6931472 +62.831856j\n",
      "  -0.6931472 +65.97345j   -0.6931472 +69.11504j   -0.6931472 +72.25663j\n",
      "  -0.6931472 +75.398224j  -0.6931472 +78.53982j   -0.6931472 +81.68141j\n",
      "  -0.6931472 +84.823006j  -0.6931472 +87.9646j    -0.6931472 +91.106186j\n",
      "  -0.6931472 +94.24778j   -0.6931472 +97.38937j   -0.6931472+100.53097j\n",
      "  -0.6931472+103.67256j   -0.6931472+106.814156j  -0.6931472+109.95575j\n",
      "  -0.6931472+113.097336j  -0.6931472+116.23893j   -0.6931472+119.38052j\n",
      "  -0.6931472+122.52212j   -0.6931472+125.66371j   -0.6931472+128.8053j\n",
      "  -0.6931472+131.9469j    -0.6931472+135.08849j   -0.6931472+138.23009j\n",
      "  -0.6931472+141.37167j   -0.6931472+144.51326j   -0.6931472+147.65486j\n",
      "  -0.6931472+150.79645j   -0.6931472+153.93805j   -0.6931472+157.07964j\n",
      "  -0.6931472+160.22124j   -0.6931472+163.36282j   -0.6931472+166.50441j\n",
      "  -0.6931472+169.64601j   -0.6931472+172.7876j    -0.6931472+175.9292j\n",
      "  -0.6931472+179.07079j   -0.6931472+182.21237j   -0.6931472+185.35397j\n",
      "  -0.6931472+188.49556j   -0.6931472+191.63716j   -0.6931472+194.77875j\n",
      "  -0.6931472+197.92035j  ]\n",
      " [-0.6931472  +0.j        -0.6931472  +3.1415927j -0.6931472  +6.2831855j\n",
      "  -0.6931472  +9.424778j  -0.6931472 +12.566371j  -0.6931472 +15.707964j\n",
      "  -0.6931472 +18.849556j  -0.6931472 +21.99115j   -0.6931472 +25.132742j\n",
      "  -0.6931472 +28.274334j  -0.6931472 +31.415928j  -0.6931472 +34.55752j\n",
      "  -0.6931472 +37.699112j  -0.6931472 +40.840706j  -0.6931472 +43.9823j\n",
      "  -0.6931472 +47.12389j   -0.6931472 +50.265484j  -0.6931472 +53.407078j\n",
      "  -0.6931472 +56.548668j  -0.6931472 +59.69026j   -0.6931472 +62.831856j\n",
      "  -0.6931472 +65.97345j   -0.6931472 +69.11504j   -0.6931472 +72.25663j\n",
      "  -0.6931472 +75.398224j  -0.6931472 +78.53982j   -0.6931472 +81.68141j\n",
      "  -0.6931472 +84.823006j  -0.6931472 +87.9646j    -0.6931472 +91.106186j\n",
      "  -0.6931472 +94.24778j   -0.6931472 +97.38937j   -0.6931472+100.53097j\n",
      "  -0.6931472+103.67256j   -0.6931472+106.814156j  -0.6931472+109.95575j\n",
      "  -0.6931472+113.097336j  -0.6931472+116.23893j   -0.6931472+119.38052j\n",
      "  -0.6931472+122.52212j   -0.6931472+125.66371j   -0.6931472+128.8053j\n",
      "  -0.6931472+131.9469j    -0.6931472+135.08849j   -0.6931472+138.23009j\n",
      "  -0.6931472+141.37167j   -0.6931472+144.51326j   -0.6931472+147.65486j\n",
      "  -0.6931472+150.79645j   -0.6931472+153.93805j   -0.6931472+157.07964j\n",
      "  -0.6931472+160.22124j   -0.6931472+163.36282j   -0.6931472+166.50441j\n",
      "  -0.6931472+169.64601j   -0.6931472+172.7876j    -0.6931472+175.9292j\n",
      "  -0.6931472+179.07079j   -0.6931472+182.21237j   -0.6931472+185.35397j\n",
      "  -0.6931472+188.49556j   -0.6931472+191.63716j   -0.6931472+194.77875j\n",
      "  -0.6931472+197.92035j  ]\n",
      " [-0.6931472  +0.j        -0.6931472  +3.1415927j -0.6931472  +6.2831855j\n",
      "  -0.6931472  +9.424778j  -0.6931472 +12.566371j  -0.6931472 +15.707964j\n",
      "  -0.6931472 +18.849556j  -0.6931472 +21.99115j   -0.6931472 +25.132742j\n",
      "  -0.6931472 +28.274334j  -0.6931472 +31.415928j  -0.6931472 +34.55752j\n",
      "  -0.6931472 +37.699112j  -0.6931472 +40.840706j  -0.6931472 +43.9823j\n",
      "  -0.6931472 +47.12389j   -0.6931472 +50.265484j  -0.6931472 +53.407078j\n",
      "  -0.6931472 +56.548668j  -0.6931472 +59.69026j   -0.6931472 +62.831856j\n",
      "  -0.6931472 +65.97345j   -0.6931472 +69.11504j   -0.6931472 +72.25663j\n",
      "  -0.6931472 +75.398224j  -0.6931472 +78.53982j   -0.6931472 +81.68141j\n",
      "  -0.6931472 +84.823006j  -0.6931472 +87.9646j    -0.6931472 +91.106186j\n",
      "  -0.6931472 +94.24778j   -0.6931472 +97.38937j   -0.6931472+100.53097j\n",
      "  -0.6931472+103.67256j   -0.6931472+106.814156j  -0.6931472+109.95575j\n",
      "  -0.6931472+113.097336j  -0.6931472+116.23893j   -0.6931472+119.38052j\n",
      "  -0.6931472+122.52212j   -0.6931472+125.66371j   -0.6931472+128.8053j\n",
      "  -0.6931472+131.9469j    -0.6931472+135.08849j   -0.6931472+138.23009j\n",
      "  -0.6931472+141.37167j   -0.6931472+144.51326j   -0.6931472+147.65486j\n",
      "  -0.6931472+150.79645j   -0.6931472+153.93805j   -0.6931472+157.07964j\n",
      "  -0.6931472+160.22124j   -0.6931472+163.36282j   -0.6931472+166.50441j\n",
      "  -0.6931472+169.64601j   -0.6931472+172.7876j    -0.6931472+175.9292j\n",
      "  -0.6931472+179.07079j   -0.6931472+182.21237j   -0.6931472+185.35397j\n",
      "  -0.6931472+188.49556j   -0.6931472+191.63716j   -0.6931472+194.77875j\n",
      "  -0.6931472+197.92035j  ]\n",
      " [-0.6931472  +0.j        -0.6931472  +3.1415927j -0.6931472  +6.2831855j\n",
      "  -0.6931472  +9.424778j  -0.6931472 +12.566371j  -0.6931472 +15.707964j\n",
      "  -0.6931472 +18.849556j  -0.6931472 +21.99115j   -0.6931472 +25.132742j\n",
      "  -0.6931472 +28.274334j  -0.6931472 +31.415928j  -0.6931472 +34.55752j\n",
      "  -0.6931472 +37.699112j  -0.6931472 +40.840706j  -0.6931472 +43.9823j\n",
      "  -0.6931472 +47.12389j   -0.6931472 +50.265484j  -0.6931472 +53.407078j\n",
      "  -0.6931472 +56.548668j  -0.6931472 +59.69026j   -0.6931472 +62.831856j\n",
      "  -0.6931472 +65.97345j   -0.6931472 +69.11504j   -0.6931472 +72.25663j\n",
      "  -0.6931472 +75.398224j  -0.6931472 +78.53982j   -0.6931472 +81.68141j\n",
      "  -0.6931472 +84.823006j  -0.6931472 +87.9646j    -0.6931472 +91.106186j\n",
      "  -0.6931472 +94.24778j   -0.6931472 +97.38937j   -0.6931472+100.53097j\n",
      "  -0.6931472+103.67256j   -0.6931472+106.814156j  -0.6931472+109.95575j\n",
      "  -0.6931472+113.097336j  -0.6931472+116.23893j   -0.6931472+119.38052j\n",
      "  -0.6931472+122.52212j   -0.6931472+125.66371j   -0.6931472+128.8053j\n",
      "  -0.6931472+131.9469j    -0.6931472+135.08849j   -0.6931472+138.23009j\n",
      "  -0.6931472+141.37167j   -0.6931472+144.51326j   -0.6931472+147.65486j\n",
      "  -0.6931472+150.79645j   -0.6931472+153.93805j   -0.6931472+157.07964j\n",
      "  -0.6931472+160.22124j   -0.6931472+163.36282j   -0.6931472+166.50441j\n",
      "  -0.6931472+169.64601j   -0.6931472+172.7876j    -0.6931472+175.9292j\n",
      "  -0.6931472+179.07079j   -0.6931472+182.21237j   -0.6931472+185.35397j\n",
      "  -0.6931472+188.49556j   -0.6931472+191.63716j   -0.6931472+194.77875j\n",
      "  -0.6931472+197.92035j  ]\n",
      " [-0.6931472  +0.j        -0.6931472  +3.1415927j -0.6931472  +6.2831855j\n",
      "  -0.6931472  +9.424778j  -0.6931472 +12.566371j  -0.6931472 +15.707964j\n",
      "  -0.6931472 +18.849556j  -0.6931472 +21.99115j   -0.6931472 +25.132742j\n",
      "  -0.6931472 +28.274334j  -0.6931472 +31.415928j  -0.6931472 +34.55752j\n",
      "  -0.6931472 +37.699112j  -0.6931472 +40.840706j  -0.6931472 +43.9823j\n",
      "  -0.6931472 +47.12389j   -0.6931472 +50.265484j  -0.6931472 +53.407078j\n",
      "  -0.6931472 +56.548668j  -0.6931472 +59.69026j   -0.6931472 +62.831856j\n",
      "  -0.6931472 +65.97345j   -0.6931472 +69.11504j   -0.6931472 +72.25663j\n",
      "  -0.6931472 +75.398224j  -0.6931472 +78.53982j   -0.6931472 +81.68141j\n",
      "  -0.6931472 +84.823006j  -0.6931472 +87.9646j    -0.6931472 +91.106186j\n",
      "  -0.6931472 +94.24778j   -0.6931472 +97.38937j   -0.6931472+100.53097j\n",
      "  -0.6931472+103.67256j   -0.6931472+106.814156j  -0.6931472+109.95575j\n",
      "  -0.6931472+113.097336j  -0.6931472+116.23893j   -0.6931472+119.38052j\n",
      "  -0.6931472+122.52212j   -0.6931472+125.66371j   -0.6931472+128.8053j\n",
      "  -0.6931472+131.9469j    -0.6931472+135.08849j   -0.6931472+138.23009j\n",
      "  -0.6931472+141.37167j   -0.6931472+144.51326j   -0.6931472+147.65486j\n",
      "  -0.6931472+150.79645j   -0.6931472+153.93805j   -0.6931472+157.07964j\n",
      "  -0.6931472+160.22124j   -0.6931472+163.36282j   -0.6931472+166.50441j\n",
      "  -0.6931472+169.64601j   -0.6931472+172.7876j    -0.6931472+175.9292j\n",
      "  -0.6931472+179.07079j   -0.6931472+182.21237j   -0.6931472+185.35397j\n",
      "  -0.6931472+188.49556j   -0.6931472+191.63716j   -0.6931472+194.77875j\n",
      "  -0.6931472+197.92035j  ]\n",
      " [-0.6931472  +0.j        -0.6931472  +3.1415927j -0.6931472  +6.2831855j\n",
      "  -0.6931472  +9.424778j  -0.6931472 +12.566371j  -0.6931472 +15.707964j\n",
      "  -0.6931472 +18.849556j  -0.6931472 +21.99115j   -0.6931472 +25.132742j\n",
      "  -0.6931472 +28.274334j  -0.6931472 +31.415928j  -0.6931472 +34.55752j\n",
      "  -0.6931472 +37.699112j  -0.6931472 +40.840706j  -0.6931472 +43.9823j\n",
      "  -0.6931472 +47.12389j   -0.6931472 +50.265484j  -0.6931472 +53.407078j\n",
      "  -0.6931472 +56.548668j  -0.6931472 +59.69026j   -0.6931472 +62.831856j\n",
      "  -0.6931472 +65.97345j   -0.6931472 +69.11504j   -0.6931472 +72.25663j\n",
      "  -0.6931472 +75.398224j  -0.6931472 +78.53982j   -0.6931472 +81.68141j\n",
      "  -0.6931472 +84.823006j  -0.6931472 +87.9646j    -0.6931472 +91.106186j\n",
      "  -0.6931472 +94.24778j   -0.6931472 +97.38937j   -0.6931472+100.53097j\n",
      "  -0.6931472+103.67256j   -0.6931472+106.814156j  -0.6931472+109.95575j\n",
      "  -0.6931472+113.097336j  -0.6931472+116.23893j   -0.6931472+119.38052j\n",
      "  -0.6931472+122.52212j   -0.6931472+125.66371j   -0.6931472+128.8053j\n",
      "  -0.6931472+131.9469j    -0.6931472+135.08849j   -0.6931472+138.23009j\n",
      "  -0.6931472+141.37167j   -0.6931472+144.51326j   -0.6931472+147.65486j\n",
      "  -0.6931472+150.79645j   -0.6931472+153.93805j   -0.6931472+157.07964j\n",
      "  -0.6931472+160.22124j   -0.6931472+163.36282j   -0.6931472+166.50441j\n",
      "  -0.6931472+169.64601j   -0.6931472+172.7876j    -0.6931472+175.9292j\n",
      "  -0.6931472+179.07079j   -0.6931472+182.21237j   -0.6931472+185.35397j\n",
      "  -0.6931472+188.49556j   -0.6931472+191.63716j   -0.6931472+194.77875j\n",
      "  -0.6931472+197.92035j  ]\n",
      " [-0.6931472  +0.j        -0.6931472  +3.1415927j -0.6931472  +6.2831855j\n",
      "  -0.6931472  +9.424778j  -0.6931472 +12.566371j  -0.6931472 +15.707964j\n",
      "  -0.6931472 +18.849556j  -0.6931472 +21.99115j   -0.6931472 +25.132742j\n",
      "  -0.6931472 +28.274334j  -0.6931472 +31.415928j  -0.6931472 +34.55752j\n",
      "  -0.6931472 +37.699112j  -0.6931472 +40.840706j  -0.6931472 +43.9823j\n",
      "  -0.6931472 +47.12389j   -0.6931472 +50.265484j  -0.6931472 +53.407078j\n",
      "  -0.6931472 +56.548668j  -0.6931472 +59.69026j   -0.6931472 +62.831856j\n",
      "  -0.6931472 +65.97345j   -0.6931472 +69.11504j   -0.6931472 +72.25663j\n",
      "  -0.6931472 +75.398224j  -0.6931472 +78.53982j   -0.6931472 +81.68141j\n",
      "  -0.6931472 +84.823006j  -0.6931472 +87.9646j    -0.6931472 +91.106186j\n",
      "  -0.6931472 +94.24778j   -0.6931472 +97.38937j   -0.6931472+100.53097j\n",
      "  -0.6931472+103.67256j   -0.6931472+106.814156j  -0.6931472+109.95575j\n",
      "  -0.6931472+113.097336j  -0.6931472+116.23893j   -0.6931472+119.38052j\n",
      "  -0.6931472+122.52212j   -0.6931472+125.66371j   -0.6931472+128.8053j\n",
      "  -0.6931472+131.9469j    -0.6931472+135.08849j   -0.6931472+138.23009j\n",
      "  -0.6931472+141.37167j   -0.6931472+144.51326j   -0.6931472+147.65486j\n",
      "  -0.6931472+150.79645j   -0.6931472+153.93805j   -0.6931472+157.07964j\n",
      "  -0.6931472+160.22124j   -0.6931472+163.36282j   -0.6931472+166.50441j\n",
      "  -0.6931472+169.64601j   -0.6931472+172.7876j    -0.6931472+175.9292j\n",
      "  -0.6931472+179.07079j   -0.6931472+182.21237j   -0.6931472+185.35397j\n",
      "  -0.6931472+188.49556j   -0.6931472+191.63716j   -0.6931472+194.77875j\n",
      "  -0.6931472+197.92035j  ]\n",
      " [-0.6931472  +0.j        -0.6931472  +3.1415927j -0.6931472  +6.2831855j\n",
      "  -0.6931472  +9.424778j  -0.6931472 +12.566371j  -0.6931472 +15.707964j\n",
      "  -0.6931472 +18.849556j  -0.6931472 +21.99115j   -0.6931472 +25.132742j\n",
      "  -0.6931472 +28.274334j  -0.6931472 +31.415928j  -0.6931472 +34.55752j\n",
      "  -0.6931472 +37.699112j  -0.6931472 +40.840706j  -0.6931472 +43.9823j\n",
      "  -0.6931472 +47.12389j   -0.6931472 +50.265484j  -0.6931472 +53.407078j\n",
      "  -0.6931472 +56.548668j  -0.6931472 +59.69026j   -0.6931472 +62.831856j\n",
      "  -0.6931472 +65.97345j   -0.6931472 +69.11504j   -0.6931472 +72.25663j\n",
      "  -0.6931472 +75.398224j  -0.6931472 +78.53982j   -0.6931472 +81.68141j\n",
      "  -0.6931472 +84.823006j  -0.6931472 +87.9646j    -0.6931472 +91.106186j\n",
      "  -0.6931472 +94.24778j   -0.6931472 +97.38937j   -0.6931472+100.53097j\n",
      "  -0.6931472+103.67256j   -0.6931472+106.814156j  -0.6931472+109.95575j\n",
      "  -0.6931472+113.097336j  -0.6931472+116.23893j   -0.6931472+119.38052j\n",
      "  -0.6931472+122.52212j   -0.6931472+125.66371j   -0.6931472+128.8053j\n",
      "  -0.6931472+131.9469j    -0.6931472+135.08849j   -0.6931472+138.23009j\n",
      "  -0.6931472+141.37167j   -0.6931472+144.51326j   -0.6931472+147.65486j\n",
      "  -0.6931472+150.79645j   -0.6931472+153.93805j   -0.6931472+157.07964j\n",
      "  -0.6931472+160.22124j   -0.6931472+163.36282j   -0.6931472+166.50441j\n",
      "  -0.6931472+169.64601j   -0.6931472+172.7876j    -0.6931472+175.9292j\n",
      "  -0.6931472+179.07079j   -0.6931472+182.21237j   -0.6931472+185.35397j\n",
      "  -0.6931472+188.49556j   -0.6931472+191.63716j   -0.6931472+194.77875j\n",
      "  -0.6931472+197.92035j  ]]\n"
     ]
    }
   ],
   "source": [
    "def batch_init_torch(H, N):\n",
    "    log_A_real = torch.log(0.5 * torch.ones(H, N))\n",
    "    A_imag = math.pi * repeat(torch.arange(N), 'n -> h n', h=H)\n",
    "    C = torch.randn(H, N, dtype=torch.cfloat)\n",
    "    return log_A_real, A_imag, C\n",
    "\n",
    "batch_log_A_real_torch, batch_A_imag_torch, batch_C_torch = batch_init_torch(H=10, N=4)\n",
    "print(f'{batch_log_A_real_torch.shape=}')\n",
    "print(f'{batch_A_imag_torch.shape=}')\n",
    "print(f'{batch_C_torch.shape=}')\n",
    "print(log_A_real_batch + 1j * A_imag_batch)"
   ],
   "metadata": {
    "collapsed": false,
    "ExecuteTime": {
     "end_time": "2024-09-07T00:02:47.310959Z",
     "start_time": "2024-09-07T00:02:47.302906Z"
    }
   },
   "id": "8584cef266ceccb3",
   "execution_count": 138
  },
  {
   "cell_type": "code",
   "outputs": [],
   "source": [
    "def batch_kernel(log_A_real, A_imag, C, dt, L):\n",
    "    A = -torch.exp(log_A_real) + 1j * A_imag\n",
    "    dtA = A * dt\n",
    "    K = dtA.unsqueeze(-1) * torch.arange(L)\n",
    "    #print(f'{K.shape=}')\n",
    "    exp_K = torch.exp(K)\n",
    "    K_end = torch.einsum('hn, hnl -> hl', C, exp_K)\n",
    "    return K_end"
   ],
   "metadata": {
    "collapsed": false,
    "ExecuteTime": {
     "end_time": "2024-09-07T00:02:48.139908Z",
     "start_time": "2024-09-07T00:02:48.137098Z"
    }
   },
   "id": "2fa2aaef3c52aa8b",
   "execution_count": 139
  },
  {
   "cell_type": "code",
   "outputs": [
    {
     "name": "stdout",
     "output_type": "stream",
     "text": [
      "115 µs ± 18.3 µs per loop (mean ± std. dev. of 7 runs, 10,000 loops each)\n"
     ]
    }
   ],
   "source": [
    "%timeit batch_kernel(batch_log_A_real_torch, batch_A_imag_torch, batch_C_torch, 0.1, 128)"
   ],
   "metadata": {
    "collapsed": false,
    "ExecuteTime": {
     "end_time": "2024-09-07T00:03:27.869645Z",
     "start_time": "2024-09-07T00:03:17.706582Z"
    }
   },
   "id": "4e9352d6a015905",
   "execution_count": 144
  },
  {
   "cell_type": "code",
   "outputs": [
    {
     "data": {
      "text/plain": "tensor([[-4.3008e-01+1.2949e+00j, -4.5447e-01+1.4629e+00j,\n         -8.6903e-01+1.5014e+00j,  ...,\n         -2.9321e-03-7.6225e-04j, -1.3982e-03-1.4989e-03j,\n         -1.0464e-04-1.1779e-03j],\n        [ 1.3262e+00+1.5765e-02j,  1.4889e+00+1.5837e+00j,\n          3.6505e-01+2.8774e+00j,  ...,\n         -7.5105e-03+7.7568e-04j, -5.6297e-03-2.1715e-03j,\n         -2.9498e-03-2.9153e-03j],\n        [ 1.8445e+00+1.3649e+00j,  1.5746e+00+1.4333e+00j,\n          1.2392e+00+1.4710e+00j,  ...,\n          3.6131e-04+1.1230e-03j,  7.9403e-04-4.7692e-04j,\n          2.1474e-03-1.4642e-03j],\n        ...,\n        [-5.7233e-01-2.4335e+00j,  1.1044e+00-6.3042e-01j,\n          6.8477e-01+1.4851e+00j,  ...,\n         -6.5966e-03-1.6509e-03j, -3.1269e-03-4.3812e-03j,\n          9.2000e-04-3.4647e-03j],\n        [ 4.8408e-01-1.6851e+00j,  7.5634e-01-4.6490e-01j,\n         -2.0635e-02+3.2449e-01j,  ...,\n         -8.6199e-04-4.8899e-03j,  2.6942e-03-4.5556e-03j,\n          5.0336e-03-1.5003e-03j],\n        [-1.2433e+00+1.5580e+00j, -1.6443e+00+2.7343e-01j,\n         -1.0548e+00-8.3316e-01j,  ...,\n          3.1409e-03+1.3922e-04j,  2.6107e-03+1.7781e-03j,\n          1.5521e-03+2.5333e-03j]])"
     },
     "execution_count": 145,
     "metadata": {},
     "output_type": "execute_result"
    }
   ],
   "source": [
    "batch_kernel(batch_log_A_real_torch, batch_A_imag_torch, batch_C_torch, 0.1, 128)"
   ],
   "metadata": {
    "collapsed": false,
    "ExecuteTime": {
     "end_time": "2024-09-07T00:03:38.265454Z",
     "start_time": "2024-09-07T00:03:38.255973Z"
    }
   },
   "id": "4cbbda876056e0ee",
   "execution_count": 145
  },
  {
   "cell_type": "code",
   "outputs": [],
   "source": [
    "def batch_kernel_jax(log_A_real, A_imag, C, dt, L):\n",
    "    A = -jnp.exp(log_A_real) + 1j * A_imag\n",
    "    dtA = A * dt\n",
    "    K = dtA[..., jnp.newaxis] * jnp.arange(L)\n",
    "    exp_K = jnp.exp(K)\n",
    "    K_end = jnp.einsum('hn, hnl -> hl', C, exp_K)\n",
    "    return K_end"
   ],
   "metadata": {
    "collapsed": false,
    "ExecuteTime": {
     "end_time": "2024-09-07T00:03:43.052501Z",
     "start_time": "2024-09-07T00:03:43.049602Z"
    }
   },
   "id": "31bb2b41ec851685",
   "execution_count": 146
  },
  {
   "cell_type": "code",
   "outputs": [
    {
     "data": {
      "text/plain": "Array([[ 4.93954849e+00-7.8557873e-01j,  1.10475659e+00-1.1616502e+01j,\n        -1.03798866e-01+4.1941798e-01j, ...,\n        -7.51979509e-03-1.0882646e-02j,  6.20917045e-03-1.8583246e-02j,\n         1.21726161e-02-1.3888414e-02j],\n       [-4.04846907e-01+8.7479954e+00j,  5.16121721e+00-2.3994251e-01j,\n        -2.49888492e+00-2.6765285e+00j, ...,\n         1.91112496e-02-1.3435737e-03j,  1.23324292e-03+3.1608322e-03j,\n         4.53132531e-03-9.6221790e-03j],\n       [-6.86919308e+00+1.1445875e+01j, -3.01707697e+00-1.9842070e+01j,\n         3.69161034e+00+4.1499758e+00j, ...,\n         9.38161649e-03-8.1465840e-03j, -1.20261209e-02+9.6609816e-03j,\n        -1.32796876e-02-4.7527147e-03j],\n       ...,\n       [-2.59423447e+00+6.4350688e-01j, -2.92640305e+00-9.5094881e+00j,\n        -4.76090574e+00-1.9538455e+00j, ...,\n         1.01800896e-02-1.5535339e-02j, -2.54037790e-04-2.9856451e-03j,\n        -1.15122208e-02-4.4159214e-03j],\n       [-4.17223358e+00-4.4832230e-01j, -7.96455956e+00+7.3788130e-01j,\n         3.85916567e+00+2.7540059e+00j, ...,\n        -2.61623086e-03-4.9402560e-03j,  8.64552613e-03+1.4105905e-04j,\n         8.85813031e-04-9.5305895e-04j],\n       [-7.32192397e-01+6.0340470e-01j, -1.07190847e+00-7.7814436e+00j,\n        -2.32788295e-01-4.4705453e+00j, ...,\n         1.25240386e-02-1.4069797e-03j, -3.30767110e-02-5.9044035e-03j,\n         3.77813959e-03-6.7793815e-03j]], dtype=complex64)"
     },
     "execution_count": 150,
     "metadata": {},
     "output_type": "execute_result"
    }
   ],
   "source": [
    "jit_batch_kernel_jax = jax.jit(batch_kernel_jax, static_argnums=(3, 4))\n",
    "# warmup\n",
    "jit_batch_kernel_jax(log_A_real_batch, A_imag_batch, C_batch, 0.1, 128)"
   ],
   "metadata": {
    "collapsed": false,
    "ExecuteTime": {
     "end_time": "2024-09-07T00:04:02.669476Z",
     "start_time": "2024-09-07T00:04:02.664697Z"
    }
   },
   "id": "305f8ae029d2bb2d",
   "execution_count": 150
  },
  {
   "cell_type": "code",
   "outputs": [
    {
     "name": "stdout",
     "output_type": "stream",
     "text": [
      "425 µs ± 211 µs per loop (mean ± std. dev. of 7 runs, 1,000 loops each)\n"
     ]
    }
   ],
   "source": [
    "%timeit jit_batch_kernel_jax(log_A_real_batch, A_imag_batch, C_batch, 0.1, 128)"
   ],
   "metadata": {
    "collapsed": false,
    "ExecuteTime": {
     "end_time": "2024-09-07T00:04:07.111552Z",
     "start_time": "2024-09-07T00:04:03.593330Z"
    }
   },
   "id": "d757272beefc8630",
   "execution_count": 151
  },
  {
   "cell_type": "code",
   "outputs": [
    {
     "name": "stdout",
     "output_type": "stream",
     "text": [
      "torch==2.1.2\r\n"
     ]
    }
   ],
   "source": [
    "!pip freeze | grep torch"
   ],
   "metadata": {
    "collapsed": false,
    "ExecuteTime": {
     "end_time": "2024-09-07T00:04:34.592438Z",
     "start_time": "2024-09-07T00:04:34.019670Z"
    }
   },
   "id": "19800b0eb6930604",
   "execution_count": 152
  },
  {
   "cell_type": "code",
   "outputs": [
    {
     "ename": "TypeError",
     "evalue": "'module' object is not iterable",
     "output_type": "error",
     "traceback": [
      "\u001B[0;31m---------------------------------------------------------------------------\u001B[0m",
      "\u001B[0;31mTypeError\u001B[0m                                 Traceback (most recent call last)",
      "Cell \u001B[0;32mIn[156], line 1\u001B[0m\n\u001B[0;32m----> 1\u001B[0m \u001B[38;5;28;43mlist\u001B[39;49m\u001B[43m(\u001B[49m\u001B[43mtorch\u001B[49m\u001B[38;5;241;43m.\u001B[39;49m\u001B[43mmps\u001B[49m\u001B[43m)\u001B[49m\n",
      "\u001B[0;31mTypeError\u001B[0m: 'module' object is not iterable"
     ]
    }
   ],
   "source": [
    "torch.mps."
   ],
   "metadata": {
    "collapsed": false,
    "ExecuteTime": {
     "end_time": "2024-09-07T00:08:46.929855Z",
     "start_time": "2024-09-07T00:08:46.917464Z"
    }
   },
   "id": "965a6f6880553365",
   "execution_count": 156
  },
  {
   "cell_type": "code",
   "outputs": [
    {
     "name": "stdout",
     "output_type": "stream",
     "text": [
      "GOOD NEWS! MPS is available on this machine.\n",
      "mps:0\n"
     ]
    }
   ],
   "source": [
    "# Check that MPS is available\n",
    "if not torch.backends.mps.is_available():\n",
    "    if not torch.backends.mps.is_built():\n",
    "        print(\"MPS not available because the current PyTorch install was not \"\n",
    "              \"built with MPS enabled.\")\n",
    "    else:\n",
    "        print(\"MPS not available because the current MacOS version is not 12.3+ \"\n",
    "              \"and/or you do not have an MPS-enabled device on this machine.\")\n",
    "\n",
    "else:\n",
    "    print(\"GOOD NEWS! MPS is available on this machine.\")\n",
    "    mps_device = torch.device(\"mps\")\n",
    "\n",
    "    # Create a Tensor directly on the mps device\n",
    "    x = torch.ones(5, device=mps_device)\n",
    "    # Or\n",
    "    x = torch.ones(5, device=\"mps\")\n",
    "\n",
    "    # Any operation happens on the GPU\n",
    "    y = x * 2\n",
    "    print(y.device)"
   ],
   "metadata": {
    "collapsed": false,
    "ExecuteTime": {
     "end_time": "2024-09-07T00:11:09.581185Z",
     "start_time": "2024-09-07T00:11:09.577415Z"
    }
   },
   "id": "17a0e3fbc7df3747",
   "execution_count": 158
  },
  {
   "cell_type": "code",
   "outputs": [],
   "source": [],
   "metadata": {
    "collapsed": false
   },
   "id": "ed4f3b599a0bc664"
  }
 ],
 "metadata": {
  "kernelspec": {
   "display_name": "Python 3 (ipykernel)",
   "language": "python",
   "name": "python3"
  },
  "language_info": {
   "codemirror_mode": {
    "name": "ipython",
    "version": 3
   },
   "file_extension": ".py",
   "mimetype": "text/x-python",
   "name": "python",
   "nbconvert_exporter": "python",
   "pygments_lexer": "ipython3",
   "version": "3.10.2"
  }
 },
 "nbformat": 4,
 "nbformat_minor": 5
}
