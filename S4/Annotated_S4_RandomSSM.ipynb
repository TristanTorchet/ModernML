{
 "cells": [
  {
   "cell_type": "markdown",
   "source": [
    "# Random SSM\n",
    "This notebook trains a Random SSM on sin(x) or sin(ax+b) sequences. \n",
    "The hyperparameters are defined in the `config.yaml` file. \n",
    "- N (hidden state dimension): 64\n",
    "- H (d_model in yaml, number of heads): 10"
   ],
   "metadata": {
    "collapsed": false
   },
   "id": "2d01c9ada2dec1cd"
  },
  {
   "cell_type": "code",
   "outputs": [],
   "source": [
    "import jax\n",
    "import jax.numpy as jnp\n",
    "import numpy as np\n",
    "\n",
    "from data import create_sin_ax_b_dataset\n",
    "from model import BatchStackedModel, SSMLayer\n",
    "import torch\n",
    "from utils import cross_entropy_loss, compute_accuracy\n",
    "from tqdm import tqdm"
   ],
   "metadata": {
    "ExecuteTime": {
     "end_time": "2024-06-20T13:00:38.071351Z",
     "start_time": "2024-06-20T13:00:36.765955Z"
    }
   },
   "id": "initial_id",
   "execution_count": 1
  },
  {
   "cell_type": "code",
   "execution_count": 2,
   "id": "cf7bef88df235ffd",
   "metadata": {
    "collapsed": false,
    "ExecuteTime": {
     "end_time": "2024-06-20T13:00:38.107429Z",
     "start_time": "2024-06-20T13:00:38.073455Z"
    }
   },
   "outputs": [],
   "source": [
    "rng = jax.random.PRNGKey(1)"
   ]
  },
  {
   "cell_type": "code",
   "outputs": [],
   "source": [
    "from omegaconf import OmegaConf\n",
    "\n",
    "# load the configuration file\n",
    "cfg = OmegaConf.load(\"config.yaml\")"
   ],
   "metadata": {
    "collapsed": false,
    "ExecuteTime": {
     "end_time": "2024-06-20T13:00:38.677361Z",
     "start_time": "2024-06-20T13:00:38.651723Z"
    }
   },
   "id": "60a3f98c7fd47fc4",
   "execution_count": 5
  },
  {
   "cell_type": "code",
   "outputs": [],
   "source": [
    "dataset = cfg.dataset  # str\n",
    "layer = cfg.layer  # str\n",
    "seed  = cfg.seed  # int\n",
    "model = cfg.model  # DictConfig\n",
    "train = cfg.train  # DictConfig"
   ],
   "metadata": {
    "collapsed": false,
    "ExecuteTime": {
     "end_time": "2024-06-20T13:00:39.066514Z",
     "start_time": "2024-06-20T13:00:39.057084Z"
    }
   },
   "id": "3d1f0f03b96fa100",
   "execution_count": 6
  },
  {
   "cell_type": "code",
   "outputs": [
    {
     "name": "stdout",
     "output_type": "stream",
     "text": [
      "[*] Setting Randomness...\n"
     ]
    }
   ],
   "source": [
    "# Set randomness...\n",
    "print(\"[*] Setting Randomness...\")\n",
    "torch.random.manual_seed(seed)  # For dataloader order\n",
    "key = jax.random.PRNGKey(seed)\n",
    "key, rng, train_rng = jax.random.split(key, num=3) # TODO: This is bad \n"
   ],
   "metadata": {
    "collapsed": false,
    "ExecuteTime": {
     "end_time": "2024-06-20T13:00:39.536622Z",
     "start_time": "2024-06-20T13:00:39.478428Z"
    }
   },
   "id": "479fa53268f89306",
   "execution_count": 7
  },
  {
   "cell_type": "code",
   "outputs": [
    {
     "name": "stdout",
     "output_type": "stream",
     "text": [
      "classification=False\n",
      "[*] Generating sin(ax + b) Dataset...\n",
      "\t=>> Generating 2000 Training Examples...\n"
     ]
    },
    {
     "name": "stderr",
     "output_type": "stream",
     "text": [
      "100%|██████████| 2000/2000 [00:00<00:00, 8236.55it/s]\n"
     ]
    },
    {
     "name": "stdout",
     "output_type": "stream",
     "text": [
      "\t=>> Generating 128 Test Examples...\n"
     ]
    },
    {
     "name": "stderr",
     "output_type": "stream",
     "text": [
      "100%|██████████| 128/128 [00:00<00:00, 9380.61it/s]"
     ]
    },
    {
     "name": "stdout",
     "output_type": "stream",
     "text": [
      "n_classes=8, l_max=16, d_input=1\n",
      "next(iter(trainloader))[0].shape=torch.Size([128, 16, 1])\n",
      "next(iter(testloader))[0].shape=torch.Size([128, 16, 1])\n"
     ]
    },
    {
     "name": "stderr",
     "output_type": "stream",
     "text": [
      "\n"
     ]
    }
   ],
   "source": [
    "# Check if classification dataset\n",
    "# because for each dataset there are two versions, eg: mnist and mnist-classification\n",
    "# TODO: in our case, sin x dataset is not a classification dataset\n",
    "# classification = \"classification\" in dataset\n",
    "classification = False\n",
    "print(f'{classification=}')\n",
    "\n",
    "create_dataset_fn = create_sin_ax_b_dataset\n",
    "trainloader, testloader, n_classes, l_max, d_input, data = create_dataset_fn(bsz=train.bsz)\n",
    "print(f'{n_classes=}, {l_max=}, {d_input=}')\n",
    "\n",
    "print(f'{next(iter(trainloader))[0].shape=}')\n",
    "print(f'{next(iter(testloader))[0].shape=}')"
   ],
   "metadata": {
    "collapsed": false,
    "ExecuteTime": {
     "end_time": "2024-06-20T13:00:40.414085Z",
     "start_time": "2024-06-20T13:00:40.125019Z"
    }
   },
   "id": "7ae6c4b64e3e5539",
   "execution_count": 8
  },
  {
   "cell_type": "code",
   "outputs": [],
   "source": [
    "layer_cls = SSMLayer"
   ],
   "metadata": {
    "collapsed": false,
    "ExecuteTime": {
     "end_time": "2024-06-20T13:00:40.635464Z",
     "start_time": "2024-06-20T13:00:40.630382Z"
    }
   },
   "id": "9bc6af8731fbbc61",
   "execution_count": 9
  },
  {
   "cell_type": "code",
   "outputs": [],
   "source": [
    "model.layer.l_max = l_max # l_max comes from the dataset fn"
   ],
   "metadata": {
    "collapsed": false,
    "ExecuteTime": {
     "end_time": "2024-06-20T13:00:41.290747Z",
     "start_time": "2024-06-20T13:00:41.286319Z"
    }
   },
   "id": "47c2a8c51fbfed2d",
   "execution_count": 10
  },
  {
   "cell_type": "code",
   "outputs": [
    {
     "name": "stdout",
     "output_type": "stream",
     "text": [
      "lr_layer=None (if None, means that the attribute is not found)\n"
     ]
    }
   ],
   "source": [
    "# getattr returns the value of the named attribute of an object. \n",
    "# If not found, it returns the default value provided to the function.\n",
    "lr_layer = getattr(layer_cls, \"lr\", None)  # lr_layer should be a dictionary\n",
    "print(f'{lr_layer=} (if None, means that the attribute is not found)')"
   ],
   "metadata": {
    "collapsed": false,
    "ExecuteTime": {
     "end_time": "2024-06-20T13:00:41.731231Z",
     "start_time": "2024-06-20T13:00:41.726287Z"
    }
   },
   "id": "7c6e271694743c4c",
   "execution_count": 11
  },
  {
   "cell_type": "code",
   "outputs": [
    {
     "name": "stdout",
     "output_type": "stream",
     "text": [
      "[*] Starting `s4` Training on `mnist-classification` =>> Initializing...\n"
     ]
    }
   ],
   "source": [
    "from functools import partial\n",
    "\n",
    "print(f\"[*] Starting `{layer}` Training on `{dataset}` =>> Initializing...\")\n",
    "\n",
    "# partial: Return a new partial object which when called will behave like func called with the positional arguments args and keyword arguments keywords.\n",
    "# a partial object is a wrapper for a callable object. The partial object can be called as though it is the wrapped callable object.\n",
    "model_cls = partial(\n",
    "        BatchStackedModel,\n",
    "        layer_cls=layer_cls,\n",
    "        d_output=n_classes,\n",
    "        classification=classification,\n",
    "        **model,\n",
    "    )"
   ],
   "metadata": {
    "collapsed": false,
    "ExecuteTime": {
     "end_time": "2024-06-20T13:00:42.146897Z",
     "start_time": "2024-06-20T13:00:42.142295Z"
    }
   },
   "id": "f032eaa7a63ffbdd",
   "execution_count": 12
  },
  {
   "cell_type": "code",
   "outputs": [],
   "source": [
    "import optax\n",
    "from flax.training import train_state\n",
    "\n",
    "\n",
    "# TODO: go to create_train_state function (and skip this mapping) it's just a helper function\n",
    "# As we're using Flax, we also write a utility function to return a default TrainState object.\n",
    "# This function initializes model parameters, as well as our optimizer. Note that for S4 models,\n",
    "# we use a custom learning rate for parameters of the S4 kernel (lr = 0.001, no weight decay).\n",
    "def map_nested_fn(fn):\n",
    "    \"\"\"Recursively apply `fn to the key-value pairs of a nested dict / pytree.\"\"\"\n",
    "\n",
    "    def map_fn(nested_dict):\n",
    "        return {\n",
    "            k: (map_fn(v) if hasattr(v, \"keys\") else fn(k, v))\n",
    "            for k, v in nested_dict.items()\n",
    "        }\n",
    "\n",
    "    return map_fn\n",
    "def create_train_state(\n",
    "    rng,\n",
    "    model_cls,\n",
    "    trainloader,\n",
    "    lr=1e-3,\n",
    "    lr_layer=None,\n",
    "    lr_schedule=False,\n",
    "    weight_decay=0.0,\n",
    "    total_steps=-1,\n",
    "):\n",
    "    print(f'[*] Creating Train State...')\n",
    "    model = model_cls(training=True)\n",
    "    init_rng, dropout_rng = jax.random.split(rng, num=2)\n",
    "    print(f'Init')\n",
    "    params = model.init(\n",
    "        {\"params\": init_rng, \"dropout\": dropout_rng},\n",
    "        jnp.array(next(iter(trainloader))[0].numpy()),\n",
    "    )\n",
    "    # Note: Added immediate `unfreeze()` to play well w/ Optax. See below!\n",
    "    # params = params[\"params\"].unfreeze() # TODO: i commented this line out because I got an error \"'dict' object has no attribute 'unfreeze'\"\n",
    "\n",
    "    # Handle learning rates:\n",
    "    # - LR scheduler\n",
    "    # - Set custom learning rates on some SSM parameters\n",
    "\n",
    "    # Note for Debugging... this is all undocumented and so weird. The following links are helpful...\n",
    "    #\n",
    "    #   > Flax \"Recommended\" interplay w/ Optax (this bridge needs ironing):\n",
    "    #       https://github.com/google/flax/blob/main/docs/flip/1009-optimizer-api.md#multi-optimizer\n",
    "    #\n",
    "    #   > But... masking doesn't work like the above example suggests!\n",
    "    #       Root Explanation: https://github.com/deepmind/optax/issues/159\n",
    "    #       Fix: https://github.com/deepmind/optax/discussions/167\n",
    "    #\n",
    "    #   > Also... Flax FrozenDict doesn't play well with rest of Jax + Optax...\n",
    "    #       https://github.com/deepmind/optax/issues/160#issuecomment-896460796\n",
    "    #\n",
    "    #   > Solution: Use Optax.multi_transform!\n",
    "    print(f'LRschedule')\n",
    "    if lr_schedule:\n",
    "        schedule_fn = lambda lr: optax.cosine_onecycle_schedule(\n",
    "            peak_value=lr,\n",
    "            transition_steps=total_steps,\n",
    "            pct_start=0.1,\n",
    "        )\n",
    "    else:\n",
    "        schedule_fn = lambda lr: lr\n",
    "    # lr_layer is a dictionary from parameter name to LR multiplier\n",
    "    if lr_layer is None:\n",
    "        lr_layer = {}\n",
    "\n",
    "    optimizers = {\n",
    "        k: optax.adam(learning_rate=schedule_fn(v * lr))\n",
    "        for k, v in lr_layer.items()\n",
    "    } # TODO: in our case this will be an empty dictionary\n",
    "    # Add default optimizer\n",
    "    # Note: it would be better to use a dummy key such as None that can't conflict with parameter names,\n",
    "    # but this causes a hard-to-trace error; it seems that the transforms keys list is being sorted inside optax.multi_transform\n",
    "    # which causes an error since None can't be compared to str\n",
    "    optimizers[\"__default__\"] = optax.adamw(\n",
    "        learning_rate=schedule_fn(lr),\n",
    "        weight_decay=weight_decay,\n",
    "    )\n",
    "    name_map = map_nested_fn(lambda k, _: k if k in lr_layer else \"__default__\")\n",
    "    tx = optax.multi_transform(optimizers, name_map)\n",
    "    # TODO: there should be a way to get rid of these cumbersome lines in our simple sin x dataset case\n",
    "    # For debugging, this would be the default transform with no scheduler or special params\n",
    "    # tx = optax.adamw(learning_rate=lr, weight_decay=0.01)\n",
    "\n",
    "    # Check that all special parameter names are actually parameters\n",
    "    extra_keys = set(lr_layer.keys()) - set(jax.tree_leaves(name_map(params)))\n",
    "    assert (\n",
    "        len(extra_keys) == 0\n",
    "    ), f\"Special params {extra_keys} do not correspond to actual params\"\n",
    "\n",
    "    # Print parameter count\n",
    "    _is_complex = lambda x: x.dtype in [jnp.complex64, jnp.complex128]\n",
    "    param_sizes = map_nested_fn(\n",
    "        lambda k, param: param.size * (2 if _is_complex(param) else 1)\n",
    "        if lr_layer.get(k, lr) > 0.0\n",
    "        else 0\n",
    "    )(params)\n",
    "    print(f\"[*] Trainable Parameters: {sum(jax.tree_leaves(param_sizes))}\")\n",
    "    print(f\"[*] Total training steps: {total_steps}\")\n",
    "\n",
    "    return train_state.TrainState.create(\n",
    "        apply_fn=model.apply, params=params, tx=tx\n",
    "    )\n"
   ],
   "metadata": {
    "collapsed": false,
    "ExecuteTime": {
     "end_time": "2024-06-20T13:00:44.832851Z",
     "start_time": "2024-06-20T13:00:42.649044Z"
    }
   },
   "id": "8a16be9a02f7b9f1",
   "execution_count": 13
  },
  {
   "cell_type": "code",
   "outputs": [
    {
     "name": "stdout",
     "output_type": "stream",
     "text": [
      "[*] Creating Train State...\n",
      "Init\n",
      "LRschedule\n",
      "[*] Trainable Parameters: 497788\n",
      "[*] Total training steps: 1500\n"
     ]
    },
    {
     "name": "stderr",
     "output_type": "stream",
     "text": [
      "/var/folders/th/_3y3_jmx0mj98ffdxdh9fjt80000gn/T/ipykernel_42044/1457100967.py:88: DeprecationWarning: jax.tree_leaves is deprecated: use jax.tree_util.tree_leaves.\n",
      "  extra_keys = set(lr_layer.keys()) - set(jax.tree_leaves(name_map(params)))\n",
      "/var/folders/th/_3y3_jmx0mj98ffdxdh9fjt80000gn/T/ipykernel_42044/1457100967.py:100: DeprecationWarning: jax.tree_leaves is deprecated: use jax.tree_util.tree_leaves.\n",
      "  print(f\"[*] Trainable Parameters: {sum(jax.tree_leaves(param_sizes))}\")\n"
     ]
    }
   ],
   "source": [
    "state = create_train_state(\n",
    "    rng=rng,\n",
    "    model_cls=model_cls,\n",
    "    trainloader=trainloader,\n",
    "    lr=train.lr,\n",
    "    lr_layer=lr_layer,\n",
    "    lr_schedule=train.lr_schedule,\n",
    "    weight_decay=train.weight_decay,\n",
    "    total_steps=len(trainloader) * train.epochs,\n",
    ")"
   ],
   "metadata": {
    "collapsed": false,
    "ExecuteTime": {
     "end_time": "2024-06-20T13:00:54.277554Z",
     "start_time": "2024-06-20T13:00:52.043527Z"
    }
   },
   "id": "4dcb22750d581e45",
   "execution_count": 14
  },
  {
   "cell_type": "code",
   "outputs": [],
   "source": [
    "@partial(jax.jit, static_argnums=(4, 5))\n",
    "def train_step(\n",
    "    state, rng, batch_inputs, batch_labels, model, classification=False\n",
    "):\n",
    "    print(f'{batch_inputs.shape=}')\n",
    "    print(f'{batch_labels.shape=}')\n",
    "    def loss_fn(params):\n",
    "        logits, mod_vars = model.apply(\n",
    "            params,\n",
    "            batch_inputs,\n",
    "            rngs={\"dropout\": rng},\n",
    "            mutable=[\"intermediates\"],\n",
    "        )\n",
    "        loss = jnp.mean(cross_entropy_loss(logits, batch_labels))\n",
    "        acc = jnp.mean(compute_accuracy(logits, batch_labels))\n",
    "        return loss, (logits, acc)\n",
    "\n",
    "    if not classification:\n",
    "        # For regression tasks, we use the input as the target\n",
    "        batch_labels = batch_inputs[:, :, 0]\n",
    "        print(f'{batch_labels.shape=}')\n",
    "\n",
    "    grad_fn = jax.value_and_grad(loss_fn, has_aux=True)\n",
    "    (loss, (logits, acc)), grads = grad_fn(state.params)\n",
    "    state = state.apply_gradients(grads=grads)\n",
    "    return state, loss, acc\n",
    "\n",
    "\n",
    "@partial(jax.jit, static_argnums=(3, 4))\n",
    "def eval_step(batch_inputs, batch_labels, params, model, classification=False):\n",
    "    print(f'{batch_inputs.shape=}')\n",
    "    print(f'{batch_labels.shape=}')\n",
    "    if not classification:\n",
    "        batch_labels = batch_inputs[:, :, 0]\n",
    "    logits = model.apply(params, batch_inputs)\n",
    "    loss = jnp.mean(cross_entropy_loss(logits, batch_labels))\n",
    "    acc = jnp.mean(compute_accuracy(logits, batch_labels))\n",
    "    return loss, acc"
   ],
   "metadata": {
    "collapsed": false,
    "ExecuteTime": {
     "end_time": "2024-06-20T13:00:55.346961Z",
     "start_time": "2024-06-20T13:00:55.338968Z"
    }
   },
   "id": "4e1c87ba94e9be92",
   "execution_count": 15
  },
  {
   "cell_type": "code",
   "outputs": [],
   "source": [
    "def train_epoch(state, rng, model, trainloader, classification=False):\n",
    "    # Store Metrics\n",
    "    model = model(training=True)\n",
    "    batch_losses, batch_accuracies = [], []\n",
    "    for batch_idx, (inputs, labels) in enumerate(tqdm(trainloader)):\n",
    "        inputs = jnp.array(inputs.numpy())\n",
    "        labels = jnp.array(labels.numpy())  # Not the most efficient...\n",
    "        rng, drop_rng = jax.random.split(rng)\n",
    "        state, loss, acc = train_step(\n",
    "            state,\n",
    "            drop_rng,\n",
    "            inputs,\n",
    "            labels,\n",
    "            model,\n",
    "            classification=classification,\n",
    "        )\n",
    "        batch_losses.append(loss)\n",
    "        batch_accuracies.append(acc)\n",
    "\n",
    "    # Return average loss over batches\n",
    "    return (\n",
    "        state,\n",
    "        jnp.mean(jnp.array(batch_losses)),\n",
    "        jnp.mean(jnp.array(batch_accuracies)),\n",
    "    )"
   ],
   "metadata": {
    "collapsed": false,
    "ExecuteTime": {
     "end_time": "2024-06-20T13:00:56.150980Z",
     "start_time": "2024-06-20T13:00:56.143213Z"
    }
   },
   "id": "feca9fe95957040c",
   "execution_count": 16
  },
  {
   "cell_type": "code",
   "outputs": [],
   "source": [
    "def validate(params, model, testloader, classification=False):\n",
    "    # Compute average loss & accuracy\n",
    "    model = model(training=False)\n",
    "    losses, accuracies = [], []\n",
    "    for batch_idx, (inputs, labels) in enumerate(tqdm(testloader)):\n",
    "        inputs = jnp.array(inputs.numpy())\n",
    "        labels = jnp.array(labels.numpy())  # Not the most efficient...\n",
    "        loss, acc = eval_step(\n",
    "            inputs, labels, params, model, classification=classification\n",
    "        )\n",
    "        losses.append(loss)\n",
    "        accuracies.append(acc)\n",
    "\n",
    "    return jnp.mean(jnp.array(losses)), jnp.mean(jnp.array(accuracies))\n"
   ],
   "metadata": {
    "collapsed": false,
    "ExecuteTime": {
     "end_time": "2024-06-20T13:00:56.766647Z",
     "start_time": "2024-06-20T13:00:56.758095Z"
    }
   },
   "id": "8eac72d3913cb6f9",
   "execution_count": 17
  },
  {
   "cell_type": "code",
   "outputs": [
    {
     "name": "stdout",
     "output_type": "stream",
     "text": [
      "[*] Starting Training Epoch 1...\n"
     ]
    },
    {
     "name": "stderr",
     "output_type": "stream",
     "text": [
      "  0%|          | 0/15 [00:00<?, ?it/s]"
     ]
    },
    {
     "name": "stdout",
     "output_type": "stream",
     "text": [
      "batch_inputs.shape=(128, 16, 1)\n",
      "batch_labels.shape=(128, 16, 1)\n",
      "batch_labels.shape=(128, 16)\n"
     ]
    },
    {
     "name": "stderr",
     "output_type": "stream",
     "text": [
      "100%|██████████| 15/15 [00:09<00:00,  1.60it/s]\n"
     ]
    },
    {
     "name": "stdout",
     "output_type": "stream",
     "text": [
      "[*] Running Epoch 1 Validation...\n"
     ]
    },
    {
     "name": "stderr",
     "output_type": "stream",
     "text": [
      "  0%|          | 0/1 [00:00<?, ?it/s]"
     ]
    },
    {
     "name": "stdout",
     "output_type": "stream",
     "text": [
      "batch_inputs.shape=(128, 16, 1)\n",
      "batch_labels.shape=(128, 16, 1)\n"
     ]
    },
    {
     "name": "stderr",
     "output_type": "stream",
     "text": [
      "100%|██████████| 1/1 [00:01<00:00,  1.31s/it]\n"
     ]
    },
    {
     "name": "stdout",
     "output_type": "stream",
     "text": [
      "\n",
      "=>> Epoch 1 Metrics ===\n",
      "\tTrain Loss: 2.11996 -- Train Accuracy: 0.1345\n",
      "\t Test Loss: 1.99768 --  Test Accuracy: 0.1919\n",
      "[*] Starting Training Epoch 2...\n"
     ]
    },
    {
     "name": "stderr",
     "output_type": "stream",
     "text": [
      "100%|██████████| 15/15 [00:01<00:00, 14.73it/s]\n"
     ]
    },
    {
     "name": "stdout",
     "output_type": "stream",
     "text": [
      "[*] Running Epoch 2 Validation...\n"
     ]
    },
    {
     "name": "stderr",
     "output_type": "stream",
     "text": [
      "100%|██████████| 1/1 [00:00<00:00, 82.38it/s]\n"
     ]
    },
    {
     "name": "stdout",
     "output_type": "stream",
     "text": [
      "\n",
      "=>> Epoch 2 Metrics ===\n",
      "\tTrain Loss: 1.94821 -- Train Accuracy: 0.2477\n",
      "\t Test Loss: 1.93426 --  Test Accuracy: 0.2544\n",
      "[*] Starting Training Epoch 3...\n"
     ]
    },
    {
     "name": "stderr",
     "output_type": "stream",
     "text": [
      "100%|██████████| 15/15 [00:01<00:00, 14.80it/s]\n"
     ]
    },
    {
     "name": "stdout",
     "output_type": "stream",
     "text": [
      "[*] Running Epoch 3 Validation...\n"
     ]
    },
    {
     "name": "stderr",
     "output_type": "stream",
     "text": [
      "100%|██████████| 1/1 [00:00<00:00, 82.73it/s]\n"
     ]
    },
    {
     "name": "stdout",
     "output_type": "stream",
     "text": [
      "\n",
      "=>> Epoch 3 Metrics ===\n",
      "\tTrain Loss: 1.90035 -- Train Accuracy: 0.2616\n",
      "\t Test Loss: 1.90104 --  Test Accuracy: 0.2466\n",
      "[*] Starting Training Epoch 4...\n"
     ]
    },
    {
     "name": "stderr",
     "output_type": "stream",
     "text": [
      "100%|██████████| 15/15 [00:01<00:00, 14.50it/s]\n"
     ]
    },
    {
     "name": "stdout",
     "output_type": "stream",
     "text": [
      "[*] Running Epoch 4 Validation...\n"
     ]
    },
    {
     "name": "stderr",
     "output_type": "stream",
     "text": [
      "100%|██████████| 1/1 [00:00<00:00, 82.59it/s]\n"
     ]
    },
    {
     "name": "stdout",
     "output_type": "stream",
     "text": [
      "\n",
      "=>> Epoch 4 Metrics ===\n",
      "\tTrain Loss: 1.87591 -- Train Accuracy: 0.2685\n",
      "\t Test Loss: 1.88421 --  Test Accuracy: 0.2681\n",
      "[*] Starting Training Epoch 5...\n"
     ]
    },
    {
     "name": "stderr",
     "output_type": "stream",
     "text": [
      "100%|██████████| 15/15 [00:01<00:00, 14.82it/s]\n"
     ]
    },
    {
     "name": "stdout",
     "output_type": "stream",
     "text": [
      "[*] Running Epoch 5 Validation...\n"
     ]
    },
    {
     "name": "stderr",
     "output_type": "stream",
     "text": [
      "100%|██████████| 1/1 [00:00<00:00, 84.53it/s]\n"
     ]
    },
    {
     "name": "stdout",
     "output_type": "stream",
     "text": [
      "\n",
      "=>> Epoch 5 Metrics ===\n",
      "\tTrain Loss: 1.85875 -- Train Accuracy: 0.3005\n",
      "\t Test Loss: 1.87011 --  Test Accuracy: 0.3066\n",
      "[*] Starting Training Epoch 6...\n"
     ]
    },
    {
     "name": "stderr",
     "output_type": "stream",
     "text": [
      "100%|██████████| 15/15 [00:01<00:00, 14.87it/s]\n"
     ]
    },
    {
     "name": "stdout",
     "output_type": "stream",
     "text": [
      "[*] Running Epoch 6 Validation...\n"
     ]
    },
    {
     "name": "stderr",
     "output_type": "stream",
     "text": [
      "100%|██████████| 1/1 [00:00<00:00, 81.13it/s]\n"
     ]
    },
    {
     "name": "stdout",
     "output_type": "stream",
     "text": [
      "\n",
      "=>> Epoch 6 Metrics ===\n",
      "\tTrain Loss: 1.84762 -- Train Accuracy: 0.3181\n",
      "\t Test Loss: 1.86051 --  Test Accuracy: 0.3306\n",
      "[*] Starting Training Epoch 7...\n"
     ]
    },
    {
     "name": "stderr",
     "output_type": "stream",
     "text": [
      "100%|██████████| 15/15 [00:01<00:00, 14.76it/s]\n"
     ]
    },
    {
     "name": "stdout",
     "output_type": "stream",
     "text": [
      "[*] Running Epoch 7 Validation...\n"
     ]
    },
    {
     "name": "stderr",
     "output_type": "stream",
     "text": [
      "100%|██████████| 1/1 [00:00<00:00, 80.30it/s]\n"
     ]
    },
    {
     "name": "stdout",
     "output_type": "stream",
     "text": [
      "\n",
      "=>> Epoch 7 Metrics ===\n",
      "\tTrain Loss: 1.83747 -- Train Accuracy: 0.3400\n",
      "\t Test Loss: 1.85277 --  Test Accuracy: 0.3340\n",
      "[*] Starting Training Epoch 8...\n"
     ]
    },
    {
     "name": "stderr",
     "output_type": "stream",
     "text": [
      "100%|██████████| 15/15 [00:01<00:00, 14.61it/s]\n"
     ]
    },
    {
     "name": "stdout",
     "output_type": "stream",
     "text": [
      "[*] Running Epoch 8 Validation...\n"
     ]
    },
    {
     "name": "stderr",
     "output_type": "stream",
     "text": [
      "100%|██████████| 1/1 [00:00<00:00, 83.30it/s]\n"
     ]
    },
    {
     "name": "stdout",
     "output_type": "stream",
     "text": [
      "\n",
      "=>> Epoch 8 Metrics ===\n",
      "\tTrain Loss: 1.82969 -- Train Accuracy: 0.3426\n",
      "\t Test Loss: 1.84404 --  Test Accuracy: 0.3345\n",
      "[*] Starting Training Epoch 9...\n"
     ]
    },
    {
     "name": "stderr",
     "output_type": "stream",
     "text": [
      "100%|██████████| 15/15 [00:01<00:00, 14.89it/s]\n"
     ]
    },
    {
     "name": "stdout",
     "output_type": "stream",
     "text": [
      "[*] Running Epoch 9 Validation...\n"
     ]
    },
    {
     "name": "stderr",
     "output_type": "stream",
     "text": [
      "100%|██████████| 1/1 [00:00<00:00, 84.48it/s]\n"
     ]
    },
    {
     "name": "stdout",
     "output_type": "stream",
     "text": [
      "\n",
      "=>> Epoch 9 Metrics ===\n",
      "\tTrain Loss: 1.82038 -- Train Accuracy: 0.3462\n",
      "\t Test Loss: 1.83491 --  Test Accuracy: 0.3306\n",
      "[*] Starting Training Epoch 10...\n"
     ]
    },
    {
     "name": "stderr",
     "output_type": "stream",
     "text": [
      "100%|██████████| 15/15 [00:01<00:00, 14.86it/s]\n"
     ]
    },
    {
     "name": "stdout",
     "output_type": "stream",
     "text": [
      "[*] Running Epoch 10 Validation...\n"
     ]
    },
    {
     "name": "stderr",
     "output_type": "stream",
     "text": [
      "100%|██████████| 1/1 [00:00<00:00, 84.41it/s]\n"
     ]
    },
    {
     "name": "stdout",
     "output_type": "stream",
     "text": [
      "\n",
      "=>> Epoch 10 Metrics ===\n",
      "\tTrain Loss: 1.81242 -- Train Accuracy: 0.3451\n",
      "\t Test Loss: 1.82633 --  Test Accuracy: 0.3315\n",
      "[*] Starting Training Epoch 11...\n"
     ]
    },
    {
     "name": "stderr",
     "output_type": "stream",
     "text": [
      "100%|██████████| 15/15 [00:01<00:00, 14.68it/s]\n"
     ]
    },
    {
     "name": "stdout",
     "output_type": "stream",
     "text": [
      "[*] Running Epoch 11 Validation...\n"
     ]
    },
    {
     "name": "stderr",
     "output_type": "stream",
     "text": [
      "100%|██████████| 1/1 [00:00<00:00, 81.31it/s]\n"
     ]
    },
    {
     "name": "stdout",
     "output_type": "stream",
     "text": [
      "\n",
      "=>> Epoch 11 Metrics ===\n",
      "\tTrain Loss: 1.80330 -- Train Accuracy: 0.3457\n",
      "\t Test Loss: 1.81769 --  Test Accuracy: 0.3311\n",
      "[*] Starting Training Epoch 12...\n"
     ]
    },
    {
     "name": "stderr",
     "output_type": "stream",
     "text": [
      "100%|██████████| 15/15 [00:01<00:00, 14.77it/s]\n"
     ]
    },
    {
     "name": "stdout",
     "output_type": "stream",
     "text": [
      "[*] Running Epoch 12 Validation...\n"
     ]
    },
    {
     "name": "stderr",
     "output_type": "stream",
     "text": [
      "100%|██████████| 1/1 [00:00<00:00, 83.68it/s]\n"
     ]
    },
    {
     "name": "stdout",
     "output_type": "stream",
     "text": [
      "\n",
      "=>> Epoch 12 Metrics ===\n",
      "\tTrain Loss: 1.79565 -- Train Accuracy: 0.3463\n",
      "\t Test Loss: 1.81170 --  Test Accuracy: 0.3325\n",
      "[*] Starting Training Epoch 13...\n"
     ]
    },
    {
     "name": "stderr",
     "output_type": "stream",
     "text": [
      "100%|██████████| 15/15 [00:01<00:00, 14.85it/s]\n"
     ]
    },
    {
     "name": "stdout",
     "output_type": "stream",
     "text": [
      "[*] Running Epoch 13 Validation...\n"
     ]
    },
    {
     "name": "stderr",
     "output_type": "stream",
     "text": [
      "100%|██████████| 1/1 [00:00<00:00, 82.00it/s]\n"
     ]
    },
    {
     "name": "stdout",
     "output_type": "stream",
     "text": [
      "\n",
      "=>> Epoch 13 Metrics ===\n",
      "\tTrain Loss: 1.78696 -- Train Accuracy: 0.3490\n",
      "\t Test Loss: 1.80334 --  Test Accuracy: 0.3320\n",
      "[*] Starting Training Epoch 14...\n"
     ]
    },
    {
     "name": "stderr",
     "output_type": "stream",
     "text": [
      "100%|██████████| 15/15 [00:01<00:00, 14.75it/s]\n"
     ]
    },
    {
     "name": "stdout",
     "output_type": "stream",
     "text": [
      "[*] Running Epoch 14 Validation...\n"
     ]
    },
    {
     "name": "stderr",
     "output_type": "stream",
     "text": [
      "100%|██████████| 1/1 [00:00<00:00, 82.32it/s]\n"
     ]
    },
    {
     "name": "stdout",
     "output_type": "stream",
     "text": [
      "\n",
      "=>> Epoch 14 Metrics ===\n",
      "\tTrain Loss: 1.78399 -- Train Accuracy: 0.3481\n",
      "\t Test Loss: 1.79700 --  Test Accuracy: 0.3335\n",
      "[*] Starting Training Epoch 15...\n"
     ]
    },
    {
     "name": "stderr",
     "output_type": "stream",
     "text": [
      "100%|██████████| 15/15 [00:01<00:00, 14.72it/s]\n"
     ]
    },
    {
     "name": "stdout",
     "output_type": "stream",
     "text": [
      "[*] Running Epoch 15 Validation...\n"
     ]
    },
    {
     "name": "stderr",
     "output_type": "stream",
     "text": [
      "100%|██████████| 1/1 [00:00<00:00, 82.32it/s]\n"
     ]
    },
    {
     "name": "stdout",
     "output_type": "stream",
     "text": [
      "\n",
      "=>> Epoch 15 Metrics ===\n",
      "\tTrain Loss: 1.77531 -- Train Accuracy: 0.3530\n",
      "\t Test Loss: 1.79268 --  Test Accuracy: 0.3379\n",
      "[*] Starting Training Epoch 16...\n"
     ]
    },
    {
     "name": "stderr",
     "output_type": "stream",
     "text": [
      "100%|██████████| 15/15 [00:01<00:00, 14.79it/s]\n"
     ]
    },
    {
     "name": "stdout",
     "output_type": "stream",
     "text": [
      "[*] Running Epoch 16 Validation...\n"
     ]
    },
    {
     "name": "stderr",
     "output_type": "stream",
     "text": [
      "100%|██████████| 1/1 [00:00<00:00, 85.27it/s]\n"
     ]
    },
    {
     "name": "stdout",
     "output_type": "stream",
     "text": [
      "\n",
      "=>> Epoch 16 Metrics ===\n",
      "\tTrain Loss: 1.77033 -- Train Accuracy: 0.3552\n",
      "\t Test Loss: 1.78673 --  Test Accuracy: 0.3423\n",
      "[*] Starting Training Epoch 17...\n"
     ]
    },
    {
     "name": "stderr",
     "output_type": "stream",
     "text": [
      "100%|██████████| 15/15 [00:01<00:00, 14.65it/s]\n"
     ]
    },
    {
     "name": "stdout",
     "output_type": "stream",
     "text": [
      "[*] Running Epoch 17 Validation...\n"
     ]
    },
    {
     "name": "stderr",
     "output_type": "stream",
     "text": [
      "100%|██████████| 1/1 [00:00<00:00, 80.61it/s]\n"
     ]
    },
    {
     "name": "stdout",
     "output_type": "stream",
     "text": [
      "\n",
      "=>> Epoch 17 Metrics ===\n",
      "\tTrain Loss: 1.76669 -- Train Accuracy: 0.3593\n",
      "\t Test Loss: 1.78043 --  Test Accuracy: 0.3516\n",
      "[*] Starting Training Epoch 18...\n"
     ]
    },
    {
     "name": "stderr",
     "output_type": "stream",
     "text": [
      "100%|██████████| 15/15 [00:01<00:00, 13.15it/s]\n"
     ]
    },
    {
     "name": "stdout",
     "output_type": "stream",
     "text": [
      "[*] Running Epoch 18 Validation...\n"
     ]
    },
    {
     "name": "stderr",
     "output_type": "stream",
     "text": [
      "100%|██████████| 1/1 [00:00<00:00, 81.73it/s]\n"
     ]
    },
    {
     "name": "stdout",
     "output_type": "stream",
     "text": [
      "\n",
      "=>> Epoch 18 Metrics ===\n",
      "\tTrain Loss: 1.75844 -- Train Accuracy: 0.3661\n",
      "\t Test Loss: 1.77405 --  Test Accuracy: 0.3579\n",
      "[*] Starting Training Epoch 19...\n"
     ]
    },
    {
     "name": "stderr",
     "output_type": "stream",
     "text": [
      "100%|██████████| 15/15 [00:01<00:00, 14.68it/s]\n"
     ]
    },
    {
     "name": "stdout",
     "output_type": "stream",
     "text": [
      "[*] Running Epoch 19 Validation...\n"
     ]
    },
    {
     "name": "stderr",
     "output_type": "stream",
     "text": [
      "100%|██████████| 1/1 [00:00<00:00, 82.91it/s]\n"
     ]
    },
    {
     "name": "stdout",
     "output_type": "stream",
     "text": [
      "\n",
      "=>> Epoch 19 Metrics ===\n",
      "\tTrain Loss: 1.75237 -- Train Accuracy: 0.3694\n",
      "\t Test Loss: 1.76983 --  Test Accuracy: 0.3647\n",
      "[*] Starting Training Epoch 20...\n"
     ]
    },
    {
     "name": "stderr",
     "output_type": "stream",
     "text": [
      "100%|██████████| 15/15 [00:01<00:00, 14.57it/s]\n"
     ]
    },
    {
     "name": "stdout",
     "output_type": "stream",
     "text": [
      "[*] Running Epoch 20 Validation...\n"
     ]
    },
    {
     "name": "stderr",
     "output_type": "stream",
     "text": [
      "100%|██████████| 1/1 [00:00<00:00, 80.09it/s]\n"
     ]
    },
    {
     "name": "stdout",
     "output_type": "stream",
     "text": [
      "\n",
      "=>> Epoch 20 Metrics ===\n",
      "\tTrain Loss: 1.74768 -- Train Accuracy: 0.3740\n",
      "\t Test Loss: 1.76441 --  Test Accuracy: 0.3608\n",
      "[*] Starting Training Epoch 21...\n"
     ]
    },
    {
     "name": "stderr",
     "output_type": "stream",
     "text": [
      "100%|██████████| 15/15 [00:01<00:00, 14.59it/s]\n"
     ]
    },
    {
     "name": "stdout",
     "output_type": "stream",
     "text": [
      "[*] Running Epoch 21 Validation...\n"
     ]
    },
    {
     "name": "stderr",
     "output_type": "stream",
     "text": [
      "100%|██████████| 1/1 [00:00<00:00, 84.36it/s]\n"
     ]
    },
    {
     "name": "stdout",
     "output_type": "stream",
     "text": [
      "\n",
      "=>> Epoch 21 Metrics ===\n",
      "\tTrain Loss: 1.74180 -- Train Accuracy: 0.3771\n",
      "\t Test Loss: 1.75987 --  Test Accuracy: 0.3711\n",
      "[*] Starting Training Epoch 22...\n"
     ]
    },
    {
     "name": "stderr",
     "output_type": "stream",
     "text": [
      "100%|██████████| 15/15 [00:01<00:00, 14.76it/s]\n"
     ]
    },
    {
     "name": "stdout",
     "output_type": "stream",
     "text": [
      "[*] Running Epoch 22 Validation...\n"
     ]
    },
    {
     "name": "stderr",
     "output_type": "stream",
     "text": [
      "100%|██████████| 1/1 [00:00<00:00, 85.96it/s]\n"
     ]
    },
    {
     "name": "stdout",
     "output_type": "stream",
     "text": [
      "\n",
      "=>> Epoch 22 Metrics ===\n",
      "\tTrain Loss: 1.73854 -- Train Accuracy: 0.3802\n",
      "\t Test Loss: 1.75654 --  Test Accuracy: 0.3726\n",
      "[*] Starting Training Epoch 23...\n"
     ]
    },
    {
     "name": "stderr",
     "output_type": "stream",
     "text": [
      "100%|██████████| 15/15 [00:01<00:00, 13.44it/s]\n"
     ]
    },
    {
     "name": "stdout",
     "output_type": "stream",
     "text": [
      "[*] Running Epoch 23 Validation...\n"
     ]
    },
    {
     "name": "stderr",
     "output_type": "stream",
     "text": [
      "100%|██████████| 1/1 [00:00<00:00, 56.00it/s]\n"
     ]
    },
    {
     "name": "stdout",
     "output_type": "stream",
     "text": [
      "\n",
      "=>> Epoch 23 Metrics ===\n",
      "\tTrain Loss: 1.73501 -- Train Accuracy: 0.3827\n",
      "\t Test Loss: 1.75100 --  Test Accuracy: 0.3735\n",
      "[*] Starting Training Epoch 24...\n"
     ]
    },
    {
     "name": "stderr",
     "output_type": "stream",
     "text": [
      "100%|██████████| 15/15 [00:01<00:00, 12.49it/s]\n"
     ]
    },
    {
     "name": "stdout",
     "output_type": "stream",
     "text": [
      "[*] Running Epoch 24 Validation...\n"
     ]
    },
    {
     "name": "stderr",
     "output_type": "stream",
     "text": [
      "100%|██████████| 1/1 [00:00<00:00, 82.26it/s]\n"
     ]
    },
    {
     "name": "stdout",
     "output_type": "stream",
     "text": [
      "\n",
      "=>> Epoch 24 Metrics ===\n",
      "\tTrain Loss: 1.73008 -- Train Accuracy: 0.3845\n",
      "\t Test Loss: 1.74632 --  Test Accuracy: 0.3735\n",
      "[*] Starting Training Epoch 25...\n"
     ]
    },
    {
     "name": "stderr",
     "output_type": "stream",
     "text": [
      "100%|██████████| 15/15 [00:01<00:00, 13.09it/s]\n"
     ]
    },
    {
     "name": "stdout",
     "output_type": "stream",
     "text": [
      "[*] Running Epoch 25 Validation...\n"
     ]
    },
    {
     "name": "stderr",
     "output_type": "stream",
     "text": [
      "100%|██████████| 1/1 [00:00<00:00, 80.93it/s]\n"
     ]
    },
    {
     "name": "stdout",
     "output_type": "stream",
     "text": [
      "\n",
      "=>> Epoch 25 Metrics ===\n",
      "\tTrain Loss: 1.72588 -- Train Accuracy: 0.3854\n",
      "\t Test Loss: 1.74205 --  Test Accuracy: 0.3750\n",
      "[*] Starting Training Epoch 26...\n"
     ]
    },
    {
     "name": "stderr",
     "output_type": "stream",
     "text": [
      "100%|██████████| 15/15 [00:01<00:00, 12.62it/s]\n"
     ]
    },
    {
     "name": "stdout",
     "output_type": "stream",
     "text": [
      "[*] Running Epoch 26 Validation...\n"
     ]
    },
    {
     "name": "stderr",
     "output_type": "stream",
     "text": [
      "100%|██████████| 1/1 [00:00<00:00, 54.08it/s]\n"
     ]
    },
    {
     "name": "stdout",
     "output_type": "stream",
     "text": [
      "\n",
      "=>> Epoch 26 Metrics ===\n",
      "\tTrain Loss: 1.72369 -- Train Accuracy: 0.3878\n",
      "\t Test Loss: 1.73969 --  Test Accuracy: 0.3770\n",
      "[*] Starting Training Epoch 27...\n"
     ]
    },
    {
     "name": "stderr",
     "output_type": "stream",
     "text": [
      "100%|██████████| 15/15 [00:01<00:00, 12.12it/s]\n"
     ]
    },
    {
     "name": "stdout",
     "output_type": "stream",
     "text": [
      "[*] Running Epoch 27 Validation...\n"
     ]
    },
    {
     "name": "stderr",
     "output_type": "stream",
     "text": [
      "100%|██████████| 1/1 [00:00<00:00, 65.96it/s]\n"
     ]
    },
    {
     "name": "stdout",
     "output_type": "stream",
     "text": [
      "\n",
      "=>> Epoch 27 Metrics ===\n",
      "\tTrain Loss: 1.71752 -- Train Accuracy: 0.3896\n",
      "\t Test Loss: 1.73400 --  Test Accuracy: 0.3755\n",
      "[*] Starting Training Epoch 28...\n"
     ]
    },
    {
     "name": "stderr",
     "output_type": "stream",
     "text": [
      "100%|██████████| 15/15 [00:01<00:00, 12.60it/s]\n"
     ]
    },
    {
     "name": "stdout",
     "output_type": "stream",
     "text": [
      "[*] Running Epoch 28 Validation...\n"
     ]
    },
    {
     "name": "stderr",
     "output_type": "stream",
     "text": [
      "100%|██████████| 1/1 [00:00<00:00, 63.93it/s]\n"
     ]
    },
    {
     "name": "stdout",
     "output_type": "stream",
     "text": [
      "\n",
      "=>> Epoch 28 Metrics ===\n",
      "\tTrain Loss: 1.71384 -- Train Accuracy: 0.3913\n",
      "\t Test Loss: 1.72863 --  Test Accuracy: 0.3794\n",
      "[*] Starting Training Epoch 29...\n"
     ]
    },
    {
     "name": "stderr",
     "output_type": "stream",
     "text": [
      "100%|██████████| 15/15 [00:01<00:00, 12.23it/s]\n"
     ]
    },
    {
     "name": "stdout",
     "output_type": "stream",
     "text": [
      "[*] Running Epoch 29 Validation...\n"
     ]
    },
    {
     "name": "stderr",
     "output_type": "stream",
     "text": [
      "100%|██████████| 1/1 [00:00<00:00, 80.06it/s]\n"
     ]
    },
    {
     "name": "stdout",
     "output_type": "stream",
     "text": [
      "\n",
      "=>> Epoch 29 Metrics ===\n",
      "\tTrain Loss: 1.71067 -- Train Accuracy: 0.3917\n",
      "\t Test Loss: 1.72393 --  Test Accuracy: 0.3833\n",
      "[*] Starting Training Epoch 30...\n"
     ]
    },
    {
     "name": "stderr",
     "output_type": "stream",
     "text": [
      "100%|██████████| 15/15 [00:01<00:00, 14.54it/s]\n"
     ]
    },
    {
     "name": "stdout",
     "output_type": "stream",
     "text": [
      "[*] Running Epoch 30 Validation...\n"
     ]
    },
    {
     "name": "stderr",
     "output_type": "stream",
     "text": [
      "100%|██████████| 1/1 [00:00<00:00, 82.75it/s]\n"
     ]
    },
    {
     "name": "stdout",
     "output_type": "stream",
     "text": [
      "\n",
      "=>> Epoch 30 Metrics ===\n",
      "\tTrain Loss: 1.70674 -- Train Accuracy: 0.3933\n",
      "\t Test Loss: 1.72039 --  Test Accuracy: 0.3823\n",
      "[*] Starting Training Epoch 31...\n"
     ]
    },
    {
     "name": "stderr",
     "output_type": "stream",
     "text": [
      "100%|██████████| 15/15 [00:01<00:00, 14.72it/s]\n"
     ]
    },
    {
     "name": "stdout",
     "output_type": "stream",
     "text": [
      "[*] Running Epoch 31 Validation...\n"
     ]
    },
    {
     "name": "stderr",
     "output_type": "stream",
     "text": [
      "100%|██████████| 1/1 [00:00<00:00, 83.30it/s]\n"
     ]
    },
    {
     "name": "stdout",
     "output_type": "stream",
     "text": [
      "\n",
      "=>> Epoch 31 Metrics ===\n",
      "\tTrain Loss: 1.70121 -- Train Accuracy: 0.3952\n",
      "\t Test Loss: 1.71703 --  Test Accuracy: 0.3857\n",
      "[*] Starting Training Epoch 32...\n"
     ]
    },
    {
     "name": "stderr",
     "output_type": "stream",
     "text": [
      "100%|██████████| 15/15 [00:01<00:00, 13.33it/s]\n"
     ]
    },
    {
     "name": "stdout",
     "output_type": "stream",
     "text": [
      "[*] Running Epoch 32 Validation...\n"
     ]
    },
    {
     "name": "stderr",
     "output_type": "stream",
     "text": [
      "100%|██████████| 1/1 [00:00<00:00, 69.08it/s]\n"
     ]
    },
    {
     "name": "stdout",
     "output_type": "stream",
     "text": [
      "\n",
      "=>> Epoch 32 Metrics ===\n",
      "\tTrain Loss: 1.69680 -- Train Accuracy: 0.3962\n",
      "\t Test Loss: 1.71577 --  Test Accuracy: 0.3843\n",
      "[*] Starting Training Epoch 33...\n"
     ]
    },
    {
     "name": "stderr",
     "output_type": "stream",
     "text": [
      "100%|██████████| 15/15 [00:01<00:00, 12.33it/s]\n"
     ]
    },
    {
     "name": "stdout",
     "output_type": "stream",
     "text": [
      "[*] Running Epoch 33 Validation...\n"
     ]
    },
    {
     "name": "stderr",
     "output_type": "stream",
     "text": [
      "100%|██████████| 1/1 [00:00<00:00, 65.13it/s]\n"
     ]
    },
    {
     "name": "stdout",
     "output_type": "stream",
     "text": [
      "\n",
      "=>> Epoch 33 Metrics ===\n",
      "\tTrain Loss: 1.68999 -- Train Accuracy: 0.3993\n",
      "\t Test Loss: 1.70862 --  Test Accuracy: 0.3882\n",
      "[*] Starting Training Epoch 34...\n"
     ]
    },
    {
     "name": "stderr",
     "output_type": "stream",
     "text": [
      "100%|██████████| 15/15 [00:01<00:00, 12.14it/s]\n"
     ]
    },
    {
     "name": "stdout",
     "output_type": "stream",
     "text": [
      "[*] Running Epoch 34 Validation...\n"
     ]
    },
    {
     "name": "stderr",
     "output_type": "stream",
     "text": [
      "100%|██████████| 1/1 [00:00<00:00, 64.52it/s]\n"
     ]
    },
    {
     "name": "stdout",
     "output_type": "stream",
     "text": [
      "\n",
      "=>> Epoch 34 Metrics ===\n",
      "\tTrain Loss: 1.68662 -- Train Accuracy: 0.4007\n",
      "\t Test Loss: 1.70694 --  Test Accuracy: 0.3911\n",
      "[*] Starting Training Epoch 35...\n"
     ]
    },
    {
     "name": "stderr",
     "output_type": "stream",
     "text": [
      "100%|██████████| 15/15 [00:01<00:00, 13.88it/s]\n"
     ]
    },
    {
     "name": "stdout",
     "output_type": "stream",
     "text": [
      "[*] Running Epoch 35 Validation...\n"
     ]
    },
    {
     "name": "stderr",
     "output_type": "stream",
     "text": [
      "100%|██████████| 1/1 [00:00<00:00, 81.97it/s]\n"
     ]
    },
    {
     "name": "stdout",
     "output_type": "stream",
     "text": [
      "\n",
      "=>> Epoch 35 Metrics ===\n",
      "\tTrain Loss: 1.67964 -- Train Accuracy: 0.4032\n",
      "\t Test Loss: 1.69686 --  Test Accuracy: 0.3926\n",
      "[*] Starting Training Epoch 36...\n"
     ]
    },
    {
     "name": "stderr",
     "output_type": "stream",
     "text": [
      "100%|██████████| 15/15 [00:01<00:00, 14.64it/s]\n"
     ]
    },
    {
     "name": "stdout",
     "output_type": "stream",
     "text": [
      "[*] Running Epoch 36 Validation...\n"
     ]
    },
    {
     "name": "stderr",
     "output_type": "stream",
     "text": [
      "100%|██████████| 1/1 [00:00<00:00, 81.59it/s]\n"
     ]
    },
    {
     "name": "stdout",
     "output_type": "stream",
     "text": [
      "\n",
      "=>> Epoch 36 Metrics ===\n",
      "\tTrain Loss: 1.67393 -- Train Accuracy: 0.4049\n",
      "\t Test Loss: 1.69215 --  Test Accuracy: 0.3940\n",
      "[*] Starting Training Epoch 37...\n"
     ]
    },
    {
     "name": "stderr",
     "output_type": "stream",
     "text": [
      "100%|██████████| 15/15 [00:01<00:00, 14.55it/s]\n"
     ]
    },
    {
     "name": "stdout",
     "output_type": "stream",
     "text": [
      "[*] Running Epoch 37 Validation...\n"
     ]
    },
    {
     "name": "stderr",
     "output_type": "stream",
     "text": [
      "100%|██████████| 1/1 [00:00<00:00, 83.75it/s]\n"
     ]
    },
    {
     "name": "stdout",
     "output_type": "stream",
     "text": [
      "\n",
      "=>> Epoch 37 Metrics ===\n",
      "\tTrain Loss: 1.66434 -- Train Accuracy: 0.4087\n",
      "\t Test Loss: 1.68583 --  Test Accuracy: 0.3979\n",
      "[*] Starting Training Epoch 38...\n"
     ]
    },
    {
     "name": "stderr",
     "output_type": "stream",
     "text": [
      "100%|██████████| 15/15 [00:01<00:00, 14.61it/s]\n"
     ]
    },
    {
     "name": "stdout",
     "output_type": "stream",
     "text": [
      "[*] Running Epoch 38 Validation...\n"
     ]
    },
    {
     "name": "stderr",
     "output_type": "stream",
     "text": [
      "100%|██████████| 1/1 [00:00<00:00, 83.70it/s]\n"
     ]
    },
    {
     "name": "stdout",
     "output_type": "stream",
     "text": [
      "\n",
      "=>> Epoch 38 Metrics ===\n",
      "\tTrain Loss: 1.66115 -- Train Accuracy: 0.4090\n",
      "\t Test Loss: 1.68477 --  Test Accuracy: 0.3960\n",
      "[*] Starting Training Epoch 39...\n"
     ]
    },
    {
     "name": "stderr",
     "output_type": "stream",
     "text": [
      "100%|██████████| 15/15 [00:01<00:00, 14.61it/s]\n"
     ]
    },
    {
     "name": "stdout",
     "output_type": "stream",
     "text": [
      "[*] Running Epoch 39 Validation...\n"
     ]
    },
    {
     "name": "stderr",
     "output_type": "stream",
     "text": [
      "100%|██████████| 1/1 [00:00<00:00, 83.76it/s]\n"
     ]
    },
    {
     "name": "stdout",
     "output_type": "stream",
     "text": [
      "\n",
      "=>> Epoch 39 Metrics ===\n",
      "\tTrain Loss: 1.65451 -- Train Accuracy: 0.4118\n",
      "\t Test Loss: 1.66992 --  Test Accuracy: 0.4038\n",
      "[*] Starting Training Epoch 40...\n"
     ]
    },
    {
     "name": "stderr",
     "output_type": "stream",
     "text": [
      "100%|██████████| 15/15 [00:01<00:00, 14.69it/s]\n"
     ]
    },
    {
     "name": "stdout",
     "output_type": "stream",
     "text": [
      "[*] Running Epoch 40 Validation...\n"
     ]
    },
    {
     "name": "stderr",
     "output_type": "stream",
     "text": [
      "100%|██████████| 1/1 [00:00<00:00, 83.18it/s]\n"
     ]
    },
    {
     "name": "stdout",
     "output_type": "stream",
     "text": [
      "\n",
      "=>> Epoch 40 Metrics ===\n",
      "\tTrain Loss: 1.64448 -- Train Accuracy: 0.4157\n",
      "\t Test Loss: 1.66318 --  Test Accuracy: 0.4092\n",
      "[*] Starting Training Epoch 41...\n"
     ]
    },
    {
     "name": "stderr",
     "output_type": "stream",
     "text": [
      "100%|██████████| 15/15 [00:01<00:00, 14.71it/s]\n"
     ]
    },
    {
     "name": "stdout",
     "output_type": "stream",
     "text": [
      "[*] Running Epoch 41 Validation...\n"
     ]
    },
    {
     "name": "stderr",
     "output_type": "stream",
     "text": [
      "100%|██████████| 1/1 [00:00<00:00, 81.67it/s]\n"
     ]
    },
    {
     "name": "stdout",
     "output_type": "stream",
     "text": [
      "\n",
      "=>> Epoch 41 Metrics ===\n",
      "\tTrain Loss: 1.63991 -- Train Accuracy: 0.4158\n",
      "\t Test Loss: 1.65591 --  Test Accuracy: 0.4048\n",
      "[*] Starting Training Epoch 42...\n"
     ]
    },
    {
     "name": "stderr",
     "output_type": "stream",
     "text": [
      "100%|██████████| 15/15 [00:01<00:00, 14.63it/s]\n"
     ]
    },
    {
     "name": "stdout",
     "output_type": "stream",
     "text": [
      "[*] Running Epoch 42 Validation...\n"
     ]
    },
    {
     "name": "stderr",
     "output_type": "stream",
     "text": [
      "100%|██████████| 1/1 [00:00<00:00, 82.28it/s]\n"
     ]
    },
    {
     "name": "stdout",
     "output_type": "stream",
     "text": [
      "\n",
      "=>> Epoch 42 Metrics ===\n",
      "\tTrain Loss: 1.63279 -- Train Accuracy: 0.4171\n",
      "\t Test Loss: 1.64951 --  Test Accuracy: 0.4087\n",
      "[*] Starting Training Epoch 43...\n"
     ]
    },
    {
     "name": "stderr",
     "output_type": "stream",
     "text": [
      "100%|██████████| 15/15 [00:01<00:00, 14.74it/s]\n"
     ]
    },
    {
     "name": "stdout",
     "output_type": "stream",
     "text": [
      "[*] Running Epoch 43 Validation...\n"
     ]
    },
    {
     "name": "stderr",
     "output_type": "stream",
     "text": [
      "100%|██████████| 1/1 [00:00<00:00, 81.29it/s]\n"
     ]
    },
    {
     "name": "stdout",
     "output_type": "stream",
     "text": [
      "\n",
      "=>> Epoch 43 Metrics ===\n",
      "\tTrain Loss: 1.62631 -- Train Accuracy: 0.4201\n",
      "\t Test Loss: 1.64259 --  Test Accuracy: 0.4053\n",
      "[*] Starting Training Epoch 44...\n"
     ]
    },
    {
     "name": "stderr",
     "output_type": "stream",
     "text": [
      "100%|██████████| 15/15 [00:01<00:00, 14.72it/s]\n"
     ]
    },
    {
     "name": "stdout",
     "output_type": "stream",
     "text": [
      "[*] Running Epoch 44 Validation...\n"
     ]
    },
    {
     "name": "stderr",
     "output_type": "stream",
     "text": [
      "100%|██████████| 1/1 [00:00<00:00, 83.31it/s]\n"
     ]
    },
    {
     "name": "stdout",
     "output_type": "stream",
     "text": [
      "\n",
      "=>> Epoch 44 Metrics ===\n",
      "\tTrain Loss: 1.62178 -- Train Accuracy: 0.4208\n",
      "\t Test Loss: 1.63354 --  Test Accuracy: 0.4097\n",
      "[*] Starting Training Epoch 45...\n"
     ]
    },
    {
     "name": "stderr",
     "output_type": "stream",
     "text": [
      "100%|██████████| 15/15 [00:01<00:00, 14.72it/s]\n"
     ]
    },
    {
     "name": "stdout",
     "output_type": "stream",
     "text": [
      "[*] Running Epoch 45 Validation...\n"
     ]
    },
    {
     "name": "stderr",
     "output_type": "stream",
     "text": [
      "100%|██████████| 1/1 [00:00<00:00, 84.72it/s]\n"
     ]
    },
    {
     "name": "stdout",
     "output_type": "stream",
     "text": [
      "\n",
      "=>> Epoch 45 Metrics ===\n",
      "\tTrain Loss: 1.61476 -- Train Accuracy: 0.4216\n",
      "\t Test Loss: 1.62867 --  Test Accuracy: 0.4102\n",
      "[*] Starting Training Epoch 46...\n"
     ]
    },
    {
     "name": "stderr",
     "output_type": "stream",
     "text": [
      "100%|██████████| 15/15 [00:01<00:00, 14.75it/s]\n"
     ]
    },
    {
     "name": "stdout",
     "output_type": "stream",
     "text": [
      "[*] Running Epoch 46 Validation...\n"
     ]
    },
    {
     "name": "stderr",
     "output_type": "stream",
     "text": [
      "100%|██████████| 1/1 [00:00<00:00, 83.15it/s]\n"
     ]
    },
    {
     "name": "stdout",
     "output_type": "stream",
     "text": [
      "\n",
      "=>> Epoch 46 Metrics ===\n",
      "\tTrain Loss: 1.60631 -- Train Accuracy: 0.4238\n",
      "\t Test Loss: 1.62152 --  Test Accuracy: 0.4146\n",
      "[*] Starting Training Epoch 47...\n"
     ]
    },
    {
     "name": "stderr",
     "output_type": "stream",
     "text": [
      "100%|██████████| 15/15 [00:01<00:00, 14.75it/s]\n"
     ]
    },
    {
     "name": "stdout",
     "output_type": "stream",
     "text": [
      "[*] Running Epoch 47 Validation...\n"
     ]
    },
    {
     "name": "stderr",
     "output_type": "stream",
     "text": [
      "100%|██████████| 1/1 [00:00<00:00, 84.50it/s]\n"
     ]
    },
    {
     "name": "stdout",
     "output_type": "stream",
     "text": [
      "\n",
      "=>> Epoch 47 Metrics ===\n",
      "\tTrain Loss: 1.59979 -- Train Accuracy: 0.4261\n",
      "\t Test Loss: 1.61452 --  Test Accuracy: 0.4170\n",
      "[*] Starting Training Epoch 48...\n"
     ]
    },
    {
     "name": "stderr",
     "output_type": "stream",
     "text": [
      "100%|██████████| 15/15 [00:01<00:00, 14.70it/s]\n"
     ]
    },
    {
     "name": "stdout",
     "output_type": "stream",
     "text": [
      "[*] Running Epoch 48 Validation...\n"
     ]
    },
    {
     "name": "stderr",
     "output_type": "stream",
     "text": [
      "100%|██████████| 1/1 [00:00<00:00, 81.96it/s]\n"
     ]
    },
    {
     "name": "stdout",
     "output_type": "stream",
     "text": [
      "\n",
      "=>> Epoch 48 Metrics ===\n",
      "\tTrain Loss: 1.59125 -- Train Accuracy: 0.4283\n",
      "\t Test Loss: 1.60659 --  Test Accuracy: 0.4194\n",
      "[*] Starting Training Epoch 49...\n"
     ]
    },
    {
     "name": "stderr",
     "output_type": "stream",
     "text": [
      "100%|██████████| 15/15 [00:01<00:00, 14.41it/s]\n"
     ]
    },
    {
     "name": "stdout",
     "output_type": "stream",
     "text": [
      "[*] Running Epoch 49 Validation...\n"
     ]
    },
    {
     "name": "stderr",
     "output_type": "stream",
     "text": [
      "100%|██████████| 1/1 [00:00<00:00, 84.63it/s]\n"
     ]
    },
    {
     "name": "stdout",
     "output_type": "stream",
     "text": [
      "\n",
      "=>> Epoch 49 Metrics ===\n",
      "\tTrain Loss: 1.58534 -- Train Accuracy: 0.4311\n",
      "\t Test Loss: 1.60556 --  Test Accuracy: 0.4209\n",
      "[*] Starting Training Epoch 50...\n"
     ]
    },
    {
     "name": "stderr",
     "output_type": "stream",
     "text": [
      "100%|██████████| 15/15 [00:01<00:00, 14.72it/s]\n"
     ]
    },
    {
     "name": "stdout",
     "output_type": "stream",
     "text": [
      "[*] Running Epoch 50 Validation...\n"
     ]
    },
    {
     "name": "stderr",
     "output_type": "stream",
     "text": [
      "100%|██████████| 1/1 [00:00<00:00, 80.69it/s]\n"
     ]
    },
    {
     "name": "stdout",
     "output_type": "stream",
     "text": [
      "\n",
      "=>> Epoch 50 Metrics ===\n",
      "\tTrain Loss: 1.57402 -- Train Accuracy: 0.4330\n",
      "\t Test Loss: 1.59674 --  Test Accuracy: 0.4243\n",
      "[*] Starting Training Epoch 51...\n"
     ]
    },
    {
     "name": "stderr",
     "output_type": "stream",
     "text": [
      "100%|██████████| 15/15 [00:01<00:00, 14.73it/s]\n"
     ]
    },
    {
     "name": "stdout",
     "output_type": "stream",
     "text": [
      "[*] Running Epoch 51 Validation...\n"
     ]
    },
    {
     "name": "stderr",
     "output_type": "stream",
     "text": [
      "100%|██████████| 1/1 [00:00<00:00, 83.62it/s]\n"
     ]
    },
    {
     "name": "stdout",
     "output_type": "stream",
     "text": [
      "\n",
      "=>> Epoch 51 Metrics ===\n",
      "\tTrain Loss: 1.56333 -- Train Accuracy: 0.4366\n",
      "\t Test Loss: 1.58807 --  Test Accuracy: 0.4272\n",
      "[*] Starting Training Epoch 52...\n"
     ]
    },
    {
     "name": "stderr",
     "output_type": "stream",
     "text": [
      "100%|██████████| 15/15 [00:01<00:00, 14.69it/s]\n"
     ]
    },
    {
     "name": "stdout",
     "output_type": "stream",
     "text": [
      "[*] Running Epoch 52 Validation...\n"
     ]
    },
    {
     "name": "stderr",
     "output_type": "stream",
     "text": [
      "100%|██████████| 1/1 [00:00<00:00, 79.85it/s]\n"
     ]
    },
    {
     "name": "stdout",
     "output_type": "stream",
     "text": [
      "\n",
      "=>> Epoch 52 Metrics ===\n",
      "\tTrain Loss: 1.55616 -- Train Accuracy: 0.4371\n",
      "\t Test Loss: 1.58558 --  Test Accuracy: 0.4238\n",
      "[*] Starting Training Epoch 53...\n"
     ]
    },
    {
     "name": "stderr",
     "output_type": "stream",
     "text": [
      "100%|██████████| 15/15 [00:01<00:00, 14.73it/s]\n"
     ]
    },
    {
     "name": "stdout",
     "output_type": "stream",
     "text": [
      "[*] Running Epoch 53 Validation...\n"
     ]
    },
    {
     "name": "stderr",
     "output_type": "stream",
     "text": [
      "100%|██████████| 1/1 [00:00<00:00, 83.19it/s]\n"
     ]
    },
    {
     "name": "stdout",
     "output_type": "stream",
     "text": [
      "\n",
      "=>> Epoch 53 Metrics ===\n",
      "\tTrain Loss: 1.54512 -- Train Accuracy: 0.4390\n",
      "\t Test Loss: 1.57149 --  Test Accuracy: 0.4287\n",
      "[*] Starting Training Epoch 54...\n"
     ]
    },
    {
     "name": "stderr",
     "output_type": "stream",
     "text": [
      "100%|██████████| 15/15 [00:01<00:00, 14.58it/s]\n"
     ]
    },
    {
     "name": "stdout",
     "output_type": "stream",
     "text": [
      "[*] Running Epoch 54 Validation...\n"
     ]
    },
    {
     "name": "stderr",
     "output_type": "stream",
     "text": [
      "100%|██████████| 1/1 [00:00<00:00, 84.35it/s]\n"
     ]
    },
    {
     "name": "stdout",
     "output_type": "stream",
     "text": [
      "\n",
      "=>> Epoch 54 Metrics ===\n",
      "\tTrain Loss: 1.53121 -- Train Accuracy: 0.4426\n",
      "\t Test Loss: 1.56126 --  Test Accuracy: 0.4312\n",
      "[*] Starting Training Epoch 55...\n"
     ]
    },
    {
     "name": "stderr",
     "output_type": "stream",
     "text": [
      "100%|██████████| 15/15 [00:01<00:00, 14.61it/s]\n"
     ]
    },
    {
     "name": "stdout",
     "output_type": "stream",
     "text": [
      "[*] Running Epoch 55 Validation...\n"
     ]
    },
    {
     "name": "stderr",
     "output_type": "stream",
     "text": [
      "100%|██████████| 1/1 [00:00<00:00, 82.26it/s]\n"
     ]
    },
    {
     "name": "stdout",
     "output_type": "stream",
     "text": [
      "\n",
      "=>> Epoch 55 Metrics ===\n",
      "\tTrain Loss: 1.51660 -- Train Accuracy: 0.4456\n",
      "\t Test Loss: 1.55099 --  Test Accuracy: 0.4307\n",
      "[*] Starting Training Epoch 56...\n"
     ]
    },
    {
     "name": "stderr",
     "output_type": "stream",
     "text": [
      "100%|██████████| 15/15 [00:01<00:00, 14.62it/s]\n"
     ]
    },
    {
     "name": "stdout",
     "output_type": "stream",
     "text": [
      "[*] Running Epoch 56 Validation...\n"
     ]
    },
    {
     "name": "stderr",
     "output_type": "stream",
     "text": [
      "100%|██████████| 1/1 [00:00<00:00, 84.54it/s]\n"
     ]
    },
    {
     "name": "stdout",
     "output_type": "stream",
     "text": [
      "\n",
      "=>> Epoch 56 Metrics ===\n",
      "\tTrain Loss: 1.50434 -- Train Accuracy: 0.4489\n",
      "\t Test Loss: 1.53085 --  Test Accuracy: 0.4351\n",
      "[*] Starting Training Epoch 57...\n"
     ]
    },
    {
     "name": "stderr",
     "output_type": "stream",
     "text": [
      "100%|██████████| 15/15 [00:01<00:00, 14.71it/s]\n"
     ]
    },
    {
     "name": "stdout",
     "output_type": "stream",
     "text": [
      "[*] Running Epoch 57 Validation...\n"
     ]
    },
    {
     "name": "stderr",
     "output_type": "stream",
     "text": [
      "100%|██████████| 1/1 [00:00<00:00, 81.12it/s]\n"
     ]
    },
    {
     "name": "stdout",
     "output_type": "stream",
     "text": [
      "\n",
      "=>> Epoch 57 Metrics ===\n",
      "\tTrain Loss: 1.48386 -- Train Accuracy: 0.4530\n",
      "\t Test Loss: 1.50786 --  Test Accuracy: 0.4380\n",
      "[*] Starting Training Epoch 58...\n"
     ]
    },
    {
     "name": "stderr",
     "output_type": "stream",
     "text": [
      "100%|██████████| 15/15 [00:01<00:00, 14.50it/s]\n"
     ]
    },
    {
     "name": "stdout",
     "output_type": "stream",
     "text": [
      "[*] Running Epoch 58 Validation...\n"
     ]
    },
    {
     "name": "stderr",
     "output_type": "stream",
     "text": [
      "100%|██████████| 1/1 [00:00<00:00, 82.69it/s]\n"
     ]
    },
    {
     "name": "stdout",
     "output_type": "stream",
     "text": [
      "\n",
      "=>> Epoch 58 Metrics ===\n",
      "\tTrain Loss: 1.46488 -- Train Accuracy: 0.4577\n",
      "\t Test Loss: 1.49203 --  Test Accuracy: 0.4458\n",
      "[*] Starting Training Epoch 59...\n"
     ]
    },
    {
     "name": "stderr",
     "output_type": "stream",
     "text": [
      "100%|██████████| 15/15 [00:01<00:00, 14.56it/s]\n"
     ]
    },
    {
     "name": "stdout",
     "output_type": "stream",
     "text": [
      "[*] Running Epoch 59 Validation...\n"
     ]
    },
    {
     "name": "stderr",
     "output_type": "stream",
     "text": [
      "100%|██████████| 1/1 [00:00<00:00, 81.00it/s]\n"
     ]
    },
    {
     "name": "stdout",
     "output_type": "stream",
     "text": [
      "\n",
      "=>> Epoch 59 Metrics ===\n",
      "\tTrain Loss: 1.45227 -- Train Accuracy: 0.4625\n",
      "\t Test Loss: 1.47426 --  Test Accuracy: 0.4453\n",
      "[*] Starting Training Epoch 60...\n"
     ]
    },
    {
     "name": "stderr",
     "output_type": "stream",
     "text": [
      "100%|██████████| 15/15 [00:01<00:00, 13.95it/s]\n"
     ]
    },
    {
     "name": "stdout",
     "output_type": "stream",
     "text": [
      "[*] Running Epoch 60 Validation...\n"
     ]
    },
    {
     "name": "stderr",
     "output_type": "stream",
     "text": [
      "100%|██████████| 1/1 [00:00<00:00, 83.15it/s]\n"
     ]
    },
    {
     "name": "stdout",
     "output_type": "stream",
     "text": [
      "\n",
      "=>> Epoch 60 Metrics ===\n",
      "\tTrain Loss: 1.43411 -- Train Accuracy: 0.4645\n",
      "\t Test Loss: 1.45922 --  Test Accuracy: 0.4536\n",
      "[*] Starting Training Epoch 61...\n"
     ]
    },
    {
     "name": "stderr",
     "output_type": "stream",
     "text": [
      "100%|██████████| 15/15 [00:01<00:00, 14.48it/s]\n"
     ]
    },
    {
     "name": "stdout",
     "output_type": "stream",
     "text": [
      "[*] Running Epoch 61 Validation...\n"
     ]
    },
    {
     "name": "stderr",
     "output_type": "stream",
     "text": [
      "100%|██████████| 1/1 [00:00<00:00, 81.25it/s]\n"
     ]
    },
    {
     "name": "stdout",
     "output_type": "stream",
     "text": [
      "\n",
      "=>> Epoch 61 Metrics ===\n",
      "\tTrain Loss: 1.41545 -- Train Accuracy: 0.4685\n",
      "\t Test Loss: 1.44222 --  Test Accuracy: 0.4565\n",
      "[*] Starting Training Epoch 62...\n"
     ]
    },
    {
     "name": "stderr",
     "output_type": "stream",
     "text": [
      "100%|██████████| 15/15 [00:01<00:00, 13.20it/s]\n"
     ]
    },
    {
     "name": "stdout",
     "output_type": "stream",
     "text": [
      "[*] Running Epoch 62 Validation...\n"
     ]
    },
    {
     "name": "stderr",
     "output_type": "stream",
     "text": [
      "100%|██████████| 1/1 [00:00<00:00, 78.95it/s]\n"
     ]
    },
    {
     "name": "stdout",
     "output_type": "stream",
     "text": [
      "\n",
      "=>> Epoch 62 Metrics ===\n",
      "\tTrain Loss: 1.40227 -- Train Accuracy: 0.4729\n",
      "\t Test Loss: 1.42572 --  Test Accuracy: 0.4585\n",
      "[*] Starting Training Epoch 63...\n"
     ]
    },
    {
     "name": "stderr",
     "output_type": "stream",
     "text": [
      "100%|██████████| 15/15 [00:01<00:00, 14.51it/s]\n"
     ]
    },
    {
     "name": "stdout",
     "output_type": "stream",
     "text": [
      "[*] Running Epoch 63 Validation...\n"
     ]
    },
    {
     "name": "stderr",
     "output_type": "stream",
     "text": [
      "100%|██████████| 1/1 [00:00<00:00, 83.26it/s]\n"
     ]
    },
    {
     "name": "stdout",
     "output_type": "stream",
     "text": [
      "\n",
      "=>> Epoch 63 Metrics ===\n",
      "\tTrain Loss: 1.38506 -- Train Accuracy: 0.4778\n",
      "\t Test Loss: 1.42221 --  Test Accuracy: 0.4595\n",
      "[*] Starting Training Epoch 64...\n"
     ]
    },
    {
     "name": "stderr",
     "output_type": "stream",
     "text": [
      "100%|██████████| 15/15 [00:01<00:00, 13.34it/s]\n"
     ]
    },
    {
     "name": "stdout",
     "output_type": "stream",
     "text": [
      "[*] Running Epoch 64 Validation...\n"
     ]
    },
    {
     "name": "stderr",
     "output_type": "stream",
     "text": [
      "100%|██████████| 1/1 [00:00<00:00, 80.09it/s]\n"
     ]
    },
    {
     "name": "stdout",
     "output_type": "stream",
     "text": [
      "\n",
      "=>> Epoch 64 Metrics ===\n",
      "\tTrain Loss: 1.37677 -- Train Accuracy: 0.4784\n",
      "\t Test Loss: 1.38663 --  Test Accuracy: 0.4731\n",
      "[*] Starting Training Epoch 65...\n"
     ]
    },
    {
     "name": "stderr",
     "output_type": "stream",
     "text": [
      "100%|██████████| 15/15 [00:01<00:00, 14.60it/s]\n"
     ]
    },
    {
     "name": "stdout",
     "output_type": "stream",
     "text": [
      "[*] Running Epoch 65 Validation...\n"
     ]
    },
    {
     "name": "stderr",
     "output_type": "stream",
     "text": [
      "100%|██████████| 1/1 [00:00<00:00, 81.59it/s]\n"
     ]
    },
    {
     "name": "stdout",
     "output_type": "stream",
     "text": [
      "\n",
      "=>> Epoch 65 Metrics ===\n",
      "\tTrain Loss: 1.35459 -- Train Accuracy: 0.4843\n",
      "\t Test Loss: 1.37857 --  Test Accuracy: 0.4751\n",
      "[*] Starting Training Epoch 66...\n"
     ]
    },
    {
     "name": "stderr",
     "output_type": "stream",
     "text": [
      "100%|██████████| 15/15 [00:01<00:00, 14.84it/s]\n"
     ]
    },
    {
     "name": "stdout",
     "output_type": "stream",
     "text": [
      "[*] Running Epoch 66 Validation...\n"
     ]
    },
    {
     "name": "stderr",
     "output_type": "stream",
     "text": [
      "100%|██████████| 1/1 [00:00<00:00, 82.35it/s]\n"
     ]
    },
    {
     "name": "stdout",
     "output_type": "stream",
     "text": [
      "\n",
      "=>> Epoch 66 Metrics ===\n",
      "\tTrain Loss: 1.33648 -- Train Accuracy: 0.4884\n",
      "\t Test Loss: 1.35832 --  Test Accuracy: 0.4775\n",
      "[*] Starting Training Epoch 67...\n"
     ]
    },
    {
     "name": "stderr",
     "output_type": "stream",
     "text": [
      "100%|██████████| 15/15 [00:01<00:00, 12.78it/s]\n"
     ]
    },
    {
     "name": "stdout",
     "output_type": "stream",
     "text": [
      "[*] Running Epoch 67 Validation...\n"
     ]
    },
    {
     "name": "stderr",
     "output_type": "stream",
     "text": [
      "100%|██████████| 1/1 [00:00<00:00, 81.19it/s]\n"
     ]
    },
    {
     "name": "stdout",
     "output_type": "stream",
     "text": [
      "\n",
      "=>> Epoch 67 Metrics ===\n",
      "\tTrain Loss: 1.32766 -- Train Accuracy: 0.4898\n",
      "\t Test Loss: 1.34825 --  Test Accuracy: 0.4766\n",
      "[*] Starting Training Epoch 68...\n"
     ]
    },
    {
     "name": "stderr",
     "output_type": "stream",
     "text": [
      "100%|██████████| 15/15 [00:01<00:00, 13.16it/s]\n"
     ]
    },
    {
     "name": "stdout",
     "output_type": "stream",
     "text": [
      "[*] Running Epoch 68 Validation...\n"
     ]
    },
    {
     "name": "stderr",
     "output_type": "stream",
     "text": [
      "100%|██████████| 1/1 [00:00<00:00, 76.56it/s]\n"
     ]
    },
    {
     "name": "stdout",
     "output_type": "stream",
     "text": [
      "\n",
      "=>> Epoch 68 Metrics ===\n",
      "\tTrain Loss: 1.31984 -- Train Accuracy: 0.4920\n",
      "\t Test Loss: 1.35936 --  Test Accuracy: 0.4746\n",
      "[*] Starting Training Epoch 69...\n"
     ]
    },
    {
     "name": "stderr",
     "output_type": "stream",
     "text": [
      "100%|██████████| 15/15 [00:01<00:00, 13.53it/s]\n"
     ]
    },
    {
     "name": "stdout",
     "output_type": "stream",
     "text": [
      "[*] Running Epoch 69 Validation...\n"
     ]
    },
    {
     "name": "stderr",
     "output_type": "stream",
     "text": [
      "100%|██████████| 1/1 [00:00<00:00, 77.61it/s]\n"
     ]
    },
    {
     "name": "stdout",
     "output_type": "stream",
     "text": [
      "\n",
      "=>> Epoch 69 Metrics ===\n",
      "\tTrain Loss: 1.31866 -- Train Accuracy: 0.4934\n",
      "\t Test Loss: 1.32093 --  Test Accuracy: 0.4824\n",
      "[*] Starting Training Epoch 70...\n"
     ]
    },
    {
     "name": "stderr",
     "output_type": "stream",
     "text": [
      "100%|██████████| 15/15 [00:01<00:00, 13.61it/s]\n"
     ]
    },
    {
     "name": "stdout",
     "output_type": "stream",
     "text": [
      "[*] Running Epoch 70 Validation...\n"
     ]
    },
    {
     "name": "stderr",
     "output_type": "stream",
     "text": [
      "100%|██████████| 1/1 [00:00<00:00, 76.14it/s]\n"
     ]
    },
    {
     "name": "stdout",
     "output_type": "stream",
     "text": [
      "\n",
      "=>> Epoch 70 Metrics ===\n",
      "\tTrain Loss: 1.29279 -- Train Accuracy: 0.4996\n",
      "\t Test Loss: 1.31032 --  Test Accuracy: 0.4858\n",
      "[*] Starting Training Epoch 71...\n"
     ]
    },
    {
     "name": "stderr",
     "output_type": "stream",
     "text": [
      "100%|██████████| 15/15 [00:01<00:00, 11.35it/s]\n"
     ]
    },
    {
     "name": "stdout",
     "output_type": "stream",
     "text": [
      "[*] Running Epoch 71 Validation...\n"
     ]
    },
    {
     "name": "stderr",
     "output_type": "stream",
     "text": [
      "100%|██████████| 1/1 [00:00<00:00, 62.19it/s]\n"
     ]
    },
    {
     "name": "stdout",
     "output_type": "stream",
     "text": [
      "\n",
      "=>> Epoch 71 Metrics ===\n",
      "\tTrain Loss: 1.28139 -- Train Accuracy: 0.5046\n",
      "\t Test Loss: 1.29544 --  Test Accuracy: 0.4917\n",
      "[*] Starting Training Epoch 72...\n"
     ]
    },
    {
     "name": "stderr",
     "output_type": "stream",
     "text": [
      "100%|██████████| 15/15 [00:01<00:00, 11.20it/s]\n"
     ]
    },
    {
     "name": "stdout",
     "output_type": "stream",
     "text": [
      "[*] Running Epoch 72 Validation...\n"
     ]
    },
    {
     "name": "stderr",
     "output_type": "stream",
     "text": [
      "100%|██████████| 1/1 [00:00<00:00, 76.78it/s]\n"
     ]
    },
    {
     "name": "stdout",
     "output_type": "stream",
     "text": [
      "\n",
      "=>> Epoch 72 Metrics ===\n",
      "\tTrain Loss: 1.27491 -- Train Accuracy: 0.5061\n",
      "\t Test Loss: 1.28230 --  Test Accuracy: 0.4927\n",
      "[*] Starting Training Epoch 73...\n"
     ]
    },
    {
     "name": "stderr",
     "output_type": "stream",
     "text": [
      "100%|██████████| 15/15 [00:01<00:00, 12.90it/s]\n"
     ]
    },
    {
     "name": "stdout",
     "output_type": "stream",
     "text": [
      "[*] Running Epoch 73 Validation...\n"
     ]
    },
    {
     "name": "stderr",
     "output_type": "stream",
     "text": [
      "100%|██████████| 1/1 [00:00<00:00, 67.71it/s]\n"
     ]
    },
    {
     "name": "stdout",
     "output_type": "stream",
     "text": [
      "\n",
      "=>> Epoch 73 Metrics ===\n",
      "\tTrain Loss: 1.26011 -- Train Accuracy: 0.5084\n",
      "\t Test Loss: 1.27386 --  Test Accuracy: 0.4941\n",
      "[*] Starting Training Epoch 74...\n"
     ]
    },
    {
     "name": "stderr",
     "output_type": "stream",
     "text": [
      "100%|██████████| 15/15 [00:01<00:00,  8.79it/s]\n"
     ]
    },
    {
     "name": "stdout",
     "output_type": "stream",
     "text": [
      "[*] Running Epoch 74 Validation...\n"
     ]
    },
    {
     "name": "stderr",
     "output_type": "stream",
     "text": [
      "100%|██████████| 1/1 [00:00<00:00, 73.46it/s]\n"
     ]
    },
    {
     "name": "stdout",
     "output_type": "stream",
     "text": [
      "\n",
      "=>> Epoch 74 Metrics ===\n",
      "\tTrain Loss: 1.25515 -- Train Accuracy: 0.5115\n",
      "\t Test Loss: 1.26424 --  Test Accuracy: 0.4956\n",
      "[*] Starting Training Epoch 75...\n"
     ]
    },
    {
     "name": "stderr",
     "output_type": "stream",
     "text": [
      "100%|██████████| 15/15 [00:01<00:00, 11.86it/s]\n"
     ]
    },
    {
     "name": "stdout",
     "output_type": "stream",
     "text": [
      "[*] Running Epoch 75 Validation...\n"
     ]
    },
    {
     "name": "stderr",
     "output_type": "stream",
     "text": [
      "100%|██████████| 1/1 [00:00<00:00, 60.89it/s]\n"
     ]
    },
    {
     "name": "stdout",
     "output_type": "stream",
     "text": [
      "\n",
      "=>> Epoch 75 Metrics ===\n",
      "\tTrain Loss: 1.24830 -- Train Accuracy: 0.5110\n",
      "\t Test Loss: 1.25568 --  Test Accuracy: 0.4966\n",
      "[*] Starting Training Epoch 76...\n"
     ]
    },
    {
     "name": "stderr",
     "output_type": "stream",
     "text": [
      "100%|██████████| 15/15 [00:01<00:00, 12.04it/s]\n"
     ]
    },
    {
     "name": "stdout",
     "output_type": "stream",
     "text": [
      "[*] Running Epoch 76 Validation...\n"
     ]
    },
    {
     "name": "stderr",
     "output_type": "stream",
     "text": [
      "100%|██████████| 1/1 [00:00<00:00, 71.02it/s]\n"
     ]
    },
    {
     "name": "stdout",
     "output_type": "stream",
     "text": [
      "\n",
      "=>> Epoch 76 Metrics ===\n",
      "\tTrain Loss: 1.23739 -- Train Accuracy: 0.5150\n",
      "\t Test Loss: 1.24464 --  Test Accuracy: 0.5010\n",
      "[*] Starting Training Epoch 77...\n"
     ]
    },
    {
     "name": "stderr",
     "output_type": "stream",
     "text": [
      "100%|██████████| 15/15 [00:01<00:00, 12.98it/s]\n"
     ]
    },
    {
     "name": "stdout",
     "output_type": "stream",
     "text": [
      "[*] Running Epoch 77 Validation...\n"
     ]
    },
    {
     "name": "stderr",
     "output_type": "stream",
     "text": [
      "100%|██████████| 1/1 [00:00<00:00, 79.32it/s]\n"
     ]
    },
    {
     "name": "stdout",
     "output_type": "stream",
     "text": [
      "\n",
      "=>> Epoch 77 Metrics ===\n",
      "\tTrain Loss: 1.22986 -- Train Accuracy: 0.5187\n",
      "\t Test Loss: 1.23545 --  Test Accuracy: 0.5054\n",
      "[*] Starting Training Epoch 78...\n"
     ]
    },
    {
     "name": "stderr",
     "output_type": "stream",
     "text": [
      "100%|██████████| 15/15 [00:01<00:00, 14.51it/s]\n"
     ]
    },
    {
     "name": "stdout",
     "output_type": "stream",
     "text": [
      "[*] Running Epoch 78 Validation...\n"
     ]
    },
    {
     "name": "stderr",
     "output_type": "stream",
     "text": [
      "100%|██████████| 1/1 [00:00<00:00, 82.78it/s]\n"
     ]
    },
    {
     "name": "stdout",
     "output_type": "stream",
     "text": [
      "\n",
      "=>> Epoch 78 Metrics ===\n",
      "\tTrain Loss: 1.21990 -- Train Accuracy: 0.5195\n",
      "\t Test Loss: 1.23422 --  Test Accuracy: 0.5054\n",
      "[*] Starting Training Epoch 79...\n"
     ]
    },
    {
     "name": "stderr",
     "output_type": "stream",
     "text": [
      "100%|██████████| 15/15 [00:01<00:00, 14.47it/s]\n"
     ]
    },
    {
     "name": "stdout",
     "output_type": "stream",
     "text": [
      "[*] Running Epoch 79 Validation...\n"
     ]
    },
    {
     "name": "stderr",
     "output_type": "stream",
     "text": [
      "100%|██████████| 1/1 [00:00<00:00, 83.36it/s]\n"
     ]
    },
    {
     "name": "stdout",
     "output_type": "stream",
     "text": [
      "\n",
      "=>> Epoch 79 Metrics ===\n",
      "\tTrain Loss: 1.21631 -- Train Accuracy: 0.5198\n",
      "\t Test Loss: 1.21556 --  Test Accuracy: 0.5063\n",
      "[*] Starting Training Epoch 80...\n"
     ]
    },
    {
     "name": "stderr",
     "output_type": "stream",
     "text": [
      "100%|██████████| 15/15 [00:01<00:00, 14.59it/s]\n"
     ]
    },
    {
     "name": "stdout",
     "output_type": "stream",
     "text": [
      "[*] Running Epoch 80 Validation...\n"
     ]
    },
    {
     "name": "stderr",
     "output_type": "stream",
     "text": [
      "100%|██████████| 1/1 [00:00<00:00, 82.50it/s]\n"
     ]
    },
    {
     "name": "stdout",
     "output_type": "stream",
     "text": [
      "\n",
      "=>> Epoch 80 Metrics ===\n",
      "\tTrain Loss: 1.21990 -- Train Accuracy: 0.5184\n",
      "\t Test Loss: 1.26955 --  Test Accuracy: 0.4976\n",
      "[*] Starting Training Epoch 81...\n"
     ]
    },
    {
     "name": "stderr",
     "output_type": "stream",
     "text": [
      "100%|██████████| 15/15 [00:01<00:00, 12.69it/s]\n"
     ]
    },
    {
     "name": "stdout",
     "output_type": "stream",
     "text": [
      "[*] Running Epoch 81 Validation...\n"
     ]
    },
    {
     "name": "stderr",
     "output_type": "stream",
     "text": [
      "100%|██████████| 1/1 [00:00<00:00, 81.38it/s]\n"
     ]
    },
    {
     "name": "stdout",
     "output_type": "stream",
     "text": [
      "\n",
      "=>> Epoch 81 Metrics ===\n",
      "\tTrain Loss: 1.21413 -- Train Accuracy: 0.5188\n",
      "\t Test Loss: 1.20962 --  Test Accuracy: 0.5059\n",
      "[*] Starting Training Epoch 82...\n"
     ]
    },
    {
     "name": "stderr",
     "output_type": "stream",
     "text": [
      "100%|██████████| 15/15 [00:01<00:00, 14.09it/s]\n"
     ]
    },
    {
     "name": "stdout",
     "output_type": "stream",
     "text": [
      "[*] Running Epoch 82 Validation...\n"
     ]
    },
    {
     "name": "stderr",
     "output_type": "stream",
     "text": [
      "100%|██████████| 1/1 [00:00<00:00, 73.65it/s]\n"
     ]
    },
    {
     "name": "stdout",
     "output_type": "stream",
     "text": [
      "\n",
      "=>> Epoch 82 Metrics ===\n",
      "\tTrain Loss: 1.19963 -- Train Accuracy: 0.5244\n",
      "\t Test Loss: 1.23065 --  Test Accuracy: 0.5029\n",
      "[*] Starting Training Epoch 83...\n"
     ]
    },
    {
     "name": "stderr",
     "output_type": "stream",
     "text": [
      "100%|██████████| 15/15 [00:01<00:00, 13.52it/s]\n"
     ]
    },
    {
     "name": "stdout",
     "output_type": "stream",
     "text": [
      "[*] Running Epoch 83 Validation...\n"
     ]
    },
    {
     "name": "stderr",
     "output_type": "stream",
     "text": [
      "100%|██████████| 1/1 [00:00<00:00, 83.30it/s]\n"
     ]
    },
    {
     "name": "stdout",
     "output_type": "stream",
     "text": [
      "\n",
      "=>> Epoch 83 Metrics ===\n",
      "\tTrain Loss: 1.19916 -- Train Accuracy: 0.5238\n",
      "\t Test Loss: 1.19629 --  Test Accuracy: 0.5078\n",
      "[*] Starting Training Epoch 84...\n"
     ]
    },
    {
     "name": "stderr",
     "output_type": "stream",
     "text": [
      "100%|██████████| 15/15 [00:01<00:00, 14.38it/s]\n"
     ]
    },
    {
     "name": "stdout",
     "output_type": "stream",
     "text": [
      "[*] Running Epoch 84 Validation...\n"
     ]
    },
    {
     "name": "stderr",
     "output_type": "stream",
     "text": [
      "100%|██████████| 1/1 [00:00<00:00, 80.80it/s]\n"
     ]
    },
    {
     "name": "stdout",
     "output_type": "stream",
     "text": [
      "\n",
      "=>> Epoch 84 Metrics ===\n",
      "\tTrain Loss: 1.18772 -- Train Accuracy: 0.5276\n",
      "\t Test Loss: 1.21748 --  Test Accuracy: 0.5083\n",
      "[*] Starting Training Epoch 85...\n"
     ]
    },
    {
     "name": "stderr",
     "output_type": "stream",
     "text": [
      "100%|██████████| 15/15 [00:01<00:00, 14.07it/s]\n"
     ]
    },
    {
     "name": "stdout",
     "output_type": "stream",
     "text": [
      "[*] Running Epoch 85 Validation...\n"
     ]
    },
    {
     "name": "stderr",
     "output_type": "stream",
     "text": [
      "100%|██████████| 1/1 [00:00<00:00, 78.25it/s]\n"
     ]
    },
    {
     "name": "stdout",
     "output_type": "stream",
     "text": [
      "\n",
      "=>> Epoch 85 Metrics ===\n",
      "\tTrain Loss: 1.19411 -- Train Accuracy: 0.5226\n",
      "\t Test Loss: 1.18887 --  Test Accuracy: 0.5151\n",
      "[*] Starting Training Epoch 86...\n"
     ]
    },
    {
     "name": "stderr",
     "output_type": "stream",
     "text": [
      "100%|██████████| 15/15 [00:01<00:00, 13.42it/s]\n"
     ]
    },
    {
     "name": "stdout",
     "output_type": "stream",
     "text": [
      "[*] Running Epoch 86 Validation...\n"
     ]
    },
    {
     "name": "stderr",
     "output_type": "stream",
     "text": [
      "100%|██████████| 1/1 [00:00<00:00, 73.15it/s]\n"
     ]
    },
    {
     "name": "stdout",
     "output_type": "stream",
     "text": [
      "\n",
      "=>> Epoch 86 Metrics ===\n",
      "\tTrain Loss: 1.18042 -- Train Accuracy: 0.5304\n",
      "\t Test Loss: 1.18294 --  Test Accuracy: 0.5117\n",
      "[*] Starting Training Epoch 87...\n"
     ]
    },
    {
     "name": "stderr",
     "output_type": "stream",
     "text": [
      "100%|██████████| 15/15 [00:01<00:00, 12.84it/s]\n"
     ]
    },
    {
     "name": "stdout",
     "output_type": "stream",
     "text": [
      "[*] Running Epoch 87 Validation...\n"
     ]
    },
    {
     "name": "stderr",
     "output_type": "stream",
     "text": [
      "100%|██████████| 1/1 [00:00<00:00, 79.40it/s]\n"
     ]
    },
    {
     "name": "stdout",
     "output_type": "stream",
     "text": [
      "\n",
      "=>> Epoch 87 Metrics ===\n",
      "\tTrain Loss: 1.17042 -- Train Accuracy: 0.5327\n",
      "\t Test Loss: 1.20029 --  Test Accuracy: 0.5112\n",
      "[*] Starting Training Epoch 88...\n"
     ]
    },
    {
     "name": "stderr",
     "output_type": "stream",
     "text": [
      "100%|██████████| 15/15 [00:01<00:00, 12.72it/s]\n"
     ]
    },
    {
     "name": "stdout",
     "output_type": "stream",
     "text": [
      "[*] Running Epoch 88 Validation...\n"
     ]
    },
    {
     "name": "stderr",
     "output_type": "stream",
     "text": [
      "100%|██████████| 1/1 [00:00<00:00, 79.21it/s]\n"
     ]
    },
    {
     "name": "stdout",
     "output_type": "stream",
     "text": [
      "\n",
      "=>> Epoch 88 Metrics ===\n",
      "\tTrain Loss: 1.16975 -- Train Accuracy: 0.5329\n",
      "\t Test Loss: 1.16963 --  Test Accuracy: 0.5142\n",
      "[*] Starting Training Epoch 89...\n"
     ]
    },
    {
     "name": "stderr",
     "output_type": "stream",
     "text": [
      "100%|██████████| 15/15 [00:01<00:00, 13.39it/s]\n"
     ]
    },
    {
     "name": "stdout",
     "output_type": "stream",
     "text": [
      "[*] Running Epoch 89 Validation...\n"
     ]
    },
    {
     "name": "stderr",
     "output_type": "stream",
     "text": [
      "100%|██████████| 1/1 [00:00<00:00, 74.13it/s]\n"
     ]
    },
    {
     "name": "stdout",
     "output_type": "stream",
     "text": [
      "\n",
      "=>> Epoch 89 Metrics ===\n",
      "\tTrain Loss: 1.16499 -- Train Accuracy: 0.5349\n",
      "\t Test Loss: 1.17902 --  Test Accuracy: 0.5166\n",
      "[*] Starting Training Epoch 90...\n"
     ]
    },
    {
     "name": "stderr",
     "output_type": "stream",
     "text": [
      "100%|██████████| 15/15 [00:01<00:00, 12.22it/s]\n"
     ]
    },
    {
     "name": "stdout",
     "output_type": "stream",
     "text": [
      "[*] Running Epoch 90 Validation...\n"
     ]
    },
    {
     "name": "stderr",
     "output_type": "stream",
     "text": [
      "100%|██████████| 1/1 [00:00<00:00, 69.19it/s]\n"
     ]
    },
    {
     "name": "stdout",
     "output_type": "stream",
     "text": [
      "\n",
      "=>> Epoch 90 Metrics ===\n",
      "\tTrain Loss: 1.15819 -- Train Accuracy: 0.5357\n",
      "\t Test Loss: 1.16775 --  Test Accuracy: 0.5181\n",
      "[*] Starting Training Epoch 91...\n"
     ]
    },
    {
     "name": "stderr",
     "output_type": "stream",
     "text": [
      "100%|██████████| 15/15 [00:01<00:00, 12.21it/s]\n"
     ]
    },
    {
     "name": "stdout",
     "output_type": "stream",
     "text": [
      "[*] Running Epoch 91 Validation...\n"
     ]
    },
    {
     "name": "stderr",
     "output_type": "stream",
     "text": [
      "100%|██████████| 1/1 [00:00<00:00, 68.29it/s]\n"
     ]
    },
    {
     "name": "stdout",
     "output_type": "stream",
     "text": [
      "\n",
      "=>> Epoch 91 Metrics ===\n",
      "\tTrain Loss: 1.16186 -- Train Accuracy: 0.5343\n",
      "\t Test Loss: 1.17245 --  Test Accuracy: 0.5132\n",
      "[*] Starting Training Epoch 92...\n"
     ]
    },
    {
     "name": "stderr",
     "output_type": "stream",
     "text": [
      "100%|██████████| 15/15 [00:01<00:00, 12.97it/s]\n"
     ]
    },
    {
     "name": "stdout",
     "output_type": "stream",
     "text": [
      "[*] Running Epoch 92 Validation...\n"
     ]
    },
    {
     "name": "stderr",
     "output_type": "stream",
     "text": [
      "100%|██████████| 1/1 [00:00<00:00, 81.38it/s]\n"
     ]
    },
    {
     "name": "stdout",
     "output_type": "stream",
     "text": [
      "\n",
      "=>> Epoch 92 Metrics ===\n",
      "\tTrain Loss: 1.15264 -- Train Accuracy: 0.5358\n",
      "\t Test Loss: 1.15733 --  Test Accuracy: 0.5225\n",
      "[*] Starting Training Epoch 93...\n"
     ]
    },
    {
     "name": "stderr",
     "output_type": "stream",
     "text": [
      "100%|██████████| 15/15 [00:01<00:00, 14.60it/s]\n"
     ]
    },
    {
     "name": "stdout",
     "output_type": "stream",
     "text": [
      "[*] Running Epoch 93 Validation...\n"
     ]
    },
    {
     "name": "stderr",
     "output_type": "stream",
     "text": [
      "100%|██████████| 1/1 [00:00<00:00, 80.85it/s]\n"
     ]
    },
    {
     "name": "stdout",
     "output_type": "stream",
     "text": [
      "\n",
      "=>> Epoch 93 Metrics ===\n",
      "\tTrain Loss: 1.14316 -- Train Accuracy: 0.5433\n",
      "\t Test Loss: 1.15433 --  Test Accuracy: 0.5298\n",
      "[*] Starting Training Epoch 94...\n"
     ]
    },
    {
     "name": "stderr",
     "output_type": "stream",
     "text": [
      "100%|██████████| 15/15 [00:01<00:00, 13.49it/s]\n"
     ]
    },
    {
     "name": "stdout",
     "output_type": "stream",
     "text": [
      "[*] Running Epoch 94 Validation...\n"
     ]
    },
    {
     "name": "stderr",
     "output_type": "stream",
     "text": [
      "100%|██████████| 1/1 [00:00<00:00, 78.53it/s]\n"
     ]
    },
    {
     "name": "stdout",
     "output_type": "stream",
     "text": [
      "\n",
      "=>> Epoch 94 Metrics ===\n",
      "\tTrain Loss: 1.14374 -- Train Accuracy: 0.5407\n",
      "\t Test Loss: 1.14837 --  Test Accuracy: 0.5205\n",
      "[*] Starting Training Epoch 95...\n"
     ]
    },
    {
     "name": "stderr",
     "output_type": "stream",
     "text": [
      "100%|██████████| 15/15 [00:01<00:00, 13.17it/s]\n"
     ]
    },
    {
     "name": "stdout",
     "output_type": "stream",
     "text": [
      "[*] Running Epoch 95 Validation...\n"
     ]
    },
    {
     "name": "stderr",
     "output_type": "stream",
     "text": [
      "100%|██████████| 1/1 [00:00<00:00, 72.71it/s]\n"
     ]
    },
    {
     "name": "stdout",
     "output_type": "stream",
     "text": [
      "\n",
      "=>> Epoch 95 Metrics ===\n",
      "\tTrain Loss: 1.13884 -- Train Accuracy: 0.5417\n",
      "\t Test Loss: 1.14533 --  Test Accuracy: 0.5278\n",
      "[*] Starting Training Epoch 96...\n"
     ]
    },
    {
     "name": "stderr",
     "output_type": "stream",
     "text": [
      "100%|██████████| 15/15 [00:01<00:00, 12.87it/s]\n"
     ]
    },
    {
     "name": "stdout",
     "output_type": "stream",
     "text": [
      "[*] Running Epoch 96 Validation...\n"
     ]
    },
    {
     "name": "stderr",
     "output_type": "stream",
     "text": [
      "100%|██████████| 1/1 [00:00<00:00, 71.68it/s]\n"
     ]
    },
    {
     "name": "stdout",
     "output_type": "stream",
     "text": [
      "\n",
      "=>> Epoch 96 Metrics ===\n",
      "\tTrain Loss: 1.13926 -- Train Accuracy: 0.5424\n",
      "\t Test Loss: 1.14662 --  Test Accuracy: 0.5210\n",
      "[*] Starting Training Epoch 97...\n"
     ]
    },
    {
     "name": "stderr",
     "output_type": "stream",
     "text": [
      "100%|██████████| 15/15 [00:01<00:00, 11.29it/s]\n"
     ]
    },
    {
     "name": "stdout",
     "output_type": "stream",
     "text": [
      "[*] Running Epoch 97 Validation...\n"
     ]
    },
    {
     "name": "stderr",
     "output_type": "stream",
     "text": [
      "100%|██████████| 1/1 [00:00<00:00, 30.72it/s]\n"
     ]
    },
    {
     "name": "stdout",
     "output_type": "stream",
     "text": [
      "\n",
      "=>> Epoch 97 Metrics ===\n",
      "\tTrain Loss: 1.13344 -- Train Accuracy: 0.5435\n",
      "\t Test Loss: 1.13418 --  Test Accuracy: 0.5317\n",
      "[*] Starting Training Epoch 98...\n"
     ]
    },
    {
     "name": "stderr",
     "output_type": "stream",
     "text": [
      "100%|██████████| 15/15 [00:01<00:00, 12.99it/s]\n"
     ]
    },
    {
     "name": "stdout",
     "output_type": "stream",
     "text": [
      "[*] Running Epoch 98 Validation...\n"
     ]
    },
    {
     "name": "stderr",
     "output_type": "stream",
     "text": [
      "100%|██████████| 1/1 [00:00<00:00, 79.89it/s]\n"
     ]
    },
    {
     "name": "stdout",
     "output_type": "stream",
     "text": [
      "\n",
      "=>> Epoch 98 Metrics ===\n",
      "\tTrain Loss: 1.13061 -- Train Accuracy: 0.5440\n",
      "\t Test Loss: 1.13354 --  Test Accuracy: 0.5347\n",
      "[*] Starting Training Epoch 99...\n"
     ]
    },
    {
     "name": "stderr",
     "output_type": "stream",
     "text": [
      "100%|██████████| 15/15 [00:01<00:00, 14.15it/s]\n"
     ]
    },
    {
     "name": "stdout",
     "output_type": "stream",
     "text": [
      "[*] Running Epoch 99 Validation...\n"
     ]
    },
    {
     "name": "stderr",
     "output_type": "stream",
     "text": [
      "100%|██████████| 1/1 [00:00<00:00, 73.38it/s]\n"
     ]
    },
    {
     "name": "stdout",
     "output_type": "stream",
     "text": [
      "\n",
      "=>> Epoch 99 Metrics ===\n",
      "\tTrain Loss: 1.12591 -- Train Accuracy: 0.5440\n",
      "\t Test Loss: 1.12843 --  Test Accuracy: 0.5381\n",
      "[*] Starting Training Epoch 100...\n"
     ]
    },
    {
     "name": "stderr",
     "output_type": "stream",
     "text": [
      "100%|██████████| 15/15 [00:01<00:00, 14.35it/s]\n"
     ]
    },
    {
     "name": "stdout",
     "output_type": "stream",
     "text": [
      "[*] Running Epoch 100 Validation...\n"
     ]
    },
    {
     "name": "stderr",
     "output_type": "stream",
     "text": [
      "100%|██████████| 1/1 [00:00<00:00, 82.59it/s]"
     ]
    },
    {
     "name": "stdout",
     "output_type": "stream",
     "text": [
      "\n",
      "=>> Epoch 100 Metrics ===\n",
      "\tTrain Loss: 1.12756 -- Train Accuracy: 0.5437\n",
      "\t Test Loss: 1.14670 --  Test Accuracy: 0.5273\n"
     ]
    },
    {
     "name": "stderr",
     "output_type": "stream",
     "text": [
      "\n"
     ]
    }
   ],
   "source": [
    "# Loop over epochs\n",
    "best_loss, best_acc, best_epoch = 10000, 0, 0\n",
    "for epoch in range(train.epochs):\n",
    "    print(f\"[*] Starting Training Epoch {epoch + 1}...\")\n",
    "    state, train_loss, train_acc = train_epoch(\n",
    "        state,\n",
    "        train_rng,\n",
    "        model_cls,\n",
    "        trainloader,\n",
    "        classification=classification,\n",
    "    )\n",
    "\n",
    "    print(f\"[*] Running Epoch {epoch + 1} Validation...\")\n",
    "    test_loss, test_acc = validate(\n",
    "        state.params, model_cls, testloader, classification=classification\n",
    "    )\n",
    "\n",
    "    print(f\"\\n=>> Epoch {epoch + 1} Metrics ===\")\n",
    "    print(\n",
    "        f\"\\tTrain Loss: {train_loss:.5f} -- Train Accuracy:\"\n",
    "        f\" {train_acc:.4f}\\n\\t Test Loss: {test_loss:.5f} --  Test\"\n",
    "        f\" Accuracy: {test_acc:.4f}\"\n",
    "    )"
   ],
   "metadata": {
    "collapsed": false,
    "ExecuteTime": {
     "end_time": "2024-06-20T13:02:57.909428Z",
     "start_time": "2024-06-20T13:00:57.306733Z"
    }
   },
   "id": "a628a171db70a3ad",
   "execution_count": 18
  },
  {
   "cell_type": "code",
   "outputs": [],
   "source": [
    "m = model_cls(training=False)\n",
    "batch_inputs, batch_labels = next(iter(trainloader))\n",
    "logits, mod_vars = m.apply(\n",
    "    state.params,\n",
    "    jnp.array(batch_inputs),\n",
    "    rngs={\"dropout\": rng},\n",
    "    mutable=[\"intermediates\"],\n",
    ")"
   ],
   "metadata": {
    "collapsed": false,
    "ExecuteTime": {
     "end_time": "2024-06-20T13:05:59.930355Z",
     "start_time": "2024-06-20T13:05:59.657008Z"
    }
   },
   "id": "c3695b965d94944c",
   "execution_count": 23
  },
  {
   "cell_type": "code",
   "outputs": [
    {
     "data": {
      "text/plain": "(128, 16, 8)"
     },
     "execution_count": 24,
     "metadata": {},
     "output_type": "execute_result"
    }
   ],
   "source": [
    "logits.shape"
   ],
   "metadata": {
    "collapsed": false,
    "ExecuteTime": {
     "end_time": "2024-06-20T13:06:11.243764Z",
     "start_time": "2024-06-20T13:06:11.238382Z"
    }
   },
   "id": "b0d65c2b45af56b8",
   "execution_count": 24
  },
  {
   "cell_type": "code",
   "outputs": [
    {
     "name": "stdout",
     "output_type": "stream",
     "text": [
      "(128, 16)\n"
     ]
    }
   ],
   "source": [
    "print(f'{jnp.argmax(logits, axis=-1).shape}')"
   ],
   "metadata": {
    "collapsed": false,
    "ExecuteTime": {
     "end_time": "2024-06-20T13:06:11.817951Z",
     "start_time": "2024-06-20T13:06:11.813451Z"
    }
   },
   "id": "1b8ad3a0425d4ba5",
   "execution_count": 25
  },
  {
   "cell_type": "code",
   "outputs": [
    {
     "data": {
      "text/plain": "<Figure size 1500x600 with 10 Axes>",
      "image/png": "[encoded data removed]"
     },
     "metadata": {},
     "output_type": "display_data"
    }
   ],
   "source": [
    "# plot the 10 first examples\n",
    "import matplotlib.pyplot as plt\n",
    "fig, axs = plt.subplots(2, 5, figsize=(15, 6))\n",
    "for i in range(10):\n",
    "    axs[i // 5, i % 5].plot(jnp.argmax(logits, axis=-1)[i], label='prediction')\n",
    "    # plot the input\n",
    "    axs[i // 5, i % 5].plot(batch_inputs[i,:,0], label='input')\n",
    "    axs[i // 5, i % 5].legend()\n",
    "plt.tight_layout()\n",
    "plt.show()\n"
   ],
   "metadata": {
    "collapsed": false,
    "ExecuteTime": {
     "end_time": "2024-06-20T13:06:13.995305Z",
     "start_time": "2024-06-20T13:06:13.494707Z"
    }
   },
   "id": "df51efbdab5830cf",
   "execution_count": 26
  },
  {
   "cell_type": "code",
   "outputs": [],
   "source": [
    "# print state"
   ],
   "metadata": {
    "collapsed": false,
    "ExecuteTime": {
     "end_time": "2024-06-20T13:06:41.972324Z",
     "start_time": "2024-06-20T13:06:41.965312Z"
    }
   },
   "id": "5c00cff14ec108de",
   "execution_count": 27
  },
  {
   "cell_type": "code",
   "outputs": [
    {
     "data": {
      "text/plain": "dict_keys(['cache', 'params'])"
     },
     "execution_count": 28,
     "metadata": {},
     "output_type": "execute_result"
    }
   ],
   "source": [
    "state.params.keys()"
   ],
   "metadata": {
    "collapsed": false,
    "ExecuteTime": {
     "end_time": "2024-06-20T13:06:42.344311Z",
     "start_time": "2024-06-20T13:06:42.341206Z"
    }
   },
   "id": "9987078a5151b3b9",
   "execution_count": 28
  },
  {
   "cell_type": "code",
   "outputs": [
    {
     "data": {
      "text/plain": "dict_keys(['decoder', 'encoder', 'layers_0', 'layers_1', 'layers_2', 'layers_3'])"
     },
     "execution_count": 29,
     "metadata": {},
     "output_type": "execute_result"
    }
   ],
   "source": [
    "state.params['params'].keys()"
   ],
   "metadata": {
    "collapsed": false,
    "ExecuteTime": {
     "end_time": "2024-06-20T13:06:42.908537Z",
     "start_time": "2024-06-20T13:06:42.904346Z"
    }
   },
   "id": "be3935b92fb8e1b7",
   "execution_count": 29
  },
  {
   "cell_type": "code",
   "outputs": [
    {
     "data": {
      "text/plain": "torch.Size([128, 16, 1])"
     },
     "execution_count": 30,
     "metadata": {},
     "output_type": "execute_result"
    }
   ],
   "source": [
    "next(iter(trainloader))[0].shape"
   ],
   "metadata": {
    "collapsed": false,
    "ExecuteTime": {
     "end_time": "2024-06-20T13:06:43.425252Z",
     "start_time": "2024-06-20T13:06:43.421486Z"
    }
   },
   "id": "9a544800baf9090",
   "execution_count": 30
  },
  {
   "cell_type": "code",
   "outputs": [
    {
     "name": "stdout",
     "output_type": "stream",
     "text": [
      "(10,)\n",
      "(1, 10)\n"
     ]
    }
   ],
   "source": [
    "print(state.params['params']['encoder']['bias'].shape)\n",
    "print(state.params['params']['encoder']['kernel'].shape)\n"
   ],
   "metadata": {
    "collapsed": false,
    "ExecuteTime": {
     "end_time": "2024-06-20T13:06:44.598288Z",
     "start_time": "2024-06-20T13:06:44.592666Z"
    }
   },
   "id": "bfc5845c53db9a22",
   "execution_count": 31
  },
  {
   "cell_type": "code",
   "outputs": [
    {
     "name": "stdout",
     "output_type": "stream",
     "text": [
      "dict_keys(['norm', 'out', 'out2', 'seq'])\n"
     ]
    }
   ],
   "source": [
    "print(state.params['params']['layers_0'].keys())"
   ],
   "metadata": {
    "collapsed": false,
    "ExecuteTime": {
     "end_time": "2024-06-20T13:06:46.216265Z",
     "start_time": "2024-06-20T13:06:46.210635Z"
    }
   },
   "id": "44da05b03d7688de",
   "execution_count": 32
  },
  {
   "cell_type": "code",
   "outputs": [
    {
     "name": "stdout",
     "output_type": "stream",
     "text": [
      "dict_keys(['bias', 'scale'])\n"
     ]
    }
   ],
   "source": [
    "print(state.params['params']['layers_0']['norm'].keys())"
   ],
   "metadata": {
    "collapsed": false,
    "ExecuteTime": {
     "end_time": "2024-06-20T13:18:30.672986Z",
     "start_time": "2024-06-20T13:18:30.643478Z"
    }
   },
   "id": "f12dec0b82c28ce0",
   "execution_count": 44
  },
  {
   "cell_type": "code",
   "outputs": [
    {
     "name": "stdout",
     "output_type": "stream",
     "text": [
      "(10,)\n",
      "(10,)\n"
     ]
    }
   ],
   "source": [
    "print(state.params['params']['layers_0']['norm']['bias'].shape)\n",
    "print(state.params['params']['layers_0']['norm']['scale'].shape)"
   ],
   "metadata": {
    "collapsed": false,
    "ExecuteTime": {
     "end_time": "2024-06-20T13:18:39.291256Z",
     "start_time": "2024-06-20T13:18:39.262397Z"
    }
   },
   "id": "5c45b2f93a74ff27",
   "execution_count": 45
  },
  {
   "cell_type": "code",
   "outputs": [
    {
     "name": "stdout",
     "output_type": "stream",
     "text": [
      "dict_keys(['bias', 'kernel'])\n",
      "dict_keys(['bias', 'kernel'])\n"
     ]
    }
   ],
   "source": [
    "print(state.params['params']['layers_0']['out'].keys())\n",
    "print(state.params['params']['layers_0']['out2'].keys())"
   ],
   "metadata": {
    "collapsed": false,
    "ExecuteTime": {
     "end_time": "2024-06-20T13:18:06.494538Z",
     "start_time": "2024-06-20T13:18:06.459452Z"
    }
   },
   "id": "a5f01a338c02278c",
   "execution_count": 42
  },
  {
   "cell_type": "code",
   "outputs": [
    {
     "name": "stdout",
     "output_type": "stream",
     "text": [
      "(10,)\n",
      "(10, 10)\n",
      "(10,)\n",
      "(10, 10)\n"
     ]
    }
   ],
   "source": [
    "print(state.params['params']['layers_0']['out']['bias'].shape)\n",
    "print(state.params['params']['layers_0']['out']['kernel'].shape)\n",
    "print(state.params['params']['layers_0']['out2']['bias'].shape)\n",
    "print(state.params['params']['layers_0']['out2']['kernel'].shape)"
   ],
   "metadata": {
    "collapsed": false,
    "ExecuteTime": {
     "end_time": "2024-06-20T13:18:13.071617Z",
     "start_time": "2024-06-20T13:18:13.042525Z"
    }
   },
   "id": "d1725379f6c6b473",
   "execution_count": 43
  },
  {
   "cell_type": "code",
   "outputs": [
    {
     "name": "stdout",
     "output_type": "stream",
     "text": [
      "dict_keys(['A', 'B', 'C', 'D', 'log_step'])\n"
     ]
    }
   ],
   "source": [
    "print(state.params['params']['layers_0']['seq'].keys())"
   ],
   "metadata": {
    "collapsed": false,
    "ExecuteTime": {
     "end_time": "2024-06-20T13:06:47.222558Z",
     "start_time": "2024-06-20T13:06:47.215665Z"
    }
   },
   "id": "473c288a761d24d3",
   "execution_count": 33
  },
  {
   "cell_type": "code",
   "outputs": [
    {
     "name": "stdout",
     "output_type": "stream",
     "text": [
      "(64, 10, 64)\n",
      "(64, 10, 1)\n",
      "(1, 10, 64)\n",
      "(1, 10)\n",
      "(1, 10)\n"
     ]
    }
   ],
   "source": [
    "print(state.params['params']['layers_0']['seq']['A'].shape)\n",
    "print(state.params['params']['layers_0']['seq']['B'].shape)\n",
    "print(state.params['params']['layers_0']['seq']['C'].shape)\n",
    "print(state.params['params']['layers_0']['seq']['D'].shape)\n",
    "print(state.params['params']['layers_0']['seq']['log_step'].shape)\n"
   ],
   "metadata": {
    "collapsed": false,
    "ExecuteTime": {
     "end_time": "2024-06-20T13:06:49.393579Z",
     "start_time": "2024-06-20T13:06:49.385635Z"
    }
   },
   "id": "a2b5d450a0d11e78",
   "execution_count": 34
  },
  {
   "cell_type": "code",
   "outputs": [
    {
     "name": "stdout",
     "output_type": "stream",
     "text": [
      "0.002715726\n",
      "-0.053828467\n",
      "1.1623794\n",
      "0.8955986\n"
     ]
    }
   ],
   "source": [
    "print(state.params['params']['layers_0']['seq']['A'][0,0,0])\n",
    "print(state.params['params']['layers_0']['seq']['A'][0,1,0])\n",
    "print(state.params['params']['layers_0']['seq']['D'][0,0])\n",
    "print(state.params['params']['layers_0']['seq']['D'][0,1])"
   ],
   "metadata": {
    "collapsed": false,
    "ExecuteTime": {
     "end_time": "2024-06-20T12:59:20.181842Z",
     "start_time": "2024-06-20T12:59:20.146315Z"
    }
   },
   "id": "d35a52a3cbfb5280",
   "execution_count": 34
  },
  {
   "cell_type": "code",
   "outputs": [
    {
     "name": "stdout",
     "output_type": "stream",
     "text": [
      "(8,)\n",
      "(3, 8)\n"
     ]
    }
   ],
   "source": [
    "print(state.params['params']['decoder']['bias'].shape)\n",
    "print(state.params['params']['decoder']['kernel'].shape)"
   ],
   "metadata": {
    "collapsed": false,
    "ExecuteTime": {
     "end_time": "2024-06-20T12:59:25.083285Z",
     "start_time": "2024-06-20T12:59:25.072671Z"
    }
   },
   "id": "f5a7290a099b17c7",
   "execution_count": 35
  },
  {
   "cell_type": "code",
   "outputs": [
    {
     "name": "stdout",
     "output_type": "stream",
     "text": [
      "n_p=497750\n"
     ]
    }
   ],
   "source": [
    "A = 64**2\n",
    "B = 64\n",
    "C = 64\n",
    "D = 1\n",
    "H = 10\n",
    "o = 10*10 + 10\n",
    "o2 = 10*10 + 10\n",
    "norm = 10 + 10\n",
    "seq_p = H*(A+B+C+D) + o + o2 + norm\n",
    "n_lay = 4\n",
    "enc = 10+10\n",
    "dec = 10*8+10\n",
    "cache_x = 128*64*10 * 4\n",
    "n_p = n_lay * seq_p + enc + dec + cache_x\n",
    "print(f'{n_p=}')"
   ],
   "metadata": {
    "collapsed": false,
    "ExecuteTime": {
     "end_time": "2024-06-20T13:41:25.053305Z",
     "start_time": "2024-06-20T13:41:25.017340Z"
    }
   },
   "id": "7d2297dbe058b762",
   "execution_count": 54
  },
  {
   "cell_type": "code",
   "outputs": [],
   "source": [],
   "metadata": {
    "collapsed": false
   },
   "id": "469b1bb914b6332d"
  },
  {
   "cell_type": "code",
   "outputs": [],
   "source": [],
   "metadata": {
    "collapsed": false
   },
   "id": "30c111a4472e5f94"
  },
  {
   "cell_type": "code",
   "outputs": [],
   "source": [],
   "metadata": {
    "collapsed": false
   },
   "id": "12389eb94bfac0bf"
  },
  {
   "cell_type": "code",
   "outputs": [],
   "source": [
    "n_examples = 1024\n",
    "SEQ_LENGTH, N_CLASSES, IN_DIM = 16, 8, 1\n",
    "x = np.linspace(0, 2 * np.pi, num=SEQ_LENGTH)\n",
    "# jnp.digitize: Return the indices of the bins to which each value in input array belongs.\n",
    "y = np.digitize(np.sin(x), np.linspace(-1, 1, num=N_CLASSES))\n",
    "\n",
    "# Tile this `n_examples` times...\n",
    "# data will be a tensor of shape (n_examples, SEQ_LENGTH, IN_DIM)\n",
    "data = torch.Tensor(\n",
    "    np.tile(\n",
    "        np.expand_dims(np.expand_dims(y, -1), 0), reps=[n_examples, 1, 1]\n",
    "    )\n",
    ")\n",
    "key = jax.random.PRNGKey(0)\n",
    "key, rng = jax.random.split(key)\n",
    "amplitudes = jax.random.uniform(rng, shape=(n_examples, 1, 1), minval=0.5, maxval=1.5)\n",
    "amplitudes = np.array(amplitudes)\n",
    "data = data * amplitudes\n"
   ],
   "metadata": {
    "collapsed": false,
    "ExecuteTime": {
     "end_time": "2024-06-20T11:50:02.252540Z",
     "start_time": "2024-06-20T11:50:02.239482Z"
    }
   },
   "id": "a9dd753af9efaa49",
   "execution_count": 65
  },
  {
   "cell_type": "code",
   "outputs": [
    {
     "data": {
      "text/plain": "<Figure size 1500x600 with 10 Axes>",
      "image/png": "[encoded data removed]"
     },
     "metadata": {},
     "output_type": "display_data"
    }
   ],
   "source": [
    "# plot 10 examples\n",
    "fig, axs = plt.subplots(2, 5, figsize=(15, 6))\n",
    "for i in range(10):\n",
    "    axs[i // 5, i % 5].plot(data[i,:,0])\n",
    "plt.show()\n"
   ],
   "metadata": {
    "collapsed": false,
    "ExecuteTime": {
     "end_time": "2024-06-20T11:50:21.218137Z",
     "start_time": "2024-06-20T11:50:20.764907Z"
    }
   },
   "id": "b1c65f6ce80ba68",
   "execution_count": 66
  },
  {
   "cell_type": "code",
   "outputs": [
    {
     "name": "stdout",
     "output_type": "stream",
     "text": [
      "cache layers_0 seq \n",
      " ('cache_x_k', (128, 64, 10))\n",
      "layers_1 seq \n",
      " ('cache_x_k', (128, 64, 10))\n",
      "layers_2 seq \n",
      " ('cache_x_k', (128, 64, 10))\n",
      "layers_3 seq \n",
      " ('cache_x_k', (128, 64, 10))\n",
      "params decoder \n",
      " ('bias', (8,))\n",
      "\n",
      " ('kernel', (10, 8))\n",
      "encoder \n",
      " ('bias', (10,))\n",
      "\n",
      " ('kernel', (1, 10))\n",
      "layers_0 norm \n",
      " ('bias', (10,))\n",
      "\n",
      " ('scale', (10,))\n",
      "out \n",
      " ('bias', (10,))\n",
      "\n",
      " ('kernel', (10, 10))\n",
      "out2 \n",
      " ('bias', (10,))\n",
      "\n",
      " ('kernel', (10, 10))\n",
      "seq \n",
      " ('A', (64, 10, 64))\n",
      "\n",
      " ('B', (64, 10, 1))\n",
      "\n",
      " ('C', (1, 10, 64))\n",
      "\n",
      " ('D', (1, 10))\n",
      "\n",
      " ('log_step', (1, 10))\n",
      "layers_1 norm \n",
      " ('bias', (10,))\n",
      "\n",
      " ('scale', (10,))\n",
      "out \n",
      " ('bias', (10,))\n",
      "\n",
      " ('kernel', (10, 10))\n",
      "out2 \n",
      " ('bias', (10,))\n",
      "\n",
      " ('kernel', (10, 10))\n",
      "seq \n",
      " ('A', (64, 10, 64))\n",
      "\n",
      " ('B', (64, 10, 1))\n",
      "\n",
      " ('C', (1, 10, 64))\n",
      "\n",
      " ('D', (1, 10))\n",
      "\n",
      " ('log_step', (1, 10))\n",
      "layers_2 norm \n",
      " ('bias', (10,))\n",
      "\n",
      " ('scale', (10,))\n",
      "out \n",
      " ('bias', (10,))\n",
      "\n",
      " ('kernel', (10, 10))\n",
      "out2 \n",
      " ('bias', (10,))\n",
      "\n",
      " ('kernel', (10, 10))\n",
      "seq \n",
      " ('A', (64, 10, 64))\n",
      "\n",
      " ('B', (64, 10, 1))\n",
      "\n",
      " ('C', (1, 10, 64))\n",
      "\n",
      " ('D', (1, 10))\n",
      "\n",
      " ('log_step', (1, 10))\n",
      "layers_3 norm \n",
      " ('bias', (10,))\n",
      "\n",
      " ('scale', (10,))\n",
      "out \n",
      " ('bias', (10,))\n",
      "\n",
      " ('kernel', (10, 10))\n",
      "out2 \n",
      " ('bias', (10,))\n",
      "\n",
      " ('kernel', (10, 10))\n",
      "seq \n",
      " ('A', (64, 10, 64))\n",
      "\n",
      " ('B', (64, 10, 1))\n",
      "\n",
      " ('C', (1, 10, 64))\n",
      "\n",
      " ('D', (1, 10))\n",
      "\n",
      " ('log_step', (1, 10))\n"
     ]
    }
   ],
   "source": [
    "def map_nested_fn(fn):\n",
    "    \"\"\"Recursively apply `fn to the key-value pairs of a nested dict / pytree.\"\"\"\n",
    "\n",
    "    def map_fn(k_in, nested_dict):\n",
    "        if k_in != None: print(f'{k_in}', end=' ')\n",
    "        return {\n",
    "            k: (map_fn(k, v) if hasattr(v, \"keys\") else fn(k, v))\n",
    "            for k, v in nested_dict.items()\n",
    "        }\n",
    "    \n",
    "    return map_fn\n",
    "    \n",
    "a = map_nested_fn(lambda k, v: print(f'\\n {k, v.shape}'))(None, state.params)"
   ],
   "metadata": {
    "collapsed": false,
    "ExecuteTime": {
     "end_time": "2024-06-20T13:51:40.470869Z",
     "start_time": "2024-06-20T13:51:40.447669Z"
    }
   },
   "id": "30ced4720c9368fd",
   "execution_count": 65
  },
  {
   "cell_type": "code",
   "outputs": [
    {
     "data": {
      "text/plain": "{'cache': {'layers_0': {'seq': {'cache_x_k': None}},\n  'layers_1': {'seq': {'cache_x_k': None}},\n  'layers_2': {'seq': {'cache_x_k': None}},\n  'layers_3': {'seq': {'cache_x_k': None}}},\n 'params': {'decoder': {'bias': None, 'kernel': None},\n  'encoder': {'bias': None, 'kernel': None},\n  'layers_0': {'norm': {'bias': None, 'scale': None},\n   'out': {'bias': None, 'kernel': None},\n   'out2': {'bias': None, 'kernel': None},\n   'seq': {'A': None, 'B': None, 'C': None, 'D': None, 'log_step': None}},\n  'layers_1': {'norm': {'bias': None, 'scale': None},\n   'out': {'bias': None, 'kernel': None},\n   'out2': {'bias': None, 'kernel': None},\n   'seq': {'A': None, 'B': None, 'C': None, 'D': None, 'log_step': None}},\n  'layers_2': {'norm': {'bias': None, 'scale': None},\n   'out': {'bias': None, 'kernel': None},\n   'out2': {'bias': None, 'kernel': None},\n   'seq': {'A': None, 'B': None, 'C': None, 'D': None, 'log_step': None}},\n  'layers_3': {'norm': {'bias': None, 'scale': None},\n   'out': {'bias': None, 'kernel': None},\n   'out2': {'bias': None, 'kernel': None},\n   'seq': {'A': None, 'B': None, 'C': None, 'D': None, 'log_step': None}}}}"
     },
     "execution_count": 57,
     "metadata": {},
     "output_type": "execute_result"
    }
   ],
   "source": [
    "a"
   ],
   "metadata": {
    "collapsed": false,
    "ExecuteTime": {
     "end_time": "2024-06-20T13:44:31.805253Z",
     "start_time": "2024-06-20T13:44:31.766331Z"
    }
   },
   "id": "9f83fc3bc85027fc",
   "execution_count": 57
  },
  {
   "cell_type": "code",
   "outputs": [],
   "source": [],
   "metadata": {
    "collapsed": false
   },
   "id": "945553f3155f2d29"
  }
 ],
 "metadata": {
  "kernelspec": {
   "display_name": "Python 3 (ipykernel)",
   "language": "python",
   "name": "python3"
  },
  "language_info": {
   "codemirror_mode": {
    "name": "ipython",
    "version": 3
   },
   "file_extension": ".py",
   "mimetype": "text/x-python",
   "name": "python",
   "nbconvert_exporter": "python",
   "pygments_lexer": "ipython3",
   "version": "3.10.2"
  }
 },
 "nbformat": 4,
 "nbformat_minor": 5
}
