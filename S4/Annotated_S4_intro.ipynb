{
 "cells": [
  {
   "cell_type": "code",
   "outputs": [],
   "source": [
    "from functools import partial\n",
    "import jax\n",
    "import jax.numpy as np\n",
    "from flax import linen as nn\n",
    "from jax.nn.initializers import lecun_normal, normal\n",
    "from jax.numpy.linalg import eigh, inv, matrix_power\n",
    "from jax.scipy.signal import convolve"
   ],
   "metadata": {
    "collapsed": false
   },
   "id": "c03325bb6902e46",
   "execution_count": 2
  },
  {
   "cell_type": "code",
   "outputs": [],
   "source": [
    "rng = jax.random.PRNGKey(1)"
   ],
   "metadata": {
    "collapsed": false
   },
   "id": "4abb3ad50d8e5ded",
   "execution_count": 3
  },
  {
   "cell_type": "markdown",
   "source": [
    "$N$ is the dimension of the latent representation $x \\in \\mathbb{R}^N$.\n",
    "$A \\in \\mathbb{R}^{N \\times N}$ is the state transition matrix.\n",
    "$B \\in \\mathbb{R}^{N \\times 1}$ is the input matrix.\n",
    "$C \\in \\mathbb{R}^{1 \\times N}$ is the output matrix."
   ],
   "metadata": {
    "collapsed": false
   },
   "id": "9c095dd0375d5fbe"
  },
  {
   "cell_type": "code",
   "outputs": [],
   "source": [
    "def random_SSM(rng: jax.random.PRNGKey, N: int):\n",
    "    '''\n",
    "    Generate random state-space model.\n",
    "    :param rng: jax.random.PRNGKey random number generator\n",
    "    :param N: int, dimension of the latent representation\n",
    "    :return: \n",
    "        A: np.ndarray (N, N), state transition matrix\n",
    "        B: np.ndarray (N, 1), input matrix\n",
    "        C: np.ndarray (1, N), output matrix\n",
    "    '''\n",
    "    a_r, b_r, c_r = jax.random.split(rng, 3)\n",
    "    A = jax.random.uniform(a_r, (N, N))\n",
    "    B = jax.random.uniform(b_r, (N, 1))\n",
    "    C = jax.random.uniform(c_r, (1, N))\n",
    "    return A, B, C"
   ],
   "metadata": {
    "collapsed": false
   },
   "id": "eeb3c29d32c87829",
   "execution_count": 9
  },
  {
   "cell_type": "code",
   "outputs": [],
   "source": [
    "def discretize(A: np.ndarray, B: np.ndarray, C: np.ndarray, step: float):\n",
    "    '''\n",
    "    Discretize continuous-time state-space model. We use the trapezoidal rule.\n",
    "    :param A: np.ndarray (N, N), state transition matrix\n",
    "    :param B: np.ndarray (N, 1), input matrix\n",
    "    :param C: np.ndarray (1, N), output matrix\n",
    "    :param step: float, time step of the discretization\n",
    "    :return: \n",
    "        Ab: np.ndarray (N, N), discretized state transition matrix\n",
    "        Bb: np.ndarray (N, 1), discretized input matrix\n",
    "        C: np.ndarray (1, N), output matrix\n",
    "    '''\n",
    "    I = np.eye(A.shape[0])\n",
    "    BL = inv(I - (step / 2.0) * A)\n",
    "    Ab = BL @ (I + (step / 2.0) * A)\n",
    "    Bb = (BL * step) @ B\n",
    "    return Ab, Bb, C"
   ],
   "metadata": {
    "collapsed": false
   },
   "id": "f50bf9c5bddf9f9f",
   "execution_count": 10
  },
  {
   "cell_type": "code",
   "outputs": [],
   "source": [
    "def scan_SSM(Ab, Bb, Cb, u, x0):\n",
    "    def step(x_k_1, u_k):\n",
    "        print(f'u_k:{u_k.shape}')\n",
    "        x_k = Ab @ x_k_1 + Bb @ u_k\n",
    "        y_k = Cb @ x_k\n",
    "        return x_k, y_k\n",
    "\n",
    "    return jax.lax.scan(step, x0, u)"
   ],
   "metadata": {
    "collapsed": false
   },
   "id": "5d2812557a1d59fa",
   "execution_count": 11
  },
  {
   "cell_type": "code",
   "outputs": [],
   "source": [
    "def run_SSM(A, B, C, u):\n",
    "    L = u.shape[0]\n",
    "    N = A.shape[0]\n",
    "    Ab, Bb, Cb = discretize(A, B, C, step=1.0 / L)\n",
    "\n",
    "    # Run recurrence\n",
    "    return scan_SSM(Ab, Bb, Cb, u[:, np.newaxis], np.zeros((N,)))[1]\n"
   ],
   "metadata": {
    "collapsed": false
   },
   "id": "4be3d2ed1afe06f5",
   "execution_count": 12
  },
  {
   "cell_type": "code",
   "outputs": [],
   "source": [
    "def example_mass(k, b, m):\n",
    "    A = np.array([[0, 1], [-k / m, -b / m]])\n",
    "    B = np.array([[0], [1.0 / m]])\n",
    "    C = np.array([[1.0, 0]])\n",
    "    return A, B, C"
   ],
   "metadata": {
    "collapsed": false
   },
   "id": "dbada26d4f306836",
   "execution_count": 13
  },
  {
   "cell_type": "code",
   "outputs": [],
   "source": [
    "@partial(np.vectorize, signature=\"()->()\")\n",
    "def example_force(t):\n",
    "    x = np.sin(10 * t)\n",
    "    return x * (x > 0.5)"
   ],
   "metadata": {
    "collapsed": false
   },
   "id": "9929e0aae469b4aa",
   "execution_count": 14
  },
  {
   "cell_type": "code",
   "outputs": [],
   "source": [
    "def example_ssm():\n",
    "    # SSM\n",
    "    ssm = example_mass(k=40, b=5, m=1)\n",
    "    print(f'A:\\n{ssm[0]}')\n",
    "    print(f'B:\\n{ssm[1]}')\n",
    "    print(f'C:\\n{ssm[2]}')\n",
    "    \n",
    "\n",
    "    # L samples of u(t).\n",
    "    L = 100\n",
    "    step = 1.0 / L\n",
    "    ks = np.arange(L)\n",
    "    u = example_force(ks * step)\n",
    "    print(f'u:{u.shape}')\n",
    "    print(f'u[0]:{u[0, np.newaxis]}')\n",
    "    print(f'B @ u[0] {ssm[1] @ u[0, np.newaxis]}')\n",
    "\n",
    "    # Approximation of y(t).\n",
    "    y = run_SSM(*ssm, u)\n",
    "\n",
    "    # Plotting ---\n",
    "    import matplotlib.pyplot as plt\n",
    "    import seaborn\n",
    "    from celluloid import Camera\n",
    "    plt.rcParams['animation.convert_path'] = '/usr/local/bin/convert'  # Adjust this path if necessary\n",
    "\n",
    "    seaborn.set_context(\"paper\")\n",
    "    fig, (ax1, ax2, ax3) = plt.subplots(3)\n",
    "    camera = Camera(fig)\n",
    "    ax1.set_title(\"Force $u_k$\")\n",
    "    ax2.set_title(\"Position $y_k$\")\n",
    "    ax3.set_title(\"Object\")\n",
    "    ax1.set_xticks([], [])\n",
    "    ax2.set_xticks([], [])\n",
    "\n",
    "    # Animate plot over time\n",
    "    for k in range(0, L, 2):\n",
    "        ax1.plot(ks[:k], u[:k], color=\"red\")\n",
    "        ax2.plot(ks[:k], y[:k], color=\"blue\")\n",
    "        ax3.boxplot(\n",
    "            [[y[k, 0] - 0.04, y[k, 0], y[k, 0] + 0.04]],\n",
    "            showcaps=False,\n",
    "            whis=False,\n",
    "            vert=False,\n",
    "            widths=10,\n",
    "        )\n",
    "        camera.snap()\n",
    "    anim = camera.animate()\n",
    "    \n",
    "    anim.save(\"images/line.gif\", dpi=150, writer=\"imagemagick\")\n",
    "    # do not show the plot\n",
    "    plt.close()"
   ],
   "metadata": {
    "collapsed": false
   },
   "id": "5a7fcc1e24c65f18",
   "execution_count": 15
  },
  {
   "cell_type": "code",
   "outputs": [
    {
     "name": "stdout",
     "output_type": "stream",
     "text": [
      "A:\n",
      "[[  0.   1.]\n",
      " [-40.  -5.]]\n",
      "B:\n",
      "[[0.]\n",
      " [1.]]\n",
      "C:\n",
      "[[1. 0.]]\n",
      "u:(100,)\n",
      "u[0]:[0.]\n",
      "B @ u[0] [0. 0.]\n",
      "u_k:(1,)\n"
     ]
    },
    {
     "name": "stderr",
     "output_type": "stream",
     "text": [
      "MovieWriter imagemagick unavailable; using Pillow instead.\n"
     ]
    }
   ],
   "source": [
    "plot = True\n",
    "if plot:\n",
    "    example_ssm()"
   ],
   "metadata": {
    "collapsed": false
   },
   "id": "eb02dcf5c8199569",
   "execution_count": 36
  },
  {
   "cell_type": "markdown",
   "source": [
    "<img src=\"images/line.gif\" width=\"750\" align=\"center\">"
   ],
   "metadata": {
    "collapsed": false
   },
   "id": "aa340f6139a5fdf9"
  },
  {
   "cell_type": "code",
   "outputs": [],
   "source": [
    "def K_conv(Ab: np.array, Bb: np.array, Cb: np.array, L: int):\n",
    "    '''\n",
    "    Computes the convolution kernel for the SSM.\n",
    "    K = (CB, CAB, C(A^2)B, ..., C(A^{L-1})B)\n",
    "    WARNING: this is a naive implementation and should be avoided for large L (stability issues).\n",
    "    :param Ab: Discretized state transition matrix A\n",
    "    :param Bb: Discretized input matrix B \n",
    "    :param Cb: Discretized output matrix C\n",
    "    :param L: Sequence length\n",
    "    :return: \n",
    "    '''\n",
    "    return np.array(\n",
    "        [(Cb @ matrix_power(Ab, l) @ Bb).reshape() for l in range(L)]\n",
    "    )"
   ],
   "metadata": {
    "collapsed": false
   },
   "id": "444f5ddf8848f729",
   "execution_count": 16
  },
  {
   "cell_type": "code",
   "outputs": [],
   "source": [
    "def causal_convolution(u: np.array, K: np.array, nofft: bool = False):\n",
    "    '''\n",
    "    Computes the convolution of the input signal u with the kernel K.\n",
    "    Can FFT for faster computation in the frequency domain (need to pad the u and K to the same length).\n",
    "    :param u: full length input signal\n",
    "    :param K: SSM Kernel\n",
    "    :param nofft: binary flag to disable FFT\n",
    "    :return: full length output signal \n",
    "    '''\n",
    "    if nofft:\n",
    "        return convolve(u, K, mode=\"full\")[: u.shape[0]] # from jax.scipy.signal\n",
    "    else:\n",
    "        assert K.shape[0] == u.shape[0]\n",
    "        ud = np.fft.rfft(np.pad(u, (0, K.shape[0])))\n",
    "        Kd = np.fft.rfft(np.pad(K, (0, u.shape[0])))\n",
    "        out = ud * Kd\n",
    "        return np.fft.irfft(out)[: u.shape[0]]"
   ],
   "metadata": {
    "collapsed": false
   },
   "id": "f2cb830351ccd17b",
   "execution_count": 17
  },
  {
   "cell_type": "code",
   "outputs": [],
   "source": [
    "def test_cnn_is_rnn(N=4, L=16, step=1.0 / 16):\n",
    "    '''\n",
    "    Test if the convolution view of SSM is equivalent to the RNN view.\n",
    "    :param N: State dimension\n",
    "    :param L: Sequence length\n",
    "    :param step: Discretization step\n",
    "    :return: \n",
    "    '''\n",
    "    ssm = random_SSM(rng, N)\n",
    "    u = jax.random.uniform(rng, (L,))\n",
    "    jax.random.split(rng, 3)\n",
    "    \n",
    "    # RNN\n",
    "    rec = run_SSM(*ssm, u)\n",
    "\n",
    "    # CNN\n",
    "    ssmb = discretize(*ssm, step=step)\n",
    "    conv = causal_convolution(u, K_conv(*ssmb, L))\n",
    "\n",
    "    # Check\n",
    "    # np.allclose: Returns True if two arrays are element-wise equal within a tolerance.\n",
    "    print(f'CNN = RNN:  {np.allclose(rec.ravel(), conv.ravel())}')"
   ],
   "metadata": {
    "collapsed": false
   },
   "id": "7c5b32d4dfff1906",
   "execution_count": 18
  },
  {
   "cell_type": "code",
   "outputs": [
    {
     "name": "stdout",
     "output_type": "stream",
     "text": [
      "u_k:(1,)\n",
      "CNN = RNN:  True\n"
     ]
    }
   ],
   "source": [
    "test_cnn_is_rnn(4, 16, 1.0 / 16)"
   ],
   "metadata": {
    "collapsed": false
   },
   "id": "20911c71ddfe70f5",
   "execution_count": 19
  }
 ],
 "metadata": {
  "kernelspec": {
   "display_name": "Python 3",
   "language": "python",
   "name": "python3"
  },
  "language_info": {
   "codemirror_mode": {
    "name": "ipython",
    "version": 2
   },
   "file_extension": ".py",
   "mimetype": "text/x-python",
   "name": "python",
   "nbconvert_exporter": "python",
   "pygments_lexer": "ipython2",
   "version": "2.7.6"
  }
 },
 "nbformat": 4,
 "nbformat_minor": 5
}
