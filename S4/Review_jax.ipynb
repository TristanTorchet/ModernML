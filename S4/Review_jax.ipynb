{
 "cells": [
  {
   "cell_type": "code",
   "execution_count": null,
   "id": "initial_id",
   "metadata": {
    "collapsed": true
   },
   "outputs": [],
   "source": [
    "!which python"
   ]
  },
  {
   "cell_type": "code",
   "execution_count": 4,
   "id": "6279edcfc16035d2",
   "metadata": {
    "collapsed": false
   },
   "outputs": [],
   "source": [
    "import jax \n",
    "import jax.numpy as jnp\n",
    "import flax.linen as nn\n",
    "import einops\n",
    "# force jax to use only device 0 with os library \"CUDA_VISIBLE_DEVICES\" \n",
    "import os \n",
    "os.environ[\"CUDA_VISIBLE_DEVICES\"] = \"3\""
   ]
  },
  {
   "cell_type": "code",
   "execution_count": 7,
   "id": "4248e2edce61cc56",
   "metadata": {
    "collapsed": false
   },
   "outputs": [
    {
     "name": "stderr",
     "output_type": "stream",
     "text": [
      "/home/tristan/miniconda3/envs/.jax_conda_env_MML/lib/python3.12/pty.py:95: RuntimeWarning: os.fork() was called. os.fork() is incompatible with multithreaded code, and JAX is multithreaded, so this will likely lead to a deadlock.\n",
      "  pid, fd = os.forkpty()\n"
     ]
    },
    {
     "name": "stdout",
     "output_type": "stream",
     "text": [
      "jax==0.4.25\r\n",
      "jaxlib==0.4.25+cuda11.cudnn86\r\n",
      "optax==0.2.2\r\n",
      "flax==0.8.4\r\n"
     ]
    }
   ],
   "source": [
    "!pip3 freeze | grep jax \n",
    "!pip3 freeze | grep optax\n",
    "!pip3 freeze | grep flax"
   ]
  },
  {
   "cell_type": "code",
   "execution_count": 8,
   "id": "414912ed78ac984",
   "metadata": {
    "collapsed": false
   },
   "outputs": [],
   "source": [
    "shared_params = False\n",
    "if shared_params:\n",
    "    BatchDense = nn.vmap(nn.Dense, in_axes=0, out_axes=0, variable_axes={'params': None}, split_rngs={'params': False})\n",
    "else:\n",
    "    BatchDense = nn.vmap(nn.Dense, in_axes=0, out_axes=0, variable_axes={'params': 0}, split_rngs={'params': True})"
   ]
  },
  {
   "cell_type": "code",
   "execution_count": 9,
   "id": "53300b79d3c6d3db",
   "metadata": {
    "collapsed": false
   },
   "outputs": [],
   "source": [
    "batch_size = 10\n",
    "embedding_dim = 5\n",
    "x = jnp.ones((batch_size, embedding_dim))\n",
    "dense = BatchDense(features=3)\n",
    "params = dense.init(jax.random.PRNGKey(0), x)"
   ]
  },
  {
   "cell_type": "code",
   "execution_count": 10,
   "id": "54663cfc4d2e58c",
   "metadata": {
    "collapsed": false
   },
   "outputs": [
    {
     "data": {
      "text/plain": [
       "[cuda(id=0)]"
      ]
     },
     "execution_count": 10,
     "metadata": {},
     "output_type": "execute_result"
    }
   ],
   "source": [
    "# display GPU used by jax \n",
    "jax.devices()"
   ]
  },
  {
   "cell_type": "code",
   "execution_count": 11,
   "id": "ebbb55c63c3bc5b5",
   "metadata": {
    "collapsed": false
   },
   "outputs": [
    {
     "name": "stdout",
     "output_type": "stream",
     "text": [
      "params \n",
      " ('bias', (10, 3))\n",
      "\n",
      " ('kernel', (10, 5, 3))\n"
     ]
    },
    {
     "data": {
      "text/plain": [
       "{'params': {'bias': None, 'kernel': None}}"
      ]
     },
     "execution_count": 11,
     "metadata": {},
     "output_type": "execute_result"
    }
   ],
   "source": [
    "# write a function that prints recursively the keys and shapes of a nested dictionary\n",
    "def map_nested_fn(fn):\n",
    "    \"\"\"Recursively apply `fn to the key-value pairs of a nested dict / pytree.\"\"\"\n",
    "\n",
    "    def map_fn(k_in, nested_dict):\n",
    "        if k_in != None: print(f'{k_in}', end=' ')\n",
    "        return {\n",
    "            k: (map_fn(k, v) if hasattr(v, \"keys\") else fn(k, v))\n",
    "            for k, v in nested_dict.items()\n",
    "        }\n",
    "    \n",
    "    return map_fn\n",
    "\n",
    "map_nested_fn(lambda k, v: print(f'\\n {k, v.shape}'))(None, params)"
   ]
  },
  {
   "cell_type": "code",
   "execution_count": 12,
   "id": "2cdf23d6f8d54a0",
   "metadata": {
    "collapsed": false
   },
   "outputs": [],
   "source": [
    "y = dense.apply(params, x)"
   ]
  },
  {
   "cell_type": "code",
   "execution_count": 13,
   "id": "1f8c14aa2aec6f",
   "metadata": {
    "collapsed": false
   },
   "outputs": [
    {
     "data": {
      "text/plain": [
       "Array([[ 1.9910171 ,  0.2838356 , -1.0479922 ],\n",
       "       [ 1.3863921 ,  0.5475616 ,  1.2088562 ],\n",
       "       [-1.3427643 , -0.5816939 , -0.02100414],\n",
       "       [-1.6752064 , -0.6873529 , -1.4142421 ],\n",
       "       [ 0.7120553 ,  0.13763508, -0.4718809 ],\n",
       "       [ 0.5991874 , -0.1374764 ,  0.4084237 ],\n",
       "       [-0.18032219, -0.48730594, -1.0494049 ],\n",
       "       [-0.04323459, -0.40114638,  0.6318799 ],\n",
       "       [ 0.50989735,  0.20760432,  0.13128321],\n",
       "       [ 0.5380559 , -1.664613  ,  1.1062526 ]], dtype=float32)"
      ]
     },
     "execution_count": 13,
     "metadata": {},
     "output_type": "execute_result"
    }
   ],
   "source": [
    "y"
   ]
  },
  {
   "cell_type": "code",
   "execution_count": 14,
   "id": "9ab0499c44bb649",
   "metadata": {
    "collapsed": false
   },
   "outputs": [],
   "source": [
    "def step(x_k_1, u_k):\n",
    "    x_k = x_k_1 + u_k\n",
    "    y_k = jnp.tanh(x_k)\n",
    "    return x_k, y_k\n",
    "x_last, y_entire = jax.lax.scan(step, 0, jnp.ones((5,)))"
   ]
  },
  {
   "cell_type": "code",
   "execution_count": 15,
   "id": "a63a5936dcc88797",
   "metadata": {
    "collapsed": false
   },
   "outputs": [
    {
     "data": {
      "text/plain": [
       "Array(5., dtype=float32)"
      ]
     },
     "execution_count": 15,
     "metadata": {},
     "output_type": "execute_result"
    }
   ],
   "source": [
    "x_last"
   ]
  },
  {
   "cell_type": "code",
   "execution_count": 16,
   "id": "9e1a9ea8fa9024cb",
   "metadata": {
    "collapsed": false
   },
   "outputs": [
    {
     "data": {
      "text/plain": [
       "Array([0.7615942 , 0.9640275 , 0.9950547 , 0.9993292 , 0.99990916],      dtype=float32)"
      ]
     },
     "execution_count": 16,
     "metadata": {},
     "output_type": "execute_result"
    }
   ],
   "source": [
    "y_entire"
   ]
  },
  {
   "cell_type": "code",
   "execution_count": 17,
   "id": "238ae1f5322f8d56",
   "metadata": {
    "collapsed": false
   },
   "outputs": [
    {
     "name": "stdout",
     "output_type": "stream",
     "text": [
      "[0.0, 0.7615941762924194, 0.9640275239944458, 0.9950547218322754, 0.9993292093276978]\n"
     ]
    }
   ],
   "source": [
    "print([float(jnp.tanh(i)) for i in range(5)])"
   ]
  }
 ],
 "metadata": {
  "kernelspec": {
   "display_name": "Python 3",
   "language": "python",
   "name": "python3"
  },
  "language_info": {
   "codemirror_mode": {
    "name": "ipython",
    "version": 2
   },
   "file_extension": ".py",
   "mimetype": "text/x-python",
   "name": "python",
   "nbconvert_exporter": "python",
   "pygments_lexer": "ipython2",
   "version": "2.7.6"
  }
 },
 "nbformat": 4,
 "nbformat_minor": 5
}
