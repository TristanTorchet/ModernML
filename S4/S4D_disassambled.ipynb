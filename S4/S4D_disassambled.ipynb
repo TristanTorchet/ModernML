{
 "cells": [
  {
   "cell_type": "markdown",
   "id": "962e7de423a62248",
   "metadata": {
    "collapsed": false
   },
   "source": [
    "# S4D understanding\n",
    "This notebook has the purpose of understanding the S4D codebase and the underlying concepts."
   ]
  },
  {
   "cell_type": "markdown",
   "id": "c5f22cc6666c92e4",
   "metadata": {
    "collapsed": false
   },
   "source": [
    "# 0. Setup"
   ]
  },
  {
   "cell_type": "code",
   "execution_count": 1,
   "id": "c6e88745-89c7-44ea-94ea-eb5e012501bc",
   "metadata": {
    "ExecuteTime": {
     "end_time": "2024-09-09T16:10:20.649689Z",
     "start_time": "2024-09-09T16:10:20.528614Z"
    }
   },
   "outputs": [
    {
     "name": "stdout",
     "output_type": "stream",
     "text": [
      "/home/tristan/miniconda3/envs/.jax_conda_env_MML/bin/python\r\n"
     ]
    }
   ],
   "source": [
    "!which python"
   ]
  },
  {
   "cell_type": "code",
   "execution_count": 2,
   "id": "2578fec775d162f8",
   "metadata": {
    "ExecuteTime": {
     "end_time": "2024-09-09T16:10:20.655227Z",
     "start_time": "2024-09-09T16:10:20.651985Z"
    },
    "collapsed": false
   },
   "outputs": [],
   "source": [
    "# !pip3 install flax==0.8.4 optax==0.2.2 \n",
    "# !pip3 install --force-reinstall orbax-checkpoint==0.5.16\n",
    "# !pip3 install --force-reinstall numpy==1.26.3\n",
    "# !pip install --force-reinstall orbax-checkpoint==0.5.4 numpy==1.26.3 jax==0.4.25 jaxlib==0.4.25+cuda11.cudnn86 -f https://storage.googleapis.com/jax-releases/jax_cuda_releases.html\n",
    "# !pip3 install --force-reinstall numpy==1.26.3"
   ]
  },
  {
   "cell_type": "code",
   "execution_count": 3,
   "id": "811d31f9170c1386",
   "metadata": {
    "ExecuteTime": {
     "end_time": "2024-09-09T16:10:21.666175Z",
     "start_time": "2024-09-09T16:10:20.775075Z"
    },
    "collapsed": false
   },
   "outputs": [
    {
     "name": "stdout",
     "output_type": "stream",
     "text": [
      "True\n",
      "4\n",
      "0\n",
      "<torch.cuda.device object at 0x72281ea26840>\n",
      "NVIDIA GeForce RTX 4090\n",
      "0\n",
      "0\n"
     ]
    }
   ],
   "source": [
    "import torch\n",
    "from einops import repeat\n",
    "import math\n",
    "torch.set_printoptions(precision=4)\n",
    "import numpy as np \n",
    "np.set_printoptions(precision=4)\n",
    "print(f'{torch.cuda.is_available()}')\n",
    "print(f'{torch.cuda.device_count()}')\n",
    "print(f'{torch.cuda.current_device()}')\n",
    "print(f'{torch.cuda.device(0)}')\n",
    "print(f'{torch.cuda.get_device_name(0)}')\n",
    "print(f'{torch.cuda.memory_allocated()}')\n",
    "print(f'{torch.cuda.memory_reserved()}')"
   ]
  },
  {
   "cell_type": "markdown",
   "id": "a25bf9a7563be5bb",
   "metadata": {
    "collapsed": false
   },
   "source": [
    "# 1. Kernel computation"
   ]
  },
  {
   "cell_type": "markdown",
   "id": "d87df64a1c2c707a",
   "metadata": {
    "collapsed": false
   },
   "source": [
    "### Main trick: adding a trailing dimension to the dtA tensor and then multiplying every element over this dimension by a scalar"
   ]
  },
  {
   "cell_type": "markdown",
   "id": "75cf3236bdd5875b",
   "metadata": {
    "collapsed": false
   },
   "source": [
    "## 1.a. Basic example:"
   ]
  },
  {
   "cell_type": "code",
   "execution_count": 4,
   "id": "2103005c49383c63",
   "metadata": {
    "ExecuteTime": {
     "end_time": "2024-09-09T16:10:21.674070Z",
     "start_time": "2024-09-09T16:10:21.667979Z"
    },
    "collapsed": false
   },
   "outputs": [
    {
     "name": "stdout",
     "output_type": "stream",
     "text": [
      "tensor([[[1],\n",
      "         [2]],\n",
      "\n",
      "        [[3],\n",
      "         [4]]])\n",
      "tensor([0, 1, 2])\n",
      "tensor([[[0, 1, 2],\n",
      "         [0, 2, 4]],\n",
      "\n",
      "        [[0, 3, 6],\n",
      "         [0, 4, 8]]])\n"
     ]
    }
   ],
   "source": [
    "b = torch.tensor([[1,2],[3,4]])\n",
    "print(b.unsqueeze(-1))\n",
    "print(torch.arange(3))\n",
    "print(b.unsqueeze(-1) * torch.arange(3))"
   ]
  },
  {
   "cell_type": "markdown",
   "id": "b7ed4307ac768220",
   "metadata": {
    "collapsed": false
   },
   "source": [
    "## 1.b.  Full example:"
   ]
  },
  {
   "cell_type": "code",
   "execution_count": 5,
   "id": "3fbf64789e457466",
   "metadata": {
    "ExecuteTime": {
     "end_time": "2024-09-09T16:10:22.456Z",
     "start_time": "2024-09-09T16:10:21.675184Z"
    },
    "collapsed": false
   },
   "outputs": [
    {
     "name": "stdout",
     "output_type": "stream",
     "text": [
      "log_A_real\n",
      "tensor([[-0.6931, -0.6931, -0.6931, -0.6931],\n",
      "        [-0.6931, -0.6931, -0.6931, -0.6931],\n",
      "        [-0.6931, -0.6931, -0.6931, -0.6931]], device='cuda:0')\n",
      "A_imag\n",
      "tensor([[0.0000, 3.1416, 6.2832, 9.4248],\n",
      "        [0.0000, 3.1416, 6.2832, 9.4248],\n",
      "        [0.0000, 3.1416, 6.2832, 9.4248]], device='cuda:0')\n",
      "A\n",
      "tensor([[-0.6931+0.0000j, -0.6931+3.1416j, -0.6931+6.2832j, -0.6931+9.4248j],\n",
      "        [-0.6931+0.0000j, -0.6931+3.1416j, -0.6931+6.2832j, -0.6931+9.4248j],\n",
      "        [-0.6931+0.0000j, -0.6931+3.1416j, -0.6931+6.2832j, -0.6931+9.4248j]],\n",
      "       device='cuda:0')\n",
      "C\n",
      "tensor([[-0.7961-0.8148j, -0.1772-0.3068j,  0.6001+0.4893j, -0.2235-1.4957j],\n",
      "        [ 0.3310-0.1115j,  1.0208+0.1881j,  0.1177+0.6183j, -0.1015-0.0789j],\n",
      "        [ 0.6589+0.8903j,  1.4177+0.0380j,  0.4370-0.2919j, -0.5947-1.6377j]],\n",
      "       device='cuda:0')\n",
      "CasReal\n",
      "torch.Size([3, 4, 2]) tensor([-0.7961, -0.8148], device='cuda:0')\n",
      "CasComp\n",
      "torch.Size([3, 4]) (-0.7960889935493469-0.8148416876792908j)\n",
      "log_dt\n",
      "tensor([-4.4841, -5.7857, -4.2156], device='cuda:0')\n",
      "dt\n",
      "tensor([0.0113, 0.0031, 0.0148], device='cuda:0')\n",
      "dt.unsqueeze(-1)\n",
      "tensor([[0.0113],\n",
      "        [0.0031],\n",
      "        [0.0148]], device='cuda:0')\n",
      "dtA\n",
      "tensor([[-0.0078+0.0000j, -0.0078+0.0355j, -0.0078+0.0709j, -0.0078+0.1064j],\n",
      "        [-0.0021+0.0000j, -0.0021+0.0096j, -0.0021+0.0193j, -0.0021+0.0289j],\n",
      "        [-0.0102+0.0000j, -0.0102+0.0464j, -0.0102+0.0928j, -0.0102+0.1391j]],\n",
      "       device='cuda:0')\n",
      "VERIF: A[0,1]*dt[0]=-0.0078+0.0355j\n",
      "dtA_unsqueezed\n",
      "torch.Size([3, 4, 1])\n",
      "tensor([[[-0.0078+0.0000j],\n",
      "         [-0.0078+0.0355j],\n",
      "         [-0.0078+0.0709j],\n",
      "         [-0.0078+0.1064j]],\n",
      "\n",
      "        [[-0.0021+0.0000j],\n",
      "         [-0.0021+0.0096j],\n",
      "         [-0.0021+0.0193j],\n",
      "         [-0.0021+0.0289j]],\n",
      "\n",
      "        [[-0.0102+0.0000j],\n",
      "         [-0.0102+0.0464j],\n",
      "         [-0.0102+0.0928j],\n",
      "         [-0.0102+0.1391j]]], device='cuda:0')\n",
      "K\n",
      "tensor([[[-0.0000+0.0000j, -0.0078+0.0000j, -0.0156+0.0000j, -0.0235+0.0000j],\n",
      "         [-0.0000+0.0000j, -0.0078+0.0355j, -0.0156+0.0709j, -0.0235+0.1064j],\n",
      "         [-0.0000+0.0000j, -0.0078+0.0709j, -0.0156+0.1418j, -0.0235+0.2128j],\n",
      "         [-0.0000+0.0000j, -0.0078+0.1064j, -0.0156+0.2128j, -0.0235+0.3191j]],\n",
      "\n",
      "        [[-0.0000+0.0000j, -0.0021+0.0000j, -0.0043+0.0000j, -0.0064+0.0000j],\n",
      "         [-0.0000+0.0000j, -0.0021+0.0096j, -0.0043+0.0193j, -0.0064+0.0289j],\n",
      "         [-0.0000+0.0000j, -0.0021+0.0193j, -0.0043+0.0386j, -0.0064+0.0579j],\n",
      "         [-0.0000+0.0000j, -0.0021+0.0289j, -0.0043+0.0579j, -0.0064+0.0868j]],\n",
      "\n",
      "        [[-0.0000+0.0000j, -0.0102+0.0000j, -0.0205+0.0000j, -0.0307+0.0000j],\n",
      "         [-0.0000+0.0000j, -0.0102+0.0464j, -0.0205+0.0928j, -0.0307+0.1391j],\n",
      "         [-0.0000+0.0000j, -0.0102+0.0928j, -0.0205+0.1855j, -0.0307+0.2783j],\n",
      "         [-0.0000+0.0000j, -0.0102+0.1391j, -0.0205+0.2783j, -0.0307+0.4174j]]],\n",
      "       device='cuda:0')\n",
      "K_end\n",
      "tensor([[[-0.5966-2.1280j, -0.4581-2.0916j, -0.3236-2.0411j, -0.1947-1.9770j],\n",
      "         [ 1.3681+0.6160j,  1.3153+0.6434j,  1.2626+0.6681j,  1.2103+0.6900j],\n",
      "         [ 1.9189-1.0013j,  2.0971-0.9657j,  2.2729-0.9105j,  2.4445-0.8362j]],\n",
      "\n",
      "        [[-0.5966-2.1280j, -0.5586-2.1195j, -0.5208-2.1100j, -0.4833-2.0994j],\n",
      "         [ 1.3681+0.6160j,  1.3537+0.6237j,  1.3393+0.6313j,  1.3250+0.6386j],\n",
      "         [ 1.9189-1.0013j,  1.9675-0.9936j,  2.0160-0.9844j,  2.0645-0.9737j]],\n",
      "\n",
      "        [[-0.5966-2.1280j, -0.4162-2.0776j, -0.2435-2.0032j, -0.0817-1.9063j],\n",
      "         [ 1.3681+0.6160j,  1.2990+0.6513j,  1.2303+0.6819j,  1.1622+0.7079j],\n",
      "         [ 1.9189-1.0013j,  2.1516-0.9508j,  2.3792-0.8670j,  2.5974-0.7509j]]],\n",
      "       device='cuda:0')\n"
     ]
    }
   ],
   "source": [
    "#set seed\n",
    "torch.manual_seed(0)\n",
    "np.random.seed(0)\n",
    "H=3\n",
    "N=4\n",
    "L=4\n",
    "dt_min = 1e-3\n",
    "dt_max = 1e-1\n",
    "# cuda = torch.device('cuda')\n",
    "with torch.cuda.device(0):\n",
    "    log_A_real = torch.log(0.5 * torch.ones(H, N)).cuda()\n",
    "    A_imag = math.pi * repeat(torch.arange(N), 'n -> h n', h=H).cuda()\n",
    "    A_imag = A_imag\n",
    "    A = log_A_real + 1j * A_imag\n",
    "    C = torch.randn(H, N, dtype=torch.cfloat).cuda()\n",
    "    CasReal = torch.view_as_real(C)\n",
    "    CasComp = torch.view_as_complex(CasReal)\n",
    "    log_dt = torch.rand(H) * (\n",
    "                math.log(dt_max) - math.log(dt_min)\n",
    "            ) + math.log(dt_min)\n",
    "    log_dt = log_dt.cuda()\n",
    "    dt = torch.exp(log_dt)\n",
    "    dtA = A * dt.unsqueeze(-1)\n",
    "    dtA_unsqueezed = dtA.unsqueeze(-1)\n",
    "    K = dtA_unsqueezed * torch.arange(L).cuda()\n",
    "    exp_K = torch.exp(K)\n",
    "    K_end = C @ exp_K\n",
    "    \n",
    "print(f'log_A_real\\n{log_A_real}')\n",
    "print(f'A_imag\\n{A_imag}')\n",
    "print(f'A\\n{A}')\n",
    "print(f'C\\n{C}')\n",
    "print(f'CasReal\\n{CasReal.shape} {CasReal[0,0]}')\n",
    "print(f'CasComp\\n{CasComp.shape} {CasComp[0,0]}')\n",
    "print(f'log_dt\\n{log_dt}')\n",
    "print(f'dt\\n{dt}')\n",
    "print(f'dt.unsqueeze(-1)\\n{dt.unsqueeze(-1)}')\n",
    "print(f'dtA\\n{dtA}')\n",
    "print(f'VERIF: {A[0,1]*dt[0]=:.4f}')\n",
    "print(f'dtA_unsqueezed\\n{dtA_unsqueezed.shape}\\n{dtA_unsqueezed}')\n",
    "print(f'K\\n{K}')\n",
    "print(f'K_end\\n{K_end}')"
   ]
  },
  {
   "cell_type": "markdown",
   "id": "2e254ae2f0712423",
   "metadata": {
    "collapsed": false
   },
   "source": [
    "# 2. JAX vs PyTorch implementations (and speed comparison)"
   ]
  },
  {
   "cell_type": "code",
   "execution_count": 6,
   "id": "f7f5945d7e110e40",
   "metadata": {
    "ExecuteTime": {
     "end_time": "2024-09-09T16:10:22.714412Z",
     "start_time": "2024-09-09T16:10:22.457481Z"
    },
    "collapsed": false
   },
   "outputs": [],
   "source": [
    "import jax\n",
    "import jax.numpy as jnp"
   ]
  },
  {
   "cell_type": "markdown",
   "id": "46cd66078cf5d8ed",
   "metadata": {
    "collapsed": false
   },
   "source": [
    "## 2.a. Single head implementation"
   ]
  },
  {
   "cell_type": "code",
   "execution_count": 7,
   "id": "b18ba828d0d4d6a5",
   "metadata": {
    "ExecuteTime": {
     "end_time": "2024-09-09T16:10:23.400010Z",
     "start_time": "2024-09-09T16:10:22.715555Z"
    },
    "collapsed": false
   },
   "outputs": [
    {
     "name": "stdout",
     "output_type": "stream",
     "text": [
      "log_A_real\n",
      "tensor([-0.6931, -0.6931, -0.6931, -0.6931], device='cuda:0')\n",
      "A_imag\n",
      "tensor([0.0000, 3.1416, 6.2832, 9.4248], device='cuda:0')\n",
      "C\n",
      "tensor([ 1.0896-0.2075j, -1.5406+0.4019j, -0.7669-0.9890j,  0.2852+0.5926j],\n",
      "       device='cuda:0')\n"
     ]
    },
    {
     "data": {
      "text/plain": [
       "(Array([-0.6931, -0.6931, -0.6931, -0.6931], dtype=float32),\n",
       " Array([0.    , 3.1416, 6.2832, 9.4248], dtype=float32),\n",
       " Array([ 1.0896-0.2075j, -1.5406+0.4019j, -0.7669-0.989j ,  0.2852+0.5926j],      dtype=complex64))"
      ]
     },
     "execution_count": 7,
     "metadata": {},
     "output_type": "execute_result"
    }
   ],
   "source": [
    "def initialization(N: int) -> torch.Tensor:\n",
    "    with torch.cuda.device(0):\n",
    "        log_A_real = torch.log(0.5 * torch.ones(N,)).cuda()\n",
    "        A_imag = math.pi * torch.arange(N).cuda()\n",
    "        C = torch.randn(N, dtype=torch.cfloat).cuda()\n",
    "    return log_A_real, A_imag, C\n",
    "\n",
    "# fix the seed\n",
    "torch.manual_seed(0)\n",
    "log_A_real, A_imag, C = initialization(N=4)\n",
    "print(f'log_A_real\\n{log_A_real}')\n",
    "print(f'A_imag\\n{A_imag}')\n",
    "print(f'C\\n{C}')\n",
    "# convert tensors to jax arrays\n",
    "log_A_real_jax = jnp.array(log_A_real.cpu())\n",
    "A_imag_jax = jnp.array(A_imag.cpu())\n",
    "C_jax = jnp.array(C.cpu())\n",
    "# display the tensors\n",
    "log_A_real_jax, A_imag_jax, C_jax"
   ]
  },
  {
   "cell_type": "code",
   "execution_count": 8,
   "id": "df95adb04878d93a",
   "metadata": {
    "ExecuteTime": {
     "end_time": "2024-09-09T16:10:23.473367Z",
     "start_time": "2024-09-09T16:10:23.401692Z"
    },
    "collapsed": false
   },
   "outputs": [],
   "source": [
    "def kernel(log_A_real, A_imag, C, dt, L):\n",
    "    with torch.cuda.device(0):\n",
    "        A = -torch.exp(log_A_real) + 1j * A_imag\n",
    "        dtA = A * dt\n",
    "        K = dtA.unsqueeze(-1) * torch.arange(L).cuda()\n",
    "        exp_K = torch.exp(K)\n",
    "        K_end = C @ exp_K\n",
    "    return 2*K_end.real\n",
    "\n",
    "def kernel_jax(log_A_real, A_imag, C, dt, L):\n",
    "    A = -jnp.exp(log_A_real) + 1j * A_imag\n",
    "    dtA = A * dt\n",
    "    K = dtA[:, jnp.newaxis] * jnp.arange(L)\n",
    "    exp_K = jnp.exp(K)\n",
    "    K_end = C @ exp_K\n",
    "    return 2*K_end.real\n",
    "jit_kernel_jax = jax.jit(kernel_jax, static_argnums=(3, 4))\n",
    "# warmup \n",
    "_ = jit_kernel_jax(log_A_real_jax, A_imag_jax, C_jax, 0.1, 3)\n"
   ]
  },
  {
   "cell_type": "code",
   "execution_count": 9,
   "id": "3fbcd25ac5c48de9",
   "metadata": {
    "ExecuteTime": {
     "end_time": "2024-09-09T16:10:30.357610Z",
     "start_time": "2024-09-09T16:10:23.474930Z"
    },
    "collapsed": false
   },
   "outputs": [
    {
     "name": "stdout",
     "output_type": "stream",
     "text": [
      "98.3 μs ± 460 ns per loop (mean ± std. dev. of 7 runs, 10,000 loops each)\n"
     ]
    }
   ],
   "source": [
    "# time it for 100000 loops each\n",
    "%timeit -n 10000 kernel(log_A_real, A_imag, C, 0.1, 3)\n",
    "#kernel(log_A_real, A_imag, C, 0.1, L=3)"
   ]
  },
  {
   "cell_type": "code",
   "execution_count": 10,
   "id": "ad5957455752bf3c",
   "metadata": {
    "ExecuteTime": {
     "end_time": "2024-09-09T16:10:30.745398Z",
     "start_time": "2024-09-09T16:10:30.359355Z"
    },
    "collapsed": false
   },
   "outputs": [
    {
     "name": "stdout",
     "output_type": "stream",
     "text": [
      "1.14 ms ± 82.6 μs per loop (mean ± std. dev. of 7 runs, 1 loop each)\n"
     ]
    }
   ],
   "source": [
    "%timeit kernel_jax(log_A_real_jax, A_imag_jax, C_jax, 0.1, 3)"
   ]
  },
  {
   "cell_type": "code",
   "execution_count": 11,
   "id": "48c0ed18a42d0d26",
   "metadata": {
    "ExecuteTime": {
     "end_time": "2024-09-09T16:10:32.175876Z",
     "start_time": "2024-09-09T16:10:30.746863Z"
    },
    "collapsed": false
   },
   "outputs": [
    {
     "name": "stdout",
     "output_type": "stream",
     "text": [
      "20.4 μs ± 1.4 μs per loop (mean ± std. dev. of 7 runs, 10,000 loops each)\n"
     ]
    }
   ],
   "source": [
    "%timeit -n 10000 jit_kernel_jax(log_A_real_jax, A_imag_jax, C_jax, 0.1, L=3)"
   ]
  },
  {
   "cell_type": "markdown",
   "id": "4f968a9778dff8d8",
   "metadata": {
    "collapsed": false
   },
   "source": [
    "## 2.b MultiHead implementation \n",
    "log_A_real is a tensor of shape (H, N) full of -0.6931\n",
    "A_imag is a tensor of shape (H, N) where every row is 0, pi, 2pi, 3pi, ..., N-1 * pi\n",
    "C is a tensor of shape (H, N) with random complex numbers"
   ]
  },
  {
   "cell_type": "code",
   "execution_count": 12,
   "id": "9595334a534289d5",
   "metadata": {
    "ExecuteTime": {
     "end_time": "2024-09-09T16:10:32.190224Z",
     "start_time": "2024-09-09T16:10:32.176758Z"
    },
    "collapsed": false
   },
   "outputs": [
    {
     "name": "stdout",
     "output_type": "stream",
     "text": [
      "log_A_real_mh.shape=torch.Size([10, 64])\n",
      "A_imag_mh.shape=torch.Size([10, 64])\n",
      "C_mh.shape=torch.Size([10, 64])\n",
      "type(log_A_real_mh_jax)=<class 'jaxlib.xla_extension.ArrayImpl'>\n",
      "log_A_real_mh_jax.dtype=dtype('float32')\n"
     ]
    }
   ],
   "source": [
    "def init_mh(H, N):\n",
    "    with torch.cuda.device(0):\n",
    "        log_A_real = torch.log(0.5 * torch.ones(H, N)).cuda()\n",
    "        A_imag = math.pi * repeat(torch.arange(N), 'n -> h n', h=H).cuda()\n",
    "        C = torch.randn(H, N, dtype=torch.cfloat).cuda()\n",
    "    return log_A_real, A_imag, C\n",
    "\n",
    "H = 10\n",
    "N = 64\n",
    "L = 128\n",
    "log_A_real_mh, A_imag_mh, C_mh = init_mh(H, N)\n",
    "print(f'{log_A_real_mh.shape=}')\n",
    "print(f'{A_imag_mh.shape=}')\n",
    "print(f'{C_mh.shape=}')\n",
    "# convert tensors to jax arrays\n",
    "log_A_real_mh_jax = jnp.array(log_A_real_mh.cpu())\n",
    "A_imag_mh_jax = jnp.array(A_imag_mh.cpu())\n",
    "C_mh_jax = jnp.array(C_mh.cpu())\n",
    "print(f'{type(log_A_real_mh_jax)=}')\n",
    "print(f'{log_A_real_mh_jax.dtype=}')"
   ]
  },
  {
   "cell_type": "markdown",
   "id": "6ed897ced5148132",
   "metadata": {
    "collapsed": false
   },
   "source": [
    "### 2.b.1. Vmaping the single head kernel"
   ]
  },
  {
   "cell_type": "code",
   "execution_count": 13,
   "id": "45b4a33f28acf903",
   "metadata": {
    "ExecuteTime": {
     "end_time": "2024-09-09T16:10:32.350551Z",
     "start_time": "2024-09-09T16:10:32.191067Z"
    },
    "collapsed": false
   },
   "outputs": [],
   "source": [
    "vj_kernel_jax = jax.vmap(jit_kernel_jax, in_axes=(0, 0, 0, None, None))\n",
    "jv_kernel_jax = jax.jit(jax.vmap(kernel_jax, in_axes=(0, 0, 0, None, None)), static_argnums=(3, 4))\n",
    "# warmup\n",
    "_ = vj_kernel_jax(log_A_real_mh_jax, A_imag_mh_jax, C_mh_jax, 0.1, L)\n",
    "_ = jv_kernel_jax(log_A_real_mh_jax, A_imag_mh_jax, C_mh_jax, 0.1, L)"
   ]
  },
  {
   "cell_type": "code",
   "execution_count": 14,
   "id": "16655da483e99107",
   "metadata": {
    "ExecuteTime": {
     "end_time": "2024-09-09T16:10:55.620610Z",
     "start_time": "2024-09-09T16:10:32.351463Z"
    },
    "collapsed": false
   },
   "outputs": [
    {
     "name": "stdout",
     "output_type": "stream",
     "text": [
      "332 μs ± 2.56 μs per loop (mean ± std. dev. of 7 runs, 10,000 loops each)\n"
     ]
    }
   ],
   "source": [
    "%timeit -n 10000 vj_kernel_jax(log_A_real_mh_jax, A_imag_mh_jax, C_mh_jax, 0.1, L)"
   ]
  },
  {
   "cell_type": "code",
   "execution_count": 15,
   "id": "92f5bd0b815b0668",
   "metadata": {
    "ExecuteTime": {
     "end_time": "2024-09-09T16:10:57.176639Z",
     "start_time": "2024-09-09T16:10:55.621541Z"
    },
    "collapsed": false
   },
   "outputs": [
    {
     "name": "stdout",
     "output_type": "stream",
     "text": [
      "22.2 μs ± 444 ns per loop (mean ± std. dev. of 7 runs, 10,000 loops each)\n"
     ]
    }
   ],
   "source": [
    "%timeit -n 10000 jv_kernel_jax(log_A_real_mh_jax, A_imag_mh_jax, C_mh_jax, 0.1, L)"
   ]
  },
  {
   "cell_type": "markdown",
   "id": "6c52f20bb56e7930",
   "metadata": {
    "collapsed": false
   },
   "source": [
    "### 2.b.2. Einsum implementation acknowledging the head dimension"
   ]
  },
  {
   "cell_type": "code",
   "execution_count": 16,
   "id": "2fa2aaef3c52aa8b",
   "metadata": {
    "ExecuteTime": {
     "end_time": "2024-09-09T16:10:57.180293Z",
     "start_time": "2024-09-09T16:10:57.177829Z"
    },
    "collapsed": false
   },
   "outputs": [],
   "source": [
    "def mh_kernel(log_A_real, A_imag, C, dt, L):\n",
    "    with torch.cuda.device(0):\n",
    "        A = -torch.exp(log_A_real) + 1j * A_imag\n",
    "        dtA = A * dt\n",
    "        K = dtA.unsqueeze(-1) * torch.arange(L).cuda()\n",
    "        exp_K = torch.exp(K)\n",
    "        K_end = torch.einsum('hn, hnl -> hl', C, exp_K)\n",
    "    return 2*K_end.real"
   ]
  },
  {
   "cell_type": "code",
   "execution_count": 17,
   "id": "4e9352d6a015905",
   "metadata": {
    "ExecuteTime": {
     "end_time": "2024-09-09T16:11:07.170694Z",
     "start_time": "2024-09-09T16:10:57.180994Z"
    },
    "collapsed": false
   },
   "outputs": [
    {
     "name": "stdout",
     "output_type": "stream",
     "text": [
      "123 μs ± 172 ns per loop (mean ± std. dev. of 7 runs, 10,000 loops each)\n"
     ]
    }
   ],
   "source": [
    "%timeit mh_kernel(log_A_real_mh, A_imag_mh, C_mh, 0.1, L)"
   ]
  },
  {
   "cell_type": "code",
   "execution_count": 18,
   "id": "31bb2b41ec851685",
   "metadata": {
    "ExecuteTime": {
     "end_time": "2024-09-09T16:11:07.174243Z",
     "start_time": "2024-09-09T16:11:07.171842Z"
    },
    "collapsed": false
   },
   "outputs": [],
   "source": [
    "def mh_kernel_jax(log_A_real, A_imag, C, dt, L):\n",
    "    A = -jnp.exp(log_A_real) + 1j * A_imag\n",
    "    dtA = A * dt\n",
    "    K = dtA[..., jnp.newaxis] * jnp.arange(L)\n",
    "    exp_K = jnp.exp(K)\n",
    "    K_end = jnp.einsum('hn, hnl -> hl', C, exp_K)\n",
    "    return 2*K_end.real"
   ]
  },
  {
   "cell_type": "code",
   "execution_count": 19,
   "id": "305f8ae029d2bb2d",
   "metadata": {
    "ExecuteTime": {
     "end_time": "2024-09-09T16:11:07.243314Z",
     "start_time": "2024-09-09T16:11:07.175086Z"
    },
    "collapsed": false
   },
   "outputs": [],
   "source": [
    "jit_mh_kernel_jax = jax.jit(mh_kernel_jax, static_argnums=(3, 4))\n",
    "# warmup\n",
    "_ = jit_mh_kernel_jax(log_A_real_mh_jax, A_imag_mh_jax, C_mh_jax, 0.1, L)"
   ]
  },
  {
   "cell_type": "code",
   "execution_count": 20,
   "id": "d757272beefc8630",
   "metadata": {
    "ExecuteTime": {
     "end_time": "2024-09-09T16:11:08.985917Z",
     "start_time": "2024-09-09T16:11:07.244452Z"
    },
    "collapsed": false
   },
   "outputs": [
    {
     "name": "stdout",
     "output_type": "stream",
     "text": [
      "21.5 μs ± 328 ns per loop (mean ± std. dev. of 7 runs, 10,000 loops each)\n"
     ]
    }
   ],
   "source": [
    "%timeit jit_mh_kernel_jax(log_A_real_mh_jax, A_imag_mh_jax, C_mh_jax, 0.1, L)"
   ]
  },
  {
   "cell_type": "markdown",
   "id": "e0ee46d239b263db",
   "metadata": {
    "collapsed": false
   },
   "source": [
    "## 2.c. Verification that they yield the same results"
   ]
  },
  {
   "cell_type": "code",
   "execution_count": 21,
   "id": "4cbbda876056e0ee",
   "metadata": {
    "ExecuteTime": {
     "end_time": "2024-09-09T16:11:09.186338Z",
     "start_time": "2024-09-09T16:11:08.987993Z"
    },
    "collapsed": false
   },
   "outputs": [
    {
     "name": "stdout",
     "output_type": "stream",
     "text": [
      "jnp.array_equal(K_end, K_end_jax)=Array(False, dtype=bool)\n",
      "jnp.allclose(K_end, K_end_jax)=Array(True, dtype=bool)\n"
     ]
    }
   ],
   "source": [
    "K_end = kernel(log_A_real, A_imag, C, 0.1, L)\n",
    "K_end_jax = jit_kernel_jax(log_A_real_jax, A_imag_jax, C_jax, 0.1, L)\n",
    "K_end = jnp.array(K_end.cpu())\n",
    "print(f'{jnp.array_equal(K_end, K_end_jax)=}')\n",
    "print(f'{jnp.allclose(K_end, K_end_jax)=}')"
   ]
  },
  {
   "cell_type": "code",
   "execution_count": 22,
   "id": "8eae92e89b39bd22",
   "metadata": {
    "ExecuteTime": {
     "end_time": "2024-09-09T16:11:09.342715Z",
     "start_time": "2024-09-09T16:11:09.187285Z"
    },
    "collapsed": false
   },
   "outputs": [
    {
     "name": "stdout",
     "output_type": "stream",
     "text": [
      "jnp.array_equal(K_end_mh, K_end_mh_jax)=Array(False, dtype=bool)\n",
      "jnp.allclose(K_end_mh, K_end_mh_jax)=Array(False, dtype=bool)\n",
      "jnp.array_equal(K_end_mh_jax, K_end_jv)=Array(True, dtype=bool)\n",
      "jnp.allclose(K_end_mh_jax, K_end_jv)=Array(True, dtype=bool)\n"
     ]
    }
   ],
   "source": [
    "K_end_mh = mh_kernel(log_A_real_mh, A_imag_mh, C_mh, 0.1, L)\n",
    "K_end_mh_jax = jit_mh_kernel_jax(log_A_real_mh_jax, A_imag_mh_jax, C_mh_jax, 0.1, L)\n",
    "K_end_jv = jv_kernel_jax(log_A_real_mh_jax, A_imag_mh_jax, C_mh_jax, 0.1, L)\n",
    "K_end_mh = jnp.array(K_end_mh.cpu())\n",
    "print(f'{jnp.array_equal(K_end_mh, K_end_mh_jax)=}')\n",
    "print(f'{jnp.allclose(K_end_mh, K_end_mh_jax)=}')\n",
    "print(f'{jnp.array_equal(K_end_mh_jax, K_end_jv)=}')\n",
    "print(f'{jnp.allclose(K_end_mh_jax, K_end_jv)=}')"
   ]
  },
  {
   "cell_type": "markdown",
   "id": "c77c3f9333b0b47e",
   "metadata": {
    "collapsed": false
   },
   "source": [
    "# 3. Output computation"
   ]
  },
  {
   "cell_type": "code",
   "execution_count": 23,
   "id": "776091dc18c50c08",
   "metadata": {
    "ExecuteTime": {
     "end_time": "2024-09-09T16:11:09.346637Z",
     "start_time": "2024-09-09T16:11:09.343819Z"
    },
    "collapsed": false
   },
   "outputs": [
    {
     "data": {
      "text/plain": [
       "(128,)"
      ]
     },
     "execution_count": 23,
     "metadata": {},
     "output_type": "execute_result"
    }
   ],
   "source": [
    "K_end.shape"
   ]
  },
  {
   "cell_type": "code",
   "execution_count": 43,
   "id": "cd93fc33f5cff265",
   "metadata": {
    "ExecuteTime": {
     "end_time": "2024-09-09T16:28:11.991636Z",
     "start_time": "2024-09-09T16:28:11.929704Z"
    },
    "collapsed": false
   },
   "outputs": [
    {
     "data": {
      "image/png": "[encoded data removed]",
      "text/plain": [
       "<Figure size 100x100 with 1 Axes>"
      ]
     },
     "metadata": {},
     "output_type": "display_data"
    }
   ],
   "source": [
    "# create an input tensor of shape K_end.shape\n",
    "with torch.cuda.device(0):\n",
    "    input = torch.randn(K_end.shape, dtype=torch.float).cuda()\n",
    "    gt_output = torch.sin(input)\n",
    "    \n",
    "input_jax = jnp.array(input.cpu())\n",
    "\n",
    "import matplotlib.pyplot as plt\n",
    "#recover the pixel value from matplotlib \n",
    "px = 1 / plt.rcParams['figure.dpi']\n",
    "fig, ax = plt.subplots(1,1, figsize=(100*px, 100*px))\n",
    "line = ax.scatter(input.cpu().numpy(), gt_output.cpu().numpy())\n",
    "plt.show()"
   ]
  },
  {
   "cell_type": "code",
   "execution_count": 44,
   "id": "948dea2fa183e91a",
   "metadata": {
    "ExecuteTime": {
     "end_time": "2024-09-09T16:28:12.108984Z",
     "start_time": "2024-09-09T16:28:12.105671Z"
    },
    "collapsed": false
   },
   "outputs": [],
   "source": [
    "K_end = kernel(log_A_real, A_imag, C, 0.1, 128)\n",
    "K_f = torch.fft.rfft(K_end, n=2*L)\n",
    "U_f = torch.fft.rfft(input, n=2*L)"
   ]
  },
  {
   "cell_type": "code",
   "execution_count": 45,
   "id": "809fa4e2637ed8be",
   "metadata": {
    "ExecuteTime": {
     "end_time": "2024-09-09T16:28:12.281788Z",
     "start_time": "2024-09-09T16:28:12.278624Z"
    },
    "collapsed": false
   },
   "outputs": [],
   "source": [
    "y = torch.fft.irfft(K_f * U_f, n=2*L)[..., :L]"
   ]
  },
  {
   "cell_type": "code",
   "execution_count": 46,
   "id": "51797dc58d4dfb93",
   "metadata": {
    "ExecuteTime": {
     "end_time": "2024-09-09T16:28:12.490339Z",
     "start_time": "2024-09-09T16:28:12.486355Z"
    },
    "collapsed": false
   },
   "outputs": [
    {
     "data": {
      "text/plain": [
       "torch.Size([128])"
      ]
     },
     "execution_count": 46,
     "metadata": {},
     "output_type": "execute_result"
    }
   ],
   "source": [
    "y.shape"
   ]
  },
  {
   "cell_type": "code",
   "execution_count": 47,
   "id": "b10388bc9cc9064c",
   "metadata": {
    "ExecuteTime": {
     "end_time": "2024-09-09T16:28:12.676104Z",
     "start_time": "2024-09-09T16:28:12.672104Z"
    },
    "collapsed": false
   },
   "outputs": [
    {
     "data": {
      "text/plain": [
       "128"
      ]
     },
     "execution_count": 47,
     "metadata": {},
     "output_type": "execute_result"
    }
   ],
   "source": [
    "L"
   ]
  },
  {
   "cell_type": "code",
   "execution_count": 48,
   "id": "321b9d8988a57261",
   "metadata": {
    "ExecuteTime": {
     "end_time": "2024-09-09T16:28:12.922908Z",
     "start_time": "2024-09-09T16:28:12.915314Z"
    },
    "collapsed": false
   },
   "outputs": [],
   "source": [
    "K_f_jax = jnp.fft.rfft(K_end_jax, n=2*L)\n",
    "U_f_jax = jnp.fft.rfft(input_jax, n=2*L)\n",
    "y_jax = jnp.fft.irfft(K_f_jax * U_f_jax, n=2*L)[..., :L]"
   ]
  },
  {
   "cell_type": "code",
   "execution_count": 49,
   "id": "659cc79dc133b80e",
   "metadata": {
    "ExecuteTime": {
     "end_time": "2024-09-09T16:28:13.091979Z",
     "start_time": "2024-09-09T16:28:13.086680Z"
    },
    "collapsed": false
   },
   "outputs": [
    {
     "data": {
      "text/plain": [
       "Array(True, dtype=bool)"
      ]
     },
     "execution_count": 49,
     "metadata": {},
     "output_type": "execute_result"
    }
   ],
   "source": [
    "jnp.allclose(y_jax, jnp.array(y.cpu()))"
   ]
  },
  {
   "cell_type": "code",
   "id": "6134489bc5e3c59e",
   "metadata": {
    "collapsed": false
   },
   "outputs": [],
   "source": []
  }
 ],
 "metadata": {
  "kernelspec": {
   "display_name": ".jax_conda_env_MML",
   "language": "python",
   "name": ".jax_conda_env_mml"
  },
  "language_info": {
   "codemirror_mode": {
    "name": "ipython",
    "version": 3
   },
   "file_extension": ".py",
   "mimetype": "text/x-python",
   "name": "python",
   "nbconvert_exporter": "python",
   "pygments_lexer": "ipython3",
   "version": "3.12.4"
  }
 },
 "nbformat": 4,
 "nbformat_minor": 5
}
