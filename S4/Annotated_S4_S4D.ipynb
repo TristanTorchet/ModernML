{
 "cells": [
  {
   "cell_type": "code",
   "execution_count": 1,
   "id": "cce183b79ecbd00",
   "metadata": {
    "ExecuteTime": {
     "end_time": "2024-09-09T18:03:41.727318Z",
     "start_time": "2024-09-09T18:03:41.494348Z"
    },
    "collapsed": false
   },
   "outputs": [
    {
     "name": "stdout",
     "output_type": "stream",
     "text": [
      "/home/tristan/miniconda3/envs/.jax_conda_env_MML/bin/python\r\n",
      "/home/tristan/ModernML/S4\r\n"
     ]
    }
   ],
   "source": [
    "!which python\n",
    "!pwd\n"
   ]
  },
  {
   "cell_type": "markdown",
   "id": "2d01c9ada2dec1cd",
   "metadata": {
    "collapsed": false
   },
   "source": [
    "# Random SSM\n",
    "This notebook trains a Random SSM on sin(x) or sin(ax+b) sequences. \n",
    "The hyperparameters are defined in the `config.yaml` file. \n",
    "- N (hidden state dimension): 64\n",
    "- H (d_model in yaml, number of heads): 10"
   ]
  },
  {
   "cell_type": "code",
   "execution_count": 2,
   "id": "initial_id",
   "metadata": {
    "ExecuteTime": {
     "end_time": "2024-09-09T18:03:43.612508Z",
     "start_time": "2024-09-09T18:03:42.268693Z"
    }
   },
   "outputs": [],
   "source": [
    "import jax\n",
    "import jax.numpy as jnp\n",
    "import numpy as np\n",
    "\n",
    "from data import create_sin_ax_b_dataset\n",
    "from model import BatchStackedModel, MultiHeadSSMLayer, MultiHeadS4DLayer\n",
    "import torch\n",
    "from utils import cross_entropy_loss, compute_accuracy\n",
    "from tqdm import tqdm"
   ]
  },
  {
   "cell_type": "code",
   "execution_count": 3,
   "id": "cf7bef88df235ffd",
   "metadata": {
    "ExecuteTime": {
     "end_time": "2024-09-09T18:03:44.511411Z",
     "start_time": "2024-09-09T18:03:43.613706Z"
    },
    "collapsed": false
   },
   "outputs": [],
   "source": [
    "rng = jax.random.PRNGKey(1)"
   ]
  },
  {
   "cell_type": "code",
   "execution_count": 4,
   "id": "60a3f98c7fd47fc4",
   "metadata": {
    "ExecuteTime": {
     "end_time": "2024-09-09T18:03:44.537513Z",
     "start_time": "2024-09-09T18:03:44.512570Z"
    },
    "collapsed": false
   },
   "outputs": [],
   "source": [
    "from omegaconf import OmegaConf\n",
    "\n",
    "# load the configuration file\n",
    "cfg = OmegaConf.load(\"config.yaml\")"
   ]
  },
  {
   "cell_type": "code",
   "execution_count": 5,
   "id": "3d1f0f03b96fa100",
   "metadata": {
    "ExecuteTime": {
     "end_time": "2024-09-09T18:03:44.541041Z",
     "start_time": "2024-09-09T18:03:44.538824Z"
    },
    "collapsed": false
   },
   "outputs": [],
   "source": [
    "dataset = cfg.dataset  # str, sin_ax, sin_ax_b\n",
    "layer = cfg.layer  # str, s4\n",
    "seed  = cfg.seed  # int, 0\n",
    "model = cfg.model  # DictConfig, {d_model: 10 (nb heads), n_layers: 4, dropout: 0.0, prenorm: true, embedding: false, layer: {N:64}}\n",
    "train = cfg.train  # DictConfig, {epochs: 100, bsz: 128, lr: 0.001, lr_schedule: false, weight_decay: 0.01, checkpoint: false, suffix: null, sample: null}"
   ]
  },
  {
   "cell_type": "code",
   "execution_count": 6,
   "id": "479fa53268f89306",
   "metadata": {
    "ExecuteTime": {
     "end_time": "2024-09-09T18:03:44.641377Z",
     "start_time": "2024-09-09T18:03:44.541959Z"
    },
    "collapsed": false
   },
   "outputs": [
    {
     "name": "stdout",
     "output_type": "stream",
     "text": [
      "[*] Setting Randomness...\n"
     ]
    }
   ],
   "source": [
    "# Set randomness...\n",
    "print(\"[*] Setting Randomness...\")\n",
    "torch.random.manual_seed(seed)  # For dataloader order\n",
    "key = jax.random.PRNGKey(seed)\n",
    "key, rng, train_rng = jax.random.split(key, num=3) # TODO: This is bad \n"
   ]
  },
  {
   "cell_type": "code",
   "execution_count": 7,
   "id": "7ae6c4b64e3e5539",
   "metadata": {
    "ExecuteTime": {
     "end_time": "2024-09-09T18:03:45.536578Z",
     "start_time": "2024-09-09T18:03:44.642432Z"
    },
    "collapsed": false
   },
   "outputs": [
    {
     "name": "stdout",
     "output_type": "stream",
     "text": [
      "classification=False\n",
      "[*] Generating sin(ax + b) Dataset...\n",
      "\t=>> Generating 1024 Training Examples...\n"
     ]
    },
    {
     "name": "stderr",
     "output_type": "stream",
     "text": [
      "100%|████████████████████████████████████████████████████████████████████████████████████████████████████████████████████████████████████████████████████| 1024/1024 [00:00<00:00, 1308.70it/s]\n"
     ]
    },
    {
     "name": "stdout",
     "output_type": "stream",
     "text": [
      "\t=>> Generating 128 Test Examples...\n"
     ]
    },
    {
     "name": "stderr",
     "output_type": "stream",
     "text": [
      "100%|██████████████████████████████████████████████████████████████████████████████████████████████████████████████████████████████████████████████████████| 128/128 [00:00<00:00, 1509.18it/s]"
     ]
    },
    {
     "name": "stdout",
     "output_type": "stream",
     "text": [
      "n_classes=8, l_max=128, d_input=1\n",
      "next(iter(trainloader))[0].shape=torch.Size([128, 128, 1])\n",
      "next(iter(testloader))[0].shape=torch.Size([128, 128, 1])\n"
     ]
    },
    {
     "name": "stderr",
     "output_type": "stream",
     "text": [
      "\n"
     ]
    }
   ],
   "source": [
    "# Check if classification dataset\n",
    "# because for each dataset there are two versions, eg: mnist and mnist-classification\n",
    "# TODO: in our case, sin x dataset is not a classification dataset\n",
    "# classification = \"classification\" in dataset\n",
    "classification = False\n",
    "print(f'{classification=}')\n",
    "\n",
    "create_dataset_fn = create_sin_ax_b_dataset\n",
    "trainloader, testloader, n_classes, l_max, d_input, data = create_dataset_fn(n_examples=1024, bsz=train.bsz)\n",
    "print(f'{n_classes=}, {l_max=}, {d_input=}')\n",
    "\n",
    "print(f'{next(iter(trainloader))[0].shape=}')\n",
    "print(f'{next(iter(testloader))[0].shape=}')"
   ]
  },
  {
   "cell_type": "code",
   "execution_count": 19,
   "id": "9bc6af8731fbbc61",
   "metadata": {
    "ExecuteTime": {
     "end_time": "2024-09-09T18:06:18.074004Z",
     "start_time": "2024-09-09T18:06:18.071688Z"
    },
    "collapsed": false
   },
   "outputs": [],
   "source": [
    "layer_cls = MultiHeadSSMLayer"
   ]
  },
  {
   "cell_type": "code",
   "execution_count": 20,
   "id": "47c2a8c51fbfed2d",
   "metadata": {
    "ExecuteTime": {
     "end_time": "2024-09-09T18:06:18.369527Z",
     "start_time": "2024-09-09T18:06:18.366732Z"
    },
    "collapsed": false
   },
   "outputs": [],
   "source": [
    "model.layer.l_max = l_max # l_max comes from the dataset fn"
   ]
  },
  {
   "cell_type": "code",
   "execution_count": 21,
   "id": "7c6e271694743c4c",
   "metadata": {
    "ExecuteTime": {
     "end_time": "2024-09-09T18:06:18.554426Z",
     "start_time": "2024-09-09T18:06:18.551339Z"
    },
    "collapsed": false
   },
   "outputs": [
    {
     "name": "stdout",
     "output_type": "stream",
     "text": [
      "lr_layer=None (if None, means that the attribute is not found)\n"
     ]
    }
   ],
   "source": [
    "# getattr returns the value of the named attribute of an object. \n",
    "# If not found, it returns the default value provided to the function.\n",
    "lr_layer = getattr(layer_cls, \"lr\", None)  # lr_layer should be a dictionary\n",
    "print(f'{lr_layer=} (if None, means that the attribute is not found)')"
   ]
  },
  {
   "cell_type": "code",
   "execution_count": 22,
   "id": "f032eaa7a63ffbdd",
   "metadata": {
    "ExecuteTime": {
     "end_time": "2024-09-09T18:06:18.773Z",
     "start_time": "2024-09-09T18:06:18.769230Z"
    },
    "collapsed": false
   },
   "outputs": [
    {
     "name": "stdout",
     "output_type": "stream",
     "text": [
      "[*] Starting `s4` Training on `sin_ax_b` =>> Initializing...\n"
     ]
    }
   ],
   "source": [
    "from functools import partial\n",
    "\n",
    "print(f\"[*] Starting `{layer}` Training on `{dataset}` =>> Initializing...\")\n",
    "\n",
    "# partial: Return a new partial object which when called will behave like func called with the positional arguments args and keyword arguments keywords.\n",
    "# a partial object is a wrapper for a callable object. The partial object can be called as though it is the wrapped callable object.\n",
    "model_cls = partial(\n",
    "        BatchStackedModel,\n",
    "        layer_cls=layer_cls,\n",
    "        d_output=n_classes,\n",
    "        classification=classification,\n",
    "        **model,\n",
    "    )"
   ]
  },
  {
   "cell_type": "code",
   "execution_count": 23,
   "id": "8a16be9a02f7b9f1",
   "metadata": {
    "ExecuteTime": {
     "end_time": "2024-09-09T18:06:19.069497Z",
     "start_time": "2024-09-09T18:06:19.061766Z"
    },
    "collapsed": false
   },
   "outputs": [],
   "source": [
    "import optax\n",
    "from flax.training import train_state\n",
    "\n",
    "\n",
    "# TODO: go to create_train_state function (and skip this mapping) it's just a helper function\n",
    "# As we're using Flax, we also write a utility function to return a default TrainState object.\n",
    "# This function initializes model parameters, as well as our optimizer. Note that for S4 models,\n",
    "# we use a custom learning rate for parameters of the S4 kernel (lr = 0.001, no weight decay).\n",
    "def map_nested_fn(fn):\n",
    "    \"\"\"Recursively apply `fn to the key-value pairs of a nested dict / pytree.\"\"\"\n",
    "\n",
    "    def map_fn(nested_dict):\n",
    "        return {\n",
    "            k: (map_fn(v) if hasattr(v, \"keys\") else fn(k, v))\n",
    "            for k, v in nested_dict.items()\n",
    "        }\n",
    "\n",
    "    return map_fn\n",
    "def create_train_state(\n",
    "    rng,\n",
    "    model_cls,\n",
    "    trainloader,\n",
    "    lr=1e-3,\n",
    "    lr_layer=None,\n",
    "    lr_schedule=False,\n",
    "    weight_decay=0.0,\n",
    "    total_steps=-1,\n",
    "):\n",
    "    print(f'[*] Creating Train State...')\n",
    "    model = model_cls(training=True)\n",
    "    init_rng, dropout_rng = jax.random.split(rng, num=2)\n",
    "    print(f'Init')\n",
    "    params = model.init(\n",
    "        {\"params\": init_rng, \"dropout\": dropout_rng},\n",
    "        jnp.array(next(iter(trainloader))[0].numpy()),\n",
    "    )\n",
    "    print(f'LRschedule')\n",
    "    if lr_schedule:\n",
    "        schedule_fn = lambda lr: optax.cosine_onecycle_schedule(\n",
    "            peak_value=lr,\n",
    "            transition_steps=total_steps,\n",
    "            pct_start=0.1,\n",
    "        )\n",
    "    else:\n",
    "        schedule_fn = lambda lr: lr\n",
    "    # lr_layer is a dictionary from parameter name to LR multiplier\n",
    "    if lr_layer is None:\n",
    "        lr_layer = {}\n",
    "\n",
    "    tx = optax.adamw(learning_rate=lr, weight_decay=0.01)\n",
    "\n",
    "    # Print parameter count\n",
    "    _is_complex = lambda x: x.dtype in [jnp.complex64, jnp.complex128]\n",
    "    param_sizes = map_nested_fn(\n",
    "        lambda k, param: param.size * (2 if _is_complex(param) else 1)\n",
    "        if lr_layer.get(k, lr) > 0.0\n",
    "        else 0\n",
    "    )(params)\n",
    "    print(f\"[*] Trainable Parameters: {sum(jax.tree_leaves(param_sizes))}\")\n",
    "    print(f\"[*] Total training steps: {total_steps}\")\n",
    "\n",
    "    return train_state.TrainState.create(\n",
    "        apply_fn=model.apply, params=params, tx=tx\n",
    "    )\n"
   ]
  },
  {
   "cell_type": "code",
   "execution_count": 24,
   "id": "4dcb22750d581e45",
   "metadata": {
    "ExecuteTime": {
     "end_time": "2024-09-09T18:06:24.041076Z",
     "start_time": "2024-09-09T18:06:19.321495Z"
    },
    "collapsed": false
   },
   "outputs": [
    {
     "name": "stdout",
     "output_type": "stream",
     "text": [
      "[*] Creating Train State...\n",
      "Init\n",
      "LRschedule\n",
      "[*] Trainable Parameters: 997168\n",
      "[*] Total training steps: 80\n"
     ]
    },
    {
     "name": "stderr",
     "output_type": "stream",
     "text": [
      "/tmp/ipykernel_1070854/3608746436.py:59: DeprecationWarning: jax.tree_leaves is deprecated: use jax.tree.leaves (jax v0.4.25 or newer) or jax.tree_util.tree_leaves (any JAX version).\n",
      "  print(f\"[*] Trainable Parameters: {sum(jax.tree_leaves(param_sizes))}\")\n"
     ]
    }
   ],
   "source": [
    "state = create_train_state(\n",
    "    rng=rng,\n",
    "    model_cls=model_cls,\n",
    "    trainloader=trainloader,\n",
    "    lr=train.lr,\n",
    "    lr_layer=lr_layer,\n",
    "    lr_schedule=train.lr_schedule,\n",
    "    weight_decay=train.weight_decay,\n",
    "    total_steps=len(trainloader) * train.epochs,\n",
    ")"
   ]
  },
  {
   "cell_type": "code",
   "execution_count": 25,
   "id": "4e1c87ba94e9be92",
   "metadata": {
    "ExecuteTime": {
     "end_time": "2024-09-09T18:06:24.080833Z",
     "start_time": "2024-09-09T18:06:24.042728Z"
    },
    "collapsed": false
   },
   "outputs": [],
   "source": [
    "@partial(jax.jit, static_argnums=(4, 5))\n",
    "def train_step(\n",
    "    state, rng, batch_inputs, batch_labels, model, classification=False\n",
    "):\n",
    "    print(f'{batch_inputs.shape=}')\n",
    "    print(f'{batch_labels.shape=}')\n",
    "    def loss_fn(params):\n",
    "        logits, mod_vars = model.apply(\n",
    "            params,\n",
    "            batch_inputs,\n",
    "            rngs={\"dropout\": rng},\n",
    "            mutable=[\"intermediates\"],\n",
    "        )\n",
    "        loss = jnp.mean(cross_entropy_loss(logits, batch_labels))\n",
    "        acc = jnp.mean(compute_accuracy(logits, batch_labels))\n",
    "        return loss, (logits, acc)\n",
    "\n",
    "    if not classification:\n",
    "        # For regression tasks, we use the input as the target\n",
    "        batch_labels = batch_inputs[:, :, 0]\n",
    "        print(f'{batch_labels.shape=}')\n",
    "\n",
    "    grad_fn = jax.value_and_grad(loss_fn, has_aux=True)\n",
    "    (loss, (logits, acc)), grads = grad_fn(state.params)\n",
    "    state = state.apply_gradients(grads=grads)\n",
    "    return state, loss, acc\n",
    "\n",
    "\n",
    "@partial(jax.jit, static_argnums=(3, 4))\n",
    "def eval_step(batch_inputs, batch_labels, params, model, classification=False):\n",
    "    print(f'{batch_inputs.shape=}')\n",
    "    print(f'{batch_labels.shape=}')\n",
    "    if not classification:\n",
    "        batch_labels = batch_inputs[:, :, 0]\n",
    "    logits = model.apply(params, batch_inputs)\n",
    "    loss = jnp.mean(cross_entropy_loss(logits, batch_labels))\n",
    "    acc = jnp.mean(compute_accuracy(logits, batch_labels))\n",
    "    return loss, acc"
   ]
  },
  {
   "cell_type": "code",
   "execution_count": 26,
   "id": "feca9fe95957040c",
   "metadata": {
    "ExecuteTime": {
     "end_time": "2024-09-09T18:06:24.106163Z",
     "start_time": "2024-09-09T18:06:24.081976Z"
    },
    "collapsed": false
   },
   "outputs": [],
   "source": [
    "def train_epoch(state, rng, model, trainloader, classification=False):\n",
    "    # Store Metrics\n",
    "    model = model(training=True)\n",
    "    batch_losses, batch_accuracies = [], []\n",
    "    for batch_idx, (inputs, labels) in enumerate(trainloader):\n",
    "        inputs = jnp.array(inputs.numpy())\n",
    "        labels = jnp.array(labels.numpy())  # Not the most efficient...\n",
    "        rng, drop_rng = jax.random.split(rng)\n",
    "        state, loss, acc = train_step(\n",
    "            state,\n",
    "            drop_rng,\n",
    "            inputs,\n",
    "            labels,\n",
    "            model,\n",
    "            classification=classification,\n",
    "        )\n",
    "        batch_losses.append(loss)\n",
    "        batch_accuracies.append(acc)\n",
    "\n",
    "    # Return average loss over batches\n",
    "    return (\n",
    "        state,\n",
    "        jnp.mean(jnp.array(batch_losses)),\n",
    "        jnp.mean(jnp.array(batch_accuracies)),\n",
    "    )"
   ]
  },
  {
   "cell_type": "code",
   "execution_count": 27,
   "id": "8eac72d3913cb6f9",
   "metadata": {
    "ExecuteTime": {
     "end_time": "2024-09-09T18:06:24.128212Z",
     "start_time": "2024-09-09T18:06:24.107172Z"
    },
    "collapsed": false
   },
   "outputs": [],
   "source": [
    "def validate(params, model, testloader, classification=False):\n",
    "    # Compute average loss & accuracy\n",
    "    model = model(training=False)\n",
    "    losses, accuracies = [], []\n",
    "    for batch_idx, (inputs, labels) in enumerate(testloader):\n",
    "        inputs = jnp.array(inputs.numpy())\n",
    "        labels = jnp.array(labels.numpy())  # Not the most efficient...\n",
    "        loss, acc = eval_step(\n",
    "            inputs, labels, params, model, classification=classification\n",
    "        )\n",
    "        losses.append(loss)\n",
    "        accuracies.append(acc)\n",
    "\n",
    "    return jnp.mean(jnp.array(losses)), jnp.mean(jnp.array(accuracies))\n"
   ]
  },
  {
   "cell_type": "code",
   "execution_count": 28,
   "id": "a628a171db70a3ad",
   "metadata": {
    "ExecuteTime": {
     "end_time": "2024-09-09T18:15:18.113142Z",
     "start_time": "2024-09-09T18:06:24.128878Z"
    },
    "collapsed": false
   },
   "outputs": [
    {
     "name": "stdout",
     "output_type": "stream",
     "text": [
      "Epoch | Train Loss | Train Acc | Test Loss | Test Acc\n",
      "-------------------------------------------------------\n",
      "batch_inputs.shape=(128, 128, 1)\n",
      "batch_labels.shape=(128, 128, 1)\n",
      "batch_labels.shape=(128, 128)\n",
      "batch_inputs.shape=(128, 128, 1)\n",
      "batch_labels.shape=(128, 128, 1)\n",
      "    1 | 262.24451    | 0.0781    | 41.80103   | 0.0464   \n",
      "    2 | 19.37352    | 0.0834    | 9.87496   | 0.1223   \n",
      "    3 | 6.47861    | 0.1170    | 4.28912   | 0.1004   \n",
      "    4 | 3.88631    | 0.1156    | 3.53186   | 0.1382   \n",
      "    5 | 3.17543    | 0.1495    | 2.78827   | 0.1381   \n",
      "    6 | 2.59243    | 0.1356    | 2.28738   | 0.1139   \n",
      "    7 | 2.24969    | 0.1367    | 2.27439   | 0.1391   \n",
      "    8 | 2.19797    | 0.1433    | 2.12904   | 0.1458   \n",
      "    9 | 2.12823    | 0.1539    | 2.08643   | 0.1545   \n",
      "   10 | 2.08232    | 0.1727    | 2.04257   | 0.1782   \n",
      "   11 | 2.03890    | 0.1923    | 2.02204   | 0.1929   \n",
      "   12 | 2.01077    | 0.2056    | 1.98950   | 0.2050   \n",
      "   13 | 1.98742    | 0.2196    | 1.96683   | 0.2216   \n",
      "   14 | 1.96530    | 0.2349    | 1.94702   | 0.2412   \n",
      "   15 | 1.94387    | 0.2538    | 1.92598   | 0.2623   \n",
      "   16 | 1.92432    | 0.2723    | 1.90626   | 0.2824   \n",
      "   17 | 1.90410    | 0.2921    | 1.88737   | 0.3080   \n",
      "   18 | 1.88413    | 0.3156    | 1.86652   | 0.3251   \n",
      "   19 | 1.86123    | 0.3357    | 1.84257   | 0.3406   \n",
      "   20 | 1.83557    | 0.3465    | 1.81432   | 0.3568   \n",
      "   21 | 1.80186    | 0.3767    | 1.77677   | 0.3948   \n",
      "   22 | 1.76449    | 0.4049    | 1.74481   | 0.4106   \n",
      "   23 | 1.73477    | 0.4208    | 1.71690   | 0.4230   \n",
      "   24 | 1.70452    | 0.4351    | 1.68614   | 0.4372   \n",
      "   25 | 1.67494    | 0.4428    | 1.65866   | 0.4409   \n",
      "   26 | 1.64786    | 0.4482    | 1.63196   | 0.4480   \n",
      "   27 | 1.61968    | 0.4544    | 1.60482   | 0.4554   \n",
      "   28 | 1.59339    | 0.4589    | 1.58180   | 0.4595   \n",
      "   29 | 1.56731    | 0.4621    | 1.55320   | 0.4642   \n",
      "   30 | 1.53824    | 0.4670    | 1.52532   | 0.4683   \n",
      "   31 | 1.51013    | 0.4717    | 1.49691   | 0.4717   \n",
      "   32 | 1.48321    | 0.4757    | 1.47401   | 0.4749   \n",
      "   33 | 1.45901    | 0.4807    | 1.45040   | 0.4813   \n",
      "   34 | 1.43565    | 0.4883    | 1.43110   | 0.4871   \n",
      "   35 | 1.41428    | 0.4943    | 1.40916   | 0.4938   \n",
      "   36 | 1.39178    | 0.5022    | 1.38818   | 0.5015   \n",
      "   37 | 1.36975    | 0.5068    | 1.36535   | 0.5070   \n",
      "   38 | 1.34699    | 0.5122    | 1.34529   | 0.5081   \n",
      "   39 | 1.32464    | 0.5165    | 1.32275   | 0.5122   \n",
      "   40 | 1.30659    | 0.5184    | 1.30616   | 0.5157   \n",
      "   41 | 1.28605    | 0.5229    | 1.29189   | 0.5145   \n",
      "   42 | 1.27061    | 0.5260    | 1.27323   | 0.5219   \n",
      "   43 | 1.25315    | 0.5287    | 1.25788   | 0.5229   \n",
      "   44 | 1.23895    | 0.5309    | 1.24503   | 0.5278   \n",
      "   45 | 1.22392    | 0.5353    | 1.23019   | 0.5253   \n",
      "   46 | 1.21386    | 0.5359    | 1.21660   | 0.5339   \n",
      "   47 | 1.19975    | 0.5402    | 1.21005   | 0.5284   \n",
      "   48 | 1.18940    | 0.5390    | 1.19327   | 0.5345   \n",
      "   49 | 1.17808    | 0.5425    | 1.18112   | 0.5332   \n",
      "   50 | 1.16735    | 0.5424    | 1.16889   | 0.5389   \n",
      "   51 | 1.15191    | 0.5487    | 1.15812   | 0.5417   \n",
      "   52 | 1.15213    | 0.5465    | 1.15631   | 0.5431   \n",
      "   53 | 1.14306    | 0.5473    | 1.14967   | 0.5488   \n",
      "   54 | 1.13044    | 0.5512    | 1.13315   | 0.5488   \n",
      "   55 | 1.11737    | 0.5556    | 1.14452   | 0.5427   \n",
      "   56 | 1.11733    | 0.5550    | 1.11854   | 0.5522   \n",
      "   57 | 1.10195    | 0.5577    | 1.10864   | 0.5588   \n",
      "   58 | 1.10016    | 0.5582    | 1.12983   | 0.5355   \n",
      "   59 | 1.11082    | 0.5523    | 1.11916   | 0.5526   \n",
      "   60 | 1.10292    | 0.5578    | 1.09545   | 0.5604   \n",
      "   61 | 1.09516    | 0.5619    | 1.09086   | 0.5596   \n",
      "   62 | 1.07799    | 0.5679    | 1.08567   | 0.5634   \n",
      "   63 | 1.08566    | 0.5687    | 1.07218   | 0.5683   \n",
      "   64 | 1.05917    | 0.5718    | 1.07739   | 0.5618   \n",
      "   65 | 1.05650    | 0.5747    | 1.06292   | 0.5687   \n",
      "   66 | 1.06502    | 0.5747    | 1.05951   | 0.5701   \n",
      "   67 | 1.09166    | 0.5723    | 1.10313   | 0.5657   \n",
      "   68 | 1.06886    | 0.5757    | 1.07927   | 0.5709   \n",
      "   69 | 1.07756    | 0.5772    | 1.08464   | 0.5740   \n",
      "   70 | 1.05863    | 0.5741    | 1.06881   | 0.5637   \n",
      "   71 | 1.04509    | 0.5748    | 1.04014   | 0.5698   \n",
      "   72 | 1.03047    | 0.5794    | 1.03192   | 0.5715   \n",
      "   73 | 1.01740    | 0.5846    | 1.03553   | 0.5767   \n",
      "   74 | 1.01038    | 0.5870    | 1.00541   | 0.5841   \n",
      "   75 | 0.99359    | 0.5924    | 1.00016   | 0.5847   \n",
      "   76 | 0.98388    | 0.5949    | 0.99228   | 0.5905   \n",
      "   77 | 0.97824    | 0.5960    | 1.00053   | 0.5879   \n",
      "   78 | 0.97743    | 0.5959    | 0.98494   | 0.5914   \n",
      "   79 | 0.96805    | 0.5984    | 0.98198   | 0.5904   \n",
      "   80 | 0.96393    | 0.6008    | 0.97153   | 0.5932   \n",
      "   81 | 0.95702    | 0.6029    | 0.96541   | 0.5956   \n",
      "   82 | 0.95511    | 0.6025    | 0.96621   | 0.5946   \n",
      "   83 | 0.95091    | 0.6043    | 0.98504   | 0.5908   \n",
      "   84 | 0.96931    | 0.5975    | 0.95774   | 0.6021   \n",
      "   85 | 0.95870    | 0.6005    | 0.96083   | 0.5988   \n",
      "   86 | 0.94883    | 0.6070    | 0.95543   | 0.5992   \n",
      "   87 | 0.94481    | 0.6075    | 0.94865   | 0.6039   \n",
      "   88 | 0.93389    | 0.6133    | 0.94381   | 0.6036   \n",
      "   89 | 0.92848    | 0.6145    | 0.93793   | 0.6077   \n",
      "   90 | 0.92105    | 0.6174    | 0.93251   | 0.6109   \n",
      "   91 | 0.91802    | 0.6185    | 0.93490   | 0.6063   \n",
      "   92 | 0.91485    | 0.6195    | 0.93085   | 0.6094   \n",
      "   93 | 0.91148    | 0.6224    | 0.92257   | 0.6146   \n",
      "   94 | 0.90607    | 0.6229    | 0.92222   | 0.6131   \n",
      "   95 | 0.91453    | 0.6208    | 0.92177   | 0.6151   \n",
      "   96 | 0.91477    | 0.6210    | 0.94321   | 0.6074   \n",
      "   97 | 0.90583    | 0.6240    | 0.91268   | 0.6171   \n",
      "   98 | 0.90158    | 0.6263    | 0.91127   | 0.6210   \n",
      "   99 | 0.91112    | 0.6260    | 0.96368   | 0.6092   \n",
      "  100 | 0.96718    | 0.6232    | 0.93842   | 0.6086   \n",
      "  101 | 0.94445    | 0.6154    | 0.92920   | 0.6113   \n",
      "  102 | 0.91921    | 0.6221    | 0.97336   | 0.6197   \n",
      "  103 | 0.91731    | 0.6272    | 0.93179   | 0.6171   \n",
      "  104 | 0.90874    | 0.6316    | 0.92022   | 0.6236   \n",
      "  105 | 0.89533    | 0.6348    | 0.90647   | 0.6277   \n",
      "  106 | 0.88828    | 0.6362    | 0.90330   | 0.6239   \n",
      "  107 | 0.90210    | 0.6319    | 0.99857   | 0.6113   \n",
      "  108 | 0.95363    | 0.6255    | 0.95137   | 0.6153   \n",
      "  109 | 1.00242    | 0.6271    | 0.91461   | 0.6255   \n",
      "  110 | 0.92487    | 0.6308    | 0.94550   | 0.6265   \n",
      "  111 | 0.93738    | 0.6335    | 0.89943   | 0.6344   \n",
      "  112 | 0.89550    | 0.6407    | 0.88758   | 0.6382   \n",
      "  113 | 0.88187    | 0.6455    | 0.88092   | 0.6414   \n",
      "  114 | 0.86921    | 0.6481    | 0.88519   | 0.6420   \n",
      "  115 | 0.86689    | 0.6510    | 0.87268   | 0.6443   \n",
      "  116 | 0.86063    | 0.6524    | 0.88027   | 0.6418   \n",
      "  117 | 0.87352    | 0.6522    | 0.86344   | 0.6502   \n",
      "  118 | 0.86580    | 0.6526    | 0.92721   | 0.6351   \n",
      "  119 | 0.89692    | 0.6482    | 0.86588   | 0.6522   \n",
      "  120 | 0.86786    | 0.6568    | 0.88024   | 0.6529   \n",
      "  121 | 0.86379    | 0.6578    | 0.85539   | 0.6555   \n",
      "  122 | 0.85014    | 0.6608    | 0.85517   | 0.6552   \n",
      "  123 | 0.85513    | 0.6617    | 0.85361   | 0.6561   \n",
      "  124 | 0.84554    | 0.6630    | 0.85415   | 0.6541   \n",
      "  125 | 0.83767    | 0.6680    | 0.84122   | 0.6614   \n",
      "  126 | 0.83414    | 0.6692    | 0.84568   | 0.6617   \n",
      "  127 | 0.83166    | 0.6701    | 0.84704   | 0.6589   \n",
      "  128 | 0.83213    | 0.6693    | 0.83696   | 0.6632   \n",
      "  129 | 0.82729    | 0.6717    | 0.84217   | 0.6649   \n",
      "  130 | 0.82882    | 0.6708    | 0.85101   | 0.6591   \n",
      "  131 | 0.82633    | 0.6728    | 0.82934   | 0.6671   \n",
      "  132 | 0.81658    | 0.6782    | 0.82565   | 0.6691   \n",
      "  133 | 0.81325    | 0.6779    | 0.82149   | 0.6715   \n",
      "  134 | 0.81225    | 0.6800    | 0.82736   | 0.6722   \n",
      "  135 | 0.81092    | 0.6803    | 0.82502   | 0.6671   \n",
      "  136 | 0.81096    | 0.6796    | 0.81658   | 0.6771   \n",
      "  137 | 0.80458    | 0.6834    | 0.81706   | 0.6704   \n",
      "  138 | 0.80443    | 0.6830    | 0.81165   | 0.6743   \n",
      "  139 | 0.80583    | 0.6810    | 0.81102   | 0.6772   \n",
      "  140 | 0.79822    | 0.6866    | 0.80448   | 0.6785   \n",
      "  141 | 0.79680    | 0.6854    | 0.80268   | 0.6790   \n",
      "  142 | 0.82182    | 0.6823    | 0.83638   | 0.6756   \n",
      "  143 | 0.81765    | 0.6810    | 0.80028   | 0.6808   \n",
      "  144 | 0.81528    | 0.6843    | 0.80609   | 0.6791   \n",
      "  145 | 0.80238    | 0.6858    | 0.80426   | 0.6816   \n",
      "  146 | 0.80015    | 0.6873    | 0.80542   | 0.6776   \n",
      "  147 | 0.79821    | 0.6847    | 0.81151   | 0.6830   \n",
      "  148 | 0.79843    | 0.6882    | 0.78643   | 0.6881   \n",
      "  149 | 0.78778    | 0.6895    | 0.79549   | 0.6806   \n",
      "  150 | 0.78881    | 0.6886    | 0.78912   | 0.6818   \n",
      "  151 | 0.78457    | 0.6907    | 0.79552   | 0.6821   \n",
      "  152 | 0.78390    | 0.6898    | 0.78117   | 0.6880   \n",
      "  153 | 0.77474    | 0.6933    | 0.77645   | 0.6909   \n",
      "  154 | 0.77211    | 0.6944    | 0.77543   | 0.6866   \n",
      "  155 | 0.77324    | 0.6939    | 0.78100   | 0.6831   \n",
      "  156 | 0.76892    | 0.6939    | 0.77027   | 0.6912   \n",
      "  157 | 0.76648    | 0.6968    | 0.76577   | 0.6932   \n",
      "  158 | 0.75999    | 0.6984    | 0.76278   | 0.6970   \n",
      "  159 | 0.75940    | 0.6987    | 0.76522   | 0.6901   \n",
      "  160 | 0.75682    | 0.6987    | 0.75758   | 0.6972   \n",
      "  161 | 0.75288    | 0.7007    | 0.75927   | 0.6912   \n",
      "  162 | 0.75083    | 0.7002    | 0.75574   | 0.6971   \n",
      "  163 | 0.74928    | 0.7017    | 0.75234   | 0.6971   \n",
      "  164 | 0.75008    | 0.7016    | 0.75293   | 0.6954   \n",
      "  165 | 0.75452    | 0.7003    | 0.76293   | 0.6946   \n",
      "  166 | 0.75431    | 0.7001    | 0.74923   | 0.7002   \n",
      "  167 | 0.75091    | 0.7025    | 0.74583   | 0.6968   \n",
      "  168 | 0.74168    | 0.7020    | 0.74355   | 0.7042   \n",
      "  169 | 0.73750    | 0.7061    | 0.74293   | 0.6972   \n",
      "  170 | 0.73483    | 0.7052    | 0.73680   | 0.6982   \n",
      "  171 | 0.72973    | 0.7068    | 0.73267   | 0.7036   \n",
      "  172 | 0.72912    | 0.7071    | 0.73307   | 0.7018   \n",
      "  173 | 0.72817    | 0.7078    | 0.72822   | 0.7061   \n",
      "  174 | 0.73619    | 0.7054    | 0.78443   | 0.6828   \n",
      "  175 | 0.75060    | 0.6991    | 0.73204   | 0.7003   \n",
      "  176 | 0.72944    | 0.7090    | 0.73162   | 0.7042   \n",
      "  177 | 0.72930    | 0.7079    | 0.73587   | 0.7048   \n",
      "  178 | 0.72734    | 0.7098    | 0.72420   | 0.7032   \n",
      "  179 | 0.71597    | 0.7112    | 0.71853   | 0.7063   \n",
      "  180 | 0.71405    | 0.7117    | 0.72123   | 0.7080   \n",
      "  181 | 0.71987    | 0.7114    | 0.73963   | 0.6976   \n",
      "  182 | 0.72465    | 0.7080    | 0.71933   | 0.7090   \n",
      "  183 | 0.75539    | 0.7071    | 0.72092   | 0.7070   \n",
      "  184 | 0.71723    | 0.7119    | 0.71871   | 0.7079   \n",
      "  185 | 0.73115    | 0.7099    | 0.70904   | 0.7097   \n",
      "  186 | 0.71209    | 0.7117    | 0.71428   | 0.7096   \n",
      "  187 | 0.70950    | 0.7136    | 0.70684   | 0.7131   \n",
      "  188 | 0.70428    | 0.7156    | 0.70847   | 0.7101   \n",
      "  189 | 0.69931    | 0.7173    | 0.69748   | 0.7155   \n",
      "  190 | 0.69737    | 0.7177    | 0.69924   | 0.7172   \n",
      "  191 | 0.69731    | 0.7203    | 0.69788   | 0.7115   \n",
      "  192 | 0.69152    | 0.7202    | 0.69159   | 0.7169   \n",
      "  193 | 0.69105    | 0.7205    | 0.68899   | 0.7186   \n",
      "  194 | 0.68833    | 0.7212    | 0.68701   | 0.7169   \n",
      "  195 | 0.68603    | 0.7232    | 0.68658   | 0.7182   \n",
      "  196 | 0.68447    | 0.7238    | 0.68407   | 0.7191   \n",
      "  197 | 0.68339    | 0.7240    | 0.69376   | 0.7117   \n",
      "  198 | 0.68092    | 0.7244    | 0.67689   | 0.7205   \n",
      "  199 | 0.68411    | 0.7230    | 0.68331   | 0.7234   \n",
      "  200 | 0.70058    | 0.7170    | 0.71188   | 0.7050   \n",
      "  201 | 0.69205    | 0.7211    | 0.67866   | 0.7213   \n",
      "  202 | 0.68191    | 0.7241    | 0.68544   | 0.7213   \n",
      "  203 | 0.67796    | 0.7276    | 0.67297   | 0.7260   \n",
      "  204 | 0.67003    | 0.7288    | 0.67219   | 0.7216   \n",
      "  205 | 0.67082    | 0.7291    | 0.66664   | 0.7232   \n",
      "  206 | 0.67082    | 0.7293    | 0.66542   | 0.7242   \n",
      "  207 | 0.66656    | 0.7292    | 0.66281   | 0.7267   \n",
      "  208 | 0.66786    | 0.7293    | 0.66399   | 0.7270   \n",
      "  209 | 0.66722    | 0.7305    | 0.67200   | 0.7220   \n",
      "  210 | 0.66455    | 0.7307    | 0.65852   | 0.7305   \n",
      "  211 | 0.66064    | 0.7331    | 0.65876   | 0.7299   \n",
      "  212 | 0.65737    | 0.7330    | 0.65758   | 0.7284   \n",
      "  213 | 0.65619    | 0.7336    | 0.65204   | 0.7290   \n",
      "  214 | 0.65458    | 0.7339    | 0.65389   | 0.7286   \n",
      "  215 | 0.66010    | 0.7322    | 0.65167   | 0.7307   \n",
      "  216 | 0.66055    | 0.7327    | 0.64969   | 0.7344   \n",
      "  217 | 0.65340    | 0.7343    | 0.64224   | 0.7350   \n",
      "  218 | 0.64975    | 0.7366    | 0.64444   | 0.7353   \n",
      "  219 | 0.64546    | 0.7377    | 0.64268   | 0.7334   \n",
      "  220 | 0.64380    | 0.7380    | 0.63887   | 0.7368   \n",
      "  221 | 0.64404    | 0.7386    | 0.63572   | 0.7382   \n",
      "  222 | 0.64236    | 0.7383    | 0.64061   | 0.7352   \n",
      "  223 | 0.63949    | 0.7394    | 0.63307   | 0.7388   \n",
      "  224 | 0.63556    | 0.7413    | 0.64000   | 0.7320   \n",
      "  225 | 0.63636    | 0.7402    | 0.63370   | 0.7403   \n",
      "  226 | 0.64359    | 0.7378    | 0.63655   | 0.7384   \n",
      "  227 | 0.63980    | 0.7398    | 0.63773   | 0.7347   \n",
      "  228 | 0.63760    | 0.7391    | 0.63260   | 0.7397   \n",
      "  229 | 0.63312    | 0.7417    | 0.62629   | 0.7401   \n",
      "  230 | 0.62900    | 0.7440    | 0.62219   | 0.7413   \n",
      "  231 | 0.62779    | 0.7436    | 0.62495   | 0.7408   \n",
      "  232 | 0.63085    | 0.7418    | 0.62469   | 0.7396   \n",
      "  233 | 0.62750    | 0.7424    | 0.61770   | 0.7417   \n",
      "  234 | 0.62343    | 0.7450    | 0.62186   | 0.7387   \n",
      "  235 | 0.62124    | 0.7446    | 0.62289   | 0.7448   \n",
      "  236 | 0.62097    | 0.7440    | 0.61522   | 0.7448   \n",
      "  237 | 0.62923    | 0.7421    | 0.66073   | 0.7380   \n",
      "  238 | 0.65387    | 0.7396    | 0.62059   | 0.7445   \n",
      "  239 | 0.62871    | 0.7433    | 0.61924   | 0.7413   \n",
      "  240 | 0.63519    | 0.7409    | 0.61699   | 0.7426   \n",
      "  241 | 0.61942    | 0.7454    | 0.60995   | 0.7463   \n",
      "  242 | 0.61461    | 0.7474    | 0.60879   | 0.7447   \n",
      "  243 | 0.61108    | 0.7482    | 0.60742   | 0.7455   \n",
      "  244 | 0.60774    | 0.7492    | 0.61158   | 0.7444   \n",
      "  245 | 0.61284    | 0.7473    | 0.61763   | 0.7461   \n",
      "  246 | 0.61888    | 0.7443    | 0.61948   | 0.7386   \n",
      "  247 | 0.61712    | 0.7463    | 0.61126   | 0.7440   \n",
      "  248 | 0.60907    | 0.7466    | 0.60228   | 0.7477   \n",
      "  249 | 0.60581    | 0.7498    | 0.60390   | 0.7482   \n",
      "  250 | 0.60233    | 0.7501    | 0.59906   | 0.7497   \n",
      "  251 | 0.59863    | 0.7525    | 0.59371   | 0.7535   \n",
      "  252 | 0.59538    | 0.7526    | 0.59252   | 0.7533   \n",
      "  253 | 0.59575    | 0.7529    | 0.59689   | 0.7458   \n",
      "  254 | 0.60388    | 0.7491    | 0.60005   | 0.7486   \n",
      "  255 | 0.60697    | 0.7486    | 0.60318   | 0.7453   \n",
      "  256 | 0.61143    | 0.7499    | 0.60784   | 0.7440   \n",
      "  257 | 0.59489    | 0.7527    | 0.59476   | 0.7493   \n",
      "  258 | 0.59317    | 0.7526    | 0.59872   | 0.7536   \n",
      "  259 | 0.61683    | 0.7484    | 0.61832   | 0.7484   \n",
      "  260 | 0.60692    | 0.7499    | 0.60014   | 0.7497   \n",
      "  261 | 0.59269    | 0.7533    | 0.59052   | 0.7544   \n",
      "  262 | 0.59245    | 0.7534    | 28.71758   | 0.7028   \n",
      "  263 | 5.31893    | 0.5192    | 1.92553   | 0.4061   \n",
      "  264 | 1.75785    | 0.4700    | 1.46283   | 0.4826   \n",
      "  265 | 1.34286    | 0.5005    | 1.23110   | 0.5276   \n",
      "  266 | 1.20738    | 0.5220    | 1.14700   | 0.5258   \n",
      "  267 | 1.12736    | 0.5347    | 1.07674   | 0.5485   \n",
      "  268 | 1.06258    | 0.5567    | 1.02500   | 0.5740   \n",
      "  269 | 1.00915    | 0.5777    | 0.97321   | 0.5983   \n",
      "  270 | 0.95795    | 0.6014    | 0.92817   | 0.6113   \n",
      "  271 | 0.91299    | 0.6133    | 0.89195   | 0.6179   \n",
      "  272 | 0.88344    | 0.6287    | 0.86963   | 0.6352   \n",
      "  273 | 0.86178    | 0.6408    | 0.85298   | 0.6445   \n",
      "  274 | 0.84427    | 0.6515    | 0.83664   | 0.6555   \n",
      "  275 | 0.83033    | 0.6621    | 0.82279   | 0.6609   \n",
      "  276 | 0.82191    | 0.6663    | 0.81791   | 0.6632   \n",
      "  277 | 0.81308    | 0.6697    | 0.81512   | 0.6645   \n",
      "  278 | 0.80558    | 0.6728    | 0.79843   | 0.6668   \n",
      "  279 | 0.79324    | 0.6767    | 0.79245   | 0.6718   \n",
      "  280 | 0.78517    | 0.6819    | 0.78417   | 0.6787   \n",
      "  281 | 0.77651    | 0.6871    | 0.77588   | 0.6807   \n",
      "  282 | 0.76941    | 0.6905    | 0.76861   | 0.6832   \n",
      "  283 | 0.76541    | 0.6912    | 0.79430   | 0.6727   \n",
      "  284 | 0.77053    | 0.6899    | 0.76979   | 0.6847   \n",
      "  285 | 0.76087    | 0.6928    | 0.76218   | 0.6898   \n",
      "  286 | 0.75385    | 0.6980    | 0.75999   | 0.6899   \n",
      "  287 | 0.75321    | 0.6984    | 0.75396   | 0.6951   \n",
      "  288 | 0.75459    | 0.6978    | 0.74624   | 0.6960   \n",
      "  289 | 0.74346    | 0.7023    | 0.74529   | 0.6994   \n",
      "  290 | 0.74027    | 0.7049    | 0.74585   | 0.6959   \n",
      "  291 | 0.74369    | 0.7046    | 0.73766   | 0.7015   \n",
      "  292 | 0.74493    | 0.7015    | 0.74529   | 0.6960   \n",
      "  293 | 0.74376    | 0.7022    | 0.73918   | 0.6986   \n",
      "  294 | 0.73024    | 0.7093    | 0.72701   | 0.7092   \n",
      "  295 | 0.72689    | 0.7113    | 0.72393   | 0.7095   \n",
      "  296 | 0.72557    | 0.7114    | 0.73312   | 0.7009   \n",
      "  297 | 0.72753    | 0.7095    | 0.72313   | 0.7104   \n",
      "  298 | 0.71950    | 0.7134    | 0.71281   | 0.7136   \n",
      "  299 | 0.71284    | 0.7171    | 0.70976   | 0.7136   \n",
      "  300 | 0.71439    | 0.7168    | 0.71227   | 0.7116   \n",
      "  301 | 0.71226    | 0.7167    | 0.71873   | 0.7112   \n",
      "  302 | 0.71380    | 0.7159    | 0.70655   | 0.7129   \n",
      "  303 | 0.70969    | 0.7175    | 0.70642   | 0.7157   \n",
      "  304 | 0.70784    | 0.7186    | 0.69826   | 0.7167   \n",
      "  305 | 0.69993    | 0.7210    | 0.69539   | 0.7164   \n",
      "  306 | 0.69920    | 0.7205    | 0.70712   | 0.7159   \n",
      "  307 | 0.69767    | 0.7222    | 0.68957   | 0.7192   \n",
      "  308 | 0.69223    | 0.7237    | 0.68669   | 0.7200   \n",
      "  309 | 0.68974    | 0.7254    | 0.68822   | 0.7191   \n",
      "  310 | 0.68878    | 0.7251    | 0.68724   | 0.7186   \n",
      "  311 | 0.68549    | 0.7261    | 0.69439   | 0.7183   \n",
      "  312 | 0.69809    | 0.7214    | 0.68209   | 0.7213   \n",
      "  313 | 0.68930    | 0.7232    | 0.67922   | 0.7225   \n",
      "  314 | 0.68328    | 0.7255    | 0.67290   | 0.7235   \n",
      "  315 | 0.67929    | 0.7267    | 0.67947   | 0.7195   \n",
      "  316 | 0.67912    | 0.7264    | 0.67799   | 0.7196   \n",
      "  317 | 0.67953    | 0.7266    | 0.66894   | 0.7230   \n",
      "  318 | 0.67323    | 0.7288    | 0.66775   | 0.7254   \n",
      "  319 | 0.67376    | 0.7284    | 0.66642   | 0.7209   \n",
      "  320 | 0.66779    | 0.7306    | 0.66032   | 0.7267   \n",
      "  321 | 0.66333    | 0.7315    | 0.65770   | 0.7274   \n",
      "  322 | 0.66126    | 0.7328    | 0.65989   | 0.7242   \n",
      "  323 | 0.65986    | 0.7324    | 0.65356   | 0.7291   \n",
      "  324 | 0.66026    | 0.7321    | 0.65433   | 0.7302   \n",
      "  325 | 0.65737    | 0.7337    | 0.65007   | 0.7295   \n",
      "  326 | 0.65547    | 0.7337    | 0.65470   | 0.7255   \n",
      "  327 | 0.65272    | 0.7346    | 0.64854   | 0.7289   \n",
      "  328 | 0.65133    | 0.7346    | 0.64632   | 0.7288   \n",
      "  329 | 0.65340    | 0.7343    | 0.64081   | 0.7314   \n",
      "  330 | 0.64713    | 0.7361    | 0.64466   | 0.7288   \n",
      "  331 | 0.64638    | 0.7360    | 0.64017   | 0.7297   \n",
      "  332 | 0.64227    | 0.7363    | 0.63536   | 0.7312   \n",
      "  333 | 0.63961    | 0.7376    | 0.63457   | 0.7321   \n",
      "  334 | 0.64182    | 0.7371    | 0.63774   | 0.7299   \n",
      "  335 | 0.63861    | 0.7372    | 0.62851   | 0.7337   \n",
      "  336 | 0.63673    | 0.7384    | 0.63057   | 0.7350   \n",
      "  337 | 0.63483    | 0.7396    | 0.63023   | 0.7347   \n",
      "  338 | 0.63356    | 0.7400    | 0.62717   | 0.7316   \n",
      "  339 | 0.63153    | 0.7403    | 0.62510   | 0.7342   \n",
      "  340 | 0.63160    | 0.7408    | 0.62255   | 0.7357   \n",
      "  341 | 0.63159    | 0.7402    | 0.62716   | 0.7319   \n",
      "  342 | 0.62779    | 0.7406    | 0.62040   | 0.7354   \n",
      "  343 | 0.62422    | 0.7421    | 0.61827   | 0.7371   \n",
      "  344 | 0.62111    | 0.7438    | 0.61645   | 0.7347   \n",
      "  345 | 0.61956    | 0.7439    | 0.61218   | 0.7374   \n",
      "  346 | 0.62114    | 0.7436    | 0.61136   | 0.7386   \n",
      "  347 | 0.61807    | 0.7434    | 0.61289   | 0.7360   \n",
      "  348 | 0.61741    | 0.7440    | 0.61205   | 0.7375   \n",
      "  349 | 0.61627    | 0.7442    | 0.61042   | 0.7401   \n",
      "  350 | 0.62419    | 0.7422    | 0.63616   | 0.7284   \n",
      "  351 | 0.63450    | 0.7393    | 0.61172   | 0.7386   \n",
      "  352 | 0.62198    | 0.7411    | 0.61471   | 0.7368   \n",
      "  353 | 0.61710    | 0.7439    | 0.61037   | 0.7354   \n",
      "  354 | 0.61198    | 0.7449    | 0.60258   | 0.7394   \n",
      "  355 | 0.60652    | 0.7462    | 0.60076   | 0.7399   \n",
      "  356 | 2.77733    | 0.6538    | 0.84197   | 0.6412   \n",
      "  357 | 0.87642    | 0.6439    | 0.79168   | 0.6750   \n",
      "  358 | 0.80017    | 0.6939    | 0.70704   | 0.7109   \n",
      "  359 | 0.69995    | 0.7139    | 0.68420   | 0.7134   \n",
      "  360 | 0.67231    | 0.7257    | 0.65354   | 0.7181   \n",
      "  361 | 0.65283    | 0.7333    | 0.64495   | 0.7258   \n",
      "  362 | 0.64320    | 0.7367    | 0.62476   | 0.7347   \n",
      "  363 | 0.63461    | 0.7399    | 0.62034   | 0.7353   \n",
      "  364 | 0.62062    | 0.7443    | 0.65175   | 0.7272   \n",
      "  365 | 35.42542    | 0.5466    | 11.97744   | 0.5450   \n",
      "  366 | 156.33566    | 0.3535    | 240.27345   | 0.1898   \n",
      "  367 | 518.52136    | 0.1381    | 55.39207   | 0.1481   \n",
      "  368 | 16.37663    | 0.1738    | 5.68578   | 0.1793   \n",
      "  369 | 4.35995    | 0.2191    | 3.23510   | 0.2476   \n",
      "  370 | 2.87227    | 0.2541    | 2.50393   | 0.2791   \n",
      "  371 | 2.37632    | 0.2727    | 2.26906   | 0.2753   \n",
      "  372 | 2.17337    | 0.3117    | 2.10267   | 0.3671   \n",
      "  373 | 2.02362    | 0.3732    | 1.98561   | 0.3651   \n",
      "  374 | 1.92755    | 0.3794    | 1.90293   | 0.3782   \n",
      "  375 | 1.85940    | 0.3970    | 1.84312   | 0.3937   \n",
      "  376 | 1.80819    | 0.4078    | 1.79975   | 0.4033   \n",
      "  377 | 1.76530    | 0.4211    | 1.75545   | 0.4127   \n",
      "  378 | 1.72223    | 0.4288    | 1.71464   | 0.4226   \n",
      "  379 | 1.68533    | 0.4365    | 1.69115   | 0.4269   \n",
      "  380 | 1.65806    | 0.4405    | 1.66485   | 0.4297   \n",
      "  381 | 1.63570    | 0.4401    | 1.64317   | 0.4305   \n",
      "  382 | 1.61310    | 0.4414    | 1.61748   | 0.4334   \n",
      "  383 | 1.59419    | 0.4418    | 1.60644   | 0.4356   \n",
      "  384 | 1.57602    | 0.4466    | 1.58343   | 0.4398   \n",
      "  385 | 1.55813    | 0.4503    | 1.56699   | 0.4448   \n",
      "  386 | 1.54159    | 0.4534    | 1.55162   | 0.4470   \n",
      "  387 | 1.52567    | 0.4573    | 1.54080   | 0.4498   \n",
      "  388 | 1.51045    | 0.4633    | 1.52473   | 0.4537   \n",
      "  389 | 1.49760    | 0.4635    | 1.50955   | 0.4558   \n",
      "  390 | 1.48271    | 0.4671    | 1.49661   | 0.4549   \n",
      "  391 | 1.47044    | 0.4694    | 1.48174   | 0.4617   \n",
      "  392 | 1.45693    | 0.4710    | 1.46810   | 0.4629   \n",
      "  393 | 1.44442    | 0.4751    | 1.45943   | 0.4652   \n",
      "  394 | 1.43342    | 0.4771    | 1.44983   | 0.4685   \n",
      "  395 | 1.42349    | 0.4782    | 1.43516   | 0.4707   \n",
      "  396 | 1.41391    | 0.4798    | 1.42737   | 0.4718   \n",
      "  397 | 1.40428    | 0.4820    | 1.41882   | 0.4737   \n",
      "  398 | 1.39588    | 0.4833    | 1.40940   | 0.4796   \n",
      "  399 | 1.38650    | 0.4859    | 1.40289   | 0.4826   \n",
      "  400 | 1.37887    | 0.4864    | 1.39707   | 0.4821   \n",
      "  401 | 1.36983    | 0.4898    | 1.38657   | 0.4827   \n",
      "  402 | 1.36154    | 0.4921    | 1.37981   | 0.4853   \n",
      "  403 | 1.35353    | 0.4934    | 1.48386   | 0.4821   \n",
      "  404 | 1.35379    | 0.4923    | 1.36229   | 0.4837   \n",
      "  405 | 1.34090    | 0.4920    | 1.35812   | 0.4827   \n",
      "  406 | 1.33347    | 0.4941    | 1.34859   | 0.4862   \n",
      "  407 | 1.32563    | 0.4966    | 1.33983   | 0.4894   \n",
      "  408 | 1.31891    | 0.4963    | 1.33381   | 0.4922   \n",
      "  409 | 1.31148    | 0.5006    | 1.32887   | 0.4925   \n",
      "  410 | 1.30469    | 0.5035    | 1.32149   | 0.4957   \n",
      "  411 | 1.29712    | 0.5051    | 1.31519   | 0.5002   \n",
      "  412 | 1.28862    | 0.5074    | 1.30566   | 0.5022   \n",
      "  413 | 1.28150    | 0.5105    | 1.30534   | 0.5029   \n",
      "  414 | 1.27166    | 0.5161    | 1.29415   | 0.5087   \n",
      "  415 | 1.26348    | 0.5193    | 1.28725   | 0.5139   \n",
      "  416 | 1.25876    | 0.5239    | 1.28227   | 0.5184   \n",
      "  417 | 1.25254    | 0.5269    | 1.27438   | 0.5190   \n",
      "  418 | 1.24398    | 0.5312    | 1.26337   | 0.5232   \n",
      "  419 | 1.23192    | 0.5385    | 1.25245   | 0.5283   \n",
      "  420 | 1.22496    | 0.5423    | 1.25374   | 0.5261   \n",
      "  421 | 1.21751    | 0.5448    | 1.23606   | 0.5356   \n",
      "  422 | 1.20767    | 0.5495    | 1.22681   | 0.5410   \n",
      "  423 | 1.20102    | 0.5522    | 1.21399   | 0.5488   \n",
      "  424 | 1.19493    | 0.5574    | 1.26639   | 0.5378   \n",
      "  425 | 1.39802    | 0.5566    | 2.24817   | 0.5408   \n",
      "  426 | 125882.18750    | 0.3418    | 12176.98242   | 0.1522   \n",
      "  427 | 294833.18750    | 0.1550    | 18016.97266   | 0.1281   \n",
      "  428 | 37195.17969    | 0.1565    | 65817.75000   | 0.2061   \n",
      "  429 | 46956.83594    | 0.1864    | 14629.58496   | 0.1895   \n",
      "  430 | 6119.67041    | 0.1855    | 4214.11768   | 0.1499   \n",
      "  431 | 6249.40820    | 0.1665    | 6262.30859   | 0.2019   \n",
      "  432 | 4768.14746    | 0.2058    | 2956.64893   | 0.2013   \n",
      "  433 | 2731.40869    | 0.1878    | 1872.99731   | 0.1575   \n",
      "  434 | 1119.53418    | 0.1662    | 537.20032   | 0.1630   \n",
      "  435 | 448.15753    | 0.1683    | 274.12701   | 0.1624   \n",
      "  436 | 209.16006    | 0.1743    | 96.94304   | 0.1817   \n",
      "  437 | 76.12538    | 0.1769    | 74.99173   | 0.1749   \n",
      "  438 | 65.04381    | 0.1698    | 60.69675   | 0.1691   \n",
      "  439 | 46.31086    | 0.1748    | 41.60524   | 0.1719   \n",
      "  440 | 34.74936    | 0.1645    | 29.53791   | 0.1943   \n",
      "  441 | 27.11919    | 0.1779    | 24.62130   | 0.1918   \n",
      "  442 | 23.01711    | 0.1959    | 21.37850   | 0.1865   \n",
      "  443 | 20.98720    | 0.1972    | 21.37839   | 0.1966   \n",
      "  444 | 19.30481    | 0.1963    | 19.66857   | 0.1937   \n",
      "  445 | 18.60506    | 0.1954    | 18.38598   | 0.1912   \n",
      "  446 | 17.88963    | 0.1948    | 18.38371   | 0.1968   \n",
      "  447 | 17.99480    | 0.1885    | 18.40621   | 0.1896   \n",
      "  448 | 17.69971    | 0.1961    | 17.43156   | 0.1912   \n",
      "  449 | 16.82178    | 0.1933    | 17.19033   | 0.1992   \n",
      "  450 | 16.32465    | 0.1992    | 17.03532   | 0.1924   \n",
      "  451 | 15.92544    | 0.2045    | 15.26293   | 0.1890   \n",
      "  452 | 14.99144    | 0.1986    | 16.06637   | 0.2106   \n",
      "  453 | 15.85771    | 0.2000    | 14.71001   | 0.2012   \n",
      "  454 | 14.32193    | 0.2047    | 15.14663   | 0.1840   \n",
      "  455 | 13.99870    | 0.2013    | 14.08695   | 0.1868   \n",
      "  456 | 14.19934    | 0.2032    | 14.82641   | 0.2054   \n",
      "  457 | 14.70148    | 0.2071    | 15.69339   | 0.1955   \n",
      "  458 | 15.07530    | 0.2035    | 16.04143   | 0.2015   \n",
      "  459 | 14.98159    | 0.2024    | 14.75563   | 0.2006   \n",
      "  460 | 12.88694    | 0.2051    | 14.25788   | 0.1905   \n",
      "  461 | 13.29484    | 0.2070    | 12.54284   | 0.2125   \n",
      "  462 | 12.70529    | 0.2066    | 12.78342   | 0.2081   \n",
      "  463 | 12.74904    | 0.2114    | 13.32085   | 0.2022   \n",
      "  464 | 13.72306    | 0.1959    | 12.61582   | 0.1686   \n",
      "  465 | 12.87451    | 0.1712    | 13.00510   | 0.1893   \n",
      "  466 | 13.64030    | 0.2056    | 14.14373   | 0.2079   \n",
      "  467 | 15.08927    | 0.2126    | 19.43861   | 0.2100   \n",
      "  468 | 16.63290    | 0.2115    | 15.60768   | 0.1884   \n",
      "  469 | 12.43845    | 0.2067    | 11.07439   | 0.1967   \n",
      "  470 | 11.79949    | 0.2118    | 12.82453   | 0.1983   \n",
      "  471 | 11.87696    | 0.2113    | 11.48220   | 0.1955   \n",
      "  472 | 12.38629    | 0.2128    | 12.54473   | 0.2070   \n",
      "  473 | 11.41401    | 0.2127    | 11.80493   | 0.2218   \n",
      "  474 | 11.39487    | 0.2138    | 12.19092   | 0.2086   \n",
      "  475 | 12.01467    | 0.2128    | 12.41166   | 0.2144   \n",
      "  476 | 10.85472    | 0.2157    | 11.27777   | 0.2170   \n",
      "  477 | 11.03111    | 0.2231    | 11.17300   | 0.2026   \n",
      "  478 | 11.13783    | 0.2188    | 12.20580   | 0.2123   \n",
      "  479 | 12.11027    | 0.2178    | 10.31385   | 0.2203   \n",
      "  480 | 10.26262    | 0.2172    | 9.96939   | 0.2242   \n",
      "  481 | 10.81866    | 0.2226    | 12.60184   | 0.2229   \n",
      "  482 | 11.45611    | 0.2212    | 10.48412   | 0.2227   \n",
      "  483 | 11.09366    | 0.2193    | 12.27354   | 0.2188   \n",
      "  484 | 11.75973    | 0.2199    | 12.86499   | 0.1976   \n",
      "  485 | 12.02323    | 0.2214    | 13.62009   | 0.2173   \n",
      "  486 | 12.70327    | 0.2233    | 12.34437   | 0.2028   \n",
      "  487 | 11.41720    | 0.2215    | 10.80291   | 0.2194   \n",
      "  488 | 11.41050    | 0.2208    | 13.83758   | 0.2083   \n",
      "  489 | 13.88639    | 0.2256    | 14.74947   | 0.2120   \n",
      "  490 | 12.78405    | 0.2204    | 13.26185   | 0.2118   \n",
      "  491 | 12.75240    | 0.2224    | 11.45415   | 0.2316   \n",
      "  492 | 12.27695    | 0.2217    | 12.82575   | 0.2240   \n",
      "  493 | 13.49659    | 0.2207    | 13.74927   | 0.2421   \n",
      "  494 | 11.86217    | 0.2229    | 13.55211   | 0.2206   \n",
      "  495 | 12.22733    | 0.2217    | 12.14793   | 0.2402   \n",
      "  496 | 12.50032    | 0.2233    | 11.48702   | 0.2292   \n",
      "  497 | 12.36525    | 0.2227    | 14.40587   | 0.2090   \n",
      "  498 | 15.75332    | 0.2217    | 15.51097   | 0.2314   \n",
      "  499 | 13.76506    | 0.2223    | 11.05668   | 0.2390   \n",
      "  500 | 11.75371    | 0.2260    | 11.18874   | 0.2099   \n",
      "  501 | 10.56777    | 0.2183    | 11.66092   | 0.2042   \n",
      "  502 | 11.02985    | 0.2196    | 9.41031   | 0.2331   \n",
      "  503 | 10.04577    | 0.2253    | 9.79972   | 0.2327   \n",
      "  504 | 9.98655    | 0.2187    | 11.08095   | 0.2344   \n",
      "  505 | 11.36919    | 0.2236    | 12.24218   | 0.2252   \n",
      "  506 | 11.40670    | 0.2312    | 10.02047   | 0.2336   \n",
      "  507 | 13.27330    | 0.2197    | 15.93798   | 0.2429   \n",
      "  508 | 12.76161    | 0.2227    | 11.16386   | 0.2244   \n",
      "  509 | 11.20981    | 0.2201    | 10.45161   | 0.2480   \n",
      "  510 | 11.85255    | 0.2309    | 14.24191   | 0.2151   \n",
      "  511 | 12.22390    | 0.2323    | 11.11014   | 0.2207   \n",
      "  512 | 10.40304    | 0.2168    | 10.33420   | 0.2479   \n",
      "  513 | 12.64672    | 0.2346    | 11.72057   | 0.2169   \n",
      "  514 | 12.00244    | 0.2222    | 15.14871   | 0.2232   \n",
      "  515 | 12.29098    | 0.2295    | 12.38124   | 0.2145   \n",
      "  516 | 13.98836    | 0.2304    | 12.76761   | 0.2411   \n",
      "  517 | 13.69640    | 0.2291    | 10.70988   | 0.2296   \n",
      "  518 | 11.85531    | 0.2291    | 12.11040   | 0.2328   \n",
      "  519 | 12.06909    | 0.2308    | 11.44070   | 0.2343   \n",
      "  520 | 11.47080    | 0.2311    | 12.14210   | 0.2084   \n",
      "  521 | 11.99812    | 0.2224    | 11.02164   | 0.2420   \n",
      "  522 | 10.34581    | 0.2291    | 10.19179   | 0.2518   \n",
      "  523 | 10.05668    | 0.2284    | 10.30049   | 0.2123   \n",
      "  524 | 10.19156    | 0.2284    | 10.38765   | 0.2388   \n",
      "  525 | 11.82207    | 0.2246    | 11.37185   | 0.2098   \n",
      "  526 | 12.63563    | 0.2232    | 13.16588   | 0.2435   \n",
      "  527 | 12.23495    | 0.2350    | 14.94751   | 0.2192   \n",
      "  528 | 13.99623    | 0.2255    | 14.00602   | 0.2277   \n",
      "  529 | 14.34836    | 0.2212    | 14.18249   | 0.2451   \n",
      "  530 | 12.59142    | 0.2340    | 9.97703   | 0.2128   \n",
      "  531 | 12.06636    | 0.2303    | 10.63160   | 0.2179   \n",
      "  532 | 12.06325    | 0.2278    | 12.43486   | 0.2391   \n",
      "  533 | 13.06442    | 0.2272    | 15.04125   | 0.2214   \n",
      "  534 | 12.42893    | 0.2291    | 9.60528   | 0.2374   \n",
      "  535 | 12.48291    | 0.2373    | 12.31884   | 0.2362   \n",
      "  536 | 12.77546    | 0.2260    | 10.81034   | 0.2201   \n",
      "  537 | 11.92514    | 0.2309    | 11.84204   | 0.2219   \n",
      "  538 | 12.59092    | 0.2302    | 13.33676   | 0.2159   \n",
      "  539 | 13.63567    | 0.2330    | 15.53541   | 0.2191   \n",
      "  540 | 16.01454    | 0.2367    | 11.72230   | 0.2215   \n",
      "  541 | 13.23552    | 0.2236    | 16.38943   | 0.2187   \n",
      "  542 | 14.26148    | 0.2393    | 14.14471   | 0.2261   \n",
      "  543 | 12.57499    | 0.2216    | 11.90644   | 0.2213   \n",
      "  544 | 11.32484    | 0.2341    | 11.38457   | 0.2327   \n",
      "  545 | 10.43386    | 0.2314    | 13.41815   | 0.2128   \n",
      "  546 | 12.12298    | 0.2323    | 10.88290   | 0.2298   \n",
      "  547 | 10.76683    | 0.2320    | 12.10283   | 0.2189   \n",
      "  548 | 13.51410    | 0.2344    | 14.29968   | 0.2462   \n",
      "  549 | 15.79713    | 0.2202    | 16.76748   | 0.2214   \n",
      "  550 | 15.12248    | 0.2379    | 9.38288   | 0.2365   \n",
      "  551 | 11.33768    | 0.2190    | 11.01900   | 0.2209   \n",
      "  552 | 9.98469    | 0.2373    | 10.92765   | 0.2130   \n",
      "  553 | 10.00586    | 0.2222    | 9.29377   | 0.2565   \n",
      "  554 | 9.77064    | 0.2361    | 12.62436   | 0.2400   \n",
      "  555 | 13.54797    | 0.2333    | 11.33154   | 0.2280   \n",
      "  556 | 13.25587    | 0.2327    | 8.32748   | 0.2152   \n",
      "  557 | 13.56058    | 0.2244    | 13.47428   | 0.2193   \n",
      "  558 | 12.55449    | 0.2293    | 12.96972   | 0.2146   \n",
      "  559 | 12.22887    | 0.2264    | 15.21561   | 0.2263   \n",
      "  560 | 13.64514    | 0.2323    | 16.78059   | 0.2018   \n",
      "  561 | 13.14507    | 0.2330    | 14.04509   | 0.2226   \n",
      "  562 | 11.89593    | 0.2325    | 12.13031   | 0.2197   \n",
      "  563 | 11.54155    | 0.2318    | 13.42982   | 0.2201   \n",
      "  564 | 12.89233    | 0.2378    | 13.78880   | 0.2152   \n",
      "  565 | 13.18594    | 0.2358    | 10.57781   | 0.2191   \n",
      "  566 | 10.17405    | 0.2328    | 9.45807   | 0.2230   \n",
      "  567 | 10.73017    | 0.2298    | 12.36989   | 0.2231   \n",
      "  568 | 11.99231    | 0.2356    | 10.67262   | 0.2369   \n",
      "  569 | 12.69292    | 0.2310    | 10.43013   | 0.2241   \n",
      "  570 | 12.34665    | 0.2330    | 9.28303   | 0.2412   \n",
      "  571 | 13.60029    | 0.2303    | 10.42838   | 0.2216   \n",
      "  572 | 12.16500    | 0.2278    | 14.52958   | 0.2498   \n",
      "  573 | 12.38495    | 0.2366    | 11.27383   | 0.2193   \n",
      "  574 | 12.54414    | 0.2326    | 12.98096   | 0.2465   \n",
      "  575 | 12.66411    | 0.2426    | 14.61597   | 0.2186   \n",
      "  576 | 12.54864    | 0.2251    | 12.36626   | 0.2294   \n",
      "  577 | 11.22088    | 0.2352    | 10.41521   | 0.2408   \n",
      "  578 | 11.11866    | 0.2345    | 10.16961   | 0.2159   \n",
      "  579 | 11.69882    | 0.2390    | 10.53460   | 0.2440   \n",
      "  580 | 11.75187    | 0.2326    | 15.19059   | 0.2151   \n",
      "  581 | 13.19676    | 0.2322    | 13.76787   | 0.2516   \n",
      "  582 | 12.93661    | 0.2316    | 11.89476   | 0.2228   \n",
      "  583 | 14.69284    | 0.2321    | 14.89968   | 0.2485   \n",
      "  584 | 15.29422    | 0.2327    | 19.66543   | 0.2440   \n",
      "  585 | 18.60801    | 0.2296    | 15.42887   | 0.2482   \n",
      "  586 | 13.59074    | 0.2349    | 16.79556   | 0.2164   \n",
      "  587 | 12.65583    | 0.2303    | 14.15922   | 0.2086   \n",
      "  588 | 12.89683    | 0.2263    | 17.27826   | 0.2380   \n",
      "  589 | 15.34371    | 0.2403    | 12.78847   | 0.2422   \n",
      "  590 | 12.09958    | 0.2275    | 11.49457   | 0.2505   \n",
      "  591 | 13.72231    | 0.2360    | 12.81302   | 0.2460   \n",
      "  592 | 13.75385    | 0.2280    | 16.21902   | 0.2387   \n",
      "  593 | 16.10641    | 0.2384    | 14.23521   | 0.2309   \n",
      "  594 | 14.17503    | 0.2310    | 11.95639   | 0.2196   \n",
      "  595 | 15.37677    | 0.2291    | 14.60913   | 0.2338   \n",
      "  596 | 12.58693    | 0.2344    | 10.31596   | 0.2444   \n",
      "  597 | 10.53598    | 0.2331    | 13.23991   | 0.2468   \n",
      "  598 | 12.05199    | 0.2283    | 12.01083   | 0.2383   \n",
      "  599 | 11.50520    | 0.2384    | 8.12851   | 0.2243   \n",
      "  600 | 10.95660    | 0.2326    | 10.17328   | 0.2390   \n",
      "  601 | 12.24843    | 0.2323    | 12.78518   | 0.2436   \n",
      "  602 | 13.76145    | 0.2380    | 16.58811   | 0.2435   \n",
      "  603 | 13.92900    | 0.2289    | 15.34170   | 0.2217   \n",
      "  604 | 13.21686    | 0.2331    | 8.45268   | 0.2373   \n",
      "  605 | 14.44918    | 0.2404    | 11.43178   | 0.2445   \n",
      "  606 | 13.35286    | 0.2315    | 16.53905   | 0.2318   \n",
      "  607 | 16.04419    | 0.2322    | 12.36215   | 0.2366   \n",
      "  608 | 16.51751    | 0.2281    | 13.04288   | 0.2108   \n",
      "  609 | 15.51270    | 0.2296    | 9.91674   | 0.2410   \n",
      "  610 | 14.42281    | 0.2285    | 14.30574   | 0.2172   \n",
      "  611 | 15.94014    | 0.2240    | 8.95116   | 0.2343   \n",
      "  612 | 13.46560    | 0.2423    | 11.33027   | 0.2459   \n",
      "  613 | 14.12699    | 0.2190    | 14.70394   | 0.2274   \n",
      "  614 | 12.34668    | 0.2340    | 10.84834   | 0.2488   \n",
      "  615 | 9.63633    | 0.2269    | 11.11717   | 0.2239   \n",
      "  616 | 9.93943    | 0.2356    | 11.23873   | 0.2471   \n",
      "  617 | 9.89896    | 0.2309    | 7.82803   | 0.2394   \n",
      "  618 | 8.54533    | 0.2309    | 12.00375   | 0.2484   \n",
      "  619 | 11.82217    | 0.2341    | 10.67736   | 0.2314   \n",
      "  620 | 11.79159    | 0.2297    | 12.62998   | 0.2577   \n",
      "  621 | 11.69548    | 0.2368    | 13.70553   | 0.2504   \n",
      "  622 | 12.78241    | 0.2318    | 16.30452   | 0.2458   \n",
      "  623 | 11.68728    | 0.2304    | 12.32672   | 0.2206   \n",
      "  624 | 10.61450    | 0.2265    | 9.24934   | 0.2397   \n",
      "  625 | 10.16860    | 0.2317    | 8.19310   | 0.2331   \n",
      "  626 | 9.83446    | 0.2405    | 9.02190   | 0.2224   \n",
      "  627 | 10.26405    | 0.2290    | 10.58500   | 0.2297   \n",
      "  628 | 14.71667    | 0.2380    | 15.55315   | 0.2295   \n",
      "  629 | 15.67943    | 0.2291    | 16.22754   | 0.2510   \n",
      "  630 | 13.58603    | 0.2305    | 10.57513   | 0.2498   \n",
      "  631 | 10.53221    | 0.2364    | 12.28842   | 0.2592   \n",
      "  632 | 13.54846    | 0.2310    | 7.60747   | 0.2363   \n",
      "  633 | 12.83255    | 0.2393    | 14.91385   | 0.2281   \n",
      "  634 | 15.02628    | 0.2411    | 14.26121   | 0.2148   \n",
      "  635 | 12.62239    | 0.2287    | 14.42633   | 0.2455   \n",
      "  636 | 14.69787    | 0.2322    | 14.64665   | 0.2454   \n",
      "  637 | 19.32679    | 0.2386    | 19.45845   | 0.2208   \n",
      "  638 | 15.82643    | 0.2268    | 15.69699   | 0.2329   \n",
      "  639 | 13.28097    | 0.2392    | 14.07277   | 0.2223   \n",
      "  640 | 12.76343    | 0.2269    | 9.58636   | 0.2233   \n",
      "  641 | 13.41298    | 0.2351    | 13.81528   | 0.2285   \n",
      "  642 | 12.77294    | 0.2363    | 8.02099   | 0.2319   \n",
      "  643 | 8.24043    | 0.2379    | 8.01142   | 0.2410   \n",
      "  644 | 10.94866    | 0.2366    | 9.53456   | 0.2355   \n",
      "  645 | 13.08041    | 0.2367    | 11.43686   | 0.2523   \n",
      "  646 | 11.85275    | 0.2345    | 11.80419   | 0.2338   \n",
      "  647 | 11.73765    | 0.2422    | 9.74026   | 0.2387   \n",
      "  648 | 13.32424    | 0.2261    | 14.86349   | 0.2584   \n",
      "  649 | 12.20346    | 0.2365    | 12.17977   | 0.2449   \n",
      "  650 | 11.70688    | 0.2333    | 10.51555   | 0.2349   \n",
      "  651 | 11.23491    | 0.2372    | 11.68737   | 0.2420   \n",
      "  652 | 12.64218    | 0.2442    | 10.20533   | 0.2497   \n",
      "  653 | 11.34981    | 0.2312    | 13.22205   | 0.2499   \n",
      "  654 | 13.98295    | 0.2385    | 13.09750   | 0.2482   \n",
      "  655 | 13.08203    | 0.2441    | 10.07679   | 0.2291   \n",
      "  656 | 10.31104    | 0.2290    | 13.10303   | 0.2393   \n",
      "  657 | 16.75650    | 0.2388    | 22.26828   | 0.2606   \n",
      "  658 | 15.16604    | 0.2376    | 12.57788   | 0.2443   \n",
      "  659 | 13.19318    | 0.2402    | 12.08916   | 0.2332   \n",
      "  660 | 12.74655    | 0.2398    | 11.12117   | 0.2228   \n",
      "  661 | 10.69959    | 0.2442    | 15.03549   | 0.2345   \n",
      "  662 | 12.17292    | 0.2331    | 16.60441   | 0.2530   \n",
      "  663 | 17.56189    | 0.2390    | 11.84169   | 0.2235   \n",
      "  664 | 13.75367    | 0.2398    | 12.57939   | 0.2325   \n",
      "  665 | 11.74895    | 0.2400    | 9.30915   | 0.2444   \n",
      "  666 | 11.50568    | 0.2417    | 8.48648   | 0.2441   \n",
      "  667 | 9.63961    | 0.2401    | 10.74153   | 0.2402   \n",
      "  668 | 11.48607    | 0.2473    | 11.24965   | 0.2203   \n",
      "  669 | 10.21407    | 0.2348    | 10.97993   | 0.2399   \n",
      "  670 | 10.78798    | 0.2463    | 9.12439   | 0.2498   \n",
      "  671 | 10.03607    | 0.2372    | 10.94552   | 0.2621   \n",
      "  672 | 10.14406    | 0.2446    | 10.78684   | 0.2306   \n",
      "  673 | 11.08495    | 0.2426    | 12.35056   | 0.2703   \n",
      "  674 | 12.88251    | 0.2412    | 15.65834   | 0.2350   \n",
      "  675 | 16.19374    | 0.2418    | 17.16060   | 0.2472   \n",
      "  676 | 15.31720    | 0.2476    | 18.32036   | 0.2393   \n",
      "  677 | 14.60138    | 0.2387    | 18.58019   | 0.2250   \n",
      "  678 | 15.21478    | 0.2420    | 15.49314   | 0.2524   \n",
      "  679 | 17.42677    | 0.2426    | 15.11368   | 0.2352   \n",
      "  680 | 14.09003    | 0.2382    | 13.00809   | 0.2307   \n",
      "  681 | 13.96822    | 0.2406    | 15.36730   | 0.2586   \n",
      "  682 | 17.44082    | 0.2425    | 14.95021   | 0.2581   \n",
      "  683 | 13.87564    | 0.2445    | 12.82181   | 0.2490   \n",
      "  684 | 12.74944    | 0.2375    | 11.11993   | 0.2564   \n",
      "  685 | 15.85528    | 0.2450    | 18.43558   | 0.2335   \n",
      "  686 | 17.20068    | 0.2400    | 12.57982   | 0.2454   \n",
      "  687 | 12.78491    | 0.2434    | 11.95917   | 0.2620   \n",
      "  688 | 14.25759    | 0.2420    | 16.73370   | 0.2275   \n",
      "  689 | 15.52807    | 0.2402    | 16.77142   | 0.2531   \n",
      "  690 | 11.69315    | 0.2439    | 9.32968   | 0.2277   \n",
      "  691 | 11.04887    | 0.2458    | 11.05682   | 0.2319   \n",
      "  692 | 13.33483    | 0.2462    | 15.96856   | 0.2574   \n",
      "  693 | 12.13582    | 0.2398    | 9.48637   | 0.2568   \n",
      "  694 | 13.43151    | 0.2481    | 12.59933   | 0.2565   \n",
      "  695 | 15.08034    | 0.2407    | 18.17785   | 0.2396   \n",
      "  696 | 15.87635    | 0.2535    | 11.33999   | 0.2441   \n",
      "  697 | 11.29823    | 0.2457    | 9.52563   | 0.2503   \n",
      "  698 | 12.35584    | 0.2433    | 15.71629   | 0.2468   \n",
      "  699 | 16.05275    | 0.2505    | 12.53471   | 0.2226   \n",
      "  700 | 12.87106    | 0.2377    | 11.14368   | 0.2487   \n",
      "  701 | 13.65055    | 0.2442    | 9.54259   | 0.2454   \n",
      "  702 | 11.51337    | 0.2523    | 13.88883   | 0.2375   \n",
      "  703 | 16.36721    | 0.2489    | 12.00457   | 0.2333   \n",
      "  704 | 14.08399    | 0.2445    | 8.94957   | 0.2370   \n",
      "  705 | 13.74753    | 0.2432    | 14.71323   | 0.2574   \n",
      "  706 | 16.72636    | 0.2491    | 14.48458   | 0.2612   \n",
      "  707 | 14.66496    | 0.2526    | 13.61004   | 0.2593   \n",
      "  708 | 16.87156    | 0.2523    | 20.82339   | 0.2477   \n",
      "  709 | 16.84292    | 0.2458    | 13.20495   | 0.2330   \n",
      "  710 | 12.48723    | 0.2421    | 9.01383   | 0.2445   \n",
      "  711 | 12.57550    | 0.2543    | 18.60989   | 0.2319   \n",
      "  712 | 18.61473    | 0.2414    | 7.83130   | 0.2427   \n",
      "  713 | 13.96443    | 0.2545    | 14.15827   | 0.2383   \n",
      "  714 | 14.24303    | 0.2538    | 12.09454   | 0.2374   \n",
      "  715 | 12.52322    | 0.2477    | 16.23643   | 0.2603   \n",
      "  716 | 13.95038    | 0.2508    | 14.46456   | 0.2288   \n",
      "  717 | 12.05715    | 0.2488    | 10.00384   | 0.2666   \n",
      "  718 | 10.53305    | 0.2521    | 9.54224   | 0.2433   \n",
      "  719 | 11.61839    | 0.2520    | 13.28742   | 0.2352   \n",
      "  720 | 13.08935    | 0.2521    | 10.17612   | 0.2407   \n",
      "  721 | 11.33368    | 0.2447    | 11.74883   | 0.2557   \n",
      "  722 | 11.97641    | 0.2520    | 15.39051   | 0.2449   \n",
      "  723 | 13.65156    | 0.2568    | 6.85590   | 0.2490   \n",
      "  724 | 9.63564    | 0.2438    | 9.37990   | 0.2578   \n",
      "  725 | 11.13330    | 0.2555    | 14.63882   | 0.2476   \n",
      "  726 | 16.54930    | 0.2466    | 17.19695   | 0.2571   \n",
      "  727 | 17.75218    | 0.2529    | 15.99269   | 0.2578   \n",
      "  728 | 15.73535    | 0.2487    | 15.65045   | 0.2665   \n",
      "  729 | 15.34966    | 0.2467    | 16.63585   | 0.2570   \n",
      "  730 | 15.59550    | 0.2542    | 15.00666   | 0.2326   \n",
      "  731 | 10.89190    | 0.2425    | 10.85040   | 0.2396   \n",
      "  732 | 9.24581    | 0.2550    | 7.17148   | 0.2576   \n",
      "  733 | 8.74134    | 0.2473    | 8.63261   | 0.2526   \n",
      "  734 | 11.62682    | 0.2488    | 13.94463   | 0.2553   \n",
      "  735 | 15.65807    | 0.2541    | 14.46228   | 0.2635   \n",
      "  736 | 15.03413    | 0.2521    | 12.81712   | 0.2565   \n",
      "  737 | 16.82594    | 0.2470    | 9.98458   | 0.2443   \n",
      "  738 | 15.10688    | 0.2514    | 16.86537   | 0.2449   \n",
      "  739 | 17.54396    | 0.2522    | 17.24445   | 0.2310   \n",
      "  740 | 14.20354    | 0.2495    | 12.28666   | 0.2664   \n",
      "  741 | 14.12941    | 0.2511    | 15.62301   | 0.2681   \n",
      "  742 | 13.38788    | 0.2463    | 12.64019   | 0.2604   \n",
      "  743 | 11.28703    | 0.2558    | 15.50226   | 0.2353   \n",
      "  744 | 15.96836    | 0.2569    | 11.27963   | 0.2490   \n",
      "  745 | 14.76105    | 0.2499    | 14.16599   | 0.2479   \n",
      "  746 | 16.12719    | 0.2468    | 15.04331   | 0.2360   \n",
      "  747 | 14.20402    | 0.2481    | 10.71741   | 0.2563   \n",
      "  748 | 13.07701    | 0.2563    | 19.37240   | 0.2544   \n",
      "  749 | 16.08515    | 0.2517    | 17.05890   | 0.2376   \n",
      "  750 | 17.39881    | 0.2444    | 10.35442   | 0.2728   \n",
      "  751 | 13.52859    | 0.2513    | 10.45988   | 0.2516   \n",
      "  752 | 13.61550    | 0.2507    | 11.33348   | 0.2529   \n",
      "  753 | 14.37124    | 0.2488    | 11.47092   | 0.2710   \n",
      "  754 | 14.73346    | 0.2610    | 15.12817   | 0.2162   \n",
      "  755 | 16.42626    | 0.2401    | 26.36698   | 0.2275   \n",
      "  756 | 21.29742    | 0.2534    | 15.11735   | 0.2556   \n",
      "  757 | 15.21453    | 0.2455    | 11.91300   | 0.2427   \n",
      "  758 | 11.74096    | 0.2500    | 14.48477   | 0.2356   \n",
      "  759 | 14.37811    | 0.2479    | 11.13834   | 0.2316   \n",
      "  760 | 12.38749    | 0.2558    | 13.71761   | 0.2443   \n",
      "  761 | 10.27551    | 0.2430    | 8.04721   | 0.2425   \n",
      "  762 | 10.29342    | 0.2548    | 9.36487   | 0.2705   \n",
      "  763 | 11.82263    | 0.2564    | 11.66561   | 0.2419   \n",
      "  764 | 13.39799    | 0.2490    | 15.34411   | 0.2659   \n",
      "  765 | 11.50024    | 0.2491    | 14.20469   | 0.2616   \n",
      "  766 | 15.56809    | 0.2563    | 9.62411   | 0.2234   \n",
      "  767 | 8.71781    | 0.2452    | 7.33835   | 0.2556   \n",
      "  768 | 8.95542    | 0.2528    | 10.16782   | 0.2338   \n",
      "  769 | 9.28894    | 0.2529    | 8.67703   | 0.2571   \n",
      "  770 | 12.45261    | 0.2569    | 14.54297   | 0.2488   \n",
      "  771 | 12.81854    | 0.2462    | 9.31687   | 0.2445   \n",
      "  772 | 12.76297    | 0.2573    | 23.90339   | 0.2479   \n",
      "  773 | 17.01278    | 0.2486    | 14.49081   | 0.2499   \n",
      "  774 | 14.31779    | 0.2474    | 15.83773   | 0.2666   \n",
      "  775 | 16.21815    | 0.2565    | 12.85243   | 0.2617   \n",
      "  776 | 17.24127    | 0.2498    | 21.42650   | 0.2375   \n",
      "  777 | 16.88413    | 0.2590    | 13.61890   | 0.2426   \n",
      "  778 | 12.95413    | 0.2494    | 17.73999   | 0.2374   \n",
      "  779 | 16.57569    | 0.2527    | 9.07132   | 0.2657   \n",
      "  780 | 15.30462    | 0.2509    | 18.74144   | 0.2708   \n",
      "  781 | 20.19255    | 0.2552    | 21.27772   | 0.2589   \n",
      "  782 | 17.73664    | 0.2476    | 11.15503   | 0.2635   \n",
      "  783 | 13.21854    | 0.2544    | 13.73011   | 0.2343   \n",
      "  784 | 13.36904    | 0.2524    | 11.96721   | 0.2347   \n",
      "  785 | 11.36013    | 0.2547    | 13.51445   | 0.2290   \n",
      "  786 | 14.85305    | 0.2584    | 14.88424   | 0.2589   \n",
      "  787 | 15.70086    | 0.2505    | 13.70284   | 0.2460   \n",
      "  788 | 14.20078    | 0.2544    | 15.76253   | 0.2726   \n",
      "  789 | 16.87844    | 0.2487    | 19.07839   | 0.2481   \n",
      "  790 | 18.67301    | 0.2535    | 17.26687   | 0.2570   \n",
      "  791 | 16.19325    | 0.2470    | 15.79142   | 0.2583   \n",
      "  792 | 15.17110    | 0.2535    | 15.09728   | 0.2686   \n",
      "  793 | 17.23802    | 0.2596    | 15.46954   | 0.2640   \n",
      "  794 | 17.33058    | 0.2489    | 19.72331   | 0.2691   \n",
      "  795 | 19.23173    | 0.2597    | 15.59899   | 0.2736   \n",
      "  796 | 19.82252    | 0.2527    | 19.16846   | 0.2563   \n",
      "  797 | 22.62901    | 0.2592    | 20.58894   | 0.2556   \n",
      "  798 | 19.21043    | 0.2626    | 16.54698   | 0.2730   \n",
      "  799 | 18.01647    | 0.2462    | 16.85327   | 0.2693   \n",
      "  800 | 14.30668    | 0.2643    | 25.52995   | 0.2492   \n",
      "  801 | 16.81066    | 0.2559    | 18.60347   | 0.2308   \n",
      "  802 | 17.43253    | 0.2522    | 10.24468   | 0.2757   \n",
      "  803 | 11.48270    | 0.2609    | 10.34626   | 0.2671   \n",
      "  804 | 11.05846    | 0.2584    | 14.31290   | 0.2687   \n",
      "  805 | 13.43143    | 0.2545    | 13.06190   | 0.2367   \n",
      "  806 | 13.08962    | 0.2564    | 16.54374   | 0.2606   \n",
      "  807 | 17.19868    | 0.2551    | 16.95857   | 0.2301   \n",
      "  808 | 15.72651    | 0.2549    | 14.63073   | 0.2513   \n",
      "  809 | 14.85708    | 0.2616    | 11.45325   | 0.2440   \n",
      "  810 | 12.30683    | 0.2499    | 12.62485   | 0.2761   \n",
      "  811 | 15.09074    | 0.2619    | 13.30434   | 0.2593   \n",
      "  812 | 18.69222    | 0.2602    | 14.28696   | 0.2480   \n",
      "  813 | 14.23470    | 0.2554    | 15.63279   | 0.2587   \n",
      "  814 | 17.18090    | 0.2663    | 17.41711   | 0.2452   \n",
      "  815 | 17.62914    | 0.2544    | 13.16473   | 0.2472   \n",
      "  816 | 12.34112    | 0.2580    | 16.35560   | 0.2590   \n",
      "  817 | 15.09870    | 0.2645    | 16.44517   | 0.2396   \n",
      "  818 | 14.97602    | 0.2552    | 19.82107   | 0.2571   \n",
      "  819 | 16.66745    | 0.2597    | 21.42360   | 0.2385   \n",
      "  820 | 18.29051    | 0.2539    | 18.68029   | 0.2437   \n",
      "  821 | 20.85205    | 0.2554    | 24.79033   | 0.2739   \n",
      "  822 | 24.47173    | 0.2577    | 23.59137   | 0.2618   \n",
      "  823 | 21.14628    | 0.2563    | 18.26947   | 0.2440   \n",
      "  824 | 19.76343    | 0.2571    | 19.48027   | 0.2526   \n",
      "  825 | 16.48534    | 0.2624    | 15.63371   | 0.2520   \n",
      "  826 | 15.08860    | 0.2635    | 11.55052   | 0.2430   \n",
      "  827 | 13.11460    | 0.2568    | 10.18727   | 0.2560   \n",
      "  828 | 15.05165    | 0.2643    | 16.65832   | 0.2764   \n",
      "  829 | 14.58995    | 0.2531    | 13.32245   | 0.2726   \n",
      "  830 | 18.11423    | 0.2645    | 15.05785   | 0.2408   \n",
      "  831 | 16.58686    | 0.2563    | 16.72837   | 0.2643   \n",
      "  832 | 16.65408    | 0.2645    | 10.59127   | 0.2861   \n",
      "  833 | 12.46002    | 0.2642    | 14.78544   | 0.2518   \n",
      "  834 | 15.07617    | 0.2593    | 6.48108   | 0.2545   \n",
      "  835 | 11.11450    | 0.2589    | 11.65054   | 0.2657   \n",
      "  836 | 11.94690    | 0.2661    | 14.48904   | 0.2608   \n",
      "  837 | 16.22946    | 0.2561    | 24.99191   | 0.2639   \n",
      "  838 | 19.42154    | 0.2639    | 16.77971   | 0.2709   \n",
      "  839 | 17.44538    | 0.2586    | 15.63525   | 0.2683   \n",
      "  840 | 16.37781    | 0.2674    | 17.19812   | 0.2789   \n",
      "  841 | 12.72042    | 0.2573    | 8.75668   | 0.2657   \n",
      "  842 | 11.62642    | 0.2659    | 15.82405   | 0.2584   \n",
      "  843 | 12.79039    | 0.2660    | 11.16320   | 0.2804   \n",
      "  844 | 12.69772    | 0.2641    | 8.73993   | 0.2525   \n",
      "  845 | 10.75563    | 0.2653    | 11.77482   | 0.2661   \n",
      "  846 | 12.29404    | 0.2666    | 10.41143   | 0.2853   \n",
      "  847 | 10.61698    | 0.2609    | 13.68992   | 0.2740   \n",
      "  848 | 16.51714    | 0.2664    | 19.10600   | 0.2545   \n",
      "  849 | 17.37069    | 0.2626    | 20.09580   | 0.2569   \n",
      "  850 | 21.01641    | 0.2569    | 16.16675   | 0.2565   \n",
      "  851 | 18.51101    | 0.2711    | 18.11777   | 0.2715   \n",
      "  852 | 17.49541    | 0.2515    | 11.71269   | 0.2553   \n",
      "  853 | 17.49611    | 0.2700    | 11.75741   | 0.2797   \n",
      "  854 | 14.63050    | 0.2644    | 14.27210   | 0.2775   \n",
      "  855 | 16.46105    | 0.2666    | 8.78260   | 0.2612   \n",
      "  856 | 13.18718    | 0.2589    | 18.18914   | 0.2769   \n",
      "  857 | 14.11176    | 0.2724    | 11.46878   | 0.2726   \n",
      "  858 | 11.04412    | 0.2589    | 16.15108   | 0.2733   \n",
      "  859 | 16.93962    | 0.2733    | 13.16491   | 0.2487   \n",
      "  860 | 12.75020    | 0.2598    | 13.83402   | 0.2819   \n",
      "  861 | 14.88885    | 0.2735    | 15.91154   | 0.2593   \n",
      "  862 | 13.69880    | 0.2717    | 12.73842   | 0.2568   \n",
      "  863 | 15.65411    | 0.2670    | 18.63709   | 0.2486   \n",
      "  864 | 15.12193    | 0.2665    | 20.38126   | 0.2647   \n",
      "  865 | 19.61263    | 0.2669    | 18.64120   | 0.2474   \n",
      "  866 | 16.95303    | 0.2534    | 14.21687   | 0.2693   \n",
      "  867 | 14.78132    | 0.2692    | 10.47567   | 0.2457   \n",
      "  868 | 14.16609    | 0.2688    | 12.55690   | 0.2463   \n",
      "  869 | 13.50517    | 0.2618    | 16.07949   | 0.2595   \n",
      "  870 | 18.41605    | 0.2704    | 21.45893   | 0.2617   \n",
      "  871 | 18.58743    | 0.2686    | 16.60089   | 0.2800   \n",
      "  872 | 16.43229    | 0.2664    | 20.69618   | 0.2730   \n",
      "  873 | 21.41003    | 0.2733    | 22.30096   | 0.2774   \n",
      "  874 | 18.09368    | 0.2642    | 18.09292   | 0.2587   \n",
      "  875 | 15.63375    | 0.2705    | 11.32848   | 0.2697   \n",
      "  876 | 12.89006    | 0.2693    | 11.20125   | 0.2616   \n",
      "  877 | 11.68207    | 0.2671    | 12.83803   | 0.2778   \n",
      "  878 | 12.87582    | 0.2686    | 5.71605   | 0.2710   \n",
      "  879 | 12.34829    | 0.2680    | 16.27540   | 0.2640   \n",
      "  880 | 17.16862    | 0.2672    | 24.25100   | 0.2502   \n",
      "  881 | 16.82666    | 0.2682    | 9.97003   | 0.2595   \n",
      "  882 | 14.77259    | 0.2640    | 15.97411   | 0.2672   \n",
      "  883 | 12.47519    | 0.2606    | 11.50504   | 0.2876   \n",
      "  884 | 11.19852    | 0.2744    | 12.93989   | 0.2838   \n",
      "  885 | 12.08637    | 0.2685    | 14.51794   | 0.2757   \n",
      "  886 | 14.71027    | 0.2703    | 18.22368   | 0.2618   \n",
      "  887 | 12.78508    | 0.2673    | 13.39303   | 0.2804   \n",
      "  888 | 13.13199    | 0.2719    | 10.06889   | 0.2670   \n",
      "  889 | 14.92350    | 0.2698    | 14.52748   | 0.2717   \n",
      "  890 | 11.62946    | 0.2715    | 18.05606   | 0.2809   \n",
      "  891 | 14.89025    | 0.2739    | 8.62977   | 0.2937   \n",
      "  892 | 11.74337    | 0.2744    | 17.33239   | 0.2804   \n",
      "  893 | 13.21675    | 0.2774    | 10.21757   | 0.2734   \n",
      "  894 | 14.35786    | 0.2748    | 14.65638   | 0.2637   \n",
      "  895 | 13.45204    | 0.2739    | 15.85792   | 0.2556   \n",
      "  896 | 15.12600    | 0.2731    | 18.37177   | 0.2843   \n",
      "  897 | 13.61380    | 0.2751    | 14.75983   | 0.2782   \n",
      "  898 | 14.80122    | 0.2709    | 18.37701   | 0.2737   \n",
      "  899 | 16.96325    | 0.2790    | 14.23177   | 0.2786   \n",
      "  900 | 15.20153    | 0.2663    | 17.28331   | 0.2632   \n",
      "  901 | 15.90787    | 0.2765    | 12.55335   | 0.2506   \n",
      "  902 | 14.90620    | 0.2693    | 18.14146   | 0.2858   \n",
      "  903 | 17.81251    | 0.2803    | 20.98246   | 0.2481   \n",
      "  904 | 15.61071    | 0.2742    | 16.44335   | 0.2725   \n",
      "  905 | 15.36072    | 0.2803    | 13.42390   | 0.2659   \n",
      "  906 | 12.74826    | 0.2690    | 12.87335   | 0.2764   \n",
      "  907 | 13.59919    | 0.2747    | 11.37498   | 0.2752   \n",
      "  908 | 15.83941    | 0.2786    | 15.56603   | 0.2670   \n",
      "  909 | 15.64111    | 0.2687    | 20.29483   | 0.2686   \n",
      "  910 | 19.35256    | 0.2763    | 11.37617   | 0.2569   \n",
      "  911 | 14.07623    | 0.2759    | 13.80440   | 0.2827   \n",
      "  912 | 13.74247    | 0.2780    | 12.13054   | 0.2699   \n",
      "  913 | 14.18854    | 0.2768    | 21.64709   | 0.2949   \n",
      "  914 | 13.77254    | 0.2766    | 10.91060   | 0.2625   \n",
      "  915 | 14.13145    | 0.2749    | 15.79131   | 0.2787   \n",
      "  916 | 15.28402    | 0.2727    | 18.23277   | 0.2607   \n",
      "  917 | 16.47227    | 0.2681    | 17.25400   | 0.2837   \n",
      "  918 | 16.48172    | 0.2762    | 18.01536   | 0.2571   \n",
      "  919 | 21.52907    | 0.2727    | 19.31017   | 0.2892   \n",
      "  920 | 14.69231    | 0.2740    | 21.58628   | 0.2484   \n",
      "  921 | 15.57752    | 0.2814    | 14.84561   | 0.2640   \n",
      "  922 | 17.26105    | 0.2733    | 18.17737   | 0.2859   \n",
      "  923 | 22.79140    | 0.2743    | 23.47719   | 0.2780   \n",
      "  924 | 20.28234    | 0.2793    | 18.35455   | 0.2504   \n",
      "  925 | 14.05901    | 0.2691    | 11.88763   | 0.2355   \n",
      "  926 | 10.75211    | 0.2701    | 11.96864   | 0.2553   \n",
      "  927 | 12.21844    | 0.2721    | 14.38435   | 0.2252   \n",
      "  928 | 17.22674    | 0.2797    | 13.42859   | 0.2703   \n",
      "  929 | 16.27082    | 0.2787    | 12.42584   | 0.2737   \n",
      "  930 | 12.04839    | 0.2767    | 16.75050   | 0.2694   \n",
      "  931 | 14.31016    | 0.2759    | 17.52615   | 0.2590   \n",
      "  932 | 16.97137    | 0.2792    | 23.27653   | 0.2556   \n",
      "  933 | 19.16314    | 0.2841    | 16.89120   | 0.2659   \n",
      "  934 | 20.77420    | 0.2763    | 24.20430   | 0.2822   \n",
      "  935 | 22.99509    | 0.2724    | 11.87058   | 0.2662   \n",
      "  936 | 13.40369    | 0.2810    | 18.64674   | 0.2592   \n",
      "  937 | 15.62233    | 0.2731    | 19.47795   | 0.2648   \n",
      "  938 | 16.67874    | 0.2771    | 18.59066   | 0.2643   \n",
      "  939 | 13.33566    | 0.2709    | 8.77704   | 0.2634   \n",
      "  940 | 12.24130    | 0.2779    | 11.10017   | 0.2621   \n",
      "  941 | 11.24917    | 0.2786    | 13.17131   | 0.2828   \n",
      "  942 | 13.41933    | 0.2822    | 13.22802   | 0.2593   \n",
      "  943 | 12.45037    | 0.2768    | 14.78903   | 0.2855   \n",
      "  944 | 18.51298    | 0.2806    | 20.52386   | 0.2897   \n",
      "  945 | 19.67170    | 0.2776    | 15.44078   | 0.2546   \n",
      "  946 | 16.08694    | 0.2755    | 7.54685   | 0.2725   \n",
      "  947 | 11.52420    | 0.2815    | 12.11635   | 0.2770   \n",
      "  948 | 10.73670    | 0.2758    | 10.12667   | 0.2859   \n",
      "  949 | 13.14730    | 0.2771    | 9.86854   | 0.2896   \n",
      "  950 | 12.22164    | 0.2825    | 12.80730   | 0.2684   \n",
      "  951 | 8.32806    | 0.2793    | 11.10222   | 0.2908   \n",
      "  952 | 12.69349    | 0.2822    | 14.21433   | 0.2776   \n",
      "  953 | 15.24183    | 0.2800    | 15.90622   | 0.2469   \n",
      "  954 | 13.98578    | 0.2804    | 16.50589   | 0.2744   \n",
      "  955 | 13.75591    | 0.2821    | 11.97948   | 0.2798   \n",
      "  956 | 13.03217    | 0.2781    | 13.10103   | 0.2878   \n",
      "  957 | 13.29323    | 0.2857    | 18.59637   | 0.2822   \n",
      "  958 | 12.06901    | 0.2870    | 6.58594   | 0.2810   \n",
      "  959 | 10.81768    | 0.2861    | 13.57406   | 0.3064   \n",
      "  960 | 12.27629    | 0.2835    | 10.09556   | 0.2960   \n",
      "  961 | 14.60758    | 0.2830    | 12.39669   | 0.2912   \n",
      "  962 | 13.78750    | 0.2833    | 10.73325   | 0.2902   \n",
      "  963 | 13.48642    | 0.2856    | 21.56341   | 0.2546   \n",
      "  964 | 13.24099    | 0.2785    | 14.85786   | 0.2731   \n",
      "  965 | 19.35540    | 0.2907    | 18.64863   | 0.2690   \n",
      "  966 | 18.69115    | 0.2763    | 18.43359   | 0.2883   \n",
      "  967 | 17.48930    | 0.2840    | 14.43969   | 0.2748   \n",
      "  968 | 11.09654    | 0.2784    | 14.44185   | 0.2893   \n",
      "  969 | 13.87156    | 0.2855    | 17.03621   | 0.2751   \n",
      "  970 | 11.59786    | 0.2872    | 12.93925   | 0.2622   \n",
      "  971 | 11.75192    | 0.2811    | 13.15724   | 0.2866   \n",
      "  972 | 15.39264    | 0.2869    | 19.32358   | 0.2990   \n",
      "  973 | 16.24227    | 0.2869    | 18.43759   | 0.2638   \n",
      "  974 | 12.40125    | 0.2859    | 11.00460   | 0.2695   \n",
      "  975 | 13.43276    | 0.2907    | 17.43837   | 0.2747   \n",
      "  976 | 19.38324    | 0.2852    | 19.57268   | 0.2861   \n",
      "  977 | 17.33789    | 0.2751    | 21.41052   | 0.2751   \n",
      "  978 | 17.98134    | 0.2870    | 17.21470   | 0.2969   \n",
      "  979 | 13.57901    | 0.2878    | 14.41222   | 0.2748   \n",
      "  980 | 12.33148    | 0.2810    | 10.86942   | 0.2958   \n",
      "  981 | 13.11352    | 0.2855    | 13.13140   | 0.2620   \n",
      "  982 | 12.07275    | 0.2787    | 12.16194   | 0.2900   \n",
      "  983 | 11.48575    | 0.2860    | 11.85691   | 0.2979   \n",
      "  984 | 13.14779    | 0.2861    | 17.06150   | 0.2613   \n",
      "  985 | 13.13976    | 0.2825    | 10.58939   | 0.2713   \n",
      "  986 | 11.45752    | 0.2857    | 17.40468   | 0.3050   \n",
      "  987 | 16.40813    | 0.2831    | 20.52614   | 0.2947   \n",
      "  988 | 16.33107    | 0.2855    | 11.64021   | 0.2767   \n",
      "  989 | 10.40105    | 0.2824    | 9.22785   | 0.3005   \n",
      "  990 | 10.99723    | 0.2932    | 11.40526   | 0.2737   \n",
      "  991 | 11.12296    | 0.2822    | 11.10000   | 0.3010   \n",
      "  992 | 13.48762    | 0.2830    | 21.07715   | 0.2700   \n",
      "  993 | 18.94446    | 0.2922    | 18.06497   | 0.2693   \n",
      "  994 | 14.52456    | 0.2820    | 20.50908   | 0.2706   \n",
      "  995 | 12.57569    | 0.2868    | 10.02974   | 0.2903   \n",
      "  996 | 12.90231    | 0.2829    | 19.94570   | 0.2806   \n",
      "  997 | 14.18707    | 0.2819    | 15.45036   | 0.2772   \n",
      "  998 | 15.42242    | 0.2884    | 15.14775   | 0.2653   \n",
      "  999 | 14.35195    | 0.2828    | 10.14837   | 0.2955   \n",
      " 1000 | 13.73040    | 0.2880    | 17.27229   | 0.3012   \n",
      " 1001 | 14.04439    | 0.2792    | 10.83048   | 0.2960   \n",
      " 1002 | 13.19738    | 0.2899    | 12.37182   | 0.2916   \n",
      " 1003 | 15.33713    | 0.2861    | 16.19785   | 0.2909   \n",
      " 1004 | 13.88795    | 0.2862    | 14.28504   | 0.2763   \n",
      " 1005 | 12.75596    | 0.2870    | 18.63378   | 0.2657   \n",
      " 1006 | 19.62981    | 0.2963    | 21.68604   | 0.2818   \n",
      " 1007 | 20.52029    | 0.2775    | 19.57341   | 0.2955   \n",
      " 1008 | 18.04230    | 0.2890    | 18.90030   | 0.2732   \n",
      " 1009 | 15.97519    | 0.2793    | 20.94469   | 0.2776   \n",
      " 1010 | 20.86851    | 0.2860    | 19.13872   | 0.2651   \n",
      " 1011 | 17.68186    | 0.2873    | 21.09038   | 0.2802   \n",
      " 1012 | 18.71503    | 0.2854    | 21.51326   | 0.2756   \n",
      " 1013 | 17.76426    | 0.2830    | 19.95738   | 0.2995   \n",
      " 1014 | 17.36122    | 0.2872    | 8.22201   | 0.2775   \n",
      " 1015 | 16.66693    | 0.2756    | 17.34748   | 0.2822   \n",
      " 1016 | 20.10137    | 0.2960    | 22.51003   | 0.2820   \n",
      " 1017 | 19.45264    | 0.2898    | 11.67180   | 0.2736   \n",
      " 1018 | 15.43259    | 0.2826    | 11.35114   | 0.2830   \n",
      " 1019 | 13.21867    | 0.2868    | 10.04026   | 0.3137   \n",
      " 1020 | 9.71230    | 0.2978    | 13.50893   | 0.2913   \n",
      " 1021 | 10.99467    | 0.2880    | 7.73987   | 0.2993   \n",
      " 1022 | 9.11869    | 0.2913    | 9.21072   | 0.2885   \n",
      " 1023 | 15.56322    | 0.2965    | 10.43499   | 0.2977   \n",
      " 1024 | 17.48165    | 0.2896    | 15.58647   | 0.3026   \n",
      " 1025 | 16.94276    | 0.2860    | 13.92399   | 0.3074   \n",
      " 1026 | 16.25916    | 0.2860    | 21.20850   | 0.2985   \n",
      " 1027 | 20.27349    | 0.2924    | 22.68616   | 0.2803   \n",
      " 1028 | 15.57498    | 0.2855    | 17.50416   | 0.2738   \n",
      " 1029 | 14.43164    | 0.2931    | 6.85369   | 0.2767   \n",
      " 1030 | 13.70348    | 0.2948    | 21.07149   | 0.2921   \n",
      " 1031 | 18.65047    | 0.2841    | 15.04294   | 0.2948   \n",
      " 1032 | 13.29815    | 0.2937    | 18.62260   | 0.2737   \n",
      " 1033 | 18.28961    | 0.2822    | 16.94477   | 0.2905   \n",
      " 1034 | 19.58133    | 0.2943    | 12.45390   | 0.2725   \n",
      " 1035 | 18.89653    | 0.2806    | 15.44251   | 0.2885   \n",
      " 1036 | 18.09784    | 0.2949    | 18.89285   | 0.2923   \n",
      " 1037 | 19.26697    | 0.2928    | 16.63717   | 0.2633   \n",
      " 1038 | 13.70493    | 0.2871    | 18.71270   | 0.2825   \n",
      " 1039 | 18.80409    | 0.2944    | 9.31616   | 0.2796   \n",
      " 1040 | 11.21668    | 0.2767    | 7.71281   | 0.3062   \n",
      " 1041 | 12.04846    | 0.2925    | 13.99225   | 0.2957   \n",
      " 1042 | 14.18402    | 0.2906    | 16.48625   | 0.2733   \n",
      " 1043 | 12.00941    | 0.2913    | 10.66092   | 0.2814   \n",
      " 1044 | 11.61886    | 0.2953    | 9.34326   | 0.3080   \n",
      " 1045 | 13.22685    | 0.2909    | 14.22615   | 0.2886   \n",
      " 1046 | 10.68771    | 0.2903    | 11.10404   | 0.2817   \n",
      " 1047 | 10.79654    | 0.2968    | 11.47778   | 0.2918   \n",
      " 1048 | 12.62511    | 0.2900    | 13.29562   | 0.3106   \n",
      " 1049 | 13.03817    | 0.2987    | 10.46097   | 0.3066   \n",
      " 1050 | 13.35984    | 0.2998    | 12.13973   | 0.2703   \n",
      " 1051 | 11.60206    | 0.2850    | 18.55024   | 0.2933   \n",
      " 1052 | 18.98803    | 0.2968    | 15.54692   | 0.2880   \n",
      " 1053 | 16.39032    | 0.2901    | 17.53984   | 0.3091   \n",
      " 1054 | 16.08061    | 0.2973    | 19.11920   | 0.2838   \n",
      " 1055 | 15.25452    | 0.2936    | 15.51539   | 0.2918   \n",
      " 1056 | 19.00777    | 0.3001    | 20.13861   | 0.2928   \n",
      " 1057 | 12.48059    | 0.2933    | 15.39703   | 0.2866   \n",
      " 1058 | 16.13178    | 0.2956    | 15.00168   | 0.3016   \n",
      " 1059 | 10.20857    | 0.2909    | 14.00054   | 0.2712   \n",
      " 1060 | 13.80574    | 0.3022    | 9.56882   | 0.3026   \n",
      " 1061 | 11.44174    | 0.2991    | 6.21939   | 0.2779   \n",
      " 1062 | 11.79239    | 0.3009    | 13.73610   | 0.2853   \n",
      " 1063 | 15.54262    | 0.2877    | 17.54857   | 0.3134   \n",
      " 1064 | 19.19185    | 0.2973    | 17.73007   | 0.2966   \n",
      " 1065 | 17.09053    | 0.3038    | 23.04875   | 0.2740   \n",
      " 1066 | 16.48264    | 0.2903    | 10.89784   | 0.2966   \n",
      " 1067 | 13.29178    | 0.3011    | 14.15775   | 0.2834   \n",
      " 1068 | 15.58795    | 0.2937    | 16.59589   | 0.3058   \n",
      " 1069 | 16.59484    | 0.2955    | 11.95428   | 0.2976   \n",
      " 1070 | 12.65124    | 0.2962    | 11.65541   | 0.3134   \n",
      " 1071 | 9.72646    | 0.2910    | 11.42719   | 0.3035   \n",
      " 1072 | 11.52346    | 0.3011    | 13.19725   | 0.3009   \n",
      " 1073 | 14.15357    | 0.3058    | 9.98206   | 0.2860   \n",
      " 1074 | 13.19994    | 0.2854    | 11.50577   | 0.2921   \n",
      " 1075 | 13.52522    | 0.3011    | 11.71949   | 0.2839   \n",
      " 1076 | 13.18761    | 0.3026    | 13.86895   | 0.2801   \n",
      " 1077 | 14.11792    | 0.2942    | 14.80677   | 0.2823   \n",
      " 1078 | 18.26569    | 0.3011    | 22.40109   | 0.3040   \n",
      " 1079 | 19.60432    | 0.2949    | 13.24281   | 0.2987   \n",
      " 1080 | 16.89749    | 0.2875    | 7.22238   | 0.3071   \n",
      " 1081 | 12.82952    | 0.3033    | 17.18481   | 0.2912   \n",
      " 1082 | 16.93608    | 0.2882    | 12.85899   | 0.3156   \n",
      " 1083 | 17.57956    | 0.2967    | 8.78801   | 0.2918   \n",
      " 1084 | 11.39898    | 0.2953    | 11.71157   | 0.3156   \n",
      " 1085 | 11.74138    | 0.3027    | 9.04211   | 0.3140   \n",
      " 1086 | 12.85691    | 0.2962    | 8.49783   | 0.3167   \n",
      " 1087 | 9.70998    | 0.3076    | 11.29340   | 0.2970   \n",
      " 1088 | 15.29972    | 0.3014    | 21.76236   | 0.3091   \n",
      " 1089 | 17.28869    | 0.2943    | 14.85303   | 0.3120   \n",
      " 1090 | 19.51584    | 0.3075    | 18.13156   | 0.2614   \n",
      " 1091 | 14.59054    | 0.2816    | 14.98923   | 0.3018   \n",
      " 1092 | 16.83272    | 0.3054    | 16.31404   | 0.3058   \n",
      " 1093 | 15.07674    | 0.2983    | 9.18409   | 0.3047   \n",
      " 1094 | 17.93991    | 0.3008    | 14.52184   | 0.2900   \n",
      " 1095 | 14.40672    | 0.2956    | 16.60135   | 0.3104   \n",
      " 1096 | 16.01442    | 0.3030    | 15.27544   | 0.2951   \n",
      " 1097 | 13.12067    | 0.2991    | 13.86551   | 0.2996   \n",
      " 1098 | 12.53481    | 0.2989    | 10.27886   | 0.3115   \n",
      " 1099 | 12.64010    | 0.2991    | 12.12494   | 0.3098   \n",
      " 1100 | 10.38422    | 0.3017    | 12.95545   | 0.2918   \n",
      " 1101 | 9.42646    | 0.3030    | 9.78370   | 0.3069   \n",
      " 1102 | 14.93258    | 0.2946    | 18.79497   | 0.3110   \n",
      " 1103 | 21.11535    | 0.2965    | 21.10151   | 0.2968   \n",
      " 1104 | 20.05218    | 0.2978    | 31.12922   | 0.2708   \n",
      " 1105 | 21.70488    | 0.2923    | 19.42615   | 0.2971   \n",
      " 1106 | 19.65998    | 0.2992    | 19.47002   | 0.3115   \n",
      " 1107 | 21.24210    | 0.2955    | 18.29275   | 0.2864   \n",
      " 1108 | 16.30551    | 0.2825    | 12.95251   | 0.2593   \n",
      " 1109 | 16.96472    | 0.2660    | 25.48223   | 0.2477   \n",
      " 1110 | 17.98212    | 0.2599    | 14.60787   | 0.2532   \n",
      " 1111 | 13.55860    | 0.2631    | 13.03972   | 0.2962   \n",
      " 1112 | 16.08454    | 0.2728    | 10.78271   | 0.2747   \n",
      " 1113 | 23.60274    | 0.2853    | 27.98412   | 0.2709   \n",
      " 1114 | 28.62471    | 0.2866    | 25.20853   | 0.2957   \n",
      " 1115 | 23.32867    | 0.2990    | 26.29356   | 0.2724   \n",
      " 1116 | 27.59034    | 0.2780    | 22.89696   | 0.2973   \n",
      " 1117 | 21.68742    | 0.2880    | 21.69986   | 0.2386   \n",
      " 1118 | 15.25481    | 0.2930    | 11.48082   | 0.2819   \n",
      " 1119 | 10.58502    | 0.2867    | 13.44459   | 0.3007   \n",
      " 1120 | 11.42075    | 0.2988    | 9.81649   | 0.2758   \n",
      " 1121 | 15.35422    | 0.2885    | 14.44615   | 0.2755   \n",
      " 1122 | 14.53123    | 0.3003    | 10.94839   | 0.2776   \n",
      " 1123 | 11.67137    | 0.2921    | 10.27192   | 0.2936   \n",
      " 1124 | 9.89754    | 0.3060    | 16.76737   | 0.2729   \n",
      " 1125 | 11.73501    | 0.3007    | 14.99911   | 0.3093   \n",
      " 1126 | 13.41414    | 0.2912    | 16.50331   | 0.2797   \n",
      " 1127 | 11.75895    | 0.2970    | 15.75629   | 0.3094   \n",
      " 1128 | 13.86878    | 0.2946    | 15.57253   | 0.2935   \n",
      " 1129 | 11.32787    | 0.3008    | 10.49674   | 0.3122   \n",
      " 1130 | 11.11304    | 0.3049    | 12.03223   | 0.3057   \n",
      " 1131 | 14.11734    | 0.3029    | 13.15943   | 0.2833   \n",
      " 1132 | 11.79019    | 0.2986    | 13.99330   | 0.2980   \n",
      " 1133 | 10.97610    | 0.3062    | 13.52576   | 0.2794   \n",
      " 1134 | 11.96364    | 0.3020    | 13.71359   | 0.2748   \n",
      " 1135 | 14.69231    | 0.3005    | 13.02408   | 0.2900   \n",
      " 1136 | 14.68046    | 0.2972    | 9.60344   | 0.3018   \n",
      " 1137 | 11.92137    | 0.3027    | 10.57146   | 0.3030   \n",
      " 1138 | 15.15679    | 0.2998    | 16.94306   | 0.3073   \n",
      " 1139 | 18.41465    | 0.3082    | 24.37370   | 0.2778   \n",
      " 1140 | 16.55805    | 0.2974    | 13.15564   | 0.2795   \n",
      " 1141 | 13.83081    | 0.2992    | 12.90746   | 0.2919   \n",
      " 1142 | 11.61788    | 0.3004    | 10.88892   | 0.2863   \n",
      " 1143 | 10.68873    | 0.2944    | 8.74657   | 0.3002   \n",
      " 1144 | 11.50800    | 0.3054    | 10.41563   | 0.3130   \n",
      " 1145 | 14.80820    | 0.3035    | 15.60565   | 0.3093   \n",
      " 1146 | 16.72256    | 0.2974    | 15.13265   | 0.2968   \n",
      " 1147 | 18.11908    | 0.3110    | 9.26269   | 0.3024   \n",
      " 1148 | 13.59694    | 0.3043    | 18.68925   | 0.2921   \n",
      " 1149 | 17.43610    | 0.3032    | 18.25100   | 0.2932   \n",
      " 1150 | 14.29914    | 0.3078    | 17.58511   | 0.2783   \n",
      " 1151 | 18.30697    | 0.3000    | 16.62033   | 0.2806   \n",
      " 1152 | 17.56670    | 0.3027    | 17.54920   | 0.3133   \n",
      " 1153 | 15.08451    | 0.3022    | 14.79901   | 0.3107   \n",
      " 1154 | 15.57516    | 0.3069    | 18.29740   | 0.3169   \n",
      " 1155 | 18.88409    | 0.2996    | 15.31480   | 0.2971   \n",
      " 1156 | 14.01495    | 0.3010    | 20.08623   | 0.3170   \n",
      " 1157 | 14.70160    | 0.3063    | 12.16481   | 0.2740   \n",
      " 1158 | 13.97965    | 0.3036    | 14.54033   | 0.3203   \n",
      " 1159 | 13.86588    | 0.3055    | 14.78086   | 0.2974   \n",
      " 1160 | 14.98388    | 0.3102    | 16.89861   | 0.2791   \n",
      " 1161 | 15.16206    | 0.3021    | 18.25091   | 0.3269   \n",
      " 1162 | 15.70832    | 0.3124    | 15.39270   | 0.3134   \n",
      " 1163 | 19.42232    | 0.3068    | 25.51493   | 0.3170   \n",
      " 1164 | 23.97565    | 0.3067    | 17.23174   | 0.3081   \n",
      " 1165 | 16.82909    | 0.3055    | 16.32886   | 0.2913   \n",
      " 1166 | 16.09558    | 0.3028    | 9.96047   | 0.2836   \n",
      " 1167 | 12.66398    | 0.3041    | 14.04917   | 0.2758   \n",
      " 1168 | 12.46589    | 0.2944    | 9.77072   | 0.3107   \n",
      " 1169 | 10.42959    | 0.3128    | 9.42172   | 0.3047   \n",
      " 1170 | 7.50026    | 0.3033    | 8.47076   | 0.2909   \n",
      " 1171 | 9.42543    | 0.3152    | 13.40878   | 0.2912   \n",
      " 1172 | 10.05364    | 0.3028    | 14.90390   | 0.3197   \n",
      " 1173 | 14.59992    | 0.3085    | 18.59244   | 0.2808   \n",
      " 1174 | 16.07648    | 0.3177    | 21.52085   | 0.2965   \n",
      " 1175 | 15.73121    | 0.3088    | 19.28457   | 0.3164   \n",
      " 1176 | 17.24361    | 0.3172    | 16.13468   | 0.2972   \n",
      " 1177 | 15.57289    | 0.3021    | 9.70932   | 0.3105   \n",
      " 1178 | 12.55022    | 0.3061    | 12.37197   | 0.2728   \n",
      " 1179 | 14.69429    | 0.3051    | 17.96745   | 0.3071   \n",
      " 1180 | 12.00903    | 0.2991    | 12.68330   | 0.2825   \n",
      " 1181 | 14.02349    | 0.2909    | 8.53229   | 0.3035   \n",
      " 1182 | 12.77108    | 0.3092    | 13.93084   | 0.3041   \n",
      " 1183 | 13.90371    | 0.3041    | 11.88586   | 0.3142   \n",
      " 1184 | 10.84943    | 0.3203    | 6.25727   | 0.3250   \n",
      " 1185 | 11.54526    | 0.3176    | 14.95942   | 0.3220   \n",
      " 1186 | 19.34748    | 0.3151    | 17.85926   | 0.3030   \n",
      " 1187 | 20.42412    | 0.3019    | 14.08879   | 0.2905   \n",
      " 1188 | 19.19395    | 0.2924    | 18.62090   | 0.2952   \n",
      " 1189 | 21.06499    | 0.2917    | 17.34244   | 0.3291   \n",
      " 1190 | 11.92604    | 0.3021    | 10.48550   | 0.2743   \n",
      " 1191 | 12.64437    | 0.3118    | 12.71614   | 0.3231   \n",
      " 1192 | 14.84450    | 0.3079    | 14.16832   | 0.2761   \n",
      " 1193 | 9.32239    | 0.3097    | 11.45256   | 0.3218   \n",
      " 1194 | 13.01053    | 0.3087    | 13.82525   | 0.3289   \n",
      " 1195 | 9.12931    | 0.3185    | 11.08862   | 0.3066   \n",
      " 1196 | 13.50155    | 0.3152    | 9.79365   | 0.3082   \n",
      " 1197 | 13.15309    | 0.3162    | 13.80964   | 0.3204   \n",
      " 1198 | 13.52064    | 0.3233    | 9.90133   | 0.2856   \n",
      " 1199 | 12.24575    | 0.3115    | 16.93309   | 0.3281   \n",
      " 1200 | 12.55157    | 0.3203    | 12.47380   | 0.3011   \n",
      " 1201 | 12.14958    | 0.3105    | 10.27839   | 0.3209   \n",
      " 1202 | 12.54029    | 0.3122    | 14.95236   | 0.2873   \n",
      " 1203 | 14.20336    | 0.3123    | 14.53179   | 0.3205   \n",
      " 1204 | 13.68127    | 0.3085    | 14.31700   | 0.3069   \n",
      " 1205 | 19.69263    | 0.3206    | 17.43231   | 0.3197   \n",
      " 1206 | 15.99525    | 0.3090    | 13.69581   | 0.2996   \n",
      " 1207 | 15.85055    | 0.3130    | 17.57191   | 0.3023   \n",
      " 1208 | 13.66200    | 0.2942    | 10.87706   | 0.3126   \n",
      " 1209 | 15.37480    | 0.3123    | 13.76509   | 0.2968   \n",
      " 1210 | 15.02106    | 0.3073    | 21.96673   | 0.2985   \n",
      " 1211 | 17.97471    | 0.3074    | 20.65118   | 0.2931   \n",
      " 1212 | 18.70920    | 0.3079    | 19.83039   | 0.2871   \n",
      " 1213 | 16.94710    | 0.3145    | 18.81837   | 0.3067   \n",
      " 1214 | 16.91990    | 0.3186    | 15.66046   | 0.3132   \n",
      " 1215 | 14.48838    | 0.3021    | 13.15588   | 0.3185   \n",
      " 1216 | 13.54904    | 0.3159    | 14.16795   | 0.2870   \n",
      " 1217 | 14.09496    | 0.3074    | 14.40984   | 0.3301   \n",
      " 1218 | 16.58279    | 0.3222    | 11.31391   | 0.3057   \n",
      " 1219 | 14.98479    | 0.3072    | 10.83397   | 0.3281   \n",
      " 1220 | 11.19948    | 0.3193    | 15.02362   | 0.3234   \n",
      " 1221 | 16.83041    | 0.3166    | 20.43250   | 0.2919   \n",
      " 1222 | 13.91682    | 0.3149    | 6.17291   | 0.3069   \n",
      " 1223 | 9.21887    | 0.3222    | 15.43766   | 0.3115   \n",
      " 1224 | 13.85633    | 0.3122    | 8.16787   | 0.3107   \n",
      " 1225 | 9.69955    | 0.3177    | 8.44620   | 0.3272   \n",
      " 1226 | 11.90337    | 0.3059    | 12.09182   | 0.2985   \n",
      " 1227 | 14.05733    | 0.3117    | 15.48443   | 0.3035   \n",
      " 1228 | 15.12780    | 0.3198    | 15.77671   | 0.2792   \n",
      " 1229 | 12.99423    | 0.3113    | 14.73550   | 0.3118   \n",
      " 1230 | 14.19805    | 0.3138    | 9.43652   | 0.3002   \n",
      " 1231 | 14.20132    | 0.3056    | 15.25745   | 0.3180   \n",
      " 1232 | 12.42427    | 0.3110    | 6.23673   | 0.2881   \n",
      " 1233 | 10.67037    | 0.2998    | 5.97659   | 0.3138   \n",
      " 1234 | 9.08723    | 0.3257    | 12.35492   | 0.3063   \n",
      " 1235 | 9.99849    | 0.3116    | 11.66871   | 0.2958   \n",
      " 1236 | 11.38700    | 0.3199    | 15.19555   | 0.2999   \n",
      " 1237 | 13.41975    | 0.3214    | 14.55105   | 0.3188   \n",
      " 1238 | 10.91114    | 0.3199    | 9.38873   | 0.3224   \n",
      " 1239 | 10.50471    | 0.3279    | 12.33523   | 0.3411   \n",
      " 1240 | 12.95388    | 0.3250    | 21.39084   | 0.3228   \n",
      " 1241 | 15.91772    | 0.3135    | 18.19634   | 0.3114   \n",
      " 1242 | 13.70140    | 0.3315    | 13.46281   | 0.2931   \n",
      " 1243 | 15.34474    | 0.3132    | 11.21434   | 0.2991   \n",
      " 1244 | 18.52451    | 0.3127    | 17.68244   | 0.3238   \n",
      " 1245 | 18.96872    | 0.3125    | 17.70242   | 0.2883   \n",
      " 1246 | 18.89990    | 0.3039    | 15.36676   | 0.3124   \n",
      " 1247 | 15.17860    | 0.3175    | 11.21890   | 0.3258   \n",
      " 1248 | 15.73166    | 0.3179    | 18.93785   | 0.3018   \n",
      " 1249 | 15.38333    | 0.3216    | 12.16686   | 0.3260   \n",
      " 1250 | 11.83574    | 0.3157    | 15.45285   | 0.3097   \n",
      " 1251 | 13.18481    | 0.3266    | 9.48815   | 0.3123   \n",
      " 1252 | 8.08377    | 0.3149    | 7.17873   | 0.3320   \n",
      " 1253 | 9.70699    | 0.3222    | 8.40136   | 0.2974   \n",
      " 1254 | 9.36043    | 0.3210    | 11.45617   | 0.3091   \n",
      " 1255 | 9.84199    | 0.3247    | 8.66223   | 0.3231   \n",
      " 1256 | 12.16553    | 0.3150    | 11.79617   | 0.3060   \n",
      " 1257 | 10.35080    | 0.3190    | 11.45119   | 0.3164   \n",
      " 1258 | 11.94167    | 0.3204    | 12.39064   | 0.3010   \n",
      " 1259 | 12.00373    | 0.3224    | 16.73115   | 0.3077   \n",
      " 1260 | 13.18101    | 0.3199    | 12.03416   | 0.3101   \n",
      " 1261 | 15.03417    | 0.3208    | 15.08809   | 0.3267   \n",
      " 1262 | 13.82780    | 0.3180    | 15.81513   | 0.2850   \n",
      " 1263 | 14.72188    | 0.3110    | 12.52451   | 0.3273   \n",
      " 1264 | 12.16034    | 0.3143    | 9.50468   | 0.3206   \n",
      " 1265 | 10.47166    | 0.3206    | 14.55712   | 0.2991   \n",
      " 1266 | 11.77793    | 0.3197    | 13.93714   | 0.3235   \n",
      " 1267 | 12.41408    | 0.3185    | 16.01146   | 0.3026   \n",
      " 1268 | 14.16466    | 0.3251    | 13.49479   | 0.3120   \n",
      " 1269 | 10.86860    | 0.3091    | 15.92356   | 0.3361   \n",
      " 1270 | 18.22945    | 0.3279    | 15.04401   | 0.3235   \n",
      " 1271 | 11.57927    | 0.3190    | 10.50795   | 0.3181   \n",
      " 1272 | 10.63244    | 0.3173    | 15.53261   | 0.2999   \n",
      " 1273 | 11.77105    | 0.3279    | 13.48102   | 0.3127   \n",
      " 1274 | 12.78110    | 0.3168    | 13.47252   | 0.3067   \n",
      " 1275 | 15.53383    | 0.3085    | 14.78308   | 0.3349   \n",
      " 1276 | 14.50176    | 0.3217    | 18.58838   | 0.3147   \n",
      " 1277 | 14.05309    | 0.3246    | 10.61658   | 0.3303   \n",
      " 1278 | 12.16875    | 0.3340    | 8.67234   | 0.3060   \n",
      " 1279 | 9.09798    | 0.3200    | 10.16165   | 0.3295   \n",
      " 1280 | 12.08081    | 0.3300    | 15.07007   | 0.2905   \n",
      " 1281 | 13.46899    | 0.3134    | 16.07222   | 0.3299   \n",
      " 1282 | 17.76844    | 0.3182    | 20.29897   | 0.3253   \n"
     ]
    },
    {
     "ename": "KeyboardInterrupt",
     "evalue": "",
     "output_type": "error",
     "traceback": [
      "\u001b[0;31m---------------------------------------------------------------------------\u001b[0m",
      "\u001b[0;31mKeyboardInterrupt\u001b[0m                         Traceback (most recent call last)",
      "Cell \u001b[0;32mIn[28], line 6\u001b[0m\n\u001b[1;32m      4\u001b[0m \u001b[38;5;28mprint\u001b[39m(\u001b[38;5;124mf\u001b[39m\u001b[38;5;124m\"\u001b[39m\u001b[38;5;124m-------------------------------------------------------\u001b[39m\u001b[38;5;124m\"\u001b[39m)\n\u001b[1;32m      5\u001b[0m \u001b[38;5;28;01mfor\u001b[39;00m epoch \u001b[38;5;129;01min\u001b[39;00m \u001b[38;5;28mrange\u001b[39m(train\u001b[38;5;241m.\u001b[39mepochs\u001b[38;5;241m+\u001b[39m\u001b[38;5;241m3000\u001b[39m):\n\u001b[0;32m----> 6\u001b[0m     state, train_loss, train_acc \u001b[38;5;241m=\u001b[39m \u001b[43mtrain_epoch\u001b[49m\u001b[43m(\u001b[49m\n\u001b[1;32m      7\u001b[0m \u001b[43m        \u001b[49m\u001b[43mstate\u001b[49m\u001b[43m,\u001b[49m\n\u001b[1;32m      8\u001b[0m \u001b[43m        \u001b[49m\u001b[43mtrain_rng\u001b[49m\u001b[43m,\u001b[49m\n\u001b[1;32m      9\u001b[0m \u001b[43m        \u001b[49m\u001b[43mmodel_cls\u001b[49m\u001b[43m,\u001b[49m\n\u001b[1;32m     10\u001b[0m \u001b[43m        \u001b[49m\u001b[43mtrainloader\u001b[49m\u001b[43m,\u001b[49m\n\u001b[1;32m     11\u001b[0m \u001b[43m        \u001b[49m\u001b[43mclassification\u001b[49m\u001b[38;5;241;43m=\u001b[39;49m\u001b[43mclassification\u001b[49m\u001b[43m,\u001b[49m\n\u001b[1;32m     12\u001b[0m \u001b[43m    \u001b[49m\u001b[43m)\u001b[49m\n\u001b[1;32m     14\u001b[0m     test_loss, test_acc \u001b[38;5;241m=\u001b[39m validate(\n\u001b[1;32m     15\u001b[0m         state\u001b[38;5;241m.\u001b[39mparams, model_cls, testloader, classification\u001b[38;5;241m=\u001b[39mclassification\n\u001b[1;32m     16\u001b[0m     )\n\u001b[1;32m     17\u001b[0m     \u001b[38;5;28mprint\u001b[39m(\u001b[38;5;124mf\u001b[39m\u001b[38;5;124m'\u001b[39m\u001b[38;5;132;01m{\u001b[39;00mepoch\u001b[38;5;241m+\u001b[39m\u001b[38;5;241m1\u001b[39m\u001b[38;5;132;01m:\u001b[39;00m\u001b[38;5;124m>5\u001b[39m\u001b[38;5;132;01m}\u001b[39;00m\u001b[38;5;124m | \u001b[39m\u001b[38;5;132;01m{\u001b[39;00mtrain_loss\u001b[38;5;132;01m:\u001b[39;00m\u001b[38;5;124m.5f\u001b[39m\u001b[38;5;132;01m}\u001b[39;00m\u001b[38;5;132;01m{\u001b[39;00m\u001b[38;5;124m\"\u001b[39m\u001b[38;5;124m\"\u001b[39m\u001b[38;5;132;01m:\u001b[39;00m\u001b[38;5;124m<3\u001b[39m\u001b[38;5;132;01m}\u001b[39;00m\u001b[38;5;124m | \u001b[39m\u001b[38;5;132;01m{\u001b[39;00mtrain_acc\u001b[38;5;132;01m:\u001b[39;00m\u001b[38;5;124m.4f\u001b[39m\u001b[38;5;132;01m}\u001b[39;00m\u001b[38;5;132;01m{\u001b[39;00m\u001b[38;5;124m\"\u001b[39m\u001b[38;5;124m\"\u001b[39m\u001b[38;5;132;01m:\u001b[39;00m\u001b[38;5;124m<3\u001b[39m\u001b[38;5;132;01m}\u001b[39;00m\u001b[38;5;124m | \u001b[39m\u001b[38;5;132;01m{\u001b[39;00mtest_loss\u001b[38;5;132;01m:\u001b[39;00m\u001b[38;5;124m.5f\u001b[39m\u001b[38;5;132;01m}\u001b[39;00m\u001b[38;5;132;01m{\u001b[39;00m\u001b[38;5;124m\"\u001b[39m\u001b[38;5;124m\"\u001b[39m\u001b[38;5;132;01m:\u001b[39;00m\u001b[38;5;124m<2\u001b[39m\u001b[38;5;132;01m}\u001b[39;00m\u001b[38;5;124m | \u001b[39m\u001b[38;5;132;01m{\u001b[39;00mtest_acc\u001b[38;5;132;01m:\u001b[39;00m\u001b[38;5;124m.4f\u001b[39m\u001b[38;5;132;01m}\u001b[39;00m\u001b[38;5;132;01m{\u001b[39;00m\u001b[38;5;124m\"\u001b[39m\u001b[38;5;124m\"\u001b[39m\u001b[38;5;132;01m:\u001b[39;00m\u001b[38;5;124m<3\u001b[39m\u001b[38;5;132;01m}\u001b[39;00m\u001b[38;5;124m'\u001b[39m)\n",
      "Cell \u001b[0;32mIn[26], line 9\u001b[0m, in \u001b[0;36mtrain_epoch\u001b[0;34m(state, rng, model, trainloader, classification)\u001b[0m\n\u001b[1;32m      7\u001b[0m labels \u001b[38;5;241m=\u001b[39m jnp\u001b[38;5;241m.\u001b[39marray(labels\u001b[38;5;241m.\u001b[39mnumpy())  \u001b[38;5;66;03m# Not the most efficient...\u001b[39;00m\n\u001b[1;32m      8\u001b[0m rng, drop_rng \u001b[38;5;241m=\u001b[39m jax\u001b[38;5;241m.\u001b[39mrandom\u001b[38;5;241m.\u001b[39msplit(rng)\n\u001b[0;32m----> 9\u001b[0m state, loss, acc \u001b[38;5;241m=\u001b[39m \u001b[43mtrain_step\u001b[49m\u001b[43m(\u001b[49m\n\u001b[1;32m     10\u001b[0m \u001b[43m    \u001b[49m\u001b[43mstate\u001b[49m\u001b[43m,\u001b[49m\n\u001b[1;32m     11\u001b[0m \u001b[43m    \u001b[49m\u001b[43mdrop_rng\u001b[49m\u001b[43m,\u001b[49m\n\u001b[1;32m     12\u001b[0m \u001b[43m    \u001b[49m\u001b[43minputs\u001b[49m\u001b[43m,\u001b[49m\n\u001b[1;32m     13\u001b[0m \u001b[43m    \u001b[49m\u001b[43mlabels\u001b[49m\u001b[43m,\u001b[49m\n\u001b[1;32m     14\u001b[0m \u001b[43m    \u001b[49m\u001b[43mmodel\u001b[49m\u001b[43m,\u001b[49m\n\u001b[1;32m     15\u001b[0m \u001b[43m    \u001b[49m\u001b[43mclassification\u001b[49m\u001b[38;5;241;43m=\u001b[39;49m\u001b[43mclassification\u001b[49m\u001b[43m,\u001b[49m\n\u001b[1;32m     16\u001b[0m \u001b[43m\u001b[49m\u001b[43m)\u001b[49m\n\u001b[1;32m     17\u001b[0m batch_losses\u001b[38;5;241m.\u001b[39mappend(loss)\n\u001b[1;32m     18\u001b[0m batch_accuracies\u001b[38;5;241m.\u001b[39mappend(acc)\n",
      "File \u001b[0;32m<string>:1\u001b[0m, in \u001b[0;36m<lambda>\u001b[0;34m(_cls, count, mu, nu)\u001b[0m\n",
      "\u001b[0;31mKeyboardInterrupt\u001b[0m: "
     ]
    }
   ],
   "source": [
    "# Loop over epochs\n",
    "best_loss, best_acc, best_epoch = 10000, 0, 0\n",
    "print(f\"Epoch | Train Loss | Train Acc | Test Loss | Test Acc\")\n",
    "print(f\"-------------------------------------------------------\")\n",
    "for epoch in range(train.epochs+3000):\n",
    "    state, train_loss, train_acc = train_epoch(\n",
    "        state,\n",
    "        train_rng,\n",
    "        model_cls,\n",
    "        trainloader,\n",
    "        classification=classification,\n",
    "    )\n",
    "\n",
    "    test_loss, test_acc = validate(\n",
    "        state.params, model_cls, testloader, classification=classification\n",
    "    )\n",
    "    print(f'{epoch+1:>5} | {train_loss:.5f}{\"\":<3} | {train_acc:.4f}{\"\":<3} | {test_loss:.5f}{\"\":<2} | {test_acc:.4f}{\"\":<3}')\n"
   ]
  },
  {
   "cell_type": "code",
   "execution_count": 21,
   "id": "c3695b965d94944c",
   "metadata": {
    "ExecuteTime": {
     "end_time": "2024-09-06T16:53:24.159570Z",
     "start_time": "2024-09-06T16:53:23.765767Z"
    },
    "collapsed": false
   },
   "outputs": [],
   "source": [
    "inference_model = model_cls(training=False)\n",
    "batch_inputs, batch_labels = next(iter(trainloader))\n",
    "logits, model_variables = inference_model.apply(\n",
    "    state.params,\n",
    "    jnp.array(batch_inputs),\n",
    "    rngs={\"dropout\": rng},\n",
    "    mutable=[\"intermediates\"],\n",
    ")"
   ]
  },
  {
   "cell_type": "code",
   "execution_count": 73,
   "id": "b0d65c2b45af56b8",
   "metadata": {
    "ExecuteTime": {
     "end_time": "2024-09-06T16:47:20.094177Z",
     "start_time": "2024-09-06T16:47:20.091201Z"
    },
    "collapsed": false
   },
   "outputs": [
    {
     "data": {
      "text/plain": [
       "(128, 16, 8)"
      ]
     },
     "execution_count": 73,
     "metadata": {},
     "output_type": "execute_result"
    }
   ],
   "source": [
    "logits.shape"
   ]
  },
  {
   "cell_type": "code",
   "execution_count": 74,
   "id": "1b8ad3a0425d4ba5",
   "metadata": {
    "ExecuteTime": {
     "end_time": "2024-09-06T16:47:32.870645Z",
     "start_time": "2024-09-06T16:47:32.853556Z"
    },
    "collapsed": false
   },
   "outputs": [
    {
     "name": "stdout",
     "output_type": "stream",
     "text": [
      "(128, 16)\n"
     ]
    }
   ],
   "source": [
    "print(f'{jnp.argmax(logits, axis=-1).shape}')"
   ]
  },
  {
   "cell_type": "code",
   "execution_count": 75,
   "id": "df51efbdab5830cf",
   "metadata": {
    "ExecuteTime": {
     "end_time": "2024-09-06T16:47:36.357693Z",
     "start_time": "2024-09-06T16:47:34.905656Z"
    },
    "collapsed": false
   },
   "outputs": [
    {
     "data": {
      "image/png": "[encoded data removed]",
      "text/plain": [
       "<Figure size 1500x600 with 10 Axes>"
      ]
     },
     "metadata": {},
     "output_type": "display_data"
    }
   ],
   "source": [
    "# plot the 10 first examples\n",
    "import matplotlib.pyplot as plt\n",
    "fig, axs = plt.subplots(2, 5, figsize=(15, 6))\n",
    "for i in range(10):\n",
    "    axs[i // 5, i % 5].plot(jnp.argmax(logits, axis=-1)[i], label='prediction')\n",
    "    # plot the input\n",
    "    axs[i // 5, i % 5].plot(batch_inputs[i,:,0], label='input')\n",
    "    axs[i // 5, i % 5].legend()\n",
    "plt.tight_layout()\n",
    "plt.show()\n"
   ]
  },
  {
   "cell_type": "code",
   "execution_count": 27,
   "id": "5c00cff14ec108de",
   "metadata": {
    "ExecuteTime": {
     "end_time": "2024-06-20T13:06:41.972324Z",
     "start_time": "2024-06-20T13:06:41.965312Z"
    },
    "collapsed": false
   },
   "outputs": [],
   "source": [
    "# print state"
   ]
  },
  {
   "cell_type": "code",
   "execution_count": 28,
   "id": "9987078a5151b3b9",
   "metadata": {
    "ExecuteTime": {
     "end_time": "2024-06-20T13:06:42.344311Z",
     "start_time": "2024-06-20T13:06:42.341206Z"
    },
    "collapsed": false
   },
   "outputs": [
    {
     "data": {
      "text/plain": [
       "dict_keys(['cache', 'params'])"
      ]
     },
     "execution_count": 28,
     "metadata": {},
     "output_type": "execute_result"
    }
   ],
   "source": [
    "state.params.keys()"
   ]
  },
  {
   "cell_type": "code",
   "execution_count": 29,
   "id": "be3935b92fb8e1b7",
   "metadata": {
    "ExecuteTime": {
     "end_time": "2024-06-20T13:06:42.908537Z",
     "start_time": "2024-06-20T13:06:42.904346Z"
    },
    "collapsed": false
   },
   "outputs": [
    {
     "data": {
      "text/plain": [
       "dict_keys(['decoder', 'encoder', 'layers_0', 'layers_1', 'layers_2', 'layers_3'])"
      ]
     },
     "execution_count": 29,
     "metadata": {},
     "output_type": "execute_result"
    }
   ],
   "source": [
    "state.params['params'].keys()"
   ]
  },
  {
   "cell_type": "code",
   "execution_count": 30,
   "id": "9a544800baf9090",
   "metadata": {
    "ExecuteTime": {
     "end_time": "2024-06-20T13:06:43.425252Z",
     "start_time": "2024-06-20T13:06:43.421486Z"
    },
    "collapsed": false
   },
   "outputs": [
    {
     "data": {
      "text/plain": [
       "torch.Size([128, 16, 1])"
      ]
     },
     "execution_count": 30,
     "metadata": {},
     "output_type": "execute_result"
    }
   ],
   "source": [
    "next(iter(trainloader))[0].shape"
   ]
  },
  {
   "cell_type": "code",
   "execution_count": 31,
   "id": "bfc5845c53db9a22",
   "metadata": {
    "ExecuteTime": {
     "end_time": "2024-06-20T13:06:44.598288Z",
     "start_time": "2024-06-20T13:06:44.592666Z"
    },
    "collapsed": false
   },
   "outputs": [
    {
     "name": "stdout",
     "output_type": "stream",
     "text": [
      "(10,)\n",
      "(1, 10)\n"
     ]
    }
   ],
   "source": [
    "print(state.params['params']['encoder']['bias'].shape)\n",
    "print(state.params['params']['encoder']['kernel'].shape)\n"
   ]
  },
  {
   "cell_type": "code",
   "execution_count": 32,
   "id": "44da05b03d7688de",
   "metadata": {
    "ExecuteTime": {
     "end_time": "2024-06-20T13:06:46.216265Z",
     "start_time": "2024-06-20T13:06:46.210635Z"
    },
    "collapsed": false
   },
   "outputs": [
    {
     "name": "stdout",
     "output_type": "stream",
     "text": [
      "dict_keys(['norm', 'out', 'out2', 'seq'])\n"
     ]
    }
   ],
   "source": [
    "print(state.params['params']['layers_0'].keys())"
   ]
  },
  {
   "cell_type": "code",
   "execution_count": 44,
   "id": "f12dec0b82c28ce0",
   "metadata": {
    "ExecuteTime": {
     "end_time": "2024-06-20T13:18:30.672986Z",
     "start_time": "2024-06-20T13:18:30.643478Z"
    },
    "collapsed": false
   },
   "outputs": [
    {
     "name": "stdout",
     "output_type": "stream",
     "text": [
      "dict_keys(['bias', 'scale'])\n"
     ]
    }
   ],
   "source": [
    "print(state.params['params']['layers_0']['norm'].keys())"
   ]
  },
  {
   "cell_type": "code",
   "execution_count": 45,
   "id": "5c45b2f93a74ff27",
   "metadata": {
    "ExecuteTime": {
     "end_time": "2024-06-20T13:18:39.291256Z",
     "start_time": "2024-06-20T13:18:39.262397Z"
    },
    "collapsed": false
   },
   "outputs": [
    {
     "name": "stdout",
     "output_type": "stream",
     "text": [
      "(10,)\n",
      "(10,)\n"
     ]
    }
   ],
   "source": [
    "print(state.params['params']['layers_0']['norm']['bias'].shape)\n",
    "print(state.params['params']['layers_0']['norm']['scale'].shape)"
   ]
  },
  {
   "cell_type": "code",
   "execution_count": 42,
   "id": "a5f01a338c02278c",
   "metadata": {
    "ExecuteTime": {
     "end_time": "2024-06-20T13:18:06.494538Z",
     "start_time": "2024-06-20T13:18:06.459452Z"
    },
    "collapsed": false
   },
   "outputs": [
    {
     "name": "stdout",
     "output_type": "stream",
     "text": [
      "dict_keys(['bias', 'kernel'])\n",
      "dict_keys(['bias', 'kernel'])\n"
     ]
    }
   ],
   "source": [
    "print(state.params['params']['layers_0']['out'].keys())\n",
    "print(state.params['params']['layers_0']['out2'].keys())"
   ]
  },
  {
   "cell_type": "code",
   "execution_count": 43,
   "id": "d1725379f6c6b473",
   "metadata": {
    "ExecuteTime": {
     "end_time": "2024-06-20T13:18:13.071617Z",
     "start_time": "2024-06-20T13:18:13.042525Z"
    },
    "collapsed": false
   },
   "outputs": [
    {
     "name": "stdout",
     "output_type": "stream",
     "text": [
      "(10,)\n",
      "(10, 10)\n",
      "(10,)\n",
      "(10, 10)\n"
     ]
    }
   ],
   "source": [
    "print(state.params['params']['layers_0']['out']['bias'].shape)\n",
    "print(state.params['params']['layers_0']['out']['kernel'].shape)\n",
    "print(state.params['params']['layers_0']['out2']['bias'].shape)\n",
    "print(state.params['params']['layers_0']['out2']['kernel'].shape)"
   ]
  },
  {
   "cell_type": "code",
   "execution_count": 33,
   "id": "473c288a761d24d3",
   "metadata": {
    "ExecuteTime": {
     "end_time": "2024-06-20T13:06:47.222558Z",
     "start_time": "2024-06-20T13:06:47.215665Z"
    },
    "collapsed": false
   },
   "outputs": [
    {
     "name": "stdout",
     "output_type": "stream",
     "text": [
      "dict_keys(['A', 'B', 'C', 'D', 'log_step'])\n"
     ]
    }
   ],
   "source": [
    "print(state.params['params']['layers_0']['seq'].keys())"
   ]
  },
  {
   "cell_type": "code",
   "execution_count": 34,
   "id": "a2b5d450a0d11e78",
   "metadata": {
    "ExecuteTime": {
     "end_time": "2024-06-20T13:06:49.393579Z",
     "start_time": "2024-06-20T13:06:49.385635Z"
    },
    "collapsed": false
   },
   "outputs": [
    {
     "name": "stdout",
     "output_type": "stream",
     "text": [
      "(64, 10, 64)\n",
      "(64, 10, 1)\n",
      "(1, 10, 64)\n",
      "(1, 10)\n",
      "(1, 10)\n"
     ]
    }
   ],
   "source": [
    "print(state.params['params']['layers_0']['seq']['A'].shape)\n",
    "print(state.params['params']['layers_0']['seq']['B'].shape)\n",
    "print(state.params['params']['layers_0']['seq']['C'].shape)\n",
    "print(state.params['params']['layers_0']['seq']['D'].shape)\n",
    "print(state.params['params']['layers_0']['seq']['log_step'].shape)\n"
   ]
  },
  {
   "cell_type": "code",
   "execution_count": 34,
   "id": "d35a52a3cbfb5280",
   "metadata": {
    "ExecuteTime": {
     "end_time": "2024-06-20T12:59:20.181842Z",
     "start_time": "2024-06-20T12:59:20.146315Z"
    },
    "collapsed": false
   },
   "outputs": [
    {
     "name": "stdout",
     "output_type": "stream",
     "text": [
      "0.002715726\n",
      "-0.053828467\n",
      "1.1623794\n",
      "0.8955986\n"
     ]
    }
   ],
   "source": [
    "print(state.params['params']['layers_0']['seq']['A'][0,0,0])\n",
    "print(state.params['params']['layers_0']['seq']['A'][0,1,0])\n",
    "print(state.params['params']['layers_0']['seq']['D'][0,0])\n",
    "print(state.params['params']['layers_0']['seq']['D'][0,1])"
   ]
  },
  {
   "cell_type": "code",
   "execution_count": 35,
   "id": "f5a7290a099b17c7",
   "metadata": {
    "ExecuteTime": {
     "end_time": "2024-06-20T12:59:25.083285Z",
     "start_time": "2024-06-20T12:59:25.072671Z"
    },
    "collapsed": false
   },
   "outputs": [
    {
     "name": "stdout",
     "output_type": "stream",
     "text": [
      "(8,)\n",
      "(3, 8)\n"
     ]
    }
   ],
   "source": [
    "print(state.params['params']['decoder']['bias'].shape)\n",
    "print(state.params['params']['decoder']['kernel'].shape)"
   ]
  },
  {
   "cell_type": "code",
   "execution_count": 24,
   "id": "7d2297dbe058b762",
   "metadata": {
    "ExecuteTime": {
     "end_time": "2024-09-06T15:56:27.404124Z",
     "start_time": "2024-09-06T15:56:27.401157Z"
    },
    "collapsed": false
   },
   "outputs": [
    {
     "name": "stdout",
     "output_type": "stream",
     "text": [
      "n_p=497750 (should be 497788 -> diff -38)\n"
     ]
    }
   ],
   "source": [
    "A = 64**2\n",
    "B = 64\n",
    "C = 64\n",
    "D = 1\n",
    "H = 10 # number of heads = d_model in yaml\n",
    "o = 10*10 + 10 \n",
    "o2 = 10*10 + 10\n",
    "norm = 10 + 10\n",
    "seq_p = H*(A+B+C+D) + o + o2 + norm\n",
    "n_lay = 4\n",
    "enc = 10+10\n",
    "dec = 10*8+10\n",
    "cache_x = 128*64*10 * 4 # = batch_size * N (state dimension) * H (nb heads) * n_lay\n",
    "n_p = n_lay * seq_p + enc + dec + cache_x\n",
    "print(f'{n_p=} (should be 497788 -> diff {n_p-497788})')"
   ]
  },
  {
   "cell_type": "code",
   "id": "469b1bb914b6332d",
   "metadata": {
    "collapsed": false
   },
   "outputs": [],
   "source": []
  },
  {
   "cell_type": "code",
   "id": "30c111a4472e5f94",
   "metadata": {
    "collapsed": false
   },
   "outputs": [],
   "source": []
  },
  {
   "cell_type": "code",
   "id": "12389eb94bfac0bf",
   "metadata": {
    "collapsed": false
   },
   "outputs": [],
   "source": []
  },
  {
   "cell_type": "code",
   "execution_count": 65,
   "id": "a9dd753af9efaa49",
   "metadata": {
    "ExecuteTime": {
     "end_time": "2024-06-20T11:50:02.252540Z",
     "start_time": "2024-06-20T11:50:02.239482Z"
    },
    "collapsed": false
   },
   "outputs": [],
   "source": [
    "n_examples = 1024\n",
    "SEQ_LENGTH, N_CLASSES, IN_DIM = 16, 8, 1\n",
    "x = np.linspace(0, 2 * np.pi, num=SEQ_LENGTH)\n",
    "# jnp.digitize: Return the indices of the bins to which each value in input array belongs.\n",
    "y = np.digitize(np.sin(x), np.linspace(-1, 1, num=N_CLASSES))\n",
    "\n",
    "# Tile this `n_examples` times...\n",
    "# data will be a tensor of shape (n_examples, SEQ_LENGTH, IN_DIM)\n",
    "data = torch.Tensor(\n",
    "    np.tile(\n",
    "        np.expand_dims(np.expand_dims(y, -1), 0), reps=[n_examples, 1, 1]\n",
    "    )\n",
    ")\n",
    "key = jax.random.PRNGKey(0)\n",
    "key, rng = jax.random.split(key)\n",
    "amplitudes = jax.random.uniform(rng, shape=(n_examples, 1, 1), minval=0.5, maxval=1.5)\n",
    "amplitudes = np.array(amplitudes)\n",
    "data = data * amplitudes\n"
   ]
  },
  {
   "cell_type": "code",
   "execution_count": 66,
   "id": "b1c65f6ce80ba68",
   "metadata": {
    "ExecuteTime": {
     "end_time": "2024-06-20T11:50:21.218137Z",
     "start_time": "2024-06-20T11:50:20.764907Z"
    },
    "collapsed": false
   },
   "outputs": [
    {
     "data": {
      "image/png": "[encoded data removed]",
      "text/plain": [
       "<Figure size 1500x600 with 10 Axes>"
      ]
     },
     "metadata": {},
     "output_type": "display_data"
    }
   ],
   "source": [
    "# plot 10 examples\n",
    "fig, axs = plt.subplots(2, 5, figsize=(15, 6))\n",
    "for i in range(10):\n",
    "    axs[i // 5, i % 5].plot(data[i,:,0])\n",
    "plt.show()\n"
   ]
  },
  {
   "cell_type": "code",
   "execution_count": 76,
   "id": "30ced4720c9368fd",
   "metadata": {
    "ExecuteTime": {
     "end_time": "2024-09-06T16:48:23.502483Z",
     "start_time": "2024-09-06T16:48:23.498186Z"
    },
    "collapsed": false
   },
   "outputs": [
    {
     "name": "stdout",
     "output_type": "stream",
     "text": [
      "cache layers_0 seq \n",
      " ('cache_x_k', (128, 64, 10))\n",
      "layers_1 seq \n",
      " ('cache_x_k', (128, 64, 10))\n",
      "layers_2 seq \n",
      " ('cache_x_k', (128, 64, 10))\n",
      "layers_3 seq \n",
      " ('cache_x_k', (128, 64, 10))\n",
      "params decoder \n",
      " ('bias', (8,))\n",
      "\n",
      " ('kernel', (10, 8))\n",
      "encoder \n",
      " ('bias', (10,))\n",
      "\n",
      " ('kernel', (1, 10))\n",
      "layers_0 norm \n",
      " ('bias', (10,))\n",
      "\n",
      " ('scale', (10,))\n",
      "out \n",
      " ('bias', (10,))\n",
      "\n",
      " ('kernel', (10, 10))\n",
      "out2 \n",
      " ('bias', (10,))\n",
      "\n",
      " ('kernel', (10, 10))\n",
      "seq \n",
      " ('A', (64, 10, 64))\n",
      "\n",
      " ('B', (64, 10, 1))\n",
      "\n",
      " ('C', (1, 10, 64))\n",
      "\n",
      " ('D', (1, 10))\n",
      "\n",
      " ('log_step', (1, 10))\n",
      "layers_1 norm \n",
      " ('bias', (10,))\n",
      "\n",
      " ('scale', (10,))\n",
      "out \n",
      " ('bias', (10,))\n",
      "\n",
      " ('kernel', (10, 10))\n",
      "out2 \n",
      " ('bias', (10,))\n",
      "\n",
      " ('kernel', (10, 10))\n",
      "seq \n",
      " ('A', (64, 10, 64))\n",
      "\n",
      " ('B', (64, 10, 1))\n",
      "\n",
      " ('C', (1, 10, 64))\n",
      "\n",
      " ('D', (1, 10))\n",
      "\n",
      " ('log_step', (1, 10))\n",
      "layers_2 norm \n",
      " ('bias', (10,))\n",
      "\n",
      " ('scale', (10,))\n",
      "out \n",
      " ('bias', (10,))\n",
      "\n",
      " ('kernel', (10, 10))\n",
      "out2 \n",
      " ('bias', (10,))\n",
      "\n",
      " ('kernel', (10, 10))\n",
      "seq \n",
      " ('A', (64, 10, 64))\n",
      "\n",
      " ('B', (64, 10, 1))\n",
      "\n",
      " ('C', (1, 10, 64))\n",
      "\n",
      " ('D', (1, 10))\n",
      "\n",
      " ('log_step', (1, 10))\n",
      "layers_3 norm \n",
      " ('bias', (10,))\n",
      "\n",
      " ('scale', (10,))\n",
      "out \n",
      " ('bias', (10,))\n",
      "\n",
      " ('kernel', (10, 10))\n",
      "out2 \n",
      " ('bias', (10,))\n",
      "\n",
      " ('kernel', (10, 10))\n",
      "seq \n",
      " ('A', (64, 10, 64))\n",
      "\n",
      " ('B', (64, 10, 1))\n",
      "\n",
      " ('C', (1, 10, 64))\n",
      "\n",
      " ('D', (1, 10))\n",
      "\n",
      " ('log_step', (1, 10))\n"
     ]
    }
   ],
   "source": [
    "def map_nested_fn(fn):\n",
    "    \"\"\"Recursively apply `fn to the key-value pairs of a nested dict / pytree.\"\"\"\n",
    "\n",
    "    def map_fn(k_in, nested_dict):\n",
    "        if k_in != None: print(f'{k_in}', end=' ')\n",
    "        return {\n",
    "            k: (map_fn(k, v) if hasattr(v, \"keys\") else fn(k, v))\n",
    "            for k, v in nested_dict.items()\n",
    "        }\n",
    "    \n",
    "    return map_fn\n",
    "    \n",
    "a = map_nested_fn(lambda k, v: print(f'\\n {k, v.shape}'))(None, state.params)"
   ]
  },
  {
   "cell_type": "code",
   "execution_count": 77,
   "id": "9f83fc3bc85027fc",
   "metadata": {
    "ExecuteTime": {
     "end_time": "2024-09-06T16:48:35.253299Z",
     "start_time": "2024-09-06T16:48:35.249273Z"
    },
    "collapsed": false
   },
   "outputs": [
    {
     "data": {
      "text/plain": [
       "{'cache': {'layers_0': {'seq': {'cache_x_k': None}},\n",
       "  'layers_1': {'seq': {'cache_x_k': None}},\n",
       "  'layers_2': {'seq': {'cache_x_k': None}},\n",
       "  'layers_3': {'seq': {'cache_x_k': None}}},\n",
       " 'params': {'decoder': {'bias': None, 'kernel': None},\n",
       "  'encoder': {'bias': None, 'kernel': None},\n",
       "  'layers_0': {'norm': {'bias': None, 'scale': None},\n",
       "   'out': {'bias': None, 'kernel': None},\n",
       "   'out2': {'bias': None, 'kernel': None},\n",
       "   'seq': {'A': None, 'B': None, 'C': None, 'D': None, 'log_step': None}},\n",
       "  'layers_1': {'norm': {'bias': None, 'scale': None},\n",
       "   'out': {'bias': None, 'kernel': None},\n",
       "   'out2': {'bias': None, 'kernel': None},\n",
       "   'seq': {'A': None, 'B': None, 'C': None, 'D': None, 'log_step': None}},\n",
       "  'layers_2': {'norm': {'bias': None, 'scale': None},\n",
       "   'out': {'bias': None, 'kernel': None},\n",
       "   'out2': {'bias': None, 'kernel': None},\n",
       "   'seq': {'A': None, 'B': None, 'C': None, 'D': None, 'log_step': None}},\n",
       "  'layers_3': {'norm': {'bias': None, 'scale': None},\n",
       "   'out': {'bias': None, 'kernel': None},\n",
       "   'out2': {'bias': None, 'kernel': None},\n",
       "   'seq': {'A': None, 'B': None, 'C': None, 'D': None, 'log_step': None}}}}"
      ]
     },
     "execution_count": 77,
     "metadata": {},
     "output_type": "execute_result"
    }
   ],
   "source": [
    "a"
   ]
  }
 ],
 "metadata": {
  "kernelspec": {
   "display_name": ".jax_conda_env_MML",
   "language": "python",
   "name": ".jax_conda_env_mml"
  },
  "language_info": {
   "codemirror_mode": {
    "name": "ipython",
    "version": 3
   },
   "file_extension": ".py",
   "mimetype": "text/x-python",
   "name": "python",
   "nbconvert_exporter": "python",
   "pygments_lexer": "ipython3",
   "version": "3.10.2"
  }
 },
 "nbformat": 4,
 "nbformat_minor": 5
}
