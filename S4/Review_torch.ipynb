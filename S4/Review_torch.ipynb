{
 "cells": [
  {
   "cell_type": "code",
   "id": "543f882737dcf339",
   "metadata": {
    "collapsed": false
   },
   "outputs": [],
   "source": [
    "!which python"
   ]
  },
  {
   "cell_type": "code",
   "execution_count": 0,
   "id": "initial_id",
   "metadata": {
    "collapsed": true
   },
   "outputs": [],
   "source": [
    "import torch\n",
    "from einops import repeat\n",
    "import math\n",
    "torch.set_printoptions(precision=4)\n",
    "import numpy as np \n",
    "np.set_printoptions(precision=4)\n",
    "print(f'{torch.cuda.is_available()}')\n",
    "print(f'{torch.cuda.device_count()}')\n",
    "print(f'{torch.cuda.current_device()}')\n",
    "print(f'{torch.cuda.device(0)}')\n",
    "print(f'{torch.cuda.get_device_name(0)}')\n",
    "print(f'{torch.cuda.memory_allocated()}')\n",
    "print(f'{torch.cuda.memory_reserved()}')"
   ]
  },
  {
   "cell_type": "code",
   "execution_count": 6,
   "id": "83c4befa81fd1757",
   "metadata": {
    "collapsed": false
   },
   "outputs": [],
   "source": [
    "# Check that MPS is available\n",
    "if not torch.backends.mps.is_available():\n",
    "    if not torch.backends.mps.is_built():\n",
    "        print(\"MPS not available because the current PyTorch install was not \"\n",
    "              \"built with MPS enabled.\")\n",
    "    else:\n",
    "        print(\"MPS not available because the current MacOS version is not 12.3+ \"\n",
    "              \"and/or you do not have an MPS-enabled device on this machine.\")\n",
    "\n",
    "else:\n",
    "    print(\"GOOD NEWS! MPS is available on this machine.\")\n",
    "    mps_device = torch.device(\"mps\")\n",
    "\n",
    "    # Create a Tensor directly on the mps device\n",
    "    x = torch.ones(5, device=mps_device)\n",
    "    # Or\n",
    "    x = torch.ones(5, device=\"mps\")\n",
    "\n",
    "    # Any operation happens on the GPU\n",
    "    y = x * 2\n",
    "    print(y.device)"
   ]
  }
 ],
 "metadata": {
  "kernelspec": {
   "display_name": "Python 3",
   "language": "python",
   "name": "python3"
  },
  "language_info": {
   "codemirror_mode": {
    "name": "ipython",
    "version": 2
   },
   "file_extension": ".py",
   "mimetype": "text/x-python",
   "name": "python",
   "nbconvert_exporter": "python",
   "pygments_lexer": "ipython2",
   "version": "2.7.6"
  }
 },
 "nbformat": 4,
 "nbformat_minor": 5
}
